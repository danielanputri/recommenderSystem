{
 "cells": [
  {
   "cell_type": "markdown",
   "id": "1321eb74-2f12-4420-897c-7829424d3920",
   "metadata": {},
   "source": [
    "Proyek Akhir : Membuat Model Sistem Rekomendasi - Daniela Natali Putri"
   ]
  },
  {
   "cell_type": "markdown",
   "id": "4f40040d-8731-4f93-bcea-7d4569d8638c",
   "metadata": {},
   "source": [
    "# Data Understanding"
   ]
  },
  {
   "cell_type": "markdown",
   "id": "39cb3b98-4df6-48e2-8c6a-a9e2f47dd9ec",
   "metadata": {},
   "source": [
    "## Import Library"
   ]
  },
  {
   "cell_type": "code",
   "execution_count": 1,
   "id": "f645c025-f59b-4181-8455-c98ab0c9a084",
   "metadata": {},
   "outputs": [],
   "source": [
    "#Import library\n",
    "import pandas as pd\n",
    "import numpy as np\n",
    "import matplotlib.pyplot as plt\n",
    "import seaborn as sns\n",
    "from sklearn.feature_extraction.text import TfidfVectorizer\n",
    "from sklearn.metrics.pairwise import cosine_similarity\n",
    "import tensorflow as tf\n",
    "from tensorflow import keras\n",
    "from tensorflow.keras import layers\n",
    "from pathlib import Path\n",
    "from tensorflow.keras.callbacks import EarlyStopping\n",
    "from tensorflow.keras.callbacks import ModelCheckpoint\n",
    "from tensorflow.keras.callbacks import ReduceLROnPlateau"
   ]
  },
  {
   "cell_type": "markdown",
   "id": "c2b42b60-8472-4390-b6ab-9759f7418c72",
   "metadata": {},
   "source": [
    "Dataset diambil dari [Kaggle](https://www.kaggle.com/datasets/aigamer/movie-lens-dataset). Dataset ini menggambarkan aktivitas pemberian peringkat bintang 5 dan *tagging* dari MovieLens, sebuah layanan rekomendasi film. Dataset ini berisi 100836 ratings dan 3683 tags di 9742 film. Data ini dibuat oleh 610 pengguna antara 29 Maret 1996 dan 24 September 2018. Dataset ini dibuat pada tanggal 26 September 2018.\n",
    "\n",
    "Pada dataset ini, dataset yang diambil hanya ratings dan movies."
   ]
  },
  {
   "cell_type": "markdown",
   "id": "6f61ad3a-ddb4-46cc-a1d8-3d2f2b3ca4bd",
   "metadata": {},
   "source": [
    "## Load Data"
   ]
  },
  {
   "cell_type": "code",
   "execution_count": 2,
   "id": "a6910f99-7f6f-4d4d-9e7e-4368e800bc30",
   "metadata": {},
   "outputs": [
    {
     "name": "stdout",
     "output_type": "stream",
     "text": [
      "Dimensi dataset: (9742, 3)\n"
     ]
    },
    {
     "data": {
      "text/html": [
       "<div>\n",
       "<style scoped>\n",
       "    .dataframe tbody tr th:only-of-type {\n",
       "        vertical-align: middle;\n",
       "    }\n",
       "\n",
       "    .dataframe tbody tr th {\n",
       "        vertical-align: top;\n",
       "    }\n",
       "\n",
       "    .dataframe thead th {\n",
       "        text-align: right;\n",
       "    }\n",
       "</style>\n",
       "<table border=\"1\" class=\"dataframe\">\n",
       "  <thead>\n",
       "    <tr style=\"text-align: right;\">\n",
       "      <th></th>\n",
       "      <th>movieId</th>\n",
       "      <th>title</th>\n",
       "      <th>genres</th>\n",
       "    </tr>\n",
       "  </thead>\n",
       "  <tbody>\n",
       "    <tr>\n",
       "      <th>0</th>\n",
       "      <td>1</td>\n",
       "      <td>Toy Story (1995)</td>\n",
       "      <td>Adventure|Animation|Children|Comedy|Fantasy</td>\n",
       "    </tr>\n",
       "    <tr>\n",
       "      <th>1</th>\n",
       "      <td>2</td>\n",
       "      <td>Jumanji (1995)</td>\n",
       "      <td>Adventure|Children|Fantasy</td>\n",
       "    </tr>\n",
       "    <tr>\n",
       "      <th>2</th>\n",
       "      <td>3</td>\n",
       "      <td>Grumpier Old Men (1995)</td>\n",
       "      <td>Comedy|Romance</td>\n",
       "    </tr>\n",
       "    <tr>\n",
       "      <th>3</th>\n",
       "      <td>4</td>\n",
       "      <td>Waiting to Exhale (1995)</td>\n",
       "      <td>Comedy|Drama|Romance</td>\n",
       "    </tr>\n",
       "    <tr>\n",
       "      <th>4</th>\n",
       "      <td>5</td>\n",
       "      <td>Father of the Bride Part II (1995)</td>\n",
       "      <td>Comedy</td>\n",
       "    </tr>\n",
       "  </tbody>\n",
       "</table>\n",
       "</div>"
      ],
      "text/plain": [
       "   movieId                               title  \\\n",
       "0        1                    Toy Story (1995)   \n",
       "1        2                      Jumanji (1995)   \n",
       "2        3             Grumpier Old Men (1995)   \n",
       "3        4            Waiting to Exhale (1995)   \n",
       "4        5  Father of the Bride Part II (1995)   \n",
       "\n",
       "                                        genres  \n",
       "0  Adventure|Animation|Children|Comedy|Fantasy  \n",
       "1                   Adventure|Children|Fantasy  \n",
       "2                               Comedy|Romance  \n",
       "3                         Comedy|Drama|Romance  \n",
       "4                                       Comedy  "
      ]
     },
     "execution_count": 2,
     "metadata": {},
     "output_type": "execute_result"
    }
   ],
   "source": [
    "# Load csv dari folder data dan tampilkan\n",
    "movie = pd.read_csv('dataset/movies.csv')\n",
    "\n",
    "# Cek beberapa baris pertama data\n",
    "print(\"Dimensi dataset:\", movie.shape)\n",
    "movie.head()"
   ]
  },
  {
   "cell_type": "code",
   "execution_count": 3,
   "id": "7a904a8e-f4ea-4f4b-8806-0862094d727a",
   "metadata": {},
   "outputs": [
    {
     "name": "stdout",
     "output_type": "stream",
     "text": [
      "Dimensi dataset: (100836, 4)\n"
     ]
    },
    {
     "data": {
      "text/html": [
       "<div>\n",
       "<style scoped>\n",
       "    .dataframe tbody tr th:only-of-type {\n",
       "        vertical-align: middle;\n",
       "    }\n",
       "\n",
       "    .dataframe tbody tr th {\n",
       "        vertical-align: top;\n",
       "    }\n",
       "\n",
       "    .dataframe thead th {\n",
       "        text-align: right;\n",
       "    }\n",
       "</style>\n",
       "<table border=\"1\" class=\"dataframe\">\n",
       "  <thead>\n",
       "    <tr style=\"text-align: right;\">\n",
       "      <th></th>\n",
       "      <th>userId</th>\n",
       "      <th>movieId</th>\n",
       "      <th>rating</th>\n",
       "      <th>timestamp</th>\n",
       "    </tr>\n",
       "  </thead>\n",
       "  <tbody>\n",
       "    <tr>\n",
       "      <th>0</th>\n",
       "      <td>1</td>\n",
       "      <td>1</td>\n",
       "      <td>4.0</td>\n",
       "      <td>964982703</td>\n",
       "    </tr>\n",
       "    <tr>\n",
       "      <th>1</th>\n",
       "      <td>1</td>\n",
       "      <td>3</td>\n",
       "      <td>4.0</td>\n",
       "      <td>964981247</td>\n",
       "    </tr>\n",
       "    <tr>\n",
       "      <th>2</th>\n",
       "      <td>1</td>\n",
       "      <td>6</td>\n",
       "      <td>4.0</td>\n",
       "      <td>964982224</td>\n",
       "    </tr>\n",
       "    <tr>\n",
       "      <th>3</th>\n",
       "      <td>1</td>\n",
       "      <td>47</td>\n",
       "      <td>5.0</td>\n",
       "      <td>964983815</td>\n",
       "    </tr>\n",
       "    <tr>\n",
       "      <th>4</th>\n",
       "      <td>1</td>\n",
       "      <td>50</td>\n",
       "      <td>5.0</td>\n",
       "      <td>964982931</td>\n",
       "    </tr>\n",
       "  </tbody>\n",
       "</table>\n",
       "</div>"
      ],
      "text/plain": [
       "   userId  movieId  rating  timestamp\n",
       "0       1        1     4.0  964982703\n",
       "1       1        3     4.0  964981247\n",
       "2       1        6     4.0  964982224\n",
       "3       1       47     5.0  964983815\n",
       "4       1       50     5.0  964982931"
      ]
     },
     "execution_count": 3,
     "metadata": {},
     "output_type": "execute_result"
    }
   ],
   "source": [
    "# Load csv dari folder data dan tampilkan\n",
    "rating = pd.read_csv('dataset/ratings.csv')\n",
    "\n",
    "# Cek beberapa baris pertama data\n",
    "print(\"Dimensi dataset:\", rating.shape)\n",
    "rating.head()"
   ]
  },
  {
   "cell_type": "markdown",
   "id": "5af3312f-7506-4b74-9d1d-5eec71693adf",
   "metadata": {},
   "source": [
    "### Deskripsi Dataset"
   ]
  },
  {
   "cell_type": "markdown",
   "id": "7e887da6-550a-48d7-b384-de666b6a66f3",
   "metadata": {},
   "source": [
    "|      **Fitur**      |                              **Deskripsi**                             |\n",
    "| :-----------------: | :--------------------------------------------------------------------: |\n",
    "|    `movieId`   |                Id unik yang disediakan untuk setiap film                |\n",
    "|   `title`   |      Judul dari movie atau film     |\n",
    "|      `genres`      |            Daftar genre yang dipisahkan tanda pipe.           |\n",
    "|      `userID`      |         Id unik dari setiap pengguna        |\n",
    "|      `rating`     |       Penilaian pengguna yang diberikan kepada film       |\n",
    "|   `timestamp`   | Menunjukkan detik sejak tengah malam Waktu Universal Terkoordinasi (UTC) tanggal 1 Januari 1970. |"
   ]
  },
  {
   "cell_type": "markdown",
   "id": "a18b41d1-0d89-496f-9ffc-98b96b494e62",
   "metadata": {},
   "source": [
    "## Exploration Data Analysis"
   ]
  },
  {
   "cell_type": "markdown",
   "id": "47a85425-2176-4d20-965e-103d244a6458",
   "metadata": {},
   "source": [
    "### Dataframe Movie"
   ]
  },
  {
   "cell_type": "code",
   "execution_count": 4,
   "id": "69140f58-e363-4227-b3db-742f42b7b450",
   "metadata": {},
   "outputs": [
    {
     "name": "stdout",
     "output_type": "stream",
     "text": [
      "<class 'pandas.core.frame.DataFrame'>\n",
      "RangeIndex: 9742 entries, 0 to 9741\n",
      "Data columns (total 3 columns):\n",
      " #   Column   Non-Null Count  Dtype \n",
      "---  ------   --------------  ----- \n",
      " 0   movieId  9742 non-null   int64 \n",
      " 1   title    9742 non-null   object\n",
      " 2   genres   9742 non-null   object\n",
      "dtypes: int64(1), object(2)\n",
      "memory usage: 228.5+ KB\n"
     ]
    },
    {
     "data": {
      "text/html": [
       "<div>\n",
       "<style scoped>\n",
       "    .dataframe tbody tr th:only-of-type {\n",
       "        vertical-align: middle;\n",
       "    }\n",
       "\n",
       "    .dataframe tbody tr th {\n",
       "        vertical-align: top;\n",
       "    }\n",
       "\n",
       "    .dataframe thead th {\n",
       "        text-align: right;\n",
       "    }\n",
       "</style>\n",
       "<table border=\"1\" class=\"dataframe\">\n",
       "  <thead>\n",
       "    <tr style=\"text-align: right;\">\n",
       "      <th></th>\n",
       "      <th>movieId</th>\n",
       "      <th>title</th>\n",
       "      <th>genres</th>\n",
       "    </tr>\n",
       "  </thead>\n",
       "  <tbody>\n",
       "    <tr>\n",
       "      <th>0</th>\n",
       "      <td>1</td>\n",
       "      <td>Toy Story (1995)</td>\n",
       "      <td>Adventure|Animation|Children|Comedy|Fantasy</td>\n",
       "    </tr>\n",
       "    <tr>\n",
       "      <th>1</th>\n",
       "      <td>2</td>\n",
       "      <td>Jumanji (1995)</td>\n",
       "      <td>Adventure|Children|Fantasy</td>\n",
       "    </tr>\n",
       "    <tr>\n",
       "      <th>2</th>\n",
       "      <td>3</td>\n",
       "      <td>Grumpier Old Men (1995)</td>\n",
       "      <td>Comedy|Romance</td>\n",
       "    </tr>\n",
       "    <tr>\n",
       "      <th>3</th>\n",
       "      <td>4</td>\n",
       "      <td>Waiting to Exhale (1995)</td>\n",
       "      <td>Comedy|Drama|Romance</td>\n",
       "    </tr>\n",
       "    <tr>\n",
       "      <th>4</th>\n",
       "      <td>5</td>\n",
       "      <td>Father of the Bride Part II (1995)</td>\n",
       "      <td>Comedy</td>\n",
       "    </tr>\n",
       "  </tbody>\n",
       "</table>\n",
       "</div>"
      ],
      "text/plain": [
       "   movieId                               title  \\\n",
       "0        1                    Toy Story (1995)   \n",
       "1        2                      Jumanji (1995)   \n",
       "2        3             Grumpier Old Men (1995)   \n",
       "3        4            Waiting to Exhale (1995)   \n",
       "4        5  Father of the Bride Part II (1995)   \n",
       "\n",
       "                                        genres  \n",
       "0  Adventure|Animation|Children|Comedy|Fantasy  \n",
       "1                   Adventure|Children|Fantasy  \n",
       "2                               Comedy|Romance  \n",
       "3                         Comedy|Drama|Romance  \n",
       "4                                       Comedy  "
      ]
     },
     "execution_count": 4,
     "metadata": {},
     "output_type": "execute_result"
    }
   ],
   "source": [
    "movie.info()\n",
    "movie.head()"
   ]
  },
  {
   "cell_type": "markdown",
   "id": "73b54d4b-5a1f-422d-9cf2-b2143f21f435",
   "metadata": {},
   "source": [
    "Seperti dataframe yang ditunjukkan, genre dalam kolom 'genre' berformat nilai yang dipisahkan |. Ini perlu diubah agar mesin dapat mengidentifikasi genre setiap movie.\n",
    "\n",
    "Dataset tidak bersih, sehingga akan sulit untuk mengidentifikasi setiap genre yang tersedia dalam dataset. Hal ini akan dijelaskan di bagian **Data Preparation**."
   ]
  },
  {
   "cell_type": "markdown",
   "id": "26d87285-9ce1-4bb5-8185-841f364571fd",
   "metadata": {},
   "source": [
    "### Dataframe Rating"
   ]
  },
  {
   "cell_type": "code",
   "execution_count": 5,
   "id": "f13a3912-4c91-4fa2-9098-b7bae7629b00",
   "metadata": {},
   "outputs": [
    {
     "name": "stdout",
     "output_type": "stream",
     "text": [
      "<class 'pandas.core.frame.DataFrame'>\n",
      "RangeIndex: 100836 entries, 0 to 100835\n",
      "Data columns (total 4 columns):\n",
      " #   Column     Non-Null Count   Dtype  \n",
      "---  ------     --------------   -----  \n",
      " 0   userId     100836 non-null  int64  \n",
      " 1   movieId    100836 non-null  int64  \n",
      " 2   rating     100836 non-null  float64\n",
      " 3   timestamp  100836 non-null  int64  \n",
      "dtypes: float64(1), int64(3)\n",
      "memory usage: 3.1 MB\n"
     ]
    }
   ],
   "source": [
    "rating.info()"
   ]
  },
  {
   "cell_type": "code",
   "execution_count": 6,
   "id": "56a421b2-21a7-47b5-85ec-0f0728594a49",
   "metadata": {},
   "outputs": [
    {
     "data": {
      "text/html": [
       "<div>\n",
       "<style scoped>\n",
       "    .dataframe tbody tr th:only-of-type {\n",
       "        vertical-align: middle;\n",
       "    }\n",
       "\n",
       "    .dataframe tbody tr th {\n",
       "        vertical-align: top;\n",
       "    }\n",
       "\n",
       "    .dataframe thead th {\n",
       "        text-align: right;\n",
       "    }\n",
       "</style>\n",
       "<table border=\"1\" class=\"dataframe\">\n",
       "  <thead>\n",
       "    <tr style=\"text-align: right;\">\n",
       "      <th></th>\n",
       "      <th>userId</th>\n",
       "      <th>movieId</th>\n",
       "      <th>rating</th>\n",
       "      <th>timestamp</th>\n",
       "    </tr>\n",
       "  </thead>\n",
       "  <tbody>\n",
       "    <tr>\n",
       "      <th>count</th>\n",
       "      <td>100836.000000</td>\n",
       "      <td>100836.000000</td>\n",
       "      <td>100836.000000</td>\n",
       "      <td>1.008360e+05</td>\n",
       "    </tr>\n",
       "    <tr>\n",
       "      <th>mean</th>\n",
       "      <td>326.127564</td>\n",
       "      <td>19435.295718</td>\n",
       "      <td>3.501557</td>\n",
       "      <td>1.205946e+09</td>\n",
       "    </tr>\n",
       "    <tr>\n",
       "      <th>std</th>\n",
       "      <td>182.618491</td>\n",
       "      <td>35530.987199</td>\n",
       "      <td>1.042529</td>\n",
       "      <td>2.162610e+08</td>\n",
       "    </tr>\n",
       "    <tr>\n",
       "      <th>min</th>\n",
       "      <td>1.000000</td>\n",
       "      <td>1.000000</td>\n",
       "      <td>0.500000</td>\n",
       "      <td>8.281246e+08</td>\n",
       "    </tr>\n",
       "    <tr>\n",
       "      <th>25%</th>\n",
       "      <td>177.000000</td>\n",
       "      <td>1199.000000</td>\n",
       "      <td>3.000000</td>\n",
       "      <td>1.019124e+09</td>\n",
       "    </tr>\n",
       "    <tr>\n",
       "      <th>50%</th>\n",
       "      <td>325.000000</td>\n",
       "      <td>2991.000000</td>\n",
       "      <td>3.500000</td>\n",
       "      <td>1.186087e+09</td>\n",
       "    </tr>\n",
       "    <tr>\n",
       "      <th>75%</th>\n",
       "      <td>477.000000</td>\n",
       "      <td>8122.000000</td>\n",
       "      <td>4.000000</td>\n",
       "      <td>1.435994e+09</td>\n",
       "    </tr>\n",
       "    <tr>\n",
       "      <th>max</th>\n",
       "      <td>610.000000</td>\n",
       "      <td>193609.000000</td>\n",
       "      <td>5.000000</td>\n",
       "      <td>1.537799e+09</td>\n",
       "    </tr>\n",
       "  </tbody>\n",
       "</table>\n",
       "</div>"
      ],
      "text/plain": [
       "              userId        movieId         rating     timestamp\n",
       "count  100836.000000  100836.000000  100836.000000  1.008360e+05\n",
       "mean      326.127564   19435.295718       3.501557  1.205946e+09\n",
       "std       182.618491   35530.987199       1.042529  2.162610e+08\n",
       "min         1.000000       1.000000       0.500000  8.281246e+08\n",
       "25%       177.000000    1199.000000       3.000000  1.019124e+09\n",
       "50%       325.000000    2991.000000       3.500000  1.186087e+09\n",
       "75%       477.000000    8122.000000       4.000000  1.435994e+09\n",
       "max       610.000000  193609.000000       5.000000  1.537799e+09"
      ]
     },
     "execution_count": 6,
     "metadata": {},
     "output_type": "execute_result"
    }
   ],
   "source": [
    "rating.describe()"
   ]
  },
  {
   "cell_type": "code",
   "execution_count": 7,
   "id": "18557e6b-e801-45b7-84d6-4cb2cb23a384",
   "metadata": {},
   "outputs": [
    {
     "name": "stdout",
     "output_type": "stream",
     "text": [
      "Rating Terendah:  0.5\n",
      "Rating Tertinggi:  5.0\n"
     ]
    }
   ],
   "source": [
    "print(\"Rating Terendah: \", min(rating.rating))\n",
    "print(\"Rating Tertinggi: \", max(rating.rating))"
   ]
  },
  {
   "cell_type": "code",
   "execution_count": 86,
   "id": "698aef60-2790-44d8-91aa-acb366175753",
   "metadata": {},
   "outputs": [
    {
     "data": {
      "image/png": "[encoded data removed]",
      "text/plain": [
       "<Figure size 1000x600 with 1 Axes>"
      ]
     },
     "metadata": {},
     "output_type": "display_data"
    }
   ],
   "source": [
    "plt.figure(figsize=(10,6))\n",
    "bins = np.arange(0.5, 5.5, 0.5) \n",
    "plt.hist(rating['rating'], bins=bins, color='skyblue', edgecolor='black')\n",
    "plt.xlabel('Rating')\n",
    "plt.ylabel('Count')\n",
    "plt.title('Jumlah masing-masing skor rating')\n",
    "plt.xticks(bins)\n",
    "plt.grid(axis='y', alpha=0.75)\n",
    "plt.show()\n"
   ]
  },
  {
   "cell_type": "code",
   "execution_count": 9,
   "id": "938564ae-d230-42c5-86ea-be7ec6c40296",
   "metadata": {},
   "outputs": [
    {
     "name": "stdout",
     "output_type": "stream",
     "text": [
      "Total # of user:  610\n",
      "Total # of movie:  9724\n"
     ]
    },
    {
     "data": {
      "image/png": "[encoded data removed]",
      "text/plain": [
       "<Figure size 800x600 with 1 Axes>"
      ]
     },
     "metadata": {},
     "output_type": "display_data"
    }
   ],
   "source": [
    "num_users = len(rating.userId.unique())\n",
    "num_movie = len(rating.movieId.unique())\n",
    "\n",
    "print(\"Total # of user: \", num_users)\n",
    "print(\"Total # of movie: \", num_movie)\n",
    "\n",
    "plt.figure(figsize=(8, 6))\n",
    "plt.bar(['Users', 'Movie'], [num_users, num_movie], color=['skyblue', 'pink'])\n",
    "plt.title(\"Total numbers of Users and Movie\")\n",
    "plt.show()"
   ]
  },
  {
   "cell_type": "markdown",
   "id": "28cfe0f3-bae3-4903-99ec-30de94eab3c4",
   "metadata": {},
   "source": [
    "# Data Preparation"
   ]
  },
  {
   "cell_type": "markdown",
   "id": "1a75e8a8-e944-4ad1-a003-e77a04e9f205",
   "metadata": {},
   "source": [
    "## 1. Dataframe Movie"
   ]
  },
  {
   "cell_type": "markdown",
   "id": "e5a838c9-c8e0-49ee-b3eb-05b04e836482",
   "metadata": {},
   "source": [
    "### Konversi genre ke dalam list"
   ]
  },
  {
   "cell_type": "code",
   "execution_count": 10,
   "id": "56d3dda9-f514-4caa-bd34-671523394c7c",
   "metadata": {},
   "outputs": [],
   "source": [
    "movie['genres'] = movie['genres'].str.split('|', )\n"
   ]
  },
  {
   "cell_type": "code",
   "execution_count": 11,
   "id": "867e2dae-511f-4145-871d-cbb942ef9579",
   "metadata": {},
   "outputs": [
    {
     "data": {
      "text/html": [
       "<div>\n",
       "<style scoped>\n",
       "    .dataframe tbody tr th:only-of-type {\n",
       "        vertical-align: middle;\n",
       "    }\n",
       "\n",
       "    .dataframe tbody tr th {\n",
       "        vertical-align: top;\n",
       "    }\n",
       "\n",
       "    .dataframe thead th {\n",
       "        text-align: right;\n",
       "    }\n",
       "</style>\n",
       "<table border=\"1\" class=\"dataframe\">\n",
       "  <thead>\n",
       "    <tr style=\"text-align: right;\">\n",
       "      <th></th>\n",
       "      <th>movieId</th>\n",
       "      <th>title</th>\n",
       "      <th>genres</th>\n",
       "    </tr>\n",
       "  </thead>\n",
       "  <tbody>\n",
       "    <tr>\n",
       "      <th>0</th>\n",
       "      <td>1</td>\n",
       "      <td>Toy Story (1995)</td>\n",
       "      <td>[Adventure, Animation, Children, Comedy, Fantasy]</td>\n",
       "    </tr>\n",
       "  </tbody>\n",
       "</table>\n",
       "</div>"
      ],
      "text/plain": [
       "   movieId             title  \\\n",
       "0        1  Toy Story (1995)   \n",
       "\n",
       "                                              genres  \n",
       "0  [Adventure, Animation, Children, Comedy, Fantasy]  "
      ]
     },
     "execution_count": 11,
     "metadata": {},
     "output_type": "execute_result"
    }
   ],
   "source": [
    "movie.head(1)"
   ]
  },
  {
   "cell_type": "markdown",
   "id": "84d6f534-8d7d-49f3-a494-3645074e6f27",
   "metadata": {},
   "source": [
    "### Handle missing values"
   ]
  },
  {
   "cell_type": "code",
   "execution_count": 12,
   "id": "be9d90df-3eed-4904-8a96-6aa15d9f9b04",
   "metadata": {},
   "outputs": [
    {
     "data": {
      "text/plain": [
       "movieId    0\n",
       "title      0\n",
       "genres     0\n",
       "dtype: int64"
      ]
     },
     "execution_count": 12,
     "metadata": {},
     "output_type": "execute_result"
    }
   ],
   "source": [
    "movie.isnull().sum()"
   ]
  },
  {
   "cell_type": "markdown",
   "id": "f244a82c-d656-42b7-adf5-1bdff64bc69f",
   "metadata": {},
   "source": [
    "### Check unique genres"
   ]
  },
  {
   "cell_type": "code",
   "execution_count": 13,
   "id": "d864e89b-749c-4872-adae-b6058ae068f3",
   "metadata": {},
   "outputs": [
    {
     "name": "stdout",
     "output_type": "stream",
     "text": [
      "Total # of genre:  20\n",
      "List of all genre availabel:  ['Adventure' 'Animation' 'Children' 'Comedy' 'Fantasy' 'Romance' 'Drama'\n",
      " 'Action' 'Crime' 'Thriller' 'Horror' 'Mystery' 'Sci-Fi' 'War' 'Musical'\n",
      " 'Documentary' 'IMAX' 'Western' 'Film-Noir' '(no genres listed)']\n"
     ]
    }
   ],
   "source": [
    "genre_flatten = [genre for sublist in movie['genres'] for genre in sublist]\n",
    "\n",
    "unique_genres = pd.Series(genre_flatten).unique()\n",
    "print(\"Total # of genre: \", len(unique_genres))\n",
    "print(\"List of all genre availabel: \", unique_genres)"
   ]
  },
  {
   "cell_type": "markdown",
   "id": "a2f568eb-3939-42c0-800f-457b4db6501a",
   "metadata": {},
   "source": [
    "### Menghapus rows 'no genres listed' karena tidak memiliki fitur konten yang bisa dibandingkan dengan film lain."
   ]
  },
  {
   "cell_type": "code",
   "execution_count": 14,
   "id": "69c965b0-7c8e-4ef6-aa93-4b0445f105a1",
   "metadata": {},
   "outputs": [
    {
     "data": {
      "text/html": [
       "<div>\n",
       "<style scoped>\n",
       "    .dataframe tbody tr th:only-of-type {\n",
       "        vertical-align: middle;\n",
       "    }\n",
       "\n",
       "    .dataframe tbody tr th {\n",
       "        vertical-align: top;\n",
       "    }\n",
       "\n",
       "    .dataframe thead th {\n",
       "        text-align: right;\n",
       "    }\n",
       "</style>\n",
       "<table border=\"1\" class=\"dataframe\">\n",
       "  <thead>\n",
       "    <tr style=\"text-align: right;\">\n",
       "      <th></th>\n",
       "      <th>movieId</th>\n",
       "      <th>title</th>\n",
       "      <th>genres</th>\n",
       "    </tr>\n",
       "  </thead>\n",
       "  <tbody>\n",
       "    <tr>\n",
       "      <th>0</th>\n",
       "      <td>1</td>\n",
       "      <td>Toy Story (1995)</td>\n",
       "      <td>[Adventure, Animation, Children, Comedy, Fantasy]</td>\n",
       "    </tr>\n",
       "    <tr>\n",
       "      <th>1</th>\n",
       "      <td>2</td>\n",
       "      <td>Jumanji (1995)</td>\n",
       "      <td>[Adventure, Children, Fantasy]</td>\n",
       "    </tr>\n",
       "    <tr>\n",
       "      <th>2</th>\n",
       "      <td>3</td>\n",
       "      <td>Grumpier Old Men (1995)</td>\n",
       "      <td>[Comedy, Romance]</td>\n",
       "    </tr>\n",
       "    <tr>\n",
       "      <th>3</th>\n",
       "      <td>4</td>\n",
       "      <td>Waiting to Exhale (1995)</td>\n",
       "      <td>[Comedy, Drama, Romance]</td>\n",
       "    </tr>\n",
       "    <tr>\n",
       "      <th>4</th>\n",
       "      <td>5</td>\n",
       "      <td>Father of the Bride Part II (1995)</td>\n",
       "      <td>[Comedy]</td>\n",
       "    </tr>\n",
       "    <tr>\n",
       "      <th>...</th>\n",
       "      <td>...</td>\n",
       "      <td>...</td>\n",
       "      <td>...</td>\n",
       "    </tr>\n",
       "    <tr>\n",
       "      <th>9737</th>\n",
       "      <td>193581</td>\n",
       "      <td>Black Butler: Book of the Atlantic (2017)</td>\n",
       "      <td>[Action, Animation, Comedy, Fantasy]</td>\n",
       "    </tr>\n",
       "    <tr>\n",
       "      <th>9738</th>\n",
       "      <td>193583</td>\n",
       "      <td>No Game No Life: Zero (2017)</td>\n",
       "      <td>[Animation, Comedy, Fantasy]</td>\n",
       "    </tr>\n",
       "    <tr>\n",
       "      <th>9739</th>\n",
       "      <td>193585</td>\n",
       "      <td>Flint (2017)</td>\n",
       "      <td>[Drama]</td>\n",
       "    </tr>\n",
       "    <tr>\n",
       "      <th>9740</th>\n",
       "      <td>193587</td>\n",
       "      <td>Bungo Stray Dogs: Dead Apple (2018)</td>\n",
       "      <td>[Action, Animation]</td>\n",
       "    </tr>\n",
       "    <tr>\n",
       "      <th>9741</th>\n",
       "      <td>193609</td>\n",
       "      <td>Andrew Dice Clay: Dice Rules (1991)</td>\n",
       "      <td>[Comedy]</td>\n",
       "    </tr>\n",
       "  </tbody>\n",
       "</table>\n",
       "<p>9708 rows × 3 columns</p>\n",
       "</div>"
      ],
      "text/plain": [
       "      movieId                                      title  \\\n",
       "0           1                           Toy Story (1995)   \n",
       "1           2                             Jumanji (1995)   \n",
       "2           3                    Grumpier Old Men (1995)   \n",
       "3           4                   Waiting to Exhale (1995)   \n",
       "4           5         Father of the Bride Part II (1995)   \n",
       "...       ...                                        ...   \n",
       "9737   193581  Black Butler: Book of the Atlantic (2017)   \n",
       "9738   193583               No Game No Life: Zero (2017)   \n",
       "9739   193585                               Flint (2017)   \n",
       "9740   193587        Bungo Stray Dogs: Dead Apple (2018)   \n",
       "9741   193609        Andrew Dice Clay: Dice Rules (1991)   \n",
       "\n",
       "                                                 genres  \n",
       "0     [Adventure, Animation, Children, Comedy, Fantasy]  \n",
       "1                        [Adventure, Children, Fantasy]  \n",
       "2                                     [Comedy, Romance]  \n",
       "3                              [Comedy, Drama, Romance]  \n",
       "4                                              [Comedy]  \n",
       "...                                                 ...  \n",
       "9737               [Action, Animation, Comedy, Fantasy]  \n",
       "9738                       [Animation, Comedy, Fantasy]  \n",
       "9739                                            [Drama]  \n",
       "9740                                [Action, Animation]  \n",
       "9741                                           [Comedy]  \n",
       "\n",
       "[9708 rows x 3 columns]"
      ]
     },
     "execution_count": 14,
     "metadata": {},
     "output_type": "execute_result"
    }
   ],
   "source": [
    "unused_genre = ['(no genres listed)']\n",
    "\n",
    "mask = movie['genres'].apply(lambda x: any(genre in x for genre in unused_genre))\n",
    "\n",
    "movie_final = movie[~mask]\n",
    "movie_final"
   ]
  },
  {
   "cell_type": "markdown",
   "id": "3084a3c6-723e-4c23-9cd3-6177aef00e36",
   "metadata": {},
   "source": [
    "### Convert genres menjadi string\n",
    "memisahkan daftar genre dari setiap baris dengan spasi, dan mencegah genre dengan spasi dipisahkan"
   ]
  },
  {
   "cell_type": "code",
   "execution_count": 15,
   "id": "13da24cb-e96b-4e51-8c7a-6fc4449a3143",
   "metadata": {},
   "outputs": [
    {
     "name": "stderr",
     "output_type": "stream",
     "text": [
      "C:\\Users\\LENOV\\AppData\\Local\\Temp\\ipykernel_26036\\938635372.py:1: SettingWithCopyWarning: \n",
      "A value is trying to be set on a copy of a slice from a DataFrame.\n",
      "Try using .loc[row_indexer,col_indexer] = value instead\n",
      "\n",
      "See the caveats in the documentation: https://pandas.pydata.org/pandas-docs/stable/user_guide/indexing.html#returning-a-view-versus-a-copy\n",
      "  movie_final['genre_str'] = movie_final['genres'].apply(lambda x: ' '.join(g.replace(' ', '') for g in x))\n"
     ]
    },
    {
     "data": {
      "text/html": [
       "<div>\n",
       "<style scoped>\n",
       "    .dataframe tbody tr th:only-of-type {\n",
       "        vertical-align: middle;\n",
       "    }\n",
       "\n",
       "    .dataframe tbody tr th {\n",
       "        vertical-align: top;\n",
       "    }\n",
       "\n",
       "    .dataframe thead th {\n",
       "        text-align: right;\n",
       "    }\n",
       "</style>\n",
       "<table border=\"1\" class=\"dataframe\">\n",
       "  <thead>\n",
       "    <tr style=\"text-align: right;\">\n",
       "      <th></th>\n",
       "      <th>movieId</th>\n",
       "      <th>title</th>\n",
       "      <th>genres</th>\n",
       "      <th>genre_str</th>\n",
       "    </tr>\n",
       "  </thead>\n",
       "  <tbody>\n",
       "    <tr>\n",
       "      <th>0</th>\n",
       "      <td>1</td>\n",
       "      <td>Toy Story (1995)</td>\n",
       "      <td>[Adventure, Animation, Children, Comedy, Fantasy]</td>\n",
       "      <td>Adventure Animation Children Comedy Fantasy</td>\n",
       "    </tr>\n",
       "    <tr>\n",
       "      <th>1</th>\n",
       "      <td>2</td>\n",
       "      <td>Jumanji (1995)</td>\n",
       "      <td>[Adventure, Children, Fantasy]</td>\n",
       "      <td>Adventure Children Fantasy</td>\n",
       "    </tr>\n",
       "    <tr>\n",
       "      <th>2</th>\n",
       "      <td>3</td>\n",
       "      <td>Grumpier Old Men (1995)</td>\n",
       "      <td>[Comedy, Romance]</td>\n",
       "      <td>Comedy Romance</td>\n",
       "    </tr>\n",
       "    <tr>\n",
       "      <th>3</th>\n",
       "      <td>4</td>\n",
       "      <td>Waiting to Exhale (1995)</td>\n",
       "      <td>[Comedy, Drama, Romance]</td>\n",
       "      <td>Comedy Drama Romance</td>\n",
       "    </tr>\n",
       "    <tr>\n",
       "      <th>4</th>\n",
       "      <td>5</td>\n",
       "      <td>Father of the Bride Part II (1995)</td>\n",
       "      <td>[Comedy]</td>\n",
       "      <td>Comedy</td>\n",
       "    </tr>\n",
       "    <tr>\n",
       "      <th>...</th>\n",
       "      <td>...</td>\n",
       "      <td>...</td>\n",
       "      <td>...</td>\n",
       "      <td>...</td>\n",
       "    </tr>\n",
       "    <tr>\n",
       "      <th>9737</th>\n",
       "      <td>193581</td>\n",
       "      <td>Black Butler: Book of the Atlantic (2017)</td>\n",
       "      <td>[Action, Animation, Comedy, Fantasy]</td>\n",
       "      <td>Action Animation Comedy Fantasy</td>\n",
       "    </tr>\n",
       "    <tr>\n",
       "      <th>9738</th>\n",
       "      <td>193583</td>\n",
       "      <td>No Game No Life: Zero (2017)</td>\n",
       "      <td>[Animation, Comedy, Fantasy]</td>\n",
       "      <td>Animation Comedy Fantasy</td>\n",
       "    </tr>\n",
       "    <tr>\n",
       "      <th>9739</th>\n",
       "      <td>193585</td>\n",
       "      <td>Flint (2017)</td>\n",
       "      <td>[Drama]</td>\n",
       "      <td>Drama</td>\n",
       "    </tr>\n",
       "    <tr>\n",
       "      <th>9740</th>\n",
       "      <td>193587</td>\n",
       "      <td>Bungo Stray Dogs: Dead Apple (2018)</td>\n",
       "      <td>[Action, Animation]</td>\n",
       "      <td>Action Animation</td>\n",
       "    </tr>\n",
       "    <tr>\n",
       "      <th>9741</th>\n",
       "      <td>193609</td>\n",
       "      <td>Andrew Dice Clay: Dice Rules (1991)</td>\n",
       "      <td>[Comedy]</td>\n",
       "      <td>Comedy</td>\n",
       "    </tr>\n",
       "  </tbody>\n",
       "</table>\n",
       "<p>9708 rows × 4 columns</p>\n",
       "</div>"
      ],
      "text/plain": [
       "      movieId                                      title  \\\n",
       "0           1                           Toy Story (1995)   \n",
       "1           2                             Jumanji (1995)   \n",
       "2           3                    Grumpier Old Men (1995)   \n",
       "3           4                   Waiting to Exhale (1995)   \n",
       "4           5         Father of the Bride Part II (1995)   \n",
       "...       ...                                        ...   \n",
       "9737   193581  Black Butler: Book of the Atlantic (2017)   \n",
       "9738   193583               No Game No Life: Zero (2017)   \n",
       "9739   193585                               Flint (2017)   \n",
       "9740   193587        Bungo Stray Dogs: Dead Apple (2018)   \n",
       "9741   193609        Andrew Dice Clay: Dice Rules (1991)   \n",
       "\n",
       "                                                 genres  \\\n",
       "0     [Adventure, Animation, Children, Comedy, Fantasy]   \n",
       "1                        [Adventure, Children, Fantasy]   \n",
       "2                                     [Comedy, Romance]   \n",
       "3                              [Comedy, Drama, Romance]   \n",
       "4                                              [Comedy]   \n",
       "...                                                 ...   \n",
       "9737               [Action, Animation, Comedy, Fantasy]   \n",
       "9738                       [Animation, Comedy, Fantasy]   \n",
       "9739                                            [Drama]   \n",
       "9740                                [Action, Animation]   \n",
       "9741                                           [Comedy]   \n",
       "\n",
       "                                        genre_str  \n",
       "0     Adventure Animation Children Comedy Fantasy  \n",
       "1                      Adventure Children Fantasy  \n",
       "2                                  Comedy Romance  \n",
       "3                            Comedy Drama Romance  \n",
       "4                                          Comedy  \n",
       "...                                           ...  \n",
       "9737              Action Animation Comedy Fantasy  \n",
       "9738                     Animation Comedy Fantasy  \n",
       "9739                                        Drama  \n",
       "9740                             Action Animation  \n",
       "9741                                       Comedy  \n",
       "\n",
       "[9708 rows x 4 columns]"
      ]
     },
     "execution_count": 15,
     "metadata": {},
     "output_type": "execute_result"
    }
   ],
   "source": [
    "movie_final['genre_str'] = movie_final['genres'].apply(lambda x: ' '.join(g.replace(' ', '') for g in x))\n",
    "movie_final"
   ]
  },
  {
   "cell_type": "markdown",
   "id": "9b485ed6-5b5b-487b-8851-2e7981e96acd",
   "metadata": {},
   "source": [
    "## Rating Data Preparation"
   ]
  },
  {
   "cell_type": "markdown",
   "id": "46c286fe-8888-4da9-b186-9dc080a6b1c7",
   "metadata": {},
   "source": [
    "### Handling missing values"
   ]
  },
  {
   "cell_type": "code",
   "execution_count": 16,
   "id": "bf4b079b-7a30-4220-9cc0-0c71c0194eb3",
   "metadata": {},
   "outputs": [
    {
     "data": {
      "text/plain": [
       "userId       0\n",
       "movieId      0\n",
       "rating       0\n",
       "timestamp    0\n",
       "dtype: int64"
      ]
     },
     "execution_count": 16,
     "metadata": {},
     "output_type": "execute_result"
    }
   ],
   "source": [
    "rating.isnull().sum()"
   ]
  },
  {
   "cell_type": "markdown",
   "id": "3611c0eb-d4a4-48b6-aba1-c912a04f9d1c",
   "metadata": {},
   "source": [
    "### Encode user id dan movie id"
   ]
  },
  {
   "cell_type": "code",
   "execution_count": 17,
   "id": "3c3cbb81-0d43-49ad-ab15-6414e806a70b",
   "metadata": {},
   "outputs": [
    {
     "name": "stdout",
     "output_type": "stream",
     "text": [
      "List user_id:  [1, 2, 3, 4, 5, 6, 7, 8, 9, 10, 11, 12, 13, 14, 15, 16, 17, 18, 19, 20, 21, 22, 23, 24, 25, 26, 27, 28, 29, 30, 31, 32, 33, 34, 35, 36, 37, 38, 39, 40, 41, 42, 43, 44, 45, 46, 47, 48, 49, 50, 51, 52, 53, 54, 55, 56, 57, 58, 59, 60, 61, 62, 63, 64, 65, 66, 67, 68, 69, 70, 71, 72, 73, 74, 75, 76, 77, 78, 79, 80, 81, 82, 83, 84, 85, 86, 87, 88, 89, 90, 91, 92, 93, 94, 95, 96, 97, 98, 99, 100, 101, 102, 103, 104, 105, 106, 107, 108, 109, 110, 111, 112, 113, 114, 115, 116, 117, 118, 119, 120, 121, 122, 123, 124, 125, 126, 127, 128, 129, 130, 131, 132, 133, 134, 135, 136, 137, 138, 139, 140, 141, 142, 143, 144, 145, 146, 147, 148, 149, 150, 151, 152, 153, 154, 155, 156, 157, 158, 159, 160, 161, 162, 163, 164, 165, 166, 167, 168, 169, 170, 171, 172, 173, 174, 175, 176, 177, 178, 179, 180, 181, 182, 183, 184, 185, 186, 187, 188, 189, 190, 191, 192, 193, 194, 195, 196, 197, 198, 199, 200, 201, 202, 203, 204, 205, 206, 207, 208, 209, 210, 211, 212, 213, 214, 215, 216, 217, 218, 219, 220, 221, 222, 223, 224, 225, 226, 227, 228, 229, 230, 231, 232, 233, 234, 235, 236, 237, 238, 239, 240, 241, 242, 243, 244, 245, 246, 247, 248, 249, 250, 251, 252, 253, 254, 255, 256, 257, 258, 259, 260, 261, 262, 263, 264, 265, 266, 267, 268, 269, 270, 271, 272, 273, 274, 275, 276, 277, 278, 279, 280, 281, 282, 283, 284, 285, 286, 287, 288, 289, 290, 291, 292, 293, 294, 295, 296, 297, 298, 299, 300, 301, 302, 303, 304, 305, 306, 307, 308, 309, 310, 311, 312, 313, 314, 315, 316, 317, 318, 319, 320, 321, 322, 323, 324, 325, 326, 327, 328, 329, 330, 331, 332, 333, 334, 335, 336, 337, 338, 339, 340, 341, 342, 343, 344, 345, 346, 347, 348, 349, 350, 351, 352, 353, 354, 355, 356, 357, 358, 359, 360, 361, 362, 363, 364, 365, 366, 367, 368, 369, 370, 371, 372, 373, 374, 375, 376, 377, 378, 379, 380, 381, 382, 383, 384, 385, 386, 387, 388, 389, 390, 391, 392, 393, 394, 395, 396, 397, 398, 399, 400, 401, 402, 403, 404, 405, 406, 407, 408, 409, 410, 411, 412, 413, 414, 415, 416, 417, 418, 419, 420, 421, 422, 423, 424, 425, 426, 427, 428, 429, 430, 431, 432, 433, 434, 435, 436, 437, 438, 439, 440, 441, 442, 443, 444, 445, 446, 447, 448, 449, 450, 451, 452, 453, 454, 455, 456, 457, 458, 459, 460, 461, 462, 463, 464, 465, 466, 467, 468, 469, 470, 471, 472, 473, 474, 475, 476, 477, 478, 479, 480, 481, 482, 483, 484, 485, 486, 487, 488, 489, 490, 491, 492, 493, 494, 495, 496, 497, 498, 499, 500, 501, 502, 503, 504, 505, 506, 507, 508, 509, 510, 511, 512, 513, 514, 515, 516, 517, 518, 519, 520, 521, 522, 523, 524, 525, 526, 527, 528, 529, 530, 531, 532, 533, 534, 535, 536, 537, 538, 539, 540, 541, 542, 543, 544, 545, 546, 547, 548, 549, 550, 551, 552, 553, 554, 555, 556, 557, 558, 559, 560, 561, 562, 563, 564, 565, 566, 567, 568, 569, 570, 571, 572, 573, 574, 575, 576, 577, 578, 579, 580, 581, 582, 583, 584, 585, 586, 587, 588, 589, 590, 591, 592, 593, 594, 595, 596, 597, 598, 599, 600, 601, 602, 603, 604, 605, 606, 607, 608, 609, 610]\n",
      "Encoded user_id:  {1: 0, 2: 1, 3: 2, 4: 3, 5: 4, 6: 5, 7: 6, 8: 7, 9: 8, 10: 9, 11: 10, 12: 11, 13: 12, 14: 13, 15: 14, 16: 15, 17: 16, 18: 17, 19: 18, 20: 19, 21: 20, 22: 21, 23: 22, 24: 23, 25: 24, 26: 25, 27: 26, 28: 27, 29: 28, 30: 29, 31: 30, 32: 31, 33: 32, 34: 33, 35: 34, 36: 35, 37: 36, 38: 37, 39: 38, 40: 39, 41: 40, 42: 41, 43: 42, 44: 43, 45: 44, 46: 45, 47: 46, 48: 47, 49: 48, 50: 49, 51: 50, 52: 51, 53: 52, 54: 53, 55: 54, 56: 55, 57: 56, 58: 57, 59: 58, 60: 59, 61: 60, 62: 61, 63: 62, 64: 63, 65: 64, 66: 65, 67: 66, 68: 67, 69: 68, 70: 69, 71: 70, 72: 71, 73: 72, 74: 73, 75: 74, 76: 75, 77: 76, 78: 77, 79: 78, 80: 79, 81: 80, 82: 81, 83: 82, 84: 83, 85: 84, 86: 85, 87: 86, 88: 87, 89: 88, 90: 89, 91: 90, 92: 91, 93: 92, 94: 93, 95: 94, 96: 95, 97: 96, 98: 97, 99: 98, 100: 99, 101: 100, 102: 101, 103: 102, 104: 103, 105: 104, 106: 105, 107: 106, 108: 107, 109: 108, 110: 109, 111: 110, 112: 111, 113: 112, 114: 113, 115: 114, 116: 115, 117: 116, 118: 117, 119: 118, 120: 119, 121: 120, 122: 121, 123: 122, 124: 123, 125: 124, 126: 125, 127: 126, 128: 127, 129: 128, 130: 129, 131: 130, 132: 131, 133: 132, 134: 133, 135: 134, 136: 135, 137: 136, 138: 137, 139: 138, 140: 139, 141: 140, 142: 141, 143: 142, 144: 143, 145: 144, 146: 145, 147: 146, 148: 147, 149: 148, 150: 149, 151: 150, 152: 151, 153: 152, 154: 153, 155: 154, 156: 155, 157: 156, 158: 157, 159: 158, 160: 159, 161: 160, 162: 161, 163: 162, 164: 163, 165: 164, 166: 165, 167: 166, 168: 167, 169: 168, 170: 169, 171: 170, 172: 171, 173: 172, 174: 173, 175: 174, 176: 175, 177: 176, 178: 177, 179: 178, 180: 179, 181: 180, 182: 181, 183: 182, 184: 183, 185: 184, 186: 185, 187: 186, 188: 187, 189: 188, 190: 189, 191: 190, 192: 191, 193: 192, 194: 193, 195: 194, 196: 195, 197: 196, 198: 197, 199: 198, 200: 199, 201: 200, 202: 201, 203: 202, 204: 203, 205: 204, 206: 205, 207: 206, 208: 207, 209: 208, 210: 209, 211: 210, 212: 211, 213: 212, 214: 213, 215: 214, 216: 215, 217: 216, 218: 217, 219: 218, 220: 219, 221: 220, 222: 221, 223: 222, 224: 223, 225: 224, 226: 225, 227: 226, 228: 227, 229: 228, 230: 229, 231: 230, 232: 231, 233: 232, 234: 233, 235: 234, 236: 235, 237: 236, 238: 237, 239: 238, 240: 239, 241: 240, 242: 241, 243: 242, 244: 243, 245: 244, 246: 245, 247: 246, 248: 247, 249: 248, 250: 249, 251: 250, 252: 251, 253: 252, 254: 253, 255: 254, 256: 255, 257: 256, 258: 257, 259: 258, 260: 259, 261: 260, 262: 261, 263: 262, 264: 263, 265: 264, 266: 265, 267: 266, 268: 267, 269: 268, 270: 269, 271: 270, 272: 271, 273: 272, 274: 273, 275: 274, 276: 275, 277: 276, 278: 277, 279: 278, 280: 279, 281: 280, 282: 281, 283: 282, 284: 283, 285: 284, 286: 285, 287: 286, 288: 287, 289: 288, 290: 289, 291: 290, 292: 291, 293: 292, 294: 293, 295: 294, 296: 295, 297: 296, 298: 297, 299: 298, 300: 299, 301: 300, 302: 301, 303: 302, 304: 303, 305: 304, 306: 305, 307: 306, 308: 307, 309: 308, 310: 309, 311: 310, 312: 311, 313: 312, 314: 313, 315: 314, 316: 315, 317: 316, 318: 317, 319: 318, 320: 319, 321: 320, 322: 321, 323: 322, 324: 323, 325: 324, 326: 325, 327: 326, 328: 327, 329: 328, 330: 329, 331: 330, 332: 331, 333: 332, 334: 333, 335: 334, 336: 335, 337: 336, 338: 337, 339: 338, 340: 339, 341: 340, 342: 341, 343: 342, 344: 343, 345: 344, 346: 345, 347: 346, 348: 347, 349: 348, 350: 349, 351: 350, 352: 351, 353: 352, 354: 353, 355: 354, 356: 355, 357: 356, 358: 357, 359: 358, 360: 359, 361: 360, 362: 361, 363: 362, 364: 363, 365: 364, 366: 365, 367: 366, 368: 367, 369: 368, 370: 369, 371: 370, 372: 371, 373: 372, 374: 373, 375: 374, 376: 375, 377: 376, 378: 377, 379: 378, 380: 379, 381: 380, 382: 381, 383: 382, 384: 383, 385: 384, 386: 385, 387: 386, 388: 387, 389: 388, 390: 389, 391: 390, 392: 391, 393: 392, 394: 393, 395: 394, 396: 395, 397: 396, 398: 397, 399: 398, 400: 399, 401: 400, 402: 401, 403: 402, 404: 403, 405: 404, 406: 405, 407: 406, 408: 407, 409: 408, 410: 409, 411: 410, 412: 411, 413: 412, 414: 413, 415: 414, 416: 415, 417: 416, 418: 417, 419: 418, 420: 419, 421: 420, 422: 421, 423: 422, 424: 423, 425: 424, 426: 425, 427: 426, 428: 427, 429: 428, 430: 429, 431: 430, 432: 431, 433: 432, 434: 433, 435: 434, 436: 435, 437: 436, 438: 437, 439: 438, 440: 439, 441: 440, 442: 441, 443: 442, 444: 443, 445: 444, 446: 445, 447: 446, 448: 447, 449: 448, 450: 449, 451: 450, 452: 451, 453: 452, 454: 453, 455: 454, 456: 455, 457: 456, 458: 457, 459: 458, 460: 459, 461: 460, 462: 461, 463: 462, 464: 463, 465: 464, 466: 465, 467: 466, 468: 467, 469: 468, 470: 469, 471: 470, 472: 471, 473: 472, 474: 473, 475: 474, 476: 475, 477: 476, 478: 477, 479: 478, 480: 479, 481: 480, 482: 481, 483: 482, 484: 483, 485: 484, 486: 485, 487: 486, 488: 487, 489: 488, 490: 489, 491: 490, 492: 491, 493: 492, 494: 493, 495: 494, 496: 495, 497: 496, 498: 497, 499: 498, 500: 499, 501: 500, 502: 501, 503: 502, 504: 503, 505: 504, 506: 505, 507: 506, 508: 507, 509: 508, 510: 509, 511: 510, 512: 511, 513: 512, 514: 513, 515: 514, 516: 515, 517: 516, 518: 517, 519: 518, 520: 519, 521: 520, 522: 521, 523: 522, 524: 523, 525: 524, 526: 525, 527: 526, 528: 527, 529: 528, 530: 529, 531: 530, 532: 531, 533: 532, 534: 533, 535: 534, 536: 535, 537: 536, 538: 537, 539: 538, 540: 539, 541: 540, 542: 541, 543: 542, 544: 543, 545: 544, 546: 545, 547: 546, 548: 547, 549: 548, 550: 549, 551: 550, 552: 551, 553: 552, 554: 553, 555: 554, 556: 555, 557: 556, 558: 557, 559: 558, 560: 559, 561: 560, 562: 561, 563: 562, 564: 563, 565: 564, 566: 565, 567: 566, 568: 567, 569: 568, 570: 569, 571: 570, 572: 571, 573: 572, 574: 573, 575: 574, 576: 575, 577: 576, 578: 577, 579: 578, 580: 579, 581: 580, 582: 581, 583: 582, 584: 583, 585: 584, 586: 585, 587: 586, 588: 587, 589: 588, 590: 589, 591: 590, 592: 591, 593: 592, 594: 593, 595: 594, 596: 595, 597: 596, 598: 597, 599: 598, 600: 599, 601: 600, 602: 601, 603: 602, 604: 603, 605: 604, 606: 605, 607: 606, 608: 607, 609: 608, 610: 609}\n",
      "Decoded user_id:  {0: 1, 1: 2, 2: 3, 3: 4, 4: 5, 5: 6, 6: 7, 7: 8, 8: 9, 9: 10, 10: 11, 11: 12, 12: 13, 13: 14, 14: 15, 15: 16, 16: 17, 17: 18, 18: 19, 19: 20, 20: 21, 21: 22, 22: 23, 23: 24, 24: 25, 25: 26, 26: 27, 27: 28, 28: 29, 29: 30, 30: 31, 31: 32, 32: 33, 33: 34, 34: 35, 35: 36, 36: 37, 37: 38, 38: 39, 39: 40, 40: 41, 41: 42, 42: 43, 43: 44, 44: 45, 45: 46, 46: 47, 47: 48, 48: 49, 49: 50, 50: 51, 51: 52, 52: 53, 53: 54, 54: 55, 55: 56, 56: 57, 57: 58, 58: 59, 59: 60, 60: 61, 61: 62, 62: 63, 63: 64, 64: 65, 65: 66, 66: 67, 67: 68, 68: 69, 69: 70, 70: 71, 71: 72, 72: 73, 73: 74, 74: 75, 75: 76, 76: 77, 77: 78, 78: 79, 79: 80, 80: 81, 81: 82, 82: 83, 83: 84, 84: 85, 85: 86, 86: 87, 87: 88, 88: 89, 89: 90, 90: 91, 91: 92, 92: 93, 93: 94, 94: 95, 95: 96, 96: 97, 97: 98, 98: 99, 99: 100, 100: 101, 101: 102, 102: 103, 103: 104, 104: 105, 105: 106, 106: 107, 107: 108, 108: 109, 109: 110, 110: 111, 111: 112, 112: 113, 113: 114, 114: 115, 115: 116, 116: 117, 117: 118, 118: 119, 119: 120, 120: 121, 121: 122, 122: 123, 123: 124, 124: 125, 125: 126, 126: 127, 127: 128, 128: 129, 129: 130, 130: 131, 131: 132, 132: 133, 133: 134, 134: 135, 135: 136, 136: 137, 137: 138, 138: 139, 139: 140, 140: 141, 141: 142, 142: 143, 143: 144, 144: 145, 145: 146, 146: 147, 147: 148, 148: 149, 149: 150, 150: 151, 151: 152, 152: 153, 153: 154, 154: 155, 155: 156, 156: 157, 157: 158, 158: 159, 159: 160, 160: 161, 161: 162, 162: 163, 163: 164, 164: 165, 165: 166, 166: 167, 167: 168, 168: 169, 169: 170, 170: 171, 171: 172, 172: 173, 173: 174, 174: 175, 175: 176, 176: 177, 177: 178, 178: 179, 179: 180, 180: 181, 181: 182, 182: 183, 183: 184, 184: 185, 185: 186, 186: 187, 187: 188, 188: 189, 189: 190, 190: 191, 191: 192, 192: 193, 193: 194, 194: 195, 195: 196, 196: 197, 197: 198, 198: 199, 199: 200, 200: 201, 201: 202, 202: 203, 203: 204, 204: 205, 205: 206, 206: 207, 207: 208, 208: 209, 209: 210, 210: 211, 211: 212, 212: 213, 213: 214, 214: 215, 215: 216, 216: 217, 217: 218, 218: 219, 219: 220, 220: 221, 221: 222, 222: 223, 223: 224, 224: 225, 225: 226, 226: 227, 227: 228, 228: 229, 229: 230, 230: 231, 231: 232, 232: 233, 233: 234, 234: 235, 235: 236, 236: 237, 237: 238, 238: 239, 239: 240, 240: 241, 241: 242, 242: 243, 243: 244, 244: 245, 245: 246, 246: 247, 247: 248, 248: 249, 249: 250, 250: 251, 251: 252, 252: 253, 253: 254, 254: 255, 255: 256, 256: 257, 257: 258, 258: 259, 259: 260, 260: 261, 261: 262, 262: 263, 263: 264, 264: 265, 265: 266, 266: 267, 267: 268, 268: 269, 269: 270, 270: 271, 271: 272, 272: 273, 273: 274, 274: 275, 275: 276, 276: 277, 277: 278, 278: 279, 279: 280, 280: 281, 281: 282, 282: 283, 283: 284, 284: 285, 285: 286, 286: 287, 287: 288, 288: 289, 289: 290, 290: 291, 291: 292, 292: 293, 293: 294, 294: 295, 295: 296, 296: 297, 297: 298, 298: 299, 299: 300, 300: 301, 301: 302, 302: 303, 303: 304, 304: 305, 305: 306, 306: 307, 307: 308, 308: 309, 309: 310, 310: 311, 311: 312, 312: 313, 313: 314, 314: 315, 315: 316, 316: 317, 317: 318, 318: 319, 319: 320, 320: 321, 321: 322, 322: 323, 323: 324, 324: 325, 325: 326, 326: 327, 327: 328, 328: 329, 329: 330, 330: 331, 331: 332, 332: 333, 333: 334, 334: 335, 335: 336, 336: 337, 337: 338, 338: 339, 339: 340, 340: 341, 341: 342, 342: 343, 343: 344, 344: 345, 345: 346, 346: 347, 347: 348, 348: 349, 349: 350, 350: 351, 351: 352, 352: 353, 353: 354, 354: 355, 355: 356, 356: 357, 357: 358, 358: 359, 359: 360, 360: 361, 361: 362, 362: 363, 363: 364, 364: 365, 365: 366, 366: 367, 367: 368, 368: 369, 369: 370, 370: 371, 371: 372, 372: 373, 373: 374, 374: 375, 375: 376, 376: 377, 377: 378, 378: 379, 379: 380, 380: 381, 381: 382, 382: 383, 383: 384, 384: 385, 385: 386, 386: 387, 387: 388, 388: 389, 389: 390, 390: 391, 391: 392, 392: 393, 393: 394, 394: 395, 395: 396, 396: 397, 397: 398, 398: 399, 399: 400, 400: 401, 401: 402, 402: 403, 403: 404, 404: 405, 405: 406, 406: 407, 407: 408, 408: 409, 409: 410, 410: 411, 411: 412, 412: 413, 413: 414, 414: 415, 415: 416, 416: 417, 417: 418, 418: 419, 419: 420, 420: 421, 421: 422, 422: 423, 423: 424, 424: 425, 425: 426, 426: 427, 427: 428, 428: 429, 429: 430, 430: 431, 431: 432, 432: 433, 433: 434, 434: 435, 435: 436, 436: 437, 437: 438, 438: 439, 439: 440, 440: 441, 441: 442, 442: 443, 443: 444, 444: 445, 445: 446, 446: 447, 447: 448, 448: 449, 449: 450, 450: 451, 451: 452, 452: 453, 453: 454, 454: 455, 455: 456, 456: 457, 457: 458, 458: 459, 459: 460, 460: 461, 461: 462, 462: 463, 463: 464, 464: 465, 465: 466, 466: 467, 467: 468, 468: 469, 469: 470, 470: 471, 471: 472, 472: 473, 473: 474, 474: 475, 475: 476, 476: 477, 477: 478, 478: 479, 479: 480, 480: 481, 481: 482, 482: 483, 483: 484, 484: 485, 485: 486, 486: 487, 487: 488, 488: 489, 489: 490, 490: 491, 491: 492, 492: 493, 493: 494, 494: 495, 495: 496, 496: 497, 497: 498, 498: 499, 499: 500, 500: 501, 501: 502, 502: 503, 503: 504, 504: 505, 505: 506, 506: 507, 507: 508, 508: 509, 509: 510, 510: 511, 511: 512, 512: 513, 513: 514, 514: 515, 515: 516, 516: 517, 517: 518, 518: 519, 519: 520, 520: 521, 521: 522, 522: 523, 523: 524, 524: 525, 525: 526, 526: 527, 527: 528, 528: 529, 529: 530, 530: 531, 531: 532, 532: 533, 533: 534, 534: 535, 535: 536, 536: 537, 537: 538, 538: 539, 539: 540, 540: 541, 541: 542, 542: 543, 543: 544, 544: 545, 545: 546, 546: 547, 547: 548, 548: 549, 549: 550, 550: 551, 551: 552, 552: 553, 553: 554, 554: 555, 555: 556, 556: 557, 557: 558, 558: 559, 559: 560, 560: 561, 561: 562, 562: 563, 563: 564, 564: 565, 565: 566, 566: 567, 567: 568, 568: 569, 569: 570, 570: 571, 571: 572, 572: 573, 573: 574, 574: 575, 575: 576, 576: 577, 577: 578, 578: 579, 579: 580, 580: 581, 581: 582, 582: 583, 583: 584, 584: 585, 585: 586, 586: 587, 587: 588, 588: 589, 589: 590, 590: 591, 591: 592, 592: 593, 593: 594, 594: 595, 595: 596, 596: 597, 597: 598, 598: 599, 599: 600, 600: 601, 601: 602, 602: 603, 603: 604, 604: 605, 605: 606, 606: 607, 607: 608, 608: 609, 609: 610}\n"
     ]
    }
   ],
   "source": [
    "user_ids = rating['userId'].unique().tolist()\n",
    "print(\"List user_id: \", user_ids)\n",
    "\n",
    "user_to_user_encoded = {x: i for i, x in enumerate(user_ids)}\n",
    "print(\"Encoded user_id: \", user_to_user_encoded)\n",
    "\n",
    "user_encoded_to_user = {i: x for i, x in enumerate(user_ids)}\n",
    "print(\"Decoded user_id: \", user_encoded_to_user)"
   ]
  },
  {
   "cell_type": "code",
   "execution_count": 18,
   "id": "3a68e33f-6000-4edb-8d06-28d75958f8c1",
   "metadata": {},
   "outputs": [
    {
     "name": "stdout",
     "output_type": "stream",
     "text": [
      "List movieId:  [1, 3, 6, 47, 50, 70, 101, 110, 151, 157, 163, 216, 223, 231, 235, 260, 296, 316, 333, 349, 356, 362, 367, 423, 441, 457, 480, 500, 527, 543, 552, 553, 590, 592, 593, 596, 608, 648, 661, 673, 733, 736, 780, 804, 919, 923, 940, 943, 954, 1009, 1023, 1024, 1025, 1029, 1030, 1031, 1032, 1042, 1049, 1060, 1073, 1080, 1089, 1090, 1092, 1097, 1127, 1136, 1196, 1197, 1198, 1206, 1208, 1210, 1213, 1214, 1219, 1220, 1222, 1224, 1226, 1240, 1256, 1258, 1265, 1270, 1275, 1278, 1282, 1291, 1298, 1348, 1377, 1396, 1408, 1445, 1473, 1500, 1517, 1552, 1573, 1580, 1587, 1617, 1620, 1625, 1644, 1676, 1732, 1777, 1793, 1804, 1805, 1920, 1927, 1954, 1967, 2000, 2005, 2012, 2018, 2028, 2033, 2046, 2048, 2054, 2058, 2078, 2090, 2093, 2094, 2096, 2099, 2105, 2115, 2116, 2137, 2139, 2141, 2143, 2161, 2174, 2193, 2253, 2268, 2273, 2291, 2329, 2338, 2353, 2366, 2387, 2389, 2395, 2406, 2414, 2427, 2450, 2459, 2470, 2478, 2492, 2502, 2528, 2529, 2542, 2571, 2580, 2596, 2616, 2617, 2628, 2640, 2641, 2644, 2648, 2654, 2657, 2692, 2700, 2716, 2761, 2797, 2826, 2858, 2872, 2899, 2916, 2944, 2947, 2948, 2949, 2959, 2985, 2987, 2991, 2993, 2997, 3033, 3034, 3052, 3053, 3062, 3147, 3168, 3176, 3243, 3247, 3253, 3273, 3386, 3439, 3440, 3441, 3448, 3450, 3479, 3489, 3527, 3578, 3617, 3639, 3671, 3702, 3703, 3729, 3740, 3744, 3793, 3809, 4006, 5060, 318, 1704, 6874, 8798, 46970, 48516, 58559, 60756, 68157, 71535, 74458, 77455, 79132, 80489, 80906, 86345, 89774, 91529, 91658, 99114, 106782, 109487, 112552, 114060, 115713, 122882, 131724, 31, 647, 688, 720, 849, 914, 1093, 1124, 1263, 1272, 1302, 1371, 2080, 2288, 2424, 2851, 3024, 3210, 3949, 4518, 5048, 5181, 5746, 5764, 5919, 6238, 6835, 7899, 7991, 26409, 70946, 72378, 21, 32, 45, 52, 58, 106, 125, 126, 162, 171, 176, 190, 215, 222, 232, 247, 265, 319, 342, 345, 348, 351, 357, 368, 417, 450, 475, 492, 509, 538, 539, 588, 595, 599, 708, 759, 800, 892, 898, 899, 902, 904, 908, 910, 912, 920, 930, 937, 1046, 1057, 1077, 1079, 1084, 1086, 1094, 1103, 1179, 1183, 1188, 1199, 1203, 1211, 1225, 1250, 1259, 1266, 1279, 1283, 1288, 1304, 1391, 1449, 1466, 1597, 1641, 1719, 1733, 1734, 1834, 1860, 1883, 1885, 1892, 1895, 1907, 1914, 1916, 1923, 1947, 1966, 1968, 2019, 2076, 2109, 2145, 2150, 2186, 2203, 2204, 2282, 2324, 2336, 2351, 2359, 2390, 2467, 2583, 2599, 2683, 2712, 2762, 2763, 2770, 2791, 2843, 2874, 2921, 2926, 2973, 3044, 3060, 3079, 3083, 3160, 3175, 3204, 3255, 3317, 3358, 3365, 3408, 3481, 3508, 3538, 3591, 3788, 3851, 3897, 3911, 3967, 3996, 4002, 4014, 4020, 4021, 4027, 4029, 4033, 4034, 4074, 4121, 4144, 4166, 4226, 4239, 4246, 4252, 4260, 4273, 4308, 4347, 4381, 4641, 4741, 4765, 4881, 4896, 4902, 4967, 34, 36, 39, 150, 153, 253, 261, 266, 290, 300, 344, 364, 380, 410, 474, 515, 531, 534, 589, 594, 597, 2, 4, 5, 7, 8, 10, 11, 13, 15, 16, 17, 19, 22, 24, 25, 26, 27, 41, 43, 46, 54, 60, 61, 62, 65, 66, 76, 79, 86, 87, 88, 89, 92, 93, 95, 100, 102, 104, 105, 112, 113, 135, 140, 141, 145, 146, 158, 159, 160, 161, 165, 168, 170, 174, 177, 179, 180, 181, 185, 186, 189, 191, 195, 196, 201, 204, 205, 207, 208, 209, 210, 212, 217, 218, 219, 224, 225, 230, 234, 236, 237, 239, 240, 243, 248, 250, 251, 252, 254, 256, 257, 258, 262, 267, 270, 271, 273, 274, 276, 277, 279, 281, 282, 288, 289, 291, 292, 293, 302, 303, 304, 310, 312, 313, 314, 315, 317, 327, 329, 330, 332, 336, 337, 339, 340, 343, 347, 350, 352, 353, 354, 355, 358, 359, 360, 361, 366, 370, 371, 374, 377, 378, 381, 382, 383, 405, 412, 415, 416, 419, 426, 432, 434, 435, 437, 440, 445, 454, 455, 458, 460, 466, 468, 469, 472, 477, 485, 489, 490, 491, 493, 494, 497, 502, 505, 508, 510, 516, 520, 524, 532, 536, 537, 540, 542, 546, 548, 569, 575, 587, 606, 609, 616, 628, 631, 637, 640, 662, 667, 694, 697, 700, 704, 709, 710, 711, 719, 747, 762, 765, 775, 783, 795, 799, 801, 802, 818, 830, 835, 837, 838, 839, 842, 848, 852, 867, 880, 881, 888, 891, 979, 981, 986, 991, 996, 999, 1004, 1006, 1061, 1064, 1082, 750, 924, 1101, 1246, 1584, 1610, 1682, 1784, 1917, 2671, 2688, 2701, 2717, 3114, 3354, 3623, 3869, 3916, 3977, 3994, 4018, 4223, 4306, 4310, 4370, 4643, 4700, 4844, 4874, 4886, 4963, 4993, 4995, 5218, 5349, 5378, 5445, 5459, 5464, 5502, 5618, 5816, 5952, 5989, 5991, 6333, 6365, 6534, 6539, 6863, 6934, 7143, 7153, 7155, 7445, 8207, 8360, 8368, 8373, 8528, 8636, 8665, 8666, 8783, 8808, 8865, 8870, 8907, 8908, 8949, 8957, 8958, 8961, 8965, 8970, 8972, 8984, 27741, 30812, 30816, 31878, 32029, 32031, 32296, 32587, 33162, 33493, 33794, 33836, 34048, 34319, 37741, 38388, 42002, 45499, 45517, 45668, 45730, 46530, 48783, 48997, 49272, 49278, 49286, 49824, 586, 187, 627, 922, 1037, 1095, 1674, 1987, 2011, 2023, 2300, 2877, 2901, 3173, 3328, 3735, 4131, 4558, 5447, 5451, 5481, 5507, 5841, 5843, 5872, 5890, 5891, 5893, 5902, 5956, 5962, 5965, 5988, 6001, 6044, 1028, 1088, 1247, 1307, 3882, 4447, 5066, 5377, 5620, 5943, 5957, 6155, 6266, 6377, 6535, 6942, 7149, 7151, 7154, 7169, 7293, 7375, 7451, 7458, 8529, 8533, 8869, 8969, 30749, 31433, 31685, 33145, 33679, 40629, 40819, 41285, 47099, 51662, 51705, 51834, 54286, 56367, 56949, 58047, 59333, 59421, 60397, 60950, 61250, 63113, 63992, 64969, 66203, 68954, 69406, 69844, 70183, 70293, 71579, 72011, 72330, 72407, 72720, 72737, 72998, 73017, 74450, 77841, 78772, 79091, 80549, 81784, 81845, 81847, 82167, 82499, 84374, 86548, 87222, 88163, 88810, 91104, 92259, 94070, 95167, 95449, 95510, 95543, 96079, 97024, 97938, 98203, 103335, 103339, 104374, 105211, 106489, 106696, 107141, 109374, 109853, 112006, 113275, 113394, 119145, 129428, 136020, 137595, 140110, 44, 376, 511, 529, 1100, 1358, 1370, 1385, 1438, 1518, 1586, 1604, 1608, 1616, 1687, 1693, 1721, 1840, 1882, 1918, 2002, 2027, 1357, 1405, 1876, 2072, 2100, 2421, 2485, 2572, 2581, 2694, 3668, 305, 1173, 1590, 1619, 1639, 2541, 3300, 3409, 3513, 3624, 3717, 3753, 3798, 3827, 3863, 3893, 3952, 4011, 4148, 193, 448, 784, 172, 858, 1200, 1347, 1527, 1653, 1909, 2001, 2081, 2085, 2278, 3156, 3499, 3510, 3535, 3555, 4022, 4720, 5971, 6502, 7254, 7438, 8644, 48304, 48774, 48780, 50872, 56174, 59315, 60069, 63859, 64614, 68237, 69757, 70286, 71057, 71264, 84152, 84954, 85414, 89745, 91500, 94864, 96610, 101864, 103249, 104841, 105504, 110102, 111759, 112556, 112852, 115149, 120466, 122886, 122904, 122922, 122924, 134130, 134853, 143385, 152077, 152081, 158872, 160980, 166528, 166635, 111, 541, 678, 745, 913, 1147, 1148, 1186, 1193, 1201, 1207, 1223, 1230, 1252, 1260, 1261, 1267, 1276, 1281, 1299, 1680, 2490, 2707, 2723, 3000, 3022, 3108, 3174, 3429, 3683, 3741, 4878, 4973, 5782, 6350, 7099, 7361, 27611, 27773, 48394, 78499, 1036, 1209, 1221, 1228, 1234, 1375, 2194, 3039, 3263, 3435, 3681, 4571, 6016, 6870, 7482, 31658, 64839, 68358, 80463, 81932, 82459, 431, 442, 555, 653, 778, 1020, 1059, 1212, 1227, 1245, 1356, 1374, 1544, 1729, 1924, 1961, 2184, 2409, 2410, 2411, 2412, 2420, 2422, 2706, 2918, 2951, 2953, 3081, 3257, 3275, 3462, 3751, 3785, 3896, 4007, 4262, 4327, 4383, 4728, 4816, 5008, 5120, 5266, 5418, 5574, 5608, 5669, 5679, 5903, 5944, 5995, 6287, 6300, 6373, 6378, 6440, 6548, 6709, 6787, 6807, 6888, 7018, 7147, 7317, 7318, 7323, 7373, 7753, 7843, 8117, 8361, 8641, 8784, 8917, 8950, 26444, 26614, 27689, 27716, 27831, 27878, 30793, 32460, 33004, 33615, 34150, 34405, 36519, 36529, 37386, 37729, 37733, 38038, 38061, 44022, 44191, 44199, 44555, 44665, 45722, 46578, 46965, 47200, 47491, 49651, 51357, 51540, 52604, 53125, 53129, 53318, 53464, 53972, 53996, 54272, 55118, 55247, 55276, 55290, 55765, 56757, 57528, 57640, 57669, 58295, 58299, 59615, 59784, 60040, 60074, 60684, 62434, 63131, 64197, 64957, 65596, 66934, 67255, 68073, 68159, 68319, 69122, 69640, 69951, 71108, 71156, 71899, 73268, 73321, 73323, 73499, 74510, 74789, 74948, 76077, 76175, 76251, 77561, 78469, 79293, 79592, 79695, 79702, 80219, 81788, 83349, 84392, 85354, 86190, 86332, 86628, 86880, 87232, 88094, 88129, 88140, 90600, 91485, 91542, 92094, 95441, 96432, 96488, 96655, 97752, 98124, 98585, 98809, 99728, 99813, 102125, 102445, 102903, 103253, 103772, 104241, 104879, 106072, 106487, 106839, 107846, 111362, 112183, 112334, 112421, 114066, 116797, 116823, 117176, 118900, 122892, 122900, 122918, 122920, 122926, 128620, 135569, 139385, 140289, 141688, 142488, 144210, 145283, 148626, 150548, 155168, 157108, 157110, 158238, 158972, 159093, 160438, 161582, 162350, 162606, 164179, 166015, 168252, 171023, 176101, 177593, 180095, 180777, 185135, 12, 48, 64, 107, 118, 173, 295, 325, 328, 338, 372, 379, 407, 414, 420, 422, 427, 486, 512, 513, 551, 558, 610, 611, 671, 674, 724, 742, 743, 761, 785, 788, 798, 810, 829, 832, 866, 879, 903, 906, 911, 915, 921, 931, 933, 965, 984, 1016, 1021, 1047, 1081, 1129, 1215, 1238, 1257, 1269, 1285, 1297, 1322, 1324, 1330, 1333, 1339, 1342, 1345, 1346, 1355, 1359, 1367, 1372, 1373, 1376, 1378, 1379, 1380, 1394, 1407, 1409, 1427, 1441, 1456, 1457, 1461, 1474, 1479, 1485, 1489, 1499, 1542, 1550, 1551, 1556, 1562, 1566, 1569, 1583, 1588, 1591, 1593, 1603, 1614, 1645, 1648, 1658, 1663, 1665, 1679, 1681, 1688, 1689, 1690, 1702, 1717, 1718, 1722, 1747, 1748, 1754, 1779, 1783, 1798, 1806, 1812, 1816, 1831, 1845, 1848, 1855, 1862, 1881, 1888, 1891, 1894, 1906, 1911, 1919, 1921, 1963, 1970, 1971, 1972, 1973, 1991, 1994, 2003, 2004, 2014, 2015, 2016, 2026, 2034, 2036, 2037, 2040, 2041, 2044, 2052, 2053, 2060, 2065, 2082, 2088, 2092, 2097, 2108, 2110, 2111, 2118, 2123, 2133, 2134, 2140, 2144, 2148, 2153, 2167, 2169, 2171, 2206, 2227, 2232, 2243, 2244, 2245, 2248, 2249, 2255, 2261, 2263, 2266, 2267, 2279, 2287, 2294, 2302, 2315, 2320, 2321, 2328, 2335, 2354, 2355, 2369, 2371, 2372, 2374, 2375, 2393, 2394, 2396, 2407, 2413, 2416, 2418, 2423, 2428, 2446, 2453, 2455, 2458, 2463, 2465, 2468, 2491, 2496, 2513, 2518, 2539, 2548, 2550, 2555, 2558, 2605, 2606, 2614, 2622, 2642, 2643, 2668, 2672, 2687, 2699, 2709, 2710, 2719, 2720, 2722, 2733, 2746, 2754, 2788, 2793, 2802, 2804, 2806, 2808, 2822, 2836, 2840, 2857, 2860, 2867, 2870, 2883, 2888, 2898, 2900, 2915, 2936, 2968, 2995, 3005, 3016, 3017, 3031, 3032, 3035, 3040, 3048, 3056, 3063, 3064, 3070, 3072, 3082, 3087, 3101, 3104, 3113, 3146, 3190, 3203, 3213, 3219, 3225, 3238, 3248, 3254, 3258, 3264, 3269, 3301, 3308, 3316, 3324, 3355, 3361, 3370, 3387, 3393, 3394, 3395, 3396, 3397, 3398, 3400, 3401, 3418, 3421, 3424, 3454, 3466, 3471, 3476, 3477, 3483, 3484, 3497, 3500, 3501, 3505, 3515, 3526, 3534, 3536, 3548, 3550, 3551, 3584, 3594, 3608, 3622, 3662, 3685, 3686, 3692, 3693, 3698, 3699, 3701, 3704, 3705, 3706, 3708, 3712, 3743, 3745, 3752, 3754, 3763, 3770, 3784, 3797, 3802, 3825, 3826, 3835, 3837, 3839, 1010, 1012, 1013, 1015, 1018, 1022, 1035, 1547, 2006, 2059, 2083, 2087, 2089, 2135, 2430, 2565, 2941, 3157, 3159, 3189, 3410, 3438, 3512, 3549, 3565, 3615, 3755, 3852, 3948, 3972, 3986, 3988, 3990, 3999, 4016, 4019, 4025, 4039, 4054, 4090, 4154, 4161, 4232, 4270, 4299, 4344, 4366, 4367, 4369, 4378, 4446, 4449, 4519, 4638, 4718, 4734, 4776, 4783, 4821, 4846, 4848, 4865, 4901, 4979, 4990, 5013, 5014, 5015, 5103, 5110, 5171, 5254, 5293, 5299, 5313, 5364, 5388, 5419, 5463, 5504, 5630, 5693, 5785, 6143, 6156, 6157, 6166, 6170, 6297, 6345, 6358, 38, 2376, 2378, 2402, 2403, 2724, 2989, 2990, 3633, 3635, 3638, 3697, 3868, 3984, 4005, 4040, 4085, 4489, 4545, 4621, 4701, 5219, 5796, 6503, 7569, 7570, 7573, 7701, 8574, 8946, 26340, 30825, 34162, 39715, 40815, 41566, 45186, 45447, 45672, 46972, 47566, 47997, 50189, 51084, 52730, 52973, 53121, 53322, 54276, 56775, 58025, 58998, 59369, 59429, 59900, 61160, 63082, 64032, 68791, 68793, 69526, 69644, 72641, 73106, 73319, 73858, 76093, 78637, 79134, 79185, 80166, 81229, 81564, 81591, 81834, 82202, 85259, 86068, 87520, 88125, 88405, 88744, 90249, 91535, 91630, 93510, 94503, 94677, 94777, 95067, 95170, 95738, 96004, 96588, 97913, 99532, 102481, 102716, 102993, 103141, 103228, 103372, 103384, 103801, 103810, 103819, 103883, 104211, 105213, 105653, 105844, 105954, 106491, 106540, 106916, 106918, 106920, 107013, 107449, 108156, 108190, 108932, 108945, 109576, 109723, 109864, 110130, 110553, 111113, 111617, 111743, 111781, 111844, 112138, 112175, 114180, 114818, 115502, 115617, 115877, 117368, 117529, 117572, 117590, 117851, 117922, 119141, 119155, 119964, 122896, 126548, 130450, 132157, 133419, 134368, 134393, 135133, 135536, 135861, 135887, 136016, 138036, 138186, 139642, 139717, 139915, 140301, 142536, 143245, 148675, 149380, 160565, 160872, 164909, 166492, 167036, 168248, 173307, 1952, 1953, 2160, 3006, 4017, 4036, 4903, 5617, 5673, 6711, 8464, 8622, 30707, 31410, 34437, 39183, 41997, 46976, 52281, 53519, 54503, 55820, 56171, 56782, 56788, 60766, 61323, 64575, 66097, 68536, 71464, 29, 175, 272, 334, 741, 1050, 1175, 1217, 1218, 1232, 1233, 1237, 1243, 1248, 1249, 1274, 1284, 1425, 1464, 1711, 1809, 1859, 1884, 1960, 2579, 2686, 2726, 2730, 2912, 3030, 3181, 3265, 3822, 4235, 5333, 6234, 6387, 6721, 6773, 6790, 6857, 6920, 6989, 7064, 7069, 7123, 7587, 7924, 7932, 8012, 8228, 8370, 2405, 3556, 4855, 5064, 5791, 31696, 35836, 47610, 57368, 61024, 61132, 86882, 102407, 132660, 122912, 122916, 176371, 187541, 187593, 238, 421, 808, 969, 1083, 1262, 1287, 1387, 1592, 2032, 2142, 2151, 2311, 2530, 2532, 2876, 2886, 3037, 3350, 3451, 3519, 3654, 3791, 3836, 23, 147, 211, 428, 456, 481, 507, 635, 714, 851, 1120, 1171, 1253, 1271, 1303, 1459, 1480, 1678, 1785, 2021, 2231, 2272, 2358, 2618, 2841, 2908, 2952, 3020, 3100, 3105, 3107, 3169, 3178, 3198, 3246, 3250, 3252, 3256, 3260, 3271, 3272, 3360, 3543, 3783, 3950, 3980, 4047, 4211, 4238, 4251, 4343, 4626, 4688, 4772, 4787, 5009, 5010, 5055, 5152, 5267, 5292, 5329, 5446, 5577, 5632, 5682, 5747, 5945, 5955, 6281, 6428, 6537, 6552, 6565, 6617, 6796, 6817, 6867, 6884, 6947, 6953, 6957, 6974, 6993, 6997, 7009, 7025, 7090, 7263, 7481, 7649, 7706, 7841, 7842, 7884, 8010, 8132, 8378, 8493, 8495, 8633, 8810, 8874, 8914, 8937, 8951, 8977, 8982, 8983, 26649, 26695, 26750, 26812, 26901, 27408, 27450, 27788, 27793, 31101, 31116, 31225, 31420, 33166, 33558, 33660, 34536, 36517, 36527, 37731, 37739, 38886, 39381, 39444, 40278, 40414, 40583, 41569, 41863, 42004, 43396, 43921, 43928, 43936, 44195, 44204, 44761, 45658, 46723, 47629, 47644, 47894, 48326, 48385, 48738, 48879, 49265, 49530, 49822, 49961, 50068, 50442, 51080, 51255, 51471, 51935, 52042, 52241, 52328, 52952, 53123, 53550, 53953, 54736, 54962, 54997, 55080, 55094, 55116, 55274, 55363, 55721, 55908, 56145, 56587, 56607, 56921, 58293, 58803, 59018, 59129, 59387, 60046, 60389, 60647, 60674, 60735, 60753, 60941, 60943, 61011, 61167, 61210, 61236, 61248, 61350, 61352, 61628, 61986, 62374, 62376, 62394, 62792, 62799, 62849, 63033, 63062, 63433, 64030, 64497, 64716, 64983, 64997, 65216, 65682, 65982, 67534, 68205, 69849, 70336, 71106, 71135, 953, 1204, 1242, 1772, 1792, 1939, 1945, 2301, 3363, 4980, 7156, 7379, 26554, 26729, 64620, 87306, 98961, 96821, 605, 612, 1099, 1231, 1353, 1361, 1363, 1393, 74, 78, 194, 203, 246, 471, 786, 1104, 1429, 1458, 28, 94, 249, 307, 308, 322, 385, 446, 452, 562, 580, 613, 715, 805, 994, 1027, 1056, 1177, 1280, 1365, 1399, 1446, 1476, 1487, 1537, 1545, 1621, 1633, 1643, 1672, 1673, 1799, 1801, 1841, 2112, 2310, 2333, 2357, 2391, 2443, 2501, 2690, 2875, 2943, 3997, 5146, 5449, 6242, 6567, 6618, 26606, 27193, 27728, 27801, 31184, 44974, 544, 2269, 2735, 2794, 3066, 3270, 3347, 3362, 3766, 3861, 4220, 5093, 5312, 6662, 585, 2342, 3019, 82, 121, 199, 228, 306, 514, 685, 3285, 3968, 4890, 6708, 6763, 7173, 7444, 8981, 54001, 55280, 56941, 59725, 61240, 65230, 71033, 85774, 86781, 87869, 89759, 93840, 96829, 97921, 100714, 101525, 103980, 111659, 111921, 112290, 115569, 116897, 125916, 128360, 136864, 122, 144, 227, 408, 413, 418, 424, 433, 436, 459, 550, 639, 782, 1191, 1343, 1431, 1453, 1468, 1488, 1513, 1667, 1726, 1810, 1835, 1975, 1976, 2146, 2155, 2236, 2297, 2306, 2352, 2404, 2433, 2497, 2500, 2505, 2568, 2574, 2598, 2702, 2713, 2771, 2795, 2796, 2805, 2827, 2861, 2871, 2890, 2906, 3098, 3120, 3142, 3177, 3186, 3208, 3259, 3261, 3298, 3326, 3502, 3552, 3646, 3694, 3695, 3764, 3824, 3841, 3946, 3987, 4008, 4041, 4062, 4067, 4084, 4102, 4132, 4153, 4155, 4207, 4280, 4293, 4317, 4321, 4322, 4333, 4349, 4351, 4359, 4361, 4396, 4442, 4466, 4477, 4482, 4487, 4509, 4516, 4541, 4564, 4565, 4577, 4623, 4629, 4654, 4679, 4686, 57, 259, 484, 519, 828, 1105, 18, 663, 737, 833, 836, 889, 69, 934, 1005, 1033, 1390, 1442, 1615, 1642, 1753, 1769, 1863, 1866, 1934, 2042, 2064, 2106, 2124, 2195, 2431, 2504, 2718, 2731, 3004, 3196, 3249, 3268, 3274, 3385, 4104, 4502, 4929, 4958, 4974, 5151, 5220, 5283, 5307, 5308, 5500, 5528, 5568, 5582, 5585, 5589, 7294, 33495, 53993, 391, 2121, 2942, 3844, 3969, 4474, 4975, 5108, 6765, 7160, 8966, 45950, 47423, 51931, 53894, 63876, 68932, 69712, 72395, 79242, 82767, 96567, 96811, 97923, 100383, 106100, 108729, 112804, 117881, 132424, 137337, 140174, 140247, 140715, 145839, 146656, 159817, 163645, 166643, 171011, 1320, 5882, 8371, 909, 1251, 1273, 1289, 2164, 2553, 2732, 2925, 3221, 3415, 3730, 4282, 4399, 4658, 4914, 4928, 5004, 5021, 5810, 5932, 6239, 6663, 6666, 6975, 7063, 7206, 7247, 7327, 7396, 7700, 7748, 8143, 8157, 8235, 8253, 8379, 8879, 8928, 8974, 26258, 26326, 26422, 27156, 27513, 32657, 32659, 32875, 32898, 33781, 37545, 44719, 45880, 46062, 46862, 52885, 62336, 62644, 63312, 64278, 66335, 79224, 81018, 81562, 82848, 85796, 88911, 90522, 90746, 91094, 92046, 92427, 92475, 93114, 93326, 96606, 97225, 97304, 100498, 101072, 103171, 104283, 104913, 105250, 107338, 107565, 111732, 113374, 114335, 115203, 122898, 127146, 128695, 134170, 134515, 135143, 135456, 136018, 136305, 136564, 137857, 138208, 139644, 140928, 142074, 142448, 142602, 142961, 142997, 143859, 143969, 149406, 151759, 156607, 160569, 164280, 165969, 167370, 168254, 168492, 170705, 170875, 171701, 171759, 172013, 172461, 174055, 174141, 174403, 174737, 175485, 175661, 175693, 175705, 175707, 175743, 175781, 179073, 188301, 190183, 387, 479, 482, 522, 781, 1011, 1014, 1235, 1244, 1301, 1350, 1873, 1997, 1999, 2159, 2183, 2265, 2322, 2356, 2363, 2379, 2380, 2408, 2454, 2524, 2533, 2554, 2587, 2613, 2615, 2634, 2661, 2664, 2752, 2978, 3115, 3148, 3388, 3430, 3614, 3799, 3814, 3917, 3918, 3959, 4215, 4241, 4255, 4267, 4291, 4340, 4437, 4464, 4496, 4508, 4591, 4713, 4876, 4971, 4992, 5040, 5339, 5505, 5672, 5712, 6323, 6371, 6659, 6786, 6793, 6873, 6880, 7000, 7004, 7007, 7040, 7163, 7757, 7983, 8623, 26680, 34338, 39414, 42723, 45666, 48877, 52722, 57532, 59306, 60487, 33646, 50794, 51077, 52245, 54995, 54999, 56801, 65514, 69481, 86892, 93721, 93838, 110501, 748, 916, 1125, 1982, 1293, 198, 473, 518, 707, 728, 861, 897, 942, 951, 955, 1184, 1254, 1268, 1277, 1388, 1416, 1498, 1564, 1646, 1670, 1858, 1912, 2009, 2067, 2102, 2202, 2289, 2429, 2476, 2681, 2759, 2917, 2922, 2935, 2961, 3045, 3334, 3426, 3446, 3494, 3507, 3593, 3628, 3632, 3643, 3769, 3773, 3774, 3811, 3901, 3937, 280, 928, 1151, 1428, 1631, 1696, 1797, 1944, 2020, 2075, 3075, 3230, 3461, 3498, 3504, 6460, 2739, 6058, 6541, 6564, 27660, 27706, 27808, 48043, 49130, 49649, 50804, 51086, 59501, 60072, 60126, 63072, 67734, 68554, 68848, 74228, 78105, 79357, 80693, 82461, 83369, 86911, 87430, 89492, 89864, 90866, 96861, 99149, 102123, 103042, 103341, 104863, 106002, 107348, 107406, 111360, 113741, 114662, 114678, 114935, 115210, 115680, 118696, 128512, 135518, 142222, 143355, 158966, 161131, 166534, 168250, 170827, 171763, 172591, 173925, 174053, 175303, 176601, 179401, 179819, 182715, 183611, 184471, 185031, 187595, 1202, 1965, 3088, 4105, 6104, 7022, 7132, 7387, 7980, 8376, 8873, 27846, 27904, 30810, 33779, 45728, 53000, 54259, 64285, 67997, 77800, 86290, 86504, 89753, 89904, 92494, 92535, 95858, 98491, 102217, 104069, 365, 968, 1096, 1762, 1889, 2313, 2905, 3041, 4023, 4128, 4380, 4448, 4773, 4964, 5026, 5225, 5291, 5417, 5690, 5878, 5954, 6188, 6214, 6218, 6296, 6331, 6385, 6936, 6944, 7139, 7162, 7235, 7360, 7411, 7743, 7930, 7982, 8014, 8093, 8645, 8795, 8832, 26504, 27020, 27266, 27523, 27869, 33683, 34072, 42632, 255, 523, 535, 1216, 1326, 1382, 1541, 1956, 2257, 2312, 2316, 2401, 2956, 2966, 3029, 3074, 3201, 3262, 3444, 4079, 4149, 4158, 4203, 4231, 4465, 4499, 4537, 4572, 4581, 4585, 4611, 4616, 5023, 5265, 5548, 5644, 6022, 6025, 6124, 6313, 6636, 6754, 6832, 6979, 6996, 7015, 7027, 7028, 7046, 7048, 7127, 7325, 7493, 7624, 7647, 7766, 8024, 8158, 5628, 8604, 8605, 875, 932, 1017, 1019, 1292, 1381, 1515, 1635, 1703, 2125, 2334, 2340, 2385, 2471, 2560, 2567, 2662, 2728, 2803, 2881, 2950, 3077, 3452, 3553, 3554, 3653, 3675, 3707, 3786, 3978, 3981, 4015, 4068, 4069, 4124, 4141, 4326, 4356, 4372, 4387, 4388, 4639, 4677, 4681, 4823, 4877, 4969, 5049, 5400, 5444, 5541, 5553, 6193, 6383, 6595, 6707, 6753, 6755, 6879, 6893, 6939, 7010, 7137, 7256, 7320, 7346, 7454, 7541, 7566, 8366, 8677, 8781, 8807, 8861, 8866, 8910, 8947, 8968, 8985, 26712, 26778, 26871, 27473, 27539, 27705, 30822, 31049, 32598, 33154, 33437, 33672, 34153, 34542, 40732, 40959, 41571, 41573, 41724, 42018, 42718, 42738, 44004, 44709, 44788, 45431, 45501, 45720, 45726, 45928, 46322, 46948, 47970, 47978, 47999, 48342, 48696, 49274, 49772, 50658, 50685, 50740, 50806, 51709, 51884, 52287, 52435, 52458, 52767, 52975, 53435, 54004, 54116, 54121, 54281, 54734, 54881, 55052, 55112, 55190, 55232, 55253, 55267, 55282, 55620, 55830, 56152, 56251, 56336, 56339, 56379, 57951, 58078, 58107, 58162, 58347, 58839, 59126, 59220, 59258, 59440, 59731, 60363, 60514, 62155, 62293, 62956, 62999, 64622, 65188, 66198, 66665, 67087, 67267, 67408, 67618, 68659, 68952, 69069, 69394, 69524, 69784, 69904, 70492, 70521, 70990, 71282, 72167, 72489, 72591, 73023, 74154, 74508, 74668, 74946, 76751, 78467, 78703, 79057, 80860, 81910, 83134, 83803, 84772, 85780, 86293, 86377, 86833, 89087, 89470, 90576, 92420, 93287, 94959, 95218, 95624, 95875, 96110, 114762, 4744, 4880, 1172, 1300, 1955, 1959, 1962, 3152, 3359, 3468, 91077, 2136, 44193, 45221, 47122, 47518, 48414, 50601, 53460, 55768, 68135, 69278, 71518, 72226, 74647, 75805, 76293, 87485, 92509, 93272, 99106, 101612, 105037, 109483, 111320, 112450, 112788, 113378, 114074, 123947, 127202, 128520, 131013, 138204, 149354, 151739, 926, 949, 1041, 1185, 2010, 2360, 2594, 3089, 3307, 4103, 4427, 4546, 5300, 5304, 5341, 5434, 5812, 5867, 6235, 6244, 6270, 6301, 6305, 6591, 6791, 6852, 6858, 7087, 7158, 7234, 7419, 7889, 8154, 8183, 8340, 8341, 8804, 8838, 26350, 26578, 27721, 31522, 39292, 44937, 48698, 50274, 52967, 55069, 55444, 55814, 57147, 58103, 58154, 6303, 7001, 2318, 7669, 39446, 55577, 63436, 72129, 81535, 20, 2792, 164, 1189, 1192, 2659, 3197, 3266, 3425, 3576, 4887, 6059, 6952, 60030, 69654, 75395, 78266, 78349, 80363, 80831, 81417, 82041, 84189, 84601, 85397, 90405, 90469, 91974, 93297, 96691, 96917, 98361, 100810, 103075, 103688, 2381, 2383, 2384, 4386, 4989, 5065, 5094, 5106, 5296, 5414, 5803, 5874, 5900, 6006, 6014, 6249, 6338, 6484, 6536, 6550, 6566, 6586, 6593, 6686, 6687, 6702, 6750, 6752, 6764, 6886, 6887, 6946, 6949, 6958, 7142, 3155, 27397, 55442, 58303, 14, 55, 154, 214, 287, 299, 321, 324, 326, 331, 369, 406, 691, 722, 726, 900, 948, 971, 987, 1091, 1131, 1132, 1135, 1187, 1190, 1194, 1286, 1290, 1295, 1296, 1305, 1395, 1414, 53, 1140, 1519, 1596, 1624, 1683, 1694, 1730, 72356, 74553, 3910, 6464, 7312, 26974, 74795, 83177, 901, 905, 918, 936, 945, 946, 947, 950, 3061, 3097, 3315, 3599, 3604, 3606, 3991, 4300, 4899, 5092, 5480, 5529, 5621, 6271, 6402, 6604, 6650, 6783, 7067, 7209, 7297, 7381, 8238, 8372, 8814, 8978, 25887, 26183, 26184, 26265, 26429, 26645, 27619, 27826, 31851, 31925, 32060, 32243, 32596, 33090, 33830, 34312, 34332, 35807, 37384, 37444, 40339, 40962, 41828, 42013, 42725, 42761, 44773, 44777, 44851, 46105, 47725, 47736, 48520, 48649, 48982, 49013, 49735, 50613, 50999, 51167, 51575, 53280, 53355, 53578, 55269, 58291, 60289, 60737, 62008, 64116, 65588, 66798, 66943, 67888, 69211, 69304, 69469, 69720, 70697, 72178, 72624, 72692, 72701, 73015, 73042, 73160, 73822, 74342, 74683, 74698, 76143, 76301, 77688, 78142, 78620, 79684, 79897, 80727, 81087, 81537, 82854, 83910, 83969, 84246, 84512, 84944, 85295, 85881, 86059, 86298, 87834, 88069, 88746, 88785, 88812, 89898, 90717, 91355, 91386, 91666, 92643, 93006, 93022, 94661, 95633, 95843, 96608, 96935, 97836, 98279, 99117, 99122, 99130, 99853, 100390, 100507, 101283, 102378, 102686, 102747, 102984, 103602, 104339, 104875, 105540, 105746, 106594, 106927, 107951, 108078, 108949, 109241, 109596, 111146, 113252, 113453, 115111, 116718, 116738, 116817, 117109, 118270, 118530, 118572, 118834, 118862, 118894, 119714, 120813, 121007, 121097, 121338, 121342, 121469, 121781, 122092, 124273, 124404, 125970, 125974, 126088, 126577, 126921, 127052, 127134, 128087, 128089, 128366, 128594, 128852, 128944, 128968, 129011, 129354, 130452, 130518, 130520, 131098, 131104, 131130, 131439, 131610, 131826, 132153, 132422, 132496, 132584, 132800, 133712, 133867, 133879, 134004, 134334, 134847, 135777, 135937, 136341, 136353, 136355, 136359, 136503, 136834, 139157, 139640, 139994, 140133, 140481, 140541, 140561, 140711, 141513, 141544, 141646, 141830, 141928, 142196, 142444, 142550, 142831, 143031, 143559, 144222, 145491, 146244, 146684, 146986, 147410, 147936, 148632, 148775, 149350, 149352, 149508, 149566, 150554, 153386, 153408, 155589, 156025, 156781, 157296, 157775, 158398, 158882, 159069, 160567, 163527, 164200, 164226, 164707, 167018, 167380, 167772, 167854, 169912, 170837, 170993, 171751, 171811, 172321, 173253, 174681, 176621, 176805, 177185, 177765, 179211, 181065, 182293, 182297, 182299, 182731, 184349, 184791, 68, 81, 85, 116, 581, 617, 735, 766, 791, 896, 1034, 1116, 1137, 1144, 1366, 1411, 1417, 384, 464, 533, 1241, 1321, 1337, 1340, 1760, 1771, 1974, 1981, 2117, 2122, 2138, 2298, 2419, 2456, 2522, 2625, 2651, 2782, 2784, 2790, 2817, 2868, 2992, 3013, 3018, 3153, 3182, 3267, 3563, 3727, 3768, 3810, 3840, 4092, 4109, 4214, 4254, 4304, 4316, 4438, 4587, 4599, 4624, 4645, 4661, 4678, 4774, 4800, 4850, 4909, 4987, 5165, 5294, 5346, 5438, 5479, 5588, 5640, 5650, 5749, 6203, 6219, 6283, 6327, 6375, 6395, 6461, 6620, 6629, 6638, 6678, 6731, 6744, 6820, 6963, 7118, 7308, 7492, 7561, 7650, 7802, 8016, 8147, 8266, 8426, 8501, 8507, 8581, 27317, 27873, 2114, 2398, 54190, 1606, 2103, 1529, 1659, 2280, 2600, 3071, 3690, 4126, 4732, 4954, 5027, 5072, 5246, 5247, 5619, 5792, 6051, 6288, 6367, 1942, 3819, 5109, 5420, 71745, 79139, 1958, 2262, 3244, 5380, 6183, 6785, 233, 2337, 3179, 4873, 7367, 50912, 57522, 58972, 59022, 62553, 64114, 65088, 65577, 65802, 69140, 70728, 77206, 77427, 79572, 80572, 80586, 81156, 81819, 86014, 86815, 87194, 88108, 90890, 91126, 91653, 91671, 91976, 96728, 99764, 106766, 116799, 132046, 134881, 938, 1833, 2325, 2551, 2837, 3163, 3325, 3719, 3746, 4476, 4663, 4676, 4740, 4912, 4941, 5460, 6012, 6030, 6060, 6169, 6579, 7034, 7036, 7050, 7380, 8643, 8796, 25937, 32300, 45175, 53466, 54780, 69988, 80584, 85401, 93805, 94015, 94150, 94833, 213, 665, 935, 1111, 1178, 1354, 2131, 2495, 2931, 3306, 3310, 3592, 3629, 3677, 3687, 3742, 3821, 4325, 4788, 5373, 5888, 5889, 5912, 6187, 6433, 6643, 6777, 6985, 7347, 7371, 8025, 8033, 8197, 8511, 8638, 8656, 9010, 26082, 26150, 26236, 26237, 26347, 26471, 26587, 26662, 26849, 26903, 27134, 27803, 27815, 27834, 30803, 32892, 33124, 36363, 36401, 38159, 42191, 48872, 56060, 57183, 57504, 58425, 58554, 60904, 63515, 64993, 66371, 67923, 69134, 69529, 69685, 72104, 73881, 74324, 74727, 75341, 79333, 80124, 84156, 84844, 85316, 85736, 86066, 86320, 86347, 88235, 88345, 91261, 93790, 95175, 95311, 95313, 95377, 95654, 96020, 96373, 98604, 99145, 100302, 100553, 101088, 101962, 102602, 102666, 103235, 104780, 105593, 107159, 107408, 107410, 107412, 108540, 108727, 108981, 109633, 110586, 111622, 116411, 117444, 118166, 118888, 118896, 118985, 120138, 120478, 120625, 126090, 126426, 126430, 127098, 129514, 130970, 130976, 130978, 131237, 133716, 134041, 134095, 134109, 134184, 134252, 134326, 134849, 136445, 136447, 138835, 140038, 140265, 141810, 141816, 141818, 141820, 141836, 141844, 142020, 143511, 145994, 146028, 147196, 147250, 147282, 147286, 147300, 147326, 147328, 147330, 151769, 152591, 158402, 159811, 163072, 163112, 163134, 163386, 163925, 165959, 166183, 170411, 170597, 170777, 171749, 172577, 172583, 172585, 172587, 172589, 172637, 172793, 172825, 172909, 173351, 173355, 173535, 173619, 173963, 174551, 175293, 175387, 175397, 175401, 175431, 175435, 178613, 179133, 99636, 156, 1684, 2585, 3795, 4024, 4159, 4889, 4976, 4994, 5011, 5034, 5051, 5135, 5303, 5309, 5316, 5391, 5450, 5466, 5881, 6049, 283, 346, 528, 7096, 26171, 40870, 1856, 2447, 3979, 4228, 4247, 4649, 4900, 5025, 5363, 5501, 5524, 5564, 5942, 6003, 6482, 7225, 7285, 7439, 8531, 32298, 34520, 34530, 40581, 42007, 44840, 44972, 47640, 48322, 49396, 54732, 55245, 55261, 55872, 56805, 58156, 59143, 61255, 62439, 63479, 65585, 69436, 70565, 70641, 71205, 71668, 71838, 73929, 74275, 74532, 78174, 78209, 79428, 80139, 82852, 85022, 85367, 87483, 87529, 87867, 91323, 92264, 93270, 93443, 93831, 94478, 94953, 95720, 96616, 97172, 98083, 99007, 100083, 100194, 101142, 102720, 104218, 104644, 104925, 109282, 110669, 110771, 110773, 111375, 112497, 116977, 118930, 119153, 121372, 121374, 121715, 123200, 127116, 127152, 127390, 128097, 128099, 128914, 128975, 129737, 130087, 134861, 135137, 135436, 136443, 136471, 136511, 136598, 142422, 144606, 148652, 148956, 155509, 155812, 156609, 157312, 157699, 158813, 159161, 159441, 159755, 160080, 160271, 160289, 161024, 161580, 162344, 162478, 162602, 165103, 165483, 165645, 165671, 165843, 165947, 166461, 167634, 167746, 168144, 168326, 168418, 168632, 168846, 170357, 170399, 170401, 170813, 170817, 170897, 170937, 170957, 171251, 171631, 171867, 171891, 172215, 172547, 173255, 174045, 174815, 175577, 176329, 178323, 179427, 179953, 180265, 181139, 181659, 182749, 183197, 183227, 183959, 184015, 184257, 71, 779, 1043, 1589, 1600, 1735, 1829, 1897, 2132, 2166, 2331, 2475, 2749, 2764, 2844, 2969, 3099, 3103, 3217, 3251, 3296, 3537, 3546, 3831, 4003, 4063, 4083, 4130, 127198, 141718, 167732, 487, 2772, 4792, 62383, 73, 656, 46337, 66511, 85020, 95105, 99112, 103984, 108689, 109846, 110718, 110730, 112868, 114184, 114795, 117533, 117887, 120635, 127184, 128488, 130578, 131023, 131714, 135532, 136562, 136666, 138210, 141004, 165551, 52319, 70599, 71530, 77866, 95088, 96737, 97306, 112515, 115122, 121231, 144976, 69306, 81782, 112171, 143458, 501, 1844, 3342, 4082, 4738, 4864, 5088, 6902, 7008, 7265, 8254, 26681, 27022, 27482, 33201, 40148, 43836, 45440, 50842, 55278, 58301, 63276, 65130, 65642, 67695, 69516, 71304, 71429, 71520, 73488, 75985, 78218, 79553, 84952, 86721, 89190, 90403, 91470, 91690, 91947, 92694, 93855, 94931, 95690, 95761, 98607, 99437, 100882, 101112, 107630, 110330, 110882, 112623, 117466, 122890, 127096, 130490, 131749, 131920, 133217, 133771, 135567, 139855, 141408, 142420, 142456, 142509, 147142, 149144, 149146, 149830, 149902, 151455, 151695, 152083, 152091, 152284, 152970, 155064, 156371, 156387, 158783, 159415, 159717, 160563, 161634, 161966, 162082, 162578, 164881, 167790, 168266, 1066, 5159, 6093, 37830, 5959, 390, 567, 1318, 1554, 2729, 3067, 4168, 5284, 5508, 5969, 5970, 5992, 6251, 6291, 6774, 7773, 8973, 26776, 27731, 44694, 48082, 393, 893, 1422, 1483, 2798, 3102, 3327, 3812, 4037, 4066, 4467, 4553, 4613, 4634, 4812, 132, 188, 1949, 2330, 2940, 3679, 5177, 5385, 6986, 6987, 7171, 7762, 26084, 2582, 2924, 59103, 8640, 373, 1344, 1401, 1465, 1661, 1727, 1950, 1957, 2070, 2077, 2344, 2561, 2590, 2682, 2775, 2819, 2889, 2996, 3011, 3055, 3093, 3117, 3185, 3372, 3557, 3597, 3684, 3737, 3873, 3906, 3983, 3985, 3998, 4031, 4035, 4042, 4056, 4167, 4187, 4225, 4234, 4243, 4259, 4265, 4337, 4339, 4368, 4534, 4535, 4703, 4719, 4727, 4736, 4795, 4799, 4822, 4836, 4857, 4866, 4921, 4991, 5016, 5102, 5107, 5187, 5256, 5282, 5338, 5357, 5358, 5435, 5506, 5563, 5611, 5699, 5873, 5879, 5899, 5947, 6185, 6213, 6246, 6279, 6299, 6386, 6448, 6669, 6808, 6950, 7076, 7161, 7324, 8121, 8199, 26172, 26865, 27821, 31700, 32017, 34334, 34534, 37727, 39307, 42009, 42730, 43917, 44399, 47044, 49524, 49910, 6332, 6619, 7255, 7316, 8827, 32289, 36525, 78316, 103606, 27416, 98243, 160718, 1334, 2038, 2091, 9, 75, 634, 813, 840, 885, 1432, 36535, 56715, 64034, 81456, 85885, 100843, 101973, 105355, 112454, 133780, 138396, 152270, 173145, 177615, 179709, 86644, 130634, 1516, 2879, 2880, 3286, 3287, 3618, 425, 764, 869, 1078, 1162, 1264, 1836, 1948, 2130, 2239, 2247, 2290, 2349, 2361, 2511, 2734, 2750, 2779, 2863, 2946, 2970, 3028, 3076, 3096, 3130, 3134, 3141, 3167, 3200, 3223, 3224, 3283, 3341, 3467, 3473, 3492, 3503, 3506, 4205, 4784, 5637, 5788, 5847, 6509, 6658, 6684, 7089, 7107, 8128, 8571, 8614, 26313, 31038, 2392, 27674, 55391, 66320, 242, 718, 990, 1107, 1163, 1627, 1713, 1969, 1979, 2051, 2126, 2162, 2210, 2252, 2314, 2364, 2367, 2531, 2745, 2748, 2769, 2789, 2818, 2977, 2986, 3357, 3572, 3616, 3649, 3858, 3864, 3877, 4055, 4450, 4735, 6250, 6319, 6322, 6538, 5643, 45732, 1821, 1837, 3404, 4440, 5415, 5485, 5527, 5530, 5993, 6480, 4406, 7333, 7934, 26078, 26131, 33564, 2017, 2084, 4142, 4193, 4373, 4867, 4936, 4951, 5222, 5472, 5941, 6005, 6252, 6324, 6339, 6568, 7045, 7060, 7080, 7614, 8008, 1051, 1454, 2526, 5410, 7259, 8362, 8911, 33880, 39427, 43904, 44613, 47382, 1929, 1931, 1936, 1938, 2013, 2176, 2847, 3364, 3564, 3801, 3909, 3964, 4920, 5264, 5387, 6212, 6412, 6429, 6483, 6624, 6856, 7054, 7065, 7078, 7121, 7164, 7215, 7222, 7243, 7302, 7366, 7369, 7728, 8600, 8609, 8695, 8718, 8860, 8948, 9008, 25746, 25750, 25771, 25797, 25827, 25856, 25906, 27772, 31297, 33499, 33669, 34336, 35957, 39449, 40826, 42011, 42015, 43560, 45081, 46974, 48412, 48593, 49389, 51925, 51939, 52694, 56176, 60161, 61406, 63853, 65261, 66297, 67788, 70159, 71970, 72731, 72733, 77846, 78574, 80126, 83132, 86487, 89804, 89939, 90647, 93008, 95558, 98154, 123545, 5665, 6380, 33903, 725, 169, 453, 97, 166, 600, 760, 1437, 1447, 1546, 1598, 1611, 1649, 1695, 1827, 1941, 2022, 2025, 2181, 2295, 2474, 2563, 2607, 2691, 2696, 2765, 2971, 2976, 3003, 3078, 3150, 3158, 3323, 3474, 3521, 3598, 3747, 3761, 3862, 3879, 3888, 3895, 3915, 3925, 3947, 3955, 3992, 3993, 4032, 4052, 4133, 4146, 4152, 4157, 4160, 4178, 4275, 4305, 4307, 4313, 4350, 4389, 4407, 4439, 4452, 4628, 4640, 4642, 4644, 4699, 4723, 4770, 4811, 4815, 4826, 4849, 4879, 4888, 4898, 4911, 4919, 4959, 4978, 5046, 5062, 5083, 5095, 5131, 5155, 5298, 5323, 5325, 5347, 5379, 5421, 5423, 5425, 5427, 5486, 5498, 5522, 5609, 5612, 5615, 5646, 5666, 5668, 5680, 5684, 5772, 5809, 5818, 5999, 6002, 6041, 6062, 6067, 6192, 6215, 6217, 6264, 6285, 6294, 6330, 6334, 6335, 6341, 6551, 6571, 6572, 6588, 6645, 6679, 6688, 6881, 6890, 6932, 6969, 6971, 6978, 7038, 7264, 7299, 7352, 7354, 7449, 7698, 8042, 1582, 2457, 2534, 3573, 3726, 68959, 70533, 74754, 84187, 103210, 104303, 106873, 109578, 109848, 117895, 122906, 127212, 148978, 157369, 158035, 161594, 162968, 162982, 164917, 165635, 165639, 166291, 168090, 168218, 170907, 172705, 173235, 174479, 175475, 175585, 177285, 177939, 178111, 178827, 180297, 180497, 180985, 180987, 181413, 183911, 184641, 189333, 191005, 193565, 193567, 193571, 193573, 193579, 193581, 193583, 193585, 193587, 1685, 1767, 2799, 5804, 952, 2035, 2208, 2346, 2527, 3068, 3516, 3711, 3927, 4813, 5039, 5214, 5493, 5497, 5499, 5540, 2557, 2810, 3091, 3627, 4785, 5244, 5570, 5909, 6368, 7044, 7844, 7976, 7981, 8491, 8582, 8607, 25788, 25825, 26122, 26840, 27592, 27850, 27865, 27879, 27912, 31364, 32387, 33138, 33421, 33896, 37240, 39869, 46572, 49263, 49932, 1951, 2436, 2967, 3469, 72, 99, 148, 155, 178, 229, 269, 496, 668, 26116, 1392, 1502, 1755, 1306, 2575, 2744, 3436, 3894, 3932, 4174, 4808, 4932, 5607, 698, 731, 1055, 2165, 2670, 2674, 2815, 3129, 4608, 5670, 8532, 8833, 45210, 56274, 57243, 4722, 5139, 5610, 27685, 34321, 45106, 50802, 62299, 49, 461, 574, 679, 1176, 1312, 2024, 2147, 2983, 3036, 3138, 3194, 3214, 3329, 3402, 3445, 3470, 3528, 3682, 3724, 3725, 3834, 5949, 8815, 27075, 27368, 54372, 58332, 59604, 67295, 79008, 81132, 83601, 71462, 179817, 140956, 185029, 4625, 7810, 7811, 7812, 34397, 40697, 51562, 56915, 62834, 62836, 65651, 77795, 100611, 106642, 117192, 117646, 119167, 123553, 128842, 130444, 140359, 146662, 147372, 147374, 147376, 147378, 147380, 147382, 147384, 150596, 159779, 166203, 179511, 180031, 184053, 189547, 87192, 87234, 92439, 106144, 107314, 113573, 161922, 168366, 170697, 174909, 175197, 182823, 183897, 188751, 43679, 57274, 86142, 89582, 83, 55451, 927, 3422, 3963, 275, 429, 438, 444, 504, 517, 564, 692, 809, 870, 1007, 1085, 1126, 1581, 1599, 1602, 1626, 1671, 1677, 1686, 1731, 1867, 1875, 1937, 2056, 2152, 2350, 2373, 2382, 2473, 2477, 2525, 2535, 2537, 2741, 2786, 2816, 3014, 3132, 3165, 3389, 3392, 3406, 3417, 3431, 3432, 3433, 3434, 3524, 3529, 6425, 1752, 2296, 3054, 4749, 5047, 7319, 8880, 31221, 36708, 37380, 41716, 46335, 46850, 54768, 55020, 55292, 56156, 61246, 61348, 1430, 4219, 60937, 62344, 62437, 63540, 64231, 2469, 3090, 3095, 4338, 4605, 5248, 5382, 6306, 6639, 6724, 7013, 7056, 7072, 7216, 7311, 8044, 8364, 9018, 25773, 25841, 26375, 27768, 27776, 27820, 27882, 27899, 30818, 30846, 31437, 31610, 31692, 31702, 32022, 32584, 32632, 32770, 2205, 5523, 5710, 6290, 8363, 26322, 26732, 59014, 62250, 66744, 81831, 91483, 91628, 95307, 95949, 96448, 97168, 97860, 101531, 103137, 2747, 55854, 3496, 1130, 2327, 2633, 3042, 63, 1236, 1655, 1887, 2432, 2514, 2515, 2984, 3688, 3843, 4229, 4233, 4544, 4782, 5456, 5584, 6298, 6523, 6625, 6695, 6938, 7103, 7448, 32666, 37720, 45028, 51088, 38304, 85342, 8626, 34330, 52715, 55241, 55553, 4789, 5458, 5478, 5572, 5573, 6013, 6040, 6057, 6186, 6374, 6615, 6862, 6951, 6959, 7150, 7257, 7258, 7261, 7262, 7376, 7440, 8369, 8530, 8799, 8830, 8835, 8836, 8864, 8912, 8916, 8918, 8939, 27434, 27790, 27816, 27837, 27839, 30883, 30894, 31114, 31223, 31427, 31431, 31445, 31867, 32009, 32011, 32019, 32589, 33148, 33158, 33164, 33639, 33815, 34129, 34271, 34532, 36509, 36533, 37477, 37853, 38798, 39231, 39435, 40851, 40946, 41769, 42728, 42732, 43556, 43871, 43919, 43932, 44397, 44731, 45208, 45442, 45662, 48161, 48596, 49220, 49276, 49284, 49793, 50005, 50158, 50445, 50798, 50923, 51082, 51412, 51698, 51933, 51937, 52283, 52712, 53127, 54256, 55995, 57326, 57526, 58105, 58627, 58876, 59985, 61705, 62081, 62511, 66509, 67186, 67197, 70301, 70334, 71252, 71254, 71823, 73515, 78893, 81512, 78103, 118198, 134214, 136912, 162600, 178061, 183011, 42, 577, 917, 1460, 1495, 1707, 1826, 2050, 2566, 3672, 1998, 4329, 4498, 4803, 4852, 4916, 4917, 4945, 4946, 4947, 4957, 81786, 118700, 547, 2919, 3566, 3106, 123, 757, 4956, 5279, 7486, 8327, 27320, 61026, 68486, 80615, 80969, 83613, 90888, 82169, 120799, 151763, 4470, 4531, 5784, 7016, 26686, 27478, 32213, 33085, 38294, 39400, 47254, 47810, 51037, 58315, 65810, 66171, 69606, 70361, 72605, 73431, 75813, 77667, 78039, 78088, 80862, 82053, 84637, 84942, 85056, 85131, 85510, 86295, 86835, 86960, 87298, 88699, 88954, 89047, 89840, 90057, 90430, 90439, 90531, 91622, 91978, 92008, 92507, 93363, 93512, 93563, 93766, 94266, 94780, 95207, 95309, 95583, 95873, 96411, 96417, 98239, 99750, 99910, 100163, 101025, 101076, 101362, 102033, 102684, 103539, 103624, 103655, 104243, 105351, 107953, 108928, 109042, 109673, 110297, 110350, 111364, 112070, 143365, 143367, 146210, 148888, 160954, 169984, 173941, 175569, 184253, 185435, 6983, 142115, 4217, 26366, 26524, 44633, 58309, 5319, 44929, 48883, 1739, 2907, 3929, 4480, 121171, 131656, 140725, 146024, 128, 2348, 2766, 2859, 4529, 4711, 5137, 5820, 6027, 6337, 6370, 6713, 7564, 7815, 8011, 8015, 294, 988, 1415, 7879, 8535, 7303, 388, 1807, 2240, 2377, 2445, 3733, 3807, 476, 2812, 1791, 1964, 2178, 2182, 2593, 2630, 2829, 619, 886, 1255, 1327, 1497, 1503, 1992, 1993, 2170, 2448, 2498, 2517, 2846, 2974, 3235, 3511, 3652, 3676, 3696, 3857, 3908, 3938, 4030, 4143, 4224, 4248, 4533, 4683, 4748, 4771, 5076, 5080, 5127, 5401, 5452, 5556, 5569, 5667, 5833, 5853, 6196, 6220, 6379, 6405, 6559, 6664, 6715, 6794, 6868, 6872, 7024, 7117, 7228, 7236, 7321, 7362, 7368, 7646, 7845, 7846, 7894, 8142, 8225, 8241, 8578, 8831, 8906, 8967, 26242, 26492, 26523, 26629, 26736, 26870, 27311, 27604, 27618, 27822, 30745, 31193, 31909, 33132, 33834, 34323, 37382, 37475, 38992, 40723, 42285, 43549, 44828, 45361, 50147, 50440, 50800, 51091, 51498, 53468, 54648, 54785, 56012, 57536, 57910, 58870, 59727, 60037, 60291, 60522, 60538, 60979, 65126, 66427, 66783, 69251, 69275, 70994, 71211, 71379, 71500, 74075, 74685, 74851, 77364, 78041, 79274, 80846, 298, 556, 1123, 1406, 1533, 1571, 1574, 1594, 1904, 2069, 2073, 2212, 2323, 2624, 2824, 2937, 2964, 3038, 3046, 3192, 3302, 3384, 3480, 3728, 3794, 3914, 4061, 4116, 4285, 4334, 4345, 4384, 4809, 5147, 5241, 5258, 5272, 5603, 5723, 5745, 5884, 5938, 6122, 6254, 1167, 107069, 60293, 70984, 71619, 73266, 86817, 91079, 4091, 113207, 6086, 5876, 963, 1008, 1128, 1389, 1660, 1983, 1984, 1995, 2043, 2055, 2057, 2095, 2098, 2120, 2163, 2241, 2259, 2286, 2347, 2365, 2400, 2460, 2462, 2852, 2866, 2902, 2903, 3015, 3161, 3313, 3331, 3345, 3368, 3525, 3689, 3767, 3771, 3806, 3833, 3846, 3926, 3928, 3930, 3957, 3971, 3974, 4000, 4009, 4010, 4043, 4110, 4412, 4443, 4459, 4473, 4492, 4506, 4522, 4709, 4953, 4966, 5428, 5462, 5543, 5544, 5638, 7619, 8959, 31923, 34528, 37736, 42418, 43460, 43869, 46967, 47261, 47950, 48416, 60760, 6125, 6453, 26704, 129, 341, 1699, 2066, 2439, 2494, 2549, 2660, 2932, 2988, 3007, 3559, 3634, 3713, 3738, 3849, 102007, 2828, 3086, 3871, 4830, 7720, 8383, 33677, 68597, 80839, 87522, 92192, 96121, 97470, 113345, 115231, 127323, 129937, 130576, 165549, 278, 470, 499, 998, 1440, 2149, 2736, 3043, 3412, 3544, 3667, 3710, 160848, 169034, 171765, 1439, 1526, 1746, 4733, 4757, 4845, 5128, 6554, 6811, 7460, 7926, 26887, 34523, 36537, 50610, 54745, 54934, 58655, 58806, 61729, 62113, 67799, 68600, 70663, 71248, 72405, 74452, 74916, 76060, 84615, 90376, 91128, 103048, 109895, 112370, 112911, 116138, 127108, 134528, 134783, 134808, 136449, 138798, 8261, 944, 6818, 26249, 49347, 60516, 64499, 64501, 72294, 74624, 74868, 79251, 80590, 85788, 89118, 91842, 94018, 105197, 105585, 106441, 106785, 109850, 112818, 112897, 114246, 118706, 131796, 132796, 140627, 145418, 148671, 158027, 160400, 163985, 177763, 185585, 92391, 104908, 105731, 115664, 122884, 140016, 149334, 156726, 158528, 159858, 175199, 183295, 409, 1323, 1325, 1328, 1490, 2154, 2190, 2332, 2506, 2516, 2559, 2639, 2787, 2962, 3051, 3145, 3280, 3423, 3478, 3830, 3943, 4127, 4181, 4371, 4403, 4520, 4584, 4602, 4619, 4662, 4673, 4697, 4750, 4835, 4862, 4885, 4893, 4915, 5099, 5170, 5255, 5361, 5443, 5454, 5538, 5539, 5590, 5664, 5696, 5735, 5736, 5883, 5927, 6153, 6265, 6316, 6558, 6705, 6827, 6850, 6999, 7026, 7030, 7282, 7636, 7708, 7781, 8169, 8402, 8506, 9005, 26133, 26792, 27555, 27838, 30848, 31422, 31424, 33171, 33681, 34143, 34326, 37857, 39234, 48142, 48518, 48678, 49314, 52375, 52867, 53956, 53974, 55272, 55729, 56003, 58287, 65601, 65738, 65740, 65882, 973, 1946, 3171, 3872, 4432, 5398, 6452, 6706, 7218, 7943, 25886, 3330, 4483, 6410, 7184, 7305, 40, 6561, 680, 3732, 4117, 4754, 5433, 5925, 2275, 3889, 4180, 4210, 618, 703, 2896, 74545, 81158, 82667, 104272, 110387, 121253, 133115, 773, 823, 1419, 3569, 3736, 3845, 4256, 4612, 4708, 4825, 5202, 5238, 5475, 5838, 6197, 6241, 6329, 7071, 7124, 7238, 7459, 7979, 8190, 8484, 8724, 8748, 26003, 26048, 26059, 26073, 26158, 26225, 26317, 26713, 26928, 27003, 27176, 27186, 27328, 31545, 31952, 32511, 32554, 32906, 32917, 40955, 42176, 44931, 47446, 48001, 48638, 49917, 51174, 53574, 53883, 54185, 54354, 57772, 58376, 60408, 60885, 61394, 62208, 64167, 65037, 65225, 65631, 67508, 68444, 69746, 69953, 71131, 71147, 71453, 71468, 71494, 71867, 72171, 72714, 72921, 74089, 74226, 74791, 76054, 76173, 76738, 77191, 77233, 78836, 79073, 80478, 80553, 81191, 83827, 83976, 84273, 84716, 85213, 86237, 86279, 86922, 87304, 87444, 87660, 89030, 89945, 90245, 90357, 90528, 90630, 90769, 91784, 91860, 92422, 92637, 94735, 96084, 97904, 100044, 100106, 100277, 101741, 102742, 102823, 105254, 106648, 109187, 109383, 109968, 111817, 113348, 114847, 116505, 117364, 117531, 117545, 117849, 118784, 118880, 120761, 121169, 124853, 127114, 127172, 127180, 127204, 127298, 128900, 128902, 128991, 133802, 134019, 134796, 136024, 138966, 140162, 140737, 140816, 143525, 143896, 144478, 145080, 147002, 148424, 150696, 152065, 155774, 158842, 159976, 160684, 168612, 170355, 171495, 173197, 173291, 173317, 179135, 184245, 188675, 188833, 189381, 26555, 2882, 110127, 111443, 3884, 3899, 3912, 30, 80, 183, 2425, 2848, 2894, 4086, 4263, 4294, 4471, 4500, 4523, 4714, 4717, 4927, 5033, 5075, 5980, 27866, 70451, 73344, 81257, 84240, 102194, 165101, 130482, 136850, 26528, 193609, 3420, 5226, 7925, 26564, 80917, 92938, 93610, 97757, 3567, 3580, 30850, 47404, 59118, 189043, 189111, 190207, 190209, 190213, 190215, 190219, 190221, 6869, 56869, 58842, 77177, 82378, 90345, 92243, 109687, 115969, 141749, 141890, 156783, 166946, 176751, 94405, 2188, 2370, 2676, 2975, 4195, 4419, 5404, 5707, 27751, 38164, 521, 1572, 2442, 4297, 4404, 4422, 5951, 6023, 6286, 6530, 7084, 7115, 7178, 7179, 7820, 7937, 7940, 8405, 32179, 6223, 6263, 40412, 52579, 54787, 55555, 57843, 60857, 60894, 88179, 88272, 88932, 89028, 89761, 90353, 90471, 92048, 5074, 7122, 34164, 44889, 48744, 58492, 59141, 1996, 4354, 4622, 6612, 8580, 8998, 27329, 53024, 59810, 73854, 74282, 93040, 96563, 2226, 26095, 65350, 70687, 85334, 87028, 89386, 26472, 1647, 161127, 176389, 176579, 96964, 101415, 106062, 107997, 109569, 113604, 114494, 132888, 145935, 148172, 155288, 155820, 1565, 2695, 3299, 3453, 4053, 4078, 4505, 4517, 2307, 2399, 3127, 3162, 3545, 3716, 3731, 3758, 3922, 33312, 55167, 112512, 335, 882, 1351, 1352, 1601, 3648, 4434, 4942, 5113, 5288, 5468, 5706, 5979, 6021, 6654, 6656, 6836, 6899, 7104, 7304, 7756, 7834, 8138, 8610, 25959, 27692, 32139, 42556, 56837, 71302, 71999, 80748, 84799, 87287, 92760, 94262, 152, 2656, 4444, 4814, 5134, 5476, 6889, 7310, 8526, 26585, 26999, 27584, 27683, 27802, 31698, 31804, 32456, 32743, 33644, 40614, 40617, 44020, 47124, 51927, 52950, 58404, 60818, 63222, 64249, 65133, 68194, 71129, 72601, 74750, 77798, 82744, 84414, 88515, 90603, 94160, 94985, 95004, 95147, 95149, 95182, 95473, 95475, 95497, 96007, 96815, 97643, 97785, 101739, 102058, 102084, 103233, 103449, 104141, 104419, 104457, 107723, 108795, 113278, 134524, 137863, 152173, 161354, 162598, 163056, 166558, 169982, 172497, 172875, 172881, 172887, 176935, 179119, 182639, 31435, 43376, 45074, 53326, 55259, 63808, 1003, 4580, 4632, 8387, 26764, 26765, 46865, 47952, 48598, 49647, 50003, 52279, 65685, 72696, 88356, 91660, 93139, 95796, 100737, 104074, 104076, 112460, 114713, 116887, 122902, 126482, 130686, 131934, 142372, 152079, 158254, 170289, 2546, 2669, 2856, 4276, 4323, 4355, 206, 363, 841, 1161, 1329, 1662, 1770, 1977, 2071, 2074, 2303, 2488, 2632, 3455, 3587, 3680, 3765, 3813, 3838, 3865, 3919, 4064, 4065, 4191, 4278, 4289, 4298, 4390, 4392, 4393, 4408, 4409, 4426, 4429, 4441, 4527, 4552, 4563, 4614, 4687, 4833, 4985, 4988, 5121, 5156, 5397, 5465, 5489, 5515, 5531, 5780, 5974, 5984, 6035, 6063, 6100, 6123, 6184, 6465, 6533, 6577, 6710, 6748, 6885, 6918, 6981, 7088, 7091, 7102, 7116, 7205, 7301, 7328, 7336, 7386, 7394, 7450, 7581, 7616, 7745, 7749, 7895, 7936, 7938, 7939, 7951, 7987, 7993, 8188, 8195, 8196, 8239, 8270, 8290, 8512, 8542, 8596, 8670, 25898, 25963, 26002, 26052, 26124, 26151, 26231, 26303, 26694, 31590, 31737, 32314, 32392, 33188, 40966, 41617, 44657, 44759, 44864, 46772, 47465, 52462, 52644, 6158, 63239, 104245, 6344, 7208, 27695, 44943, 59995, 695, 1150, 1900, 2708, 4237, 4562, 4965, 5470, 5477, 5537, 5575, 130842, 1701, 6408, 8738, 26147, 26631, 60333, 42734, 170939, 61465, 61697, 7134, 26810, 27664, 59814, 70708, 77266, 6776, 70305, 85412, 87785, 103596, 136540, 3590, 3760, 389, 549, 670, 824, 3823, 3855, 4077, 4175, 4268, 119, 386, 650, 1040, 1121, 1332, 1484, 1605, 1609, 1656, 1870, 1922, 2007, 2119, 2172, 2260, 2264, 2271, 2472, 2482, 2552, 2570, 2751, 2835, 2884, 2891, 2893, 2928, 2979, 3008, 3111, 3206, 3378, 3391, 3539, 3581, 3625, 3790, 3847, 3898, 3900, 3951, 3953, 4012, 4081, 4089, 4115, 4123, 4125, 4138, 4139, 4147, 4221, 4242, 4290, 4312, 4353, 4451, 4458, 4462, 4463, 4475, 4478, 4488, 4524, 4573, 4583, 4595, 4600, 4610, 4617, 4636, 4666, 4672, 4675, 4721, 4745, 4777, 4780, 4818, 4847, 4926, 4961, 4962, 5068, 5071, 5073, 5081, 5112, 5178, 5209, 5237, 5240, 5278, 5285, 5297, 5321, 5322, 5324, 5328, 5337, 5345, 5390, 5416, 5422, 5424, 5437, 5461, 5471, 5483, 5521, 5562, 5625, 5633, 5635, 5636, 5663, 5678, 5685, 5688, 5817, 5829, 5880, 5896, 5968, 5994, 6033, 6036, 6039, 6078, 6116, 6141, 6159, 6162, 6195, 6216, 6222, 6268, 6269, 6280, 6295, 6308, 6314, 6315, 6349, 6442, 6493, 6510, 6517, 6542, 6547, 6549, 6560, 6563, 6574, 6582, 6598, 6616, 6628, 6631, 6670, 6689, 6696, 6699, 6718, 6720, 6780, 6797, 6809, 6810, 6812, 6816, 6851, 6883, 6898, 6954, 7033, 7165, 7175, 7176, 7193, 7248, 7251, 7315, 7340, 7348, 7364, 7390, 8119, 8587, 8915, 8919, 8952, 8954, 25834, 30820, 31162, 32116, 33725, 33826, 33838, 34540, 41527, 42602, 43912, 45062, 45635, 46347, 46559, 48319, 48560, 49132, 49280, 49957, 50792, 51694, 52299, 52668, 52724, 52784, 53447, 54771, 55110, 55250, 56908, 58879, 59037, 60128, 60141, 61401, 70862, 76763, 95135, 112940, 115828, 127130, 154358, 166024, 166568, 167570, 169992, 173205, 173209, 176423, 180045, 90374, 1412, 2807, 4093, 27704, 50851, 69860, 79677, 85394, 86668, 89580, 90943, 97866, 6210, 8337, 8577, 26693, 59295, 2665, 3447, 3973, 4190, 4802, 4925, 4939, 5063, 136469, 91325, 6055, 6347, 6348, 6597, 5532, 7306, 8588, 27708, 33893, 45503, 66090, 68347, 71902, 80880, 89208, 92348, 568, 1675, 2540, 4453, 4743, 5409, 5580, 5675, 5787, 6992, 7017, 7192, 8782, 30898, 36276, 43708, 8690, 4402, 96430, 941, 1839, 2368, 2520, 2521, 2523, 2693, 2887, 3057, 3276, 3284, 3390, 3596, 3933, 4051, 4156, 4198, 4212, 4397, 4526, 4630, 4660, 4756, 4775, 4952, 4981, 5250, 5334, 5356, 5490, 5700, 5752, 5779, 5915, 6302, 6424, 6427, 6476, 6514, 6760, 6798, 6814, 7101, 7245, 7372, 8136, 8137, 8447, 8743, 26152, 26386, 26464, 26700, 31000, 32291, 34018, 37211, 43558, 48262, 49688, 50064, 53453, 53808, 55294, 58351, 61123, 61289, 63393, 65135, 66785, 67361, 69118, 69453, 69604, 70545, 71466, 71732, 72224, 72694, 73386, 75803, 75816, 77421, 78034, 78116, 79259, 79590, 79879, 79946, 80241, 80864, 81949, 82093, 82095, 82527, 83374, 84696, 84950, 85025, 85399, 86028, 86593, 87876, 88672, 89305, 89343, 89388, 89427, 90343, 90719, 90738, 91273, 91688, 91873, 91935, 92198, 92665, 93242, 93980, 93982, 94011, 94323, 94494, 94896, 94919, 95201, 95508, 95744, 96114, 96281, 96530, 96726, 97328, 97742, 97858, 97870, 97936, 98160, 98175, 98230, 98296, 98836, 98908, 99005, 99415, 99574, 99846, 99992, 100226, 100304, 100326, 100487, 101360, 101529, 101577, 101884, 101895, 102025, 102165, 102278, 102819, 102880, 103221, 103502, 103543, 103755, 103865, 104078, 104129, 104760, 104906, 105121, 105755, 106330, 106438, 106542, 106883, 107702, 107945, 107962, 108188, 108601, 108715, 109183, 109191, 109295, 109317, 109372, 109416, 110611, 110655, 110826, 111663, 111680, 111795, 112303, 112749, 113186, 113225, 113350, 113416, 113532, 114028, 114601, 114925, 115151, 115170, 115216, 116207, 116413, 116419, 116849, 116985, 117107, 117511, 118248, 118326, 118354, 118512, 118702, 118814, 118924, 118997, 119068, 119655, 120637, 120783, 122490, 122932, 124859, 125221, 126420, 127132, 127136, 127194, 127319, 128592, 129250, 129333, 129657, 129659, 130083, 131480, 132333, 132462, 132488, 132618, 133195, 133281, 133365, 133377, 133545, 133782, 133798, 134021, 134158, 134859, 136654, 136664, 136778, 136786, 136800, 136816, 136859, 137517, 138546, 139052, 139415, 139857, 140237, 140525, 140850, 141422, 142424, 143001, 143255, 143257, 143410, 143472, 144262, 144620, 144714, 144716, 145150, 146688, 146730, 148482, 148592, 148709, 149590, 149612, 150401, 150604, 151315, 151317, 151501, 151559, 151653, 151745, 151777, 152085, 152105, 152658, 154065, 155358, 155659, 155743, 155892, 156553, 156706, 157122, 157130, 157172, 157200, 157270, 157340, 157407, 157432, 158022, 158956, 159077, 159193, 159690, 160440, 160573, 160646, 160730, 161290, 161830, 161918, 162828, 164375, 164647, 164753, 165075, 165139, 165343, 165347, 168350, 168456, 169180, 173751, 3568, 2839, 3240, 3241, 3756, 3787, 1341, 706, 89039, 1757, 2677, 3859, 3989, 4236, 4863, 4977, 5205, 5212, 5224, 5239, 5986, 6064, 6466, 6528, 6611, 6775, 6935, 6945, 6966, 7181, 7620, 7767, 7786, 7920, 8620, 8848, 26359, 26838, 27563, 32582, 38198, 45382, 46855, 55156, 58191, 67665, 71640, 82857, 89090, 100556, 103107, 105835, 109161, 148982, 151311, 152711, 160644, 162414, 164655, 167064, 179813, 183199, 183317, 184721, 187717, 188189, 189713, 56169, 59738, 60832, 74530, 74580, 90384, 3723, 2493, 451, 1180, 3405, 3619, 3658, 3832, 96, 488, 638, 907, 929, 956, 959, 970, 976, 982, 993, 1068, 1398, 1413, 1423, 1496, 1507, 1629, 1650, 1893, 1902, 1913, 1926, 1928, 1932, 1933, 1940, 2177, 2179, 2180, 2185, 2187, 2201, 2211, 2611, 2612, 2652, 2697, 2743, 2757, 2801, 2927, 2929, 2930, 3109, 3112, 3125, 3135, 3211, 3281, 3475, 3609, 3641, 3714, 3715, 3739, 3789, 3816, 3870, 3965, 3966, 4046, 4080, 4113, 4129, 4164, 4171, 4184, 4189, 4204, 4218, 4292, 4296, 4433, 4484, 4495, 4521, 4578, 4589, 4635, 4704, 4769, 4796, 4798, 4801, 4804, 4860, 4871, 4970, 4998, 5007, 5012, 5077, 5114, 5116, 5168, 5213, 5231, 5311, 5353, 5375, 5384, 5440, 5455, 5512, 5525, 5581, 5601, 5602, 5604, 5629, 5649, 5694, 5755, 5771, 5799, 5801, 5802, 5826, 5836, 5863, 5875, 5963, 6020, 6031, 6042, 6090, 6101, 6163, 6178, 6181, 6201, 6225, 6228, 6232, 6245, 6273, 6289, 6336, 6357, 6376, 6382, 6390, 6400, 6407, 6422, 6434, 6454, 6477, 6515, 6527, 6545, 6581, 6584, 6592, 6603, 6609, 6614, 6660, 6667, 6732, 6768, 6770, 6772, 6788, 6837, 6909, 6911, 6912, 6948, 6962, 6965, 6970, 6982, 6984, 6990, 7012, 7019, 7049, 7051, 7052, 7053, 7055, 7057, 7058, 7059, 7061, 7062, 7070, 7073, 7074, 7075, 7079, 7082, 7083, 7085, 7086, 7092, 7093, 7141, 7167, 7177, 7190, 7211, 7212, 7217, 7219, 7223, 7326, 7357, 7382, 7414, 7479, 7560, 7572, 7579, 7584, 7618, 7702, 7705, 7713, 7714, 7716, 7727, 7772, 7789, 7822, 7826, 7831, 7832, 7833, 7835, 7839, 7840, 7882, 7883, 7888, 7896, 7900, 7944, 8019, 8057, 8094, 8125, 8153, 8167, 8191, 8232, 8275, 8293, 8302, 8331, 8336, 8338, 8375, 8382, 8385, 8410, 8424, 8446, 8450, 8451, 8458, 8459, 8461, 8462, 8463, 8465, 8481, 8482, 8487, 8492, 8502, 8518, 8521, 8534, 8575, 8591, 8611, 8617, 8650, 8684, 8711, 8712, 8714, 8730, 8753, 8754, 8771, 8773, 8774, 8778, 8809, 8813, 8875, 8920, 8921, 8938, 8943, 8955, 8979, 8987, 8989, 25752, 25753, 25757, 25769, 25795, 25826, 25850, 25865, 25870, 25927, 25940, 25952, 25962, 25996, 25999, 26791, 26965, 31030, 31083, 31260, 31694, 31903, 34359, 35015, 42740, 43333, 44511, 48741, 49666, 50160, 50514, 53921, 55071, 55687, 56563, 3720, 4454, 4557, 4725, 5069, 5348, 6148, 7335, 8126, 27537, 31660, 42422, 68945, 72308, 78746, 82242, 2362, 3428, 4111, 4410, 4831, 5197, 5365, 5389, 5448, 5651, 5773, 6436, 6853, 8131, 27830, 32294, 36477, 37844, 43914, 44197, 47646, 2068, 6320, 8268, 2483, 8632, 27370, 31617, 36397, 68522, 72554, 88448, 89586, 90863, 91890, 93723, 94810, 95939, 96283, 97665, 99087, 100068, 101765, 105325, 109941, 109971, 112316, 115065, 4759, 5786, 8593, 71268, 93320, 26900, 40597, 54796, 72874, 73501, 77881, 79299, 79536, 80454, 80551, 84553, 86000, 87413, 91488, 92730, 94130, 50954, 78160, 78544, 180231, 103, 467, 876, 1170, 73290, 140523, 131739, 56286, 449, 1824, 1910, 7455, 32914, 46231, 79798, 6596, 6927, 68269, 5613, 26958, 50796, 65193, 74677, 80834, 82088, 84847, 89678, 90809, 91266, 91337, 93134, 93988, 94799, 95193, 110781, 117133, 126142, 129229, 130073, 136838, 136840, 34148, 6145, 1335, 1978, 2878, 3294, 4202, 5041, 5189, 5704, 5797, 6746, 6821, 7477, 7730, 7891, 8894, 26198, 31150, 38583, 40478, 62586, 124484, 135216, 136958, 141994, 149330, 158830, 159510, 160571, 167538, 168358, 180263, 182727, 184931, 184987, 185033, 185473, 186587, 187031, 188797, 4646, 8772, 26761, 83270, 88267, 91414, 93740, 96471, 96518, 96520, 97194, 107780, 121099, 144352, 152037, 160422, 162590, 165489, 7266, 32469, 27006, 27369, 66544, 79006, 120130, 8264, 91869, 96150, 98122, 106889, 120807, 127164, 134248, 146682, 148667, 159849, 163653, 164540, 39516, 135198, 176413, 176415, 2742, 3673, 3674, 4445, 5560, 4284, 125914, 27251, 36289, 51024, 53138, 53140, 58297, 64695, 69805, 73804, 76743, 83480, 85179, 85261, 91353, 112580, 116529, 116668, 116724, 128542, 134775, 135885, 144734, 150993, 164367, 2573, 55946, 121129, 2107, 626, 1986, 1990, 3626, 3939, 3940, 3941, 3942, 3958, 1477, 168712, 142056, 167296, 1825, 5059, 5513, 7457, 43684, 61257, 2820, 633, 790, 1336, 1397, 1985, 2256, 2451, 2597, 2862, 3442, 3574, 3577, 3660, 3661, 3663, 3664, 3678, 3691, 5839, 5840, 6119, 26308, 31123, 37495, 38095, 48045, 54617, 59026, 68886, 73681, 81383, 96945, 105246, 109313, 111384, 130498, 141866, 142558, 148238, 148881, 154975, 6800, 105468, 168174, 4135, 26357, 27140, 27667, 73211, 99191, 100306, 43930, 44225, 47516, 61071, 62718, 70932, 72919, 74688, 77414, 78264, 80858, 82152, 90524, 94325, 95199, 96975, 100527, 115667, 128832, 139747, 50942, 5028, 8189, 8335, 8477, 25782, 26717, 26743, 40491, 51573, 57502, 70015, 71438, 81681, 82684, 92234, 92681, 99917, 101070, 102088, 102800, 104337, 104944, 109897, 110603, 113705, 114396, 114554, 114627, 117877, 122246, 122888, 132335, 134246, 135288, 136602, 141668, 142507, 150254, 151687, 152063, 152071, 153070, 156605, 166526, 166705, 170945, 176419, 179491, 179749, 179815, 1331, 1623, 1980, 2655, 2740, 2982, 3021, 3073, 430, 2538, 2623, 2629, 2415, 3143, 6751, 7395, 56389, 75446, 2965, 5767, 5828, 6342, 6583, 6692, 7349, 8092, 8236, 8427, 8494, 8800, 8844, 26819, 27373, 136556, 2738, 3403, 3414, 3449, 4710, 284, 1652, 2175, 2196, 2589, 3353, 4200, 4374, 4715, 4794, 4827, 5105, 5657, 6140, 6417, 6665, 6723, 6967, 6994, 7023, 7031, 7032, 7114, 7345, 7742, 7782, 8035, 8118, 8727, 2774, 3094, 4342, 6769, 7260, 7615, 27246, 32799, 33649, 43744, 55844, 59549, 59667, 68835, 69495, 70637, 92954, 111800, 111913, 113280, 120919, 128908, 129397, 132454, 133645, 141131, 151557, 163639, 168026, 171917, 176051, 178615, 181719, 182793, 183635, 184997, 615, 1112, 4424, 113829, 114265, 124851, 478, 806, 1114, 1426, 1794, 2281, 2292, 2339, 2586, 2698, 3379, 3571, 3669, 3700, 3709, 3962, 4197, 4240, 4394, 4490, 4504, 4511, 4568, 4574, 4593, 4594, 4597, 4603, 4670, 5053, 5054, 5096, 5111, 5136, 5198, 5221, 5268, 5442, 5591, 5596, 5597, 5689, 5768, 5961, 6204, 6267, 6310, 6506, 6557, 6587, 6691, 6722, 6734, 6804, 6860, 6882, 6998, 7005, 7041, 7047, 7108, 7125, 7191, 7307, 7443, 7657, 7704, 7707, 7986, 7988, 8043, 8045, 8380, 8425, 8500, 8720, 8755, 8905, 8934, 9004, 26142, 26159, 26176, 26195, 26283, 26285, 26344, 26365, 26413, 26453, 26467, 26510, 26539, 26542, 26547, 26562, 26567, 26590, 26593, 26612, 26622, 26630, 26676, 26696, 26701, 26726, 26741, 26745, 26782, 26797, 26828, 26854, 26861, 26913, 26940, 26947, 27002, 27008, 27032, 27074, 27105, 27124, 27155, 27306, 27420, 27441, 27549, 27595, 27722, 27762, 27769, 27784, 27829, 31367, 31553, 31664, 31921, 32058, 32440, 32442, 32515, 33126, 33294, 33435, 33629, 33801, 33966, 34292, 34800, 34811, 36850, 39801, 40578, 41627, 42559, 42638, 42943, 42946, 43419, 43677, 43908, 44238, 44241, 44243, 44849, 45183, 45648, 45969, 46367, 46574, 47721, 47793, 49110, 51545, 53022, 53143, 53161, 53450, 54274, 54908, 55036, 55061, 55205, 55207, 56022, 57499, 58306, 59016, 59336, 59947, 60365, 60803, 61073, 62662, 62970, 66915, 67193, 68552, 68650, 69131, 69227, 70703, 71327, 71484, 71550, 71810, 72479, 73569, 73808, 74095, 74696, 75416, 75947, 76030, 77201, 77709, 78959, 79895, 80083, 81791, 82534, 83086, 83796, 84523, 85438, 86286, 86355, 86864, 86898, 87197, 87960, 88593, 88697, 89085, 89862, 90243, 90428, 90945, 91571, 91981, 92309, 92674, 93208, 93502, 94122, 95145, 95163, 95165, 95499, 95519, 95717, 95771, 95780, 95839, 95965, 97230, 97950, 98499, 98503, 98623, 98697, 98799, 99638, 101074, 101423, 102590, 102735, 102749, 102852, 103027, 103245, 103366, 103609, 104017, 104837, 105020, 105720, 107999, 108090, 108192, 110541, 111785, 112326, 113849, 114126, 115819, 116044, 116169, 116941, 116963, 117630, 118290, 119218, 119828, 120827, 121035, 122260, 122433, 122627, 123310, 128197, 128736, 129779, 131578, 132084, 132362, 135787, 136012, 136297, 137218, 137345, 137859, 138702, 139130, 139859, 140852, 144522, 145724, 145745, 151479, 151781, 153236, 156675, 157865, 158388, 158874, 159061, 159403, 160978, 161008, 161032, 161044, 163809, 165529, 167706, 168608, 169670, 169904, 169958, 170297, 170551, 171695, 172229, 172233, 172253, 173873, 174727, 178129, 179053, 181315, 183301, 2800, 25905, 25923, 25947, 46664, 59131, 141846, 77, 108, 149, 184, 301, 320, 495, 506, 526, 602, 645, 649, 803, 1053, 1119, 1310, 1349, 1475, 1514, 1549, 1585, 1612, 1613, 1759, 2008, 2104, 2283, 2304, 2417, 2435, 2512, 2544, 2577, 2609, 2620, 2725, 2727, 2813, 2865, 2885, 2892, 2972, 3002, 3183, 3303, 3344, 3374, 3459, 3514, 3531, 3586, 3637, 3655, 3792, 4420, 4428, 4436, 4690, 4695, 4705, 4766, 4786, 4810, 117, 220, 285, 311, 636, 1654, 27036, 35347, 47384, 54686, 65359, 66240, 71160, 72165, 72982, 202, 263, 563, 573, 579, 583, 632, 961, 1117, 1156, 1493, 1857, 2156, 2207, 2388, 2481, 2503, 2897, 3010, 3289, 3295, 3640, 3808, 3920, 4357, 4395, 4615, 4653, 4671, 4689, 4828, 4840, 4883, 5269, 5372, 5503, 5550, 5614, 5720, 5733, 5741, 5742, 5849, 5856, 5922, 5929, 5975, 5990, 6070, 6107, 6111, 6182, 6202, 6237, 6415, 6449, 6516, 6553, 6573, 6578, 6644, 6671, 6782, 6789, 6803, 6961, 6973, 7037, 7109, 7131, 7292, 7344, 7487, 7916, 8391, 8454, 8456, 8601, 8685, 8713, 8933, 8964, 25805, 25833, 25946, 26038, 26394, 26527, 26599, 26777, 26796, 26875, 26985, 27178, 27255, 27627, 27644, 27744, 30890, 30994, 31309, 31973, 32234, 32600, 32620, 32649, 32728, 32862, 33237, 33310, 41014, 44189, 44301, 47202, 47538, 47774, 48032, 48214, 50354, 50356, 51314, 55805, 56333, 58783, 68480, 68872, 69224, 72603, 241, 2737, 5901, 7377, 8667, 32302, 51903, 137, 1054, 3945, 4497, 5275, 5953, 6009, 6095, 7202, 7562, 7984, 8840, 26169, 26391, 26399, 26401, 26498, 26603, 27426, 27480, 27491, 27746, 27778, 27905, 31086, 34450, 36931, 41712, 43289, 44597, 47937, 48150, 51666, 52831, 54910, 55067, 55492, 56620, 57421, 57637, 58826, 58964, 58975, 59915, 60303, 60471, 61262, 61319, 61692, 61818, 63179, 63768, 63826, 64010, 66310, 67168, 70206, 70208, 71341, 71910, 72142, 72424, 73676, 73741, 73876, 74370, 75389, 76091, 77893, 77931, 78626, 79501, 79868, 80094, 80162, 81520, 82366, 82641, 82765, 88327, 89072, 89281, 89837, 91233, 93193, 93598, 93819, 94867, 96832, 97188, 97285, 97701, 97988, 98061, 98633, 99030, 99721, 100159, 100397, 100579, 100906, 102066, 102070, 102338, 102760, 102802, 103085, 103219, 103483, 103685, 105801, 107436, 107447, 107462, 107771, 110281, 110286, 110591, 110746, 111551, 112727, 113159, 113313, 113565, 113780, 113862, 114044, 114670, 114707, 115727, 117867, 118082, 128838, 129313, 130050, 130052, 130840, 133832, 135534, 135803, 135815, 138610, 138632, 139511, 139655, 140267, 141400, 141799, 142366, 142598, 145951, 146309, 147657, 147662, 148166, 149011, 152372, 158721, 160341, 160527, 160836, 163937, 163981]\n",
      "Encoded movieId:  {1: 0, 3: 1, 6: 2, 47: 3, 50: 4, 70: 5, 101: 6, 110: 7, 151: 8, 157: 9, 163: 10, 216: 11, 223: 12, 231: 13, 235: 14, 260: 15, 296: 16, 316: 17, 333: 18, 349: 19, 356: 20, 362: 21, 367: 22, 423: 23, 441: 24, 457: 25, 480: 26, 500: 27, 527: 28, 543: 29, 552: 30, 553: 31, 590: 32, 592: 33, 593: 34, 596: 35, 608: 36, 648: 37, 661: 38, 673: 39, 733: 40, 736: 41, 780: 42, 804: 43, 919: 44, 923: 45, 940: 46, 943: 47, 954: 48, 1009: 49, 1023: 50, 1024: 51, 1025: 52, 1029: 53, 1030: 54, 1031: 55, 1032: 56, 1042: 57, 1049: 58, 1060: 59, 1073: 60, 1080: 61, 1089: 62, 1090: 63, 1092: 64, 1097: 65, 1127: 66, 1136: 67, 1196: 68, 1197: 69, 1198: 70, 1206: 71, 1208: 72, 1210: 73, 1213: 74, 1214: 75, 1219: 76, 1220: 77, 1222: 78, 1224: 79, 1226: 80, 1240: 81, 1256: 82, 1258: 83, 1265: 84, 1270: 85, 1275: 86, 1278: 87, 1282: 88, 1291: 89, 1298: 90, 1348: 91, 1377: 92, 1396: 93, 1408: 94, 1445: 95, 1473: 96, 1500: 97, 1517: 98, 1552: 99, 1573: 100, 1580: 101, 1587: 102, 1617: 103, 1620: 104, 1625: 105, 1644: 106, 1676: 107, 1732: 108, 1777: 109, 1793: 110, 1804: 111, 1805: 112, 1920: 113, 1927: 114, 1954: 115, 1967: 116, 2000: 117, 2005: 118, 2012: 119, 2018: 120, 2028: 121, 2033: 122, 2046: 123, 2048: 124, 2054: 125, 2058: 126, 2078: 127, 2090: 128, 2093: 129, 2094: 130, 2096: 131, 2099: 132, 2105: 133, 2115: 134, 2116: 135, 2137: 136, 2139: 137, 2141: 138, 2143: 139, 2161: 140, 2174: 141, 2193: 142, 2253: 143, 2268: 144, 2273: 145, 2291: 146, 2329: 147, 2338: 148, 2353: 149, 2366: 150, 2387: 151, 2389: 152, 2395: 153, 2406: 154, 2414: 155, 2427: 156, 2450: 157, 2459: 158, 2470: 159, 2478: 160, 2492: 161, 2502: 162, 2528: 163, 2529: 164, 2542: 165, 2571: 166, 2580: 167, 2596: 168, 2616: 169, 2617: 170, 2628: 171, 2640: 172, 2641: 173, 2644: 174, 2648: 175, 2654: 176, 2657: 177, 2692: 178, 2700: 179, 2716: 180, 2761: 181, 2797: 182, 2826: 183, 2858: 184, 2872: 185, 2899: 186, 2916: 187, 2944: 188, 2947: 189, 2948: 190, 2949: 191, 2959: 192, 2985: 193, 2987: 194, 2991: 195, 2993: 196, 2997: 197, 3033: 198, 3034: 199, 3052: 200, 3053: 201, 3062: 202, 3147: 203, 3168: 204, 3176: 205, 3243: 206, 3247: 207, 3253: 208, 3273: 209, 3386: 210, 3439: 211, 3440: 212, 3441: 213, 3448: 214, 3450: 215, 3479: 216, 3489: 217, 3527: 218, 3578: 219, 3617: 220, 3639: 221, 3671: 222, 3702: 223, 3703: 224, 3729: 225, 3740: 226, 3744: 227, 3793: 228, 3809: 229, 4006: 230, 5060: 231, 318: 232, 1704: 233, 6874: 234, 8798: 235, 46970: 236, 48516: 237, 58559: 238, 60756: 239, 68157: 240, 71535: 241, 74458: 242, 77455: 243, 79132: 244, 80489: 245, 80906: 246, 86345: 247, 89774: 248, 91529: 249, 91658: 250, 99114: 251, 106782: 252, 109487: 253, 112552: 254, 114060: 255, 115713: 256, 122882: 257, 131724: 258, 31: 259, 647: 260, 688: 261, 720: 262, 849: 263, 914: 264, 1093: 265, 1124: 266, 1263: 267, 1272: 268, 1302: 269, 1371: 270, 2080: 271, 2288: 272, 2424: 273, 2851: 274, 3024: 275, 3210: 276, 3949: 277, 4518: 278, 5048: 279, 5181: 280, 5746: 281, 5764: 282, 5919: 283, 6238: 284, 6835: 285, 7899: 286, 7991: 287, 26409: 288, 70946: 289, 72378: 290, 21: 291, 32: 292, 45: 293, 52: 294, 58: 295, 106: 296, 125: 297, 126: 298, 162: 299, 171: 300, 176: 301, 190: 302, 215: 303, 222: 304, 232: 305, 247: 306, 265: 307, 319: 308, 342: 309, 345: 310, 348: 311, 351: 312, 357: 313, 368: 314, 417: 315, 450: 316, 475: 317, 492: 318, 509: 319, 538: 320, 539: 321, 588: 322, 595: 323, 599: 324, 708: 325, 759: 326, 800: 327, 892: 328, 898: 329, 899: 330, 902: 331, 904: 332, 908: 333, 910: 334, 912: 335, 920: 336, 930: 337, 937: 338, 1046: 339, 1057: 340, 1077: 341, 1079: 342, 1084: 343, 1086: 344, 1094: 345, 1103: 346, 1179: 347, 1183: 348, 1188: 349, 1199: 350, 1203: 351, 1211: 352, 1225: 353, 1250: 354, 1259: 355, 1266: 356, 1279: 357, 1283: 358, 1288: 359, 1304: 360, 1391: 361, 1449: 362, 1466: 363, 1597: 364, 1641: 365, 1719: 366, 1733: 367, 1734: 368, 1834: 369, 1860: 370, 1883: 371, 1885: 372, 1892: 373, 1895: 374, 1907: 375, 1914: 376, 1916: 377, 1923: 378, 1947: 379, 1966: 380, 1968: 381, 2019: 382, 2076: 383, 2109: 384, 2145: 385, 2150: 386, 2186: 387, 2203: 388, 2204: 389, 2282: 390, 2324: 391, 2336: 392, 2351: 393, 2359: 394, 2390: 395, 2467: 396, 2583: 397, 2599: 398, 2683: 399, 2712: 400, 2762: 401, 2763: 402, 2770: 403, 2791: 404, 2843: 405, 2874: 406, 2921: 407, 2926: 408, 2973: 409, 3044: 410, 3060: 411, 3079: 412, 3083: 413, 3160: 414, 3175: 415, 3204: 416, 3255: 417, 3317: 418, 3358: 419, 3365: 420, 3408: 421, 3481: 422, 3508: 423, 3538: 424, 3591: 425, 3788: 426, 3851: 427, 3897: 428, 3911: 429, 3967: 430, 3996: 431, 4002: 432, 4014: 433, 4020: 434, 4021: 435, 4027: 436, 4029: 437, 4033: 438, 4034: 439, 4074: 440, 4121: 441, 4144: 442, 4166: 443, 4226: 444, 4239: 445, 4246: 446, 4252: 447, 4260: 448, 4273: 449, 4308: 450, 4347: 451, 4381: 452, 4641: 453, 4741: 454, 4765: 455, 4881: 456, 4896: 457, 4902: 458, 4967: 459, 34: 460, 36: 461, 39: 462, 150: 463, 153: 464, 253: 465, 261: 466, 266: 467, 290: 468, 300: 469, 344: 470, 364: 471, 380: 472, 410: 473, 474: 474, 515: 475, 531: 476, 534: 477, 589: 478, 594: 479, 597: 480, 2: 481, 4: 482, 5: 483, 7: 484, 8: 485, 10: 486, 11: 487, 13: 488, 15: 489, 16: 490, 17: 491, 19: 492, 22: 493, 24: 494, 25: 495, 26: 496, 27: 497, 41: 498, 43: 499, 46: 500, 54: 501, 60: 502, 61: 503, 62: 504, 65: 505, 66: 506, 76: 507, 79: 508, 86: 509, 87: 510, 88: 511, 89: 512, 92: 513, 93: 514, 95: 515, 100: 516, 102: 517, 104: 518, 105: 519, 112: 520, 113: 521, 135: 522, 140: 523, 141: 524, 145: 525, 146: 526, 158: 527, 159: 528, 160: 529, 161: 530, 165: 531, 168: 532, 170: 533, 174: 534, 177: 535, 179: 536, 180: 537, 181: 538, 185: 539, 186: 540, 189: 541, 191: 542, 195: 543, 196: 544, 201: 545, 204: 546, 205: 547, 207: 548, 208: 549, 209: 550, 210: 551, 212: 552, 217: 553, 218: 554, 219: 555, 224: 556, 225: 557, 230: 558, 234: 559, 236: 560, 237: 561, 239: 562, 240: 563, 243: 564, 248: 565, 250: 566, 251: 567, 252: 568, 254: 569, 256: 570, 257: 571, 258: 572, 262: 573, 267: 574, 270: 575, 271: 576, 273: 577, 274: 578, 276: 579, 277: 580, 279: 581, 281: 582, 282: 583, 288: 584, 289: 585, 291: 586, 292: 587, 293: 588, 302: 589, 303: 590, 304: 591, 310: 592, 312: 593, 313: 594, 314: 595, 315: 596, 317: 597, 327: 598, 329: 599, 330: 600, 332: 601, 336: 602, 337: 603, 339: 604, 340: 605, 343: 606, 347: 607, 350: 608, 352: 609, 353: 610, 354: 611, 355: 612, 358: 613, 359: 614, 360: 615, 361: 616, 366: 617, 370: 618, 371: 619, 374: 620, 377: 621, 378: 622, 381: 623, 382: 624, 383: 625, 405: 626, 412: 627, 415: 628, 416: 629, 419: 630, 426: 631, 432: 632, 434: 633, 435: 634, 437: 635, 440: 636, 445: 637, 454: 638, 455: 639, 458: 640, 460: 641, 466: 642, 468: 643, 469: 644, 472: 645, 477: 646, 485: 647, 489: 648, 490: 649, 491: 650, 493: 651, 494: 652, 497: 653, 502: 654, 505: 655, 508: 656, 510: 657, 516: 658, 520: 659, 524: 660, 532: 661, 536: 662, 537: 663, 540: 664, 542: 665, 546: 666, 548: 667, 569: 668, 575: 669, 587: 670, 606: 671, 609: 672, 616: 673, 628: 674, 631: 675, 637: 676, 640: 677, 662: 678, 667: 679, 694: 680, 697: 681, 700: 682, 704: 683, 709: 684, 710: 685, 711: 686, 719: 687, 747: 688, 762: 689, 765: 690, 775: 691, 783: 692, 795: 693, 799: 694, 801: 695, 802: 696, 818: 697, 830: 698, 835: 699, 837: 700, 838: 701, 839: 702, 842: 703, 848: 704, 852: 705, 867: 706, 880: 707, 881: 708, 888: 709, 891: 710, 979: 711, 981: 712, 986: 713, 991: 714, 996: 715, 999: 716, 1004: 717, 1006: 718, 1061: 719, 1064: 720, 1082: 721, 750: 722, 924: 723, 1101: 724, 1246: 725, 1584: 726, 1610: 727, 1682: 728, 1784: 729, 1917: 730, 2671: 731, 2688: 732, 2701: 733, 2717: 734, 3114: 735, 3354: 736, 3623: 737, 3869: 738, 3916: 739, 3977: 740, 3994: 741, 4018: 742, 4223: 743, 4306: 744, 4310: 745, 4370: 746, 4643: 747, 4700: 748, 4844: 749, 4874: 750, 4886: 751, 4963: 752, 4993: 753, 4995: 754, 5218: 755, 5349: 756, 5378: 757, 5445: 758, 5459: 759, 5464: 760, 5502: 761, 5618: 762, 5816: 763, 5952: 764, 5989: 765, 5991: 766, 6333: 767, 6365: 768, 6534: 769, 6539: 770, 6863: 771, 6934: 772, 7143: 773, 7153: 774, 7155: 775, 7445: 776, 8207: 777, 8360: 778, 8368: 779, 8373: 780, 8528: 781, 8636: 782, 8665: 783, 8666: 784, 8783: 785, 8808: 786, 8865: 787, 8870: 788, 8907: 789, 8908: 790, 8949: 791, 8957: 792, 8958: 793, 8961: 794, 8965: 795, 8970: 796, 8972: 797, 8984: 798, 27741: 799, 30812: 800, 30816: 801, 31878: 802, 32029: 803, 32031: 804, 32296: 805, 32587: 806, 33162: 807, 33493: 808, 33794: 809, 33836: 810, 34048: 811, 34319: 812, 37741: 813, 38388: 814, 42002: 815, 45499: 816, 45517: 817, 45668: 818, 45730: 819, 46530: 820, 48783: 821, 48997: 822, 49272: 823, 49278: 824, 49286: 825, 49824: 826, 586: 827, 187: 828, 627: 829, 922: 830, 1037: 831, 1095: 832, 1674: 833, 1987: 834, 2011: 835, 2023: 836, 2300: 837, 2877: 838, 2901: 839, 3173: 840, 3328: 841, 3735: 842, 4131: 843, 4558: 844, 5447: 845, 5451: 846, 5481: 847, 5507: 848, 5841: 849, 5843: 850, 5872: 851, 5890: 852, 5891: 853, 5893: 854, 5902: 855, 5956: 856, 5962: 857, 5965: 858, 5988: 859, 6001: 860, 6044: 861, 1028: 862, 1088: 863, 1247: 864, 1307: 865, 3882: 866, 4447: 867, 5066: 868, 5377: 869, 5620: 870, 5943: 871, 5957: 872, 6155: 873, 6266: 874, 6377: 875, 6535: 876, 6942: 877, 7149: 878, 7151: 879, 7154: 880, 7169: 881, 7293: 882, 7375: 883, 7451: 884, 7458: 885, 8529: 886, 8533: 887, 8869: 888, 8969: 889, 30749: 890, 31433: 891, 31685: 892, 33145: 893, 33679: 894, 40629: 895, 40819: 896, 41285: 897, 47099: 898, 51662: 899, 51705: 900, 51834: 901, 54286: 902, 56367: 903, 56949: 904, 58047: 905, 59333: 906, 59421: 907, 60397: 908, 60950: 909, 61250: 910, 63113: 911, 63992: 912, 64969: 913, 66203: 914, 68954: 915, 69406: 916, 69844: 917, 70183: 918, 70293: 919, 71579: 920, 72011: 921, 72330: 922, 72407: 923, 72720: 924, 72737: 925, 72998: 926, 73017: 927, 74450: 928, 77841: 929, 78772: 930, 79091: 931, 80549: 932, 81784: 933, 81845: 934, 81847: 935, 82167: 936, 82499: 937, 84374: 938, 86548: 939, 87222: 940, 88163: 941, 88810: 942, 91104: 943, 92259: 944, 94070: 945, 95167: 946, 95449: 947, 95510: 948, 95543: 949, 96079: 950, 97024: 951, 97938: 952, 98203: 953, 103335: 954, 103339: 955, 104374: 956, 105211: 957, 106489: 958, 106696: 959, 107141: 960, 109374: 961, 109853: 962, 112006: 963, 113275: 964, 113394: 965, 119145: 966, 129428: 967, 136020: 968, 137595: 969, 140110: 970, 44: 971, 376: 972, 511: 973, 529: 974, 1100: 975, 1358: 976, 1370: 977, 1385: 978, 1438: 979, 1518: 980, 1586: 981, 1604: 982, 1608: 983, 1616: 984, 1687: 985, 1693: 986, 1721: 987, 1840: 988, 1882: 989, 1918: 990, 2002: 991, 2027: 992, 1357: 993, 1405: 994, 1876: 995, 2072: 996, 2100: 997, 2421: 998, 2485: 999, 2572: 1000, 2581: 1001, 2694: 1002, 3668: 1003, 305: 1004, 1173: 1005, 1590: 1006, 1619: 1007, 1639: 1008, 2541: 1009, 3300: 1010, 3409: 1011, 3513: 1012, 3624: 1013, 3717: 1014, 3753: 1015, 3798: 1016, 3827: 1017, 3863: 1018, 3893: 1019, 3952: 1020, 4011: 1021, 4148: 1022, 193: 1023, 448: 1024, 784: 1025, 172: 1026, 858: 1027, 1200: 1028, 1347: 1029, 1527: 1030, 1653: 1031, 1909: 1032, 2001: 1033, 2081: 1034, 2085: 1035, 2278: 1036, 3156: 1037, 3499: 1038, 3510: 1039, 3535: 1040, 3555: 1041, 4022: 1042, 4720: 1043, 5971: 1044, 6502: 1045, 7254: 1046, 7438: 1047, 8644: 1048, 48304: 1049, 48774: 1050, 48780: 1051, 50872: 1052, 56174: 1053, 59315: 1054, 60069: 1055, 63859: 1056, 64614: 1057, 68237: 1058, 69757: 1059, 70286: 1060, 71057: 1061, 71264: 1062, 84152: 1063, 84954: 1064, 85414: 1065, 89745: 1066, 91500: 1067, 94864: 1068, 96610: 1069, 101864: 1070, 103249: 1071, 104841: 1072, 105504: 1073, 110102: 1074, 111759: 1075, 112556: 1076, 112852: 1077, 115149: 1078, 120466: 1079, 122886: 1080, 122904: 1081, 122922: 1082, 122924: 1083, 134130: 1084, 134853: 1085, 143385: 1086, 152077: 1087, 152081: 1088, 158872: 1089, 160980: 1090, 166528: 1091, 166635: 1092, 111: 1093, 541: 1094, 678: 1095, 745: 1096, 913: 1097, 1147: 1098, 1148: 1099, 1186: 1100, 1193: 1101, 1201: 1102, 1207: 1103, 1223: 1104, 1230: 1105, 1252: 1106, 1260: 1107, 1261: 1108, 1267: 1109, 1276: 1110, 1281: 1111, 1299: 1112, 1680: 1113, 2490: 1114, 2707: 1115, 2723: 1116, 3000: 1117, 3022: 1118, 3108: 1119, 3174: 1120, 3429: 1121, 3683: 1122, 3741: 1123, 4878: 1124, 4973: 1125, 5782: 1126, 6350: 1127, 7099: 1128, 7361: 1129, 27611: 1130, 27773: 1131, 48394: 1132, 78499: 1133, 1036: 1134, 1209: 1135, 1221: 1136, 1228: 1137, 1234: 1138, 1375: 1139, 2194: 1140, 3039: 1141, 3263: 1142, 3435: 1143, 3681: 1144, 4571: 1145, 6016: 1146, 6870: 1147, 7482: 1148, 31658: 1149, 64839: 1150, 68358: 1151, 80463: 1152, 81932: 1153, 82459: 1154, 431: 1155, 442: 1156, 555: 1157, 653: 1158, 778: 1159, 1020: 1160, 1059: 1161, 1212: 1162, 1227: 1163, 1245: 1164, 1356: 1165, 1374: 1166, 1544: 1167, 1729: 1168, 1924: 1169, 1961: 1170, 2184: 1171, 2409: 1172, 2410: 1173, 2411: 1174, 2412: 1175, 2420: 1176, 2422: 1177, 2706: 1178, 2918: 1179, 2951: 1180, 2953: 1181, 3081: 1182, 3257: 1183, 3275: 1184, 3462: 1185, 3751: 1186, 3785: 1187, 3896: 1188, 4007: 1189, 4262: 1190, 4327: 1191, 4383: 1192, 4728: 1193, 4816: 1194, 5008: 1195, 5120: 1196, 5266: 1197, 5418: 1198, 5574: 1199, 5608: 1200, 5669: 1201, 5679: 1202, 5903: 1203, 5944: 1204, 5995: 1205, 6287: 1206, 6300: 1207, 6373: 1208, 6378: 1209, 6440: 1210, 6548: 1211, 6709: 1212, 6787: 1213, 6807: 1214, 6888: 1215, 7018: 1216, 7147: 1217, 7317: 1218, 7318: 1219, 7323: 1220, 7373: 1221, 7753: 1222, 7843: 1223, 8117: 1224, 8361: 1225, 8641: 1226, 8784: 1227, 8917: 1228, 8950: 1229, 26444: 1230, 26614: 1231, 27689: 1232, 27716: 1233, 27831: 1234, 27878: 1235, 30793: 1236, 32460: 1237, 33004: 1238, 33615: 1239, 34150: 1240, 34405: 1241, 36519: 1242, 36529: 1243, 37386: 1244, 37729: 1245, 37733: 1246, 38038: 1247, 38061: 1248, 44022: 1249, 44191: 1250, 44199: 1251, 44555: 1252, 44665: 1253, 45722: 1254, 46578: 1255, 46965: 1256, 47200: 1257, 47491: 1258, 49651: 1259, 51357: 1260, 51540: 1261, 52604: 1262, 53125: 1263, 53129: 1264, 53318: 1265, 53464: 1266, 53972: 1267, 53996: 1268, 54272: 1269, 55118: 1270, 55247: 1271, 55276: 1272, 55290: 1273, 55765: 1274, 56757: 1275, 57528: 1276, 57640: 1277, 57669: 1278, 58295: 1279, 58299: 1280, 59615: 1281, 59784: 1282, 60040: 1283, 60074: 1284, 60684: 1285, 62434: 1286, 63131: 1287, 64197: 1288, 64957: 1289, 65596: 1290, 66934: 1291, 67255: 1292, 68073: 1293, 68159: 1294, 68319: 1295, 69122: 1296, 69640: 1297, 69951: 1298, 71108: 1299, 71156: 1300, 71899: 1301, 73268: 1302, 73321: 1303, 73323: 1304, 73499: 1305, 74510: 1306, 74789: 1307, 74948: 1308, 76077: 1309, 76175: 1310, 76251: 1311, 77561: 1312, 78469: 1313, 79293: 1314, 79592: 1315, 79695: 1316, 79702: 1317, 80219: 1318, 81788: 1319, 83349: 1320, 84392: 1321, 85354: 1322, 86190: 1323, 86332: 1324, 86628: 1325, 86880: 1326, 87232: 1327, 88094: 1328, 88129: 1329, 88140: 1330, 90600: 1331, 91485: 1332, 91542: 1333, 92094: 1334, 95441: 1335, 96432: 1336, 96488: 1337, 96655: 1338, 97752: 1339, 98124: 1340, 98585: 1341, 98809: 1342, 99728: 1343, 99813: 1344, 102125: 1345, 102445: 1346, 102903: 1347, 103253: 1348, 103772: 1349, 104241: 1350, 104879: 1351, 106072: 1352, 106487: 1353, 106839: 1354, 107846: 1355, 111362: 1356, 112183: 1357, 112334: 1358, 112421: 1359, 114066: 1360, 116797: 1361, 116823: 1362, 117176: 1363, 118900: 1364, 122892: 1365, 122900: 1366, 122918: 1367, 122920: 1368, 122926: 1369, 128620: 1370, 135569: 1371, 139385: 1372, 140289: 1373, 141688: 1374, 142488: 1375, 144210: 1376, 145283: 1377, 148626: 1378, 150548: 1379, 155168: 1380, 157108: 1381, 157110: 1382, 158238: 1383, 158972: 1384, 159093: 1385, 160438: 1386, 161582: 1387, 162350: 1388, 162606: 1389, 164179: 1390, 166015: 1391, 168252: 1392, 171023: 1393, 176101: 1394, 177593: 1395, 180095: 1396, 180777: 1397, 185135: 1398, 12: 1399, 48: 1400, 64: 1401, 107: 1402, 118: 1403, 173: 1404, 295: 1405, 325: 1406, 328: 1407, 338: 1408, 372: 1409, 379: 1410, 407: 1411, 414: 1412, 420: 1413, 422: 1414, 427: 1415, 486: 1416, 512: 1417, 513: 1418, 551: 1419, 558: 1420, 610: 1421, 611: 1422, 671: 1423, 674: 1424, 724: 1425, 742: 1426, 743: 1427, 761: 1428, 785: 1429, 788: 1430, 798: 1431, 810: 1432, 829: 1433, 832: 1434, 866: 1435, 879: 1436, 903: 1437, 906: 1438, 911: 1439, 915: 1440, 921: 1441, 931: 1442, 933: 1443, 965: 1444, 984: 1445, 1016: 1446, 1021: 1447, 1047: 1448, 1081: 1449, 1129: 1450, 1215: 1451, 1238: 1452, 1257: 1453, 1269: 1454, 1285: 1455, 1297: 1456, 1322: 1457, 1324: 1458, 1330: 1459, 1333: 1460, 1339: 1461, 1342: 1462, 1345: 1463, 1346: 1464, 1355: 1465, 1359: 1466, 1367: 1467, 1372: 1468, 1373: 1469, 1376: 1470, 1378: 1471, 1379: 1472, 1380: 1473, 1394: 1474, 1407: 1475, 1409: 1476, 1427: 1477, 1441: 1478, 1456: 1479, 1457: 1480, 1461: 1481, 1474: 1482, 1479: 1483, 1485: 1484, 1489: 1485, 1499: 1486, 1542: 1487, 1550: 1488, 1551: 1489, 1556: 1490, 1562: 1491, 1566: 1492, 1569: 1493, 1583: 1494, 1588: 1495, 1591: 1496, 1593: 1497, 1603: 1498, 1614: 1499, 1645: 1500, 1648: 1501, 1658: 1502, 1663: 1503, 1665: 1504, 1679: 1505, 1681: 1506, 1688: 1507, 1689: 1508, 1690: 1509, 1702: 1510, 1717: 1511, 1718: 1512, 1722: 1513, 1747: 1514, 1748: 1515, 1754: 1516, 1779: 1517, 1783: 1518, 1798: 1519, 1806: 1520, 1812: 1521, 1816: 1522, 1831: 1523, 1845: 1524, 1848: 1525, 1855: 1526, 1862: 1527, 1881: 1528, 1888: 1529, 1891: 1530, 1894: 1531, 1906: 1532, 1911: 1533, 1919: 1534, 1921: 1535, 1963: 1536, 1970: 1537, 1971: 1538, 1972: 1539, 1973: 1540, 1991: 1541, 1994: 1542, 2003: 1543, 2004: 1544, 2014: 1545, 2015: 1546, 2016: 1547, 2026: 1548, 2034: 1549, 2036: 1550, 2037: 1551, 2040: 1552, 2041: 1553, 2044: 1554, 2052: 1555, 2053: 1556, 2060: 1557, 2065: 1558, 2082: 1559, 2088: 1560, 2092: 1561, 2097: 1562, 2108: 1563, 2110: 1564, 2111: 1565, 2118: 1566, 2123: 1567, 2133: 1568, 2134: 1569, 2140: 1570, 2144: 1571, 2148: 1572, 2153: 1573, 2167: 1574, 2169: 1575, 2171: 1576, 2206: 1577, 2227: 1578, 2232: 1579, 2243: 1580, 2244: 1581, 2245: 1582, 2248: 1583, 2249: 1584, 2255: 1585, 2261: 1586, 2263: 1587, 2266: 1588, 2267: 1589, 2279: 1590, 2287: 1591, 2294: 1592, 2302: 1593, 2315: 1594, 2320: 1595, 2321: 1596, 2328: 1597, 2335: 1598, 2354: 1599, 2355: 1600, 2369: 1601, 2371: 1602, 2372: 1603, 2374: 1604, 2375: 1605, 2393: 1606, 2394: 1607, 2396: 1608, 2407: 1609, 2413: 1610, 2416: 1611, 2418: 1612, 2423: 1613, 2428: 1614, 2446: 1615, 2453: 1616, 2455: 1617, 2458: 1618, 2463: 1619, 2465: 1620, 2468: 1621, 2491: 1622, 2496: 1623, 2513: 1624, 2518: 1625, 2539: 1626, 2548: 1627, 2550: 1628, 2555: 1629, 2558: 1630, 2605: 1631, 2606: 1632, 2614: 1633, 2622: 1634, 2642: 1635, 2643: 1636, 2668: 1637, 2672: 1638, 2687: 1639, 2699: 1640, 2709: 1641, 2710: 1642, 2719: 1643, 2720: 1644, 2722: 1645, 2733: 1646, 2746: 1647, 2754: 1648, 2788: 1649, 2793: 1650, 2802: 1651, 2804: 1652, 2806: 1653, 2808: 1654, 2822: 1655, 2836: 1656, 2840: 1657, 2857: 1658, 2860: 1659, 2867: 1660, 2870: 1661, 2883: 1662, 2888: 1663, 2898: 1664, 2900: 1665, 2915: 1666, 2936: 1667, 2968: 1668, 2995: 1669, 3005: 1670, 3016: 1671, 3017: 1672, 3031: 1673, 3032: 1674, 3035: 1675, 3040: 1676, 3048: 1677, 3056: 1678, 3063: 1679, 3064: 1680, 3070: 1681, 3072: 1682, 3082: 1683, 3087: 1684, 3101: 1685, 3104: 1686, 3113: 1687, 3146: 1688, 3190: 1689, 3203: 1690, 3213: 1691, 3219: 1692, 3225: 1693, 3238: 1694, 3248: 1695, 3254: 1696, 3258: 1697, 3264: 1698, 3269: 1699, 3301: 1700, 3308: 1701, 3316: 1702, 3324: 1703, 3355: 1704, 3361: 1705, 3370: 1706, 3387: 1707, 3393: 1708, 3394: 1709, 3395: 1710, 3396: 1711, 3397: 1712, 3398: 1713, 3400: 1714, 3401: 1715, 3418: 1716, 3421: 1717, 3424: 1718, 3454: 1719, 3466: 1720, 3471: 1721, 3476: 1722, 3477: 1723, 3483: 1724, 3484: 1725, 3497: 1726, 3500: 1727, 3501: 1728, 3505: 1729, 3515: 1730, 3526: 1731, 3534: 1732, 3536: 1733, 3548: 1734, 3550: 1735, 3551: 1736, 3584: 1737, 3594: 1738, 3608: 1739, 3622: 1740, 3662: 1741, 3685: 1742, 3686: 1743, 3692: 1744, 3693: 1745, 3698: 1746, 3699: 1747, 3701: 1748, 3704: 1749, 3705: 1750, 3706: 1751, 3708: 1752, 3712: 1753, 3743: 1754, 3745: 1755, 3752: 1756, 3754: 1757, 3763: 1758, 3770: 1759, 3784: 1760, 3797: 1761, 3802: 1762, 3825: 1763, 3826: 1764, 3835: 1765, 3837: 1766, 3839: 1767, 1010: 1768, 1012: 1769, 1013: 1770, 1015: 1771, 1018: 1772, 1022: 1773, 1035: 1774, 1547: 1775, 2006: 1776, 2059: 1777, 2083: 1778, 2087: 1779, 2089: 1780, 2135: 1781, 2430: 1782, 2565: 1783, 2941: 1784, 3157: 1785, 3159: 1786, 3189: 1787, 3410: 1788, 3438: 1789, 3512: 1790, 3549: 1791, 3565: 1792, 3615: 1793, 3755: 1794, 3852: 1795, 3948: 1796, 3972: 1797, 3986: 1798, 3988: 1799, 3990: 1800, 3999: 1801, 4016: 1802, 4019: 1803, 4025: 1804, 4039: 1805, 4054: 1806, 4090: 1807, 4154: 1808, 4161: 1809, 4232: 1810, 4270: 1811, 4299: 1812, 4344: 1813, 4366: 1814, 4367: 1815, 4369: 1816, 4378: 1817, 4446: 1818, 4449: 1819, 4519: 1820, 4638: 1821, 4718: 1822, 4734: 1823, 4776: 1824, 4783: 1825, 4821: 1826, 4846: 1827, 4848: 1828, 4865: 1829, 4901: 1830, 4979: 1831, 4990: 1832, 5013: 1833, 5014: 1834, 5015: 1835, 5103: 1836, 5110: 1837, 5171: 1838, 5254: 1839, 5293: 1840, 5299: 1841, 5313: 1842, 5364: 1843, 5388: 1844, 5419: 1845, 5463: 1846, 5504: 1847, 5630: 1848, 5693: 1849, 5785: 1850, 6143: 1851, 6156: 1852, 6157: 1853, 6166: 1854, 6170: 1855, 6297: 1856, 6345: 1857, 6358: 1858, 38: 1859, 2376: 1860, 2378: 1861, 2402: 1862, 2403: 1863, 2724: 1864, 2989: 1865, 2990: 1866, 3633: 1867, 3635: 1868, 3638: 1869, 3697: 1870, 3868: 1871, 3984: 1872, 4005: 1873, 4040: 1874, 4085: 1875, 4489: 1876, 4545: 1877, 4621: 1878, 4701: 1879, 5219: 1880, 5796: 1881, 6503: 1882, 7569: 1883, 7570: 1884, 7573: 1885, 7701: 1886, 8574: 1887, 8946: 1888, 26340: 1889, 30825: 1890, 34162: 1891, 39715: 1892, 40815: 1893, 41566: 1894, 45186: 1895, 45447: 1896, 45672: 1897, 46972: 1898, 47566: 1899, 47997: 1900, 50189: 1901, 51084: 1902, 52730: 1903, 52973: 1904, 53121: 1905, 53322: 1906, 54276: 1907, 56775: 1908, 58025: 1909, 58998: 1910, 59369: 1911, 59429: 1912, 59900: 1913, 61160: 1914, 63082: 1915, 64032: 1916, 68791: 1917, 68793: 1918, 69526: 1919, 69644: 1920, 72641: 1921, 73106: 1922, 73319: 1923, 73858: 1924, 76093: 1925, 78637: 1926, 79134: 1927, 79185: 1928, 80166: 1929, 81229: 1930, 81564: 1931, 81591: 1932, 81834: 1933, 82202: 1934, 85259: 1935, 86068: 1936, 87520: 1937, 88125: 1938, 88405: 1939, 88744: 1940, 90249: 1941, 91535: 1942, 91630: 1943, 93510: 1944, 94503: 1945, 94677: 1946, 94777: 1947, 95067: 1948, 95170: 1949, 95738: 1950, 96004: 1951, 96588: 1952, 97913: 1953, 99532: 1954, 102481: 1955, 102716: 1956, 102993: 1957, 103141: 1958, 103228: 1959, 103372: 1960, 103384: 1961, 103801: 1962, 103810: 1963, 103819: 1964, 103883: 1965, 104211: 1966, 105213: 1967, 105653: 1968, 105844: 1969, 105954: 1970, 106491: 1971, 106540: 1972, 106916: 1973, 106918: 1974, 106920: 1975, 107013: 1976, 107449: 1977, 108156: 1978, 108190: 1979, 108932: 1980, 108945: 1981, 109576: 1982, 109723: 1983, 109864: 1984, 110130: 1985, 110553: 1986, 111113: 1987, 111617: 1988, 111743: 1989, 111781: 1990, 111844: 1991, 112138: 1992, 112175: 1993, 114180: 1994, 114818: 1995, 115502: 1996, 115617: 1997, 115877: 1998, 117368: 1999, 117529: 2000, 117572: 2001, 117590: 2002, 117851: 2003, 117922: 2004, 119141: 2005, 119155: 2006, 119964: 2007, 122896: 2008, 126548: 2009, 130450: 2010, 132157: 2011, 133419: 2012, 134368: 2013, 134393: 2014, 135133: 2015, 135536: 2016, 135861: 2017, 135887: 2018, 136016: 2019, 138036: 2020, 138186: 2021, 139642: 2022, 139717: 2023, 139915: 2024, 140301: 2025, 142536: 2026, 143245: 2027, 148675: 2028, 149380: 2029, 160565: 2030, 160872: 2031, 164909: 2032, 166492: 2033, 167036: 2034, 168248: 2035, 173307: 2036, 1952: 2037, 1953: 2038, 2160: 2039, 3006: 2040, 4017: 2041, 4036: 2042, 4903: 2043, 5617: 2044, 5673: 2045, 6711: 2046, 8464: 2047, 8622: 2048, 30707: 2049, 31410: 2050, 34437: 2051, 39183: 2052, 41997: 2053, 46976: 2054, 52281: 2055, 53519: 2056, 54503: 2057, 55820: 2058, 56171: 2059, 56782: 2060, 56788: 2061, 60766: 2062, 61323: 2063, 64575: 2064, 66097: 2065, 68536: 2066, 71464: 2067, 29: 2068, 175: 2069, 272: 2070, 334: 2071, 741: 2072, 1050: 2073, 1175: 2074, 1217: 2075, 1218: 2076, 1232: 2077, 1233: 2078, 1237: 2079, 1243: 2080, 1248: 2081, 1249: 2082, 1274: 2083, 1284: 2084, 1425: 2085, 1464: 2086, 1711: 2087, 1809: 2088, 1859: 2089, 1884: 2090, 1960: 2091, 2579: 2092, 2686: 2093, 2726: 2094, 2730: 2095, 2912: 2096, 3030: 2097, 3181: 2098, 3265: 2099, 3822: 2100, 4235: 2101, 5333: 2102, 6234: 2103, 6387: 2104, 6721: 2105, 6773: 2106, 6790: 2107, 6857: 2108, 6920: 2109, 6989: 2110, 7064: 2111, 7069: 2112, 7123: 2113, 7587: 2114, 7924: 2115, 7932: 2116, 8012: 2117, 8228: 2118, 8370: 2119, 2405: 2120, 3556: 2121, 4855: 2122, 5064: 2123, 5791: 2124, 31696: 2125, 35836: 2126, 47610: 2127, 57368: 2128, 61024: 2129, 61132: 2130, 86882: 2131, 102407: 2132, 132660: 2133, 122912: 2134, 122916: 2135, 176371: 2136, 187541: 2137, 187593: 2138, 238: 2139, 421: 2140, 808: 2141, 969: 2142, 1083: 2143, 1262: 2144, 1287: 2145, 1387: 2146, 1592: 2147, 2032: 2148, 2142: 2149, 2151: 2150, 2311: 2151, 2530: 2152, 2532: 2153, 2876: 2154, 2886: 2155, 3037: 2156, 3350: 2157, 3451: 2158, 3519: 2159, 3654: 2160, 3791: 2161, 3836: 2162, 23: 2163, 147: 2164, 211: 2165, 428: 2166, 456: 2167, 481: 2168, 507: 2169, 635: 2170, 714: 2171, 851: 2172, 1120: 2173, 1171: 2174, 1253: 2175, 1271: 2176, 1303: 2177, 1459: 2178, 1480: 2179, 1678: 2180, 1785: 2181, 2021: 2182, 2231: 2183, 2272: 2184, 2358: 2185, 2618: 2186, 2841: 2187, 2908: 2188, 2952: 2189, 3020: 2190, 3100: 2191, 3105: 2192, 3107: 2193, 3169: 2194, 3178: 2195, 3198: 2196, 3246: 2197, 3250: 2198, 3252: 2199, 3256: 2200, 3260: 2201, 3271: 2202, 3272: 2203, 3360: 2204, 3543: 2205, 3783: 2206, 3950: 2207, 3980: 2208, 4047: 2209, 4211: 2210, 4238: 2211, 4251: 2212, 4343: 2213, 4626: 2214, 4688: 2215, 4772: 2216, 4787: 2217, 5009: 2218, 5010: 2219, 5055: 2220, 5152: 2221, 5267: 2222, 5292: 2223, 5329: 2224, 5446: 2225, 5577: 2226, 5632: 2227, 5682: 2228, 5747: 2229, 5945: 2230, 5955: 2231, 6281: 2232, 6428: 2233, 6537: 2234, 6552: 2235, 6565: 2236, 6617: 2237, 6796: 2238, 6817: 2239, 6867: 2240, 6884: 2241, 6947: 2242, 6953: 2243, 6957: 2244, 6974: 2245, 6993: 2246, 6997: 2247, 7009: 2248, 7025: 2249, 7090: 2250, 7263: 2251, 7481: 2252, 7649: 2253, 7706: 2254, 7841: 2255, 7842: 2256, 7884: 2257, 8010: 2258, 8132: 2259, 8378: 2260, 8493: 2261, 8495: 2262, 8633: 2263, 8810: 2264, 8874: 2265, 8914: 2266, 8937: 2267, 8951: 2268, 8977: 2269, 8982: 2270, 8983: 2271, 26649: 2272, 26695: 2273, 26750: 2274, 26812: 2275, 26901: 2276, 27408: 2277, 27450: 2278, 27788: 2279, 27793: 2280, 31101: 2281, 31116: 2282, 31225: 2283, 31420: 2284, 33166: 2285, 33558: 2286, 33660: 2287, 34536: 2288, 36517: 2289, 36527: 2290, 37731: 2291, 37739: 2292, 38886: 2293, 39381: 2294, 39444: 2295, 40278: 2296, 40414: 2297, 40583: 2298, 41569: 2299, 41863: 2300, 42004: 2301, 43396: 2302, 43921: 2303, 43928: 2304, 43936: 2305, 44195: 2306, 44204: 2307, 44761: 2308, 45658: 2309, 46723: 2310, 47629: 2311, 47644: 2312, 47894: 2313, 48326: 2314, 48385: 2315, 48738: 2316, 48879: 2317, 49265: 2318, 49530: 2319, 49822: 2320, 49961: 2321, 50068: 2322, 50442: 2323, 51080: 2324, 51255: 2325, 51471: 2326, 51935: 2327, 52042: 2328, 52241: 2329, 52328: 2330, 52952: 2331, 53123: 2332, 53550: 2333, 53953: 2334, 54736: 2335, 54962: 2336, 54997: 2337, 55080: 2338, 55094: 2339, 55116: 2340, 55274: 2341, 55363: 2342, 55721: 2343, 55908: 2344, 56145: 2345, 56587: 2346, 56607: 2347, 56921: 2348, 58293: 2349, 58803: 2350, 59018: 2351, 59129: 2352, 59387: 2353, 60046: 2354, 60389: 2355, 60647: 2356, 60674: 2357, 60735: 2358, 60753: 2359, 60941: 2360, 60943: 2361, 61011: 2362, 61167: 2363, 61210: 2364, 61236: 2365, 61248: 2366, 61350: 2367, 61352: 2368, 61628: 2369, 61986: 2370, 62374: 2371, 62376: 2372, 62394: 2373, 62792: 2374, 62799: 2375, 62849: 2376, 63033: 2377, 63062: 2378, 63433: 2379, 64030: 2380, 64497: 2381, 64716: 2382, 64983: 2383, 64997: 2384, 65216: 2385, 65682: 2386, 65982: 2387, 67534: 2388, 68205: 2389, 69849: 2390, 70336: 2391, 71106: 2392, 71135: 2393, 953: 2394, 1204: 2395, 1242: 2396, 1772: 2397, 1792: 2398, 1939: 2399, 1945: 2400, 2301: 2401, 3363: 2402, 4980: 2403, 7156: 2404, 7379: 2405, 26554: 2406, 26729: 2407, 64620: 2408, 87306: 2409, 98961: 2410, 96821: 2411, 605: 2412, 612: 2413, 1099: 2414, 1231: 2415, 1353: 2416, 1361: 2417, 1363: 2418, 1393: 2419, 74: 2420, 78: 2421, 194: 2422, 203: 2423, 246: 2424, 471: 2425, 786: 2426, 1104: 2427, 1429: 2428, 1458: 2429, 28: 2430, 94: 2431, 249: 2432, 307: 2433, 308: 2434, 322: 2435, 385: 2436, 446: 2437, 452: 2438, 562: 2439, 580: 2440, 613: 2441, 715: 2442, 805: 2443, 994: 2444, 1027: 2445, 1056: 2446, 1177: 2447, 1280: 2448, 1365: 2449, 1399: 2450, 1446: 2451, 1476: 2452, 1487: 2453, 1537: 2454, 1545: 2455, 1621: 2456, 1633: 2457, 1643: 2458, 1672: 2459, 1673: 2460, 1799: 2461, 1801: 2462, 1841: 2463, 2112: 2464, 2310: 2465, 2333: 2466, 2357: 2467, 2391: 2468, 2443: 2469, 2501: 2470, 2690: 2471, 2875: 2472, 2943: 2473, 3997: 2474, 5146: 2475, 5449: 2476, 6242: 2477, 6567: 2478, 6618: 2479, 26606: 2480, 27193: 2481, 27728: 2482, 27801: 2483, 31184: 2484, 44974: 2485, 544: 2486, 2269: 2487, 2735: 2488, 2794: 2489, 3066: 2490, 3270: 2491, 3347: 2492, 3362: 2493, 3766: 2494, 3861: 2495, 4220: 2496, 5093: 2497, 5312: 2498, 6662: 2499, 585: 2500, 2342: 2501, 3019: 2502, 82: 2503, 121: 2504, 199: 2505, 228: 2506, 306: 2507, 514: 2508, 685: 2509, 3285: 2510, 3968: 2511, 4890: 2512, 6708: 2513, 6763: 2514, 7173: 2515, 7444: 2516, 8981: 2517, 54001: 2518, 55280: 2519, 56941: 2520, 59725: 2521, 61240: 2522, 65230: 2523, 71033: 2524, 85774: 2525, 86781: 2526, 87869: 2527, 89759: 2528, 93840: 2529, 96829: 2530, 97921: 2531, 100714: 2532, 101525: 2533, 103980: 2534, 111659: 2535, 111921: 2536, 112290: 2537, 115569: 2538, 116897: 2539, 125916: 2540, 128360: 2541, 136864: 2542, 122: 2543, 144: 2544, 227: 2545, 408: 2546, 413: 2547, 418: 2548, 424: 2549, 433: 2550, 436: 2551, 459: 2552, 550: 2553, 639: 2554, 782: 2555, 1191: 2556, 1343: 2557, 1431: 2558, 1453: 2559, 1468: 2560, 1488: 2561, 1513: 2562, 1667: 2563, 1726: 2564, 1810: 2565, 1835: 2566, 1975: 2567, 1976: 2568, 2146: 2569, 2155: 2570, 2236: 2571, 2297: 2572, 2306: 2573, 2352: 2574, 2404: 2575, 2433: 2576, 2497: 2577, 2500: 2578, 2505: 2579, 2568: 2580, 2574: 2581, 2598: 2582, 2702: 2583, 2713: 2584, 2771: 2585, 2795: 2586, 2796: 2587, 2805: 2588, 2827: 2589, 2861: 2590, 2871: 2591, 2890: 2592, 2906: 2593, 3098: 2594, 3120: 2595, 3142: 2596, 3177: 2597, 3186: 2598, 3208: 2599, 3259: 2600, 3261: 2601, 3298: 2602, 3326: 2603, 3502: 2604, 3552: 2605, 3646: 2606, 3694: 2607, 3695: 2608, 3764: 2609, 3824: 2610, 3841: 2611, 3946: 2612, 3987: 2613, 4008: 2614, 4041: 2615, 4062: 2616, 4067: 2617, 4084: 2618, 4102: 2619, 4132: 2620, 4153: 2621, 4155: 2622, 4207: 2623, 4280: 2624, 4293: 2625, 4317: 2626, 4321: 2627, 4322: 2628, 4333: 2629, 4349: 2630, 4351: 2631, 4359: 2632, 4361: 2633, 4396: 2634, 4442: 2635, 4466: 2636, 4477: 2637, 4482: 2638, 4487: 2639, 4509: 2640, 4516: 2641, 4541: 2642, 4564: 2643, 4565: 2644, 4577: 2645, 4623: 2646, 4629: 2647, 4654: 2648, 4679: 2649, 4686: 2650, 57: 2651, 259: 2652, 484: 2653, 519: 2654, 828: 2655, 1105: 2656, 18: 2657, 663: 2658, 737: 2659, 833: 2660, 836: 2661, 889: 2662, 69: 2663, 934: 2664, 1005: 2665, 1033: 2666, 1390: 2667, 1442: 2668, 1615: 2669, 1642: 2670, 1753: 2671, 1769: 2672, 1863: 2673, 1866: 2674, 1934: 2675, 2042: 2676, 2064: 2677, 2106: 2678, 2124: 2679, 2195: 2680, 2431: 2681, 2504: 2682, 2718: 2683, 2731: 2684, 3004: 2685, 3196: 2686, 3249: 2687, 3268: 2688, 3274: 2689, 3385: 2690, 4104: 2691, 4502: 2692, 4929: 2693, 4958: 2694, 4974: 2695, 5151: 2696, 5220: 2697, 5283: 2698, 5307: 2699, 5308: 2700, 5500: 2701, 5528: 2702, 5568: 2703, 5582: 2704, 5585: 2705, 5589: 2706, 7294: 2707, 33495: 2708, 53993: 2709, 391: 2710, 2121: 2711, 2942: 2712, 3844: 2713, 3969: 2714, 4474: 2715, 4975: 2716, 5108: 2717, 6765: 2718, 7160: 2719, 8966: 2720, 45950: 2721, 47423: 2722, 51931: 2723, 53894: 2724, 63876: 2725, 68932: 2726, 69712: 2727, 72395: 2728, 79242: 2729, 82767: 2730, 96567: 2731, 96811: 2732, 97923: 2733, 100383: 2734, 106100: 2735, 108729: 2736, 112804: 2737, 117881: 2738, 132424: 2739, 137337: 2740, 140174: 2741, 140247: 2742, 140715: 2743, 145839: 2744, 146656: 2745, 159817: 2746, 163645: 2747, 166643: 2748, 171011: 2749, 1320: 2750, 5882: 2751, 8371: 2752, 909: 2753, 1251: 2754, 1273: 2755, 1289: 2756, 2164: 2757, 2553: 2758, 2732: 2759, 2925: 2760, 3221: 2761, 3415: 2762, 3730: 2763, 4282: 2764, 4399: 2765, 4658: 2766, 4914: 2767, 4928: 2768, 5004: 2769, 5021: 2770, 5810: 2771, 5932: 2772, 6239: 2773, 6663: 2774, 6666: 2775, 6975: 2776, 7063: 2777, 7206: 2778, 7247: 2779, 7327: 2780, 7396: 2781, 7700: 2782, 7748: 2783, 8143: 2784, 8157: 2785, 8235: 2786, 8253: 2787, 8379: 2788, 8879: 2789, 8928: 2790, 8974: 2791, 26258: 2792, 26326: 2793, 26422: 2794, 27156: 2795, 27513: 2796, 32657: 2797, 32659: 2798, 32875: 2799, 32898: 2800, 33781: 2801, 37545: 2802, 44719: 2803, 45880: 2804, 46062: 2805, 46862: 2806, 52885: 2807, 62336: 2808, 62644: 2809, 63312: 2810, 64278: 2811, 66335: 2812, 79224: 2813, 81018: 2814, 81562: 2815, 82848: 2816, 85796: 2817, 88911: 2818, 90522: 2819, 90746: 2820, 91094: 2821, 92046: 2822, 92427: 2823, 92475: 2824, 93114: 2825, 93326: 2826, 96606: 2827, 97225: 2828, 97304: 2829, 100498: 2830, 101072: 2831, 103171: 2832, 104283: 2833, 104913: 2834, 105250: 2835, 107338: 2836, 107565: 2837, 111732: 2838, 113374: 2839, 114335: 2840, 115203: 2841, 122898: 2842, 127146: 2843, 128695: 2844, 134170: 2845, 134515: 2846, 135143: 2847, 135456: 2848, 136018: 2849, 136305: 2850, 136564: 2851, 137857: 2852, 138208: 2853, 139644: 2854, 140928: 2855, 142074: 2856, 142448: 2857, 142602: 2858, 142961: 2859, 142997: 2860, 143859: 2861, 143969: 2862, 149406: 2863, 151759: 2864, 156607: 2865, 160569: 2866, 164280: 2867, 165969: 2868, 167370: 2869, 168254: 2870, 168492: 2871, 170705: 2872, 170875: 2873, 171701: 2874, 171759: 2875, 172013: 2876, 172461: 2877, 174055: 2878, 174141: 2879, 174403: 2880, 174737: 2881, 175485: 2882, 175661: 2883, 175693: 2884, 175705: 2885, 175707: 2886, 175743: 2887, 175781: 2888, 179073: 2889, 188301: 2890, 190183: 2891, 387: 2892, 479: 2893, 482: 2894, 522: 2895, 781: 2896, 1011: 2897, 1014: 2898, 1235: 2899, 1244: 2900, 1301: 2901, 1350: 2902, 1873: 2903, 1997: 2904, 1999: 2905, 2159: 2906, 2183: 2907, 2265: 2908, 2322: 2909, 2356: 2910, 2363: 2911, 2379: 2912, 2380: 2913, 2408: 2914, 2454: 2915, 2524: 2916, 2533: 2917, 2554: 2918, 2587: 2919, 2613: 2920, 2615: 2921, 2634: 2922, 2661: 2923, 2664: 2924, 2752: 2925, 2978: 2926, 3115: 2927, 3148: 2928, 3388: 2929, 3430: 2930, 3614: 2931, 3799: 2932, 3814: 2933, 3917: 2934, 3918: 2935, 3959: 2936, 4215: 2937, 4241: 2938, 4255: 2939, 4267: 2940, 4291: 2941, 4340: 2942, 4437: 2943, 4464: 2944, 4496: 2945, 4508: 2946, 4591: 2947, 4713: 2948, 4876: 2949, 4971: 2950, 4992: 2951, 5040: 2952, 5339: 2953, 5505: 2954, 5672: 2955, 5712: 2956, 6323: 2957, 6371: 2958, 6659: 2959, 6786: 2960, 6793: 2961, 6873: 2962, 6880: 2963, 7000: 2964, 7004: 2965, 7007: 2966, 7040: 2967, 7163: 2968, 7757: 2969, 7983: 2970, 8623: 2971, 26680: 2972, 34338: 2973, 39414: 2974, 42723: 2975, 45666: 2976, 48877: 2977, 52722: 2978, 57532: 2979, 59306: 2980, 60487: 2981, 33646: 2982, 50794: 2983, 51077: 2984, 52245: 2985, 54995: 2986, 54999: 2987, 56801: 2988, 65514: 2989, 69481: 2990, 86892: 2991, 93721: 2992, 93838: 2993, 110501: 2994, 748: 2995, 916: 2996, 1125: 2997, 1982: 2998, 1293: 2999, 198: 3000, 473: 3001, 518: 3002, 707: 3003, 728: 3004, 861: 3005, 897: 3006, 942: 3007, 951: 3008, 955: 3009, 1184: 3010, 1254: 3011, 1268: 3012, 1277: 3013, 1388: 3014, 1416: 3015, 1498: 3016, 1564: 3017, 1646: 3018, 1670: 3019, 1858: 3020, 1912: 3021, 2009: 3022, 2067: 3023, 2102: 3024, 2202: 3025, 2289: 3026, 2429: 3027, 2476: 3028, 2681: 3029, 2759: 3030, 2917: 3031, 2922: 3032, 2935: 3033, 2961: 3034, 3045: 3035, 3334: 3036, 3426: 3037, 3446: 3038, 3494: 3039, 3507: 3040, 3593: 3041, 3628: 3042, 3632: 3043, 3643: 3044, 3769: 3045, 3773: 3046, 3774: 3047, 3811: 3048, 3901: 3049, 3937: 3050, 280: 3051, 928: 3052, 1151: 3053, 1428: 3054, 1631: 3055, 1696: 3056, 1797: 3057, 1944: 3058, 2020: 3059, 2075: 3060, 3075: 3061, 3230: 3062, 3461: 3063, 3498: 3064, 3504: 3065, 6460: 3066, 2739: 3067, 6058: 3068, 6541: 3069, 6564: 3070, 27660: 3071, 27706: 3072, 27808: 3073, 48043: 3074, 49130: 3075, 49649: 3076, 50804: 3077, 51086: 3078, 59501: 3079, 60072: 3080, 60126: 3081, 63072: 3082, 67734: 3083, 68554: 3084, 68848: 3085, 74228: 3086, 78105: 3087, 79357: 3088, 80693: 3089, 82461: 3090, 83369: 3091, 86911: 3092, 87430: 3093, 89492: 3094, 89864: 3095, 90866: 3096, 96861: 3097, 99149: 3098, 102123: 3099, 103042: 3100, 103341: 3101, 104863: 3102, 106002: 3103, 107348: 3104, 107406: 3105, 111360: 3106, 113741: 3107, 114662: 3108, 114678: 3109, 114935: 3110, 115210: 3111, 115680: 3112, 118696: 3113, 128512: 3114, 135518: 3115, 142222: 3116, 143355: 3117, 158966: 3118, 161131: 3119, 166534: 3120, 168250: 3121, 170827: 3122, 171763: 3123, 172591: 3124, 173925: 3125, 174053: 3126, 175303: 3127, 176601: 3128, 179401: 3129, 179819: 3130, 182715: 3131, 183611: 3132, 184471: 3133, 185031: 3134, 187595: 3135, 1202: 3136, 1965: 3137, 3088: 3138, 4105: 3139, 6104: 3140, 7022: 3141, 7132: 3142, 7387: 3143, 7980: 3144, 8376: 3145, 8873: 3146, 27846: 3147, 27904: 3148, 30810: 3149, 33779: 3150, 45728: 3151, 53000: 3152, 54259: 3153, 64285: 3154, 67997: 3155, 77800: 3156, 86290: 3157, 86504: 3158, 89753: 3159, 89904: 3160, 92494: 3161, 92535: 3162, 95858: 3163, 98491: 3164, 102217: 3165, 104069: 3166, 365: 3167, 968: 3168, 1096: 3169, 1762: 3170, 1889: 3171, 2313: 3172, 2905: 3173, 3041: 3174, 4023: 3175, 4128: 3176, 4380: 3177, 4448: 3178, 4773: 3179, 4964: 3180, 5026: 3181, 5225: 3182, 5291: 3183, 5417: 3184, 5690: 3185, 5878: 3186, 5954: 3187, 6188: 3188, 6214: 3189, 6218: 3190, 6296: 3191, 6331: 3192, 6385: 3193, 6936: 3194, 6944: 3195, 7139: 3196, 7162: 3197, 7235: 3198, 7360: 3199, 7411: 3200, 7743: 3201, 7930: 3202, 7982: 3203, 8014: 3204, 8093: 3205, 8645: 3206, 8795: 3207, 8832: 3208, 26504: 3209, 27020: 3210, 27266: 3211, 27523: 3212, 27869: 3213, 33683: 3214, 34072: 3215, 42632: 3216, 255: 3217, 523: 3218, 535: 3219, 1216: 3220, 1326: 3221, 1382: 3222, 1541: 3223, 1956: 3224, 2257: 3225, 2312: 3226, 2316: 3227, 2401: 3228, 2956: 3229, 2966: 3230, 3029: 3231, 3074: 3232, 3201: 3233, 3262: 3234, 3444: 3235, 4079: 3236, 4149: 3237, 4158: 3238, 4203: 3239, 4231: 3240, 4465: 3241, 4499: 3242, 4537: 3243, 4572: 3244, 4581: 3245, 4585: 3246, 4611: 3247, 4616: 3248, 5023: 3249, 5265: 3250, 5548: 3251, 5644: 3252, 6022: 3253, 6025: 3254, 6124: 3255, 6313: 3256, 6636: 3257, 6754: 3258, 6832: 3259, 6979: 3260, 6996: 3261, 7015: 3262, 7027: 3263, 7028: 3264, 7046: 3265, 7048: 3266, 7127: 3267, 7325: 3268, 7493: 3269, 7624: 3270, 7647: 3271, 7766: 3272, 8024: 3273, 8158: 3274, 5628: 3275, 8604: 3276, 8605: 3277, 875: 3278, 932: 3279, 1017: 3280, 1019: 3281, 1292: 3282, 1381: 3283, 1515: 3284, 1635: 3285, 1703: 3286, 2125: 3287, 2334: 3288, 2340: 3289, 2385: 3290, 2471: 3291, 2560: 3292, 2567: 3293, 2662: 3294, 2728: 3295, 2803: 3296, 2881: 3297, 2950: 3298, 3077: 3299, 3452: 3300, 3553: 3301, 3554: 3302, 3653: 3303, 3675: 3304, 3707: 3305, 3786: 3306, 3978: 3307, 3981: 3308, 4015: 3309, 4068: 3310, 4069: 3311, 4124: 3312, 4141: 3313, 4326: 3314, 4356: 3315, 4372: 3316, 4387: 3317, 4388: 3318, 4639: 3319, 4677: 3320, 4681: 3321, 4823: 3322, 4877: 3323, 4969: 3324, 5049: 3325, 5400: 3326, 5444: 3327, 5541: 3328, 5553: 3329, 6193: 3330, 6383: 3331, 6595: 3332, 6707: 3333, 6753: 3334, 6755: 3335, 6879: 3336, 6893: 3337, 6939: 3338, 7010: 3339, 7137: 3340, 7256: 3341, 7320: 3342, 7346: 3343, 7454: 3344, 7541: 3345, 7566: 3346, 8366: 3347, 8677: 3348, 8781: 3349, 8807: 3350, 8861: 3351, 8866: 3352, 8910: 3353, 8947: 3354, 8968: 3355, 8985: 3356, 26712: 3357, 26778: 3358, 26871: 3359, 27473: 3360, 27539: 3361, 27705: 3362, 30822: 3363, 31049: 3364, 32598: 3365, 33154: 3366, 33437: 3367, 33672: 3368, 34153: 3369, 34542: 3370, 40732: 3371, 40959: 3372, 41571: 3373, 41573: 3374, 41724: 3375, 42018: 3376, 42718: 3377, 42738: 3378, 44004: 3379, 44709: 3380, 44788: 3381, 45431: 3382, 45501: 3383, 45720: 3384, 45726: 3385, 45928: 3386, 46322: 3387, 46948: 3388, 47970: 3389, 47978: 3390, 47999: 3391, 48342: 3392, 48696: 3393, 49274: 3394, 49772: 3395, 50658: 3396, 50685: 3397, 50740: 3398, 50806: 3399, 51709: 3400, 51884: 3401, 52287: 3402, 52435: 3403, 52458: 3404, 52767: 3405, 52975: 3406, 53435: 3407, 54004: 3408, 54116: 3409, 54121: 3410, 54281: 3411, 54734: 3412, 54881: 3413, 55052: 3414, 55112: 3415, 55190: 3416, 55232: 3417, 55253: 3418, 55267: 3419, 55282: 3420, 55620: 3421, 55830: 3422, 56152: 3423, 56251: 3424, 56336: 3425, 56339: 3426, 56379: 3427, 57951: 3428, 58078: 3429, 58107: 3430, 58162: 3431, 58347: 3432, 58839: 3433, 59126: 3434, 59220: 3435, 59258: 3436, 59440: 3437, 59731: 3438, 60363: 3439, 60514: 3440, 62155: 3441, 62293: 3442, 62956: 3443, 62999: 3444, 64622: 3445, 65188: 3446, 66198: 3447, 66665: 3448, 67087: 3449, 67267: 3450, 67408: 3451, 67618: 3452, 68659: 3453, 68952: 3454, 69069: 3455, 69394: 3456, 69524: 3457, 69784: 3458, 69904: 3459, 70492: 3460, 70521: 3461, 70990: 3462, 71282: 3463, 72167: 3464, 72489: 3465, 72591: 3466, 73023: 3467, 74154: 3468, 74508: 3469, 74668: 3470, 74946: 3471, 76751: 3472, 78467: 3473, 78703: 3474, 79057: 3475, 80860: 3476, 81910: 3477, 83134: 3478, 83803: 3479, 84772: 3480, 85780: 3481, 86293: 3482, 86377: 3483, 86833: 3484, 89087: 3485, 89470: 3486, 90576: 3487, 92420: 3488, 93287: 3489, 94959: 3490, 95218: 3491, 95624: 3492, 95875: 3493, 96110: 3494, 114762: 3495, 4744: 3496, 4880: 3497, 1172: 3498, 1300: 3499, 1955: 3500, 1959: 3501, 1962: 3502, 3152: 3503, 3359: 3504, 3468: 3505, 91077: 3506, 2136: 3507, 44193: 3508, 45221: 3509, 47122: 3510, 47518: 3511, 48414: 3512, 50601: 3513, 53460: 3514, 55768: 3515, 68135: 3516, 69278: 3517, 71518: 3518, 72226: 3519, 74647: 3520, 75805: 3521, 76293: 3522, 87485: 3523, 92509: 3524, 93272: 3525, 99106: 3526, 101612: 3527, 105037: 3528, 109483: 3529, 111320: 3530, 112450: 3531, 112788: 3532, 113378: 3533, 114074: 3534, 123947: 3535, 127202: 3536, 128520: 3537, 131013: 3538, 138204: 3539, 149354: 3540, 151739: 3541, 926: 3542, 949: 3543, 1041: 3544, 1185: 3545, 2010: 3546, 2360: 3547, 2594: 3548, 3089: 3549, 3307: 3550, 4103: 3551, 4427: 3552, 4546: 3553, 5300: 3554, 5304: 3555, 5341: 3556, 5434: 3557, 5812: 3558, 5867: 3559, 6235: 3560, 6244: 3561, 6270: 3562, 6301: 3563, 6305: 3564, 6591: 3565, 6791: 3566, 6852: 3567, 6858: 3568, 7087: 3569, 7158: 3570, 7234: 3571, 7419: 3572, 7889: 3573, 8154: 3574, 8183: 3575, 8340: 3576, 8341: 3577, 8804: 3578, 8838: 3579, 26350: 3580, 26578: 3581, 27721: 3582, 31522: 3583, 39292: 3584, 44937: 3585, 48698: 3586, 50274: 3587, 52967: 3588, 55069: 3589, 55444: 3590, 55814: 3591, 57147: 3592, 58103: 3593, 58154: 3594, 6303: 3595, 7001: 3596, 2318: 3597, 7669: 3598, 39446: 3599, 55577: 3600, 63436: 3601, 72129: 3602, 81535: 3603, 20: 3604, 2792: 3605, 164: 3606, 1189: 3607, 1192: 3608, 2659: 3609, 3197: 3610, 3266: 3611, 3425: 3612, 3576: 3613, 4887: 3614, 6059: 3615, 6952: 3616, 60030: 3617, 69654: 3618, 75395: 3619, 78266: 3620, 78349: 3621, 80363: 3622, 80831: 3623, 81417: 3624, 82041: 3625, 84189: 3626, 84601: 3627, 85397: 3628, 90405: 3629, 90469: 3630, 91974: 3631, 93297: 3632, 96691: 3633, 96917: 3634, 98361: 3635, 100810: 3636, 103075: 3637, 103688: 3638, 2381: 3639, 2383: 3640, 2384: 3641, 4386: 3642, 4989: 3643, 5065: 3644, 5094: 3645, 5106: 3646, 5296: 3647, 5414: 3648, 5803: 3649, 5874: 3650, 5900: 3651, 6006: 3652, 6014: 3653, 6249: 3654, 6338: 3655, 6484: 3656, 6536: 3657, 6550: 3658, 6566: 3659, 6586: 3660, 6593: 3661, 6686: 3662, 6687: 3663, 6702: 3664, 6750: 3665, 6752: 3666, 6764: 3667, 6886: 3668, 6887: 3669, 6946: 3670, 6949: 3671, 6958: 3672, 7142: 3673, 3155: 3674, 27397: 3675, 55442: 3676, 58303: 3677, 14: 3678, 55: 3679, 154: 3680, 214: 3681, 287: 3682, 299: 3683, 321: 3684, 324: 3685, 326: 3686, 331: 3687, 369: 3688, 406: 3689, 691: 3690, 722: 3691, 726: 3692, 900: 3693, 948: 3694, 971: 3695, 987: 3696, 1091: 3697, 1131: 3698, 1132: 3699, 1135: 3700, 1187: 3701, 1190: 3702, 1194: 3703, 1286: 3704, 1290: 3705, 1295: 3706, 1296: 3707, 1305: 3708, 1395: 3709, 1414: 3710, 53: 3711, 1140: 3712, 1519: 3713, 1596: 3714, 1624: 3715, 1683: 3716, 1694: 3717, 1730: 3718, 72356: 3719, 74553: 3720, 3910: 3721, 6464: 3722, 7312: 3723, 26974: 3724, 74795: 3725, 83177: 3726, 901: 3727, 905: 3728, 918: 3729, 936: 3730, 945: 3731, 946: 3732, 947: 3733, 950: 3734, 3061: 3735, 3097: 3736, 3315: 3737, 3599: 3738, 3604: 3739, 3606: 3740, 3991: 3741, 4300: 3742, 4899: 3743, 5092: 3744, 5480: 3745, 5529: 3746, 5621: 3747, 6271: 3748, 6402: 3749, 6604: 3750, 6650: 3751, 6783: 3752, 7067: 3753, 7209: 3754, 7297: 3755, 7381: 3756, 8238: 3757, 8372: 3758, 8814: 3759, 8978: 3760, 25887: 3761, 26183: 3762, 26184: 3763, 26265: 3764, 26429: 3765, 26645: 3766, 27619: 3767, 27826: 3768, 31851: 3769, 31925: 3770, 32060: 3771, 32243: 3772, 32596: 3773, 33090: 3774, 33830: 3775, 34312: 3776, 34332: 3777, 35807: 3778, 37384: 3779, 37444: 3780, 40339: 3781, 40962: 3782, 41828: 3783, 42013: 3784, 42725: 3785, 42761: 3786, 44773: 3787, 44777: 3788, 44851: 3789, 46105: 3790, 47725: 3791, 47736: 3792, 48520: 3793, 48649: 3794, 48982: 3795, 49013: 3796, 49735: 3797, 50613: 3798, 50999: 3799, 51167: 3800, 51575: 3801, 53280: 3802, 53355: 3803, 53578: 3804, 55269: 3805, 58291: 3806, 60289: 3807, 60737: 3808, 62008: 3809, 64116: 3810, 65588: 3811, 66798: 3812, 66943: 3813, 67888: 3814, 69211: 3815, 69304: 3816, 69469: 3817, 69720: 3818, 70697: 3819, 72178: 3820, 72624: 3821, 72692: 3822, 72701: 3823, 73015: 3824, 73042: 3825, 73160: 3826, 73822: 3827, 74342: 3828, 74683: 3829, 74698: 3830, 76143: 3831, 76301: 3832, 77688: 3833, 78142: 3834, 78620: 3835, 79684: 3836, 79897: 3837, 80727: 3838, 81087: 3839, 81537: 3840, 82854: 3841, 83910: 3842, 83969: 3843, 84246: 3844, 84512: 3845, 84944: 3846, 85295: 3847, 85881: 3848, 86059: 3849, 86298: 3850, 87834: 3851, 88069: 3852, 88746: 3853, 88785: 3854, 88812: 3855, 89898: 3856, 90717: 3857, 91355: 3858, 91386: 3859, 91666: 3860, 92643: 3861, 93006: 3862, 93022: 3863, 94661: 3864, 95633: 3865, 95843: 3866, 96608: 3867, 96935: 3868, 97836: 3869, 98279: 3870, 99117: 3871, 99122: 3872, 99130: 3873, 99853: 3874, 100390: 3875, 100507: 3876, 101283: 3877, 102378: 3878, 102686: 3879, 102747: 3880, 102984: 3881, 103602: 3882, 104339: 3883, 104875: 3884, 105540: 3885, 105746: 3886, 106594: 3887, 106927: 3888, 107951: 3889, 108078: 3890, 108949: 3891, 109241: 3892, 109596: 3893, 111146: 3894, 113252: 3895, 113453: 3896, 115111: 3897, 116718: 3898, 116738: 3899, 116817: 3900, 117109: 3901, 118270: 3902, 118530: 3903, 118572: 3904, 118834: 3905, 118862: 3906, 118894: 3907, 119714: 3908, 120813: 3909, 121007: 3910, 121097: 3911, 121338: 3912, 121342: 3913, 121469: 3914, 121781: 3915, 122092: 3916, 124273: 3917, 124404: 3918, 125970: 3919, 125974: 3920, 126088: 3921, 126577: 3922, 126921: 3923, 127052: 3924, 127134: 3925, 128087: 3926, 128089: 3927, 128366: 3928, 128594: 3929, 128852: 3930, 128944: 3931, 128968: 3932, 129011: 3933, 129354: 3934, 130452: 3935, 130518: 3936, 130520: 3937, 131098: 3938, 131104: 3939, 131130: 3940, 131439: 3941, 131610: 3942, 131826: 3943, 132153: 3944, 132422: 3945, 132496: 3946, 132584: 3947, 132800: 3948, 133712: 3949, 133867: 3950, 133879: 3951, 134004: 3952, 134334: 3953, 134847: 3954, 135777: 3955, 135937: 3956, 136341: 3957, 136353: 3958, 136355: 3959, 136359: 3960, 136503: 3961, 136834: 3962, 139157: 3963, 139640: 3964, 139994: 3965, 140133: 3966, 140481: 3967, 140541: 3968, 140561: 3969, 140711: 3970, 141513: 3971, 141544: 3972, 141646: 3973, 141830: 3974, 141928: 3975, 142196: 3976, 142444: 3977, 142550: 3978, 142831: 3979, 143031: 3980, 143559: 3981, 144222: 3982, 145491: 3983, 146244: 3984, 146684: 3985, 146986: 3986, 147410: 3987, 147936: 3988, 148632: 3989, 148775: 3990, 149350: 3991, 149352: 3992, 149508: 3993, 149566: 3994, 150554: 3995, 153386: 3996, 153408: 3997, 155589: 3998, 156025: 3999, 156781: 4000, 157296: 4001, 157775: 4002, 158398: 4003, 158882: 4004, 159069: 4005, 160567: 4006, 163527: 4007, 164200: 4008, 164226: 4009, 164707: 4010, 167018: 4011, 167380: 4012, 167772: 4013, 167854: 4014, 169912: 4015, 170837: 4016, 170993: 4017, 171751: 4018, 171811: 4019, 172321: 4020, 173253: 4021, 174681: 4022, 176621: 4023, 176805: 4024, 177185: 4025, 177765: 4026, 179211: 4027, 181065: 4028, 182293: 4029, 182297: 4030, 182299: 4031, 182731: 4032, 184349: 4033, 184791: 4034, 68: 4035, 81: 4036, 85: 4037, 116: 4038, 581: 4039, 617: 4040, 735: 4041, 766: 4042, 791: 4043, 896: 4044, 1034: 4045, 1116: 4046, 1137: 4047, 1144: 4048, 1366: 4049, 1411: 4050, 1417: 4051, 384: 4052, 464: 4053, 533: 4054, 1241: 4055, 1321: 4056, 1337: 4057, 1340: 4058, 1760: 4059, 1771: 4060, 1974: 4061, 1981: 4062, 2117: 4063, 2122: 4064, 2138: 4065, 2298: 4066, 2419: 4067, 2456: 4068, 2522: 4069, 2625: 4070, 2651: 4071, 2782: 4072, 2784: 4073, 2790: 4074, 2817: 4075, 2868: 4076, 2992: 4077, 3013: 4078, 3018: 4079, 3153: 4080, 3182: 4081, 3267: 4082, 3563: 4083, 3727: 4084, 3768: 4085, 3810: 4086, 3840: 4087, 4092: 4088, 4109: 4089, 4214: 4090, 4254: 4091, 4304: 4092, 4316: 4093, 4438: 4094, 4587: 4095, 4599: 4096, 4624: 4097, 4645: 4098, 4661: 4099, 4678: 4100, 4774: 4101, 4800: 4102, 4850: 4103, 4909: 4104, 4987: 4105, 5165: 4106, 5294: 4107, 5346: 4108, 5438: 4109, 5479: 4110, 5588: 4111, 5640: 4112, 5650: 4113, 5749: 4114, 6203: 4115, 6219: 4116, 6283: 4117, 6327: 4118, 6375: 4119, 6395: 4120, 6461: 4121, 6620: 4122, 6629: 4123, 6638: 4124, 6678: 4125, 6731: 4126, 6744: 4127, 6820: 4128, 6963: 4129, 7118: 4130, 7308: 4131, 7492: 4132, 7561: 4133, 7650: 4134, 7802: 4135, 8016: 4136, 8147: 4137, 8266: 4138, 8426: 4139, 8501: 4140, 8507: 4141, 8581: 4142, 27317: 4143, 27873: 4144, 2114: 4145, 2398: 4146, 54190: 4147, 1606: 4148, 2103: 4149, 1529: 4150, 1659: 4151, 2280: 4152, 2600: 4153, 3071: 4154, 3690: 4155, 4126: 4156, 4732: 4157, 4954: 4158, 5027: 4159, 5072: 4160, 5246: 4161, 5247: 4162, 5619: 4163, 5792: 4164, 6051: 4165, 6288: 4166, 6367: 4167, 1942: 4168, 3819: 4169, 5109: 4170, 5420: 4171, 71745: 4172, 79139: 4173, 1958: 4174, 2262: 4175, 3244: 4176, 5380: 4177, 6183: 4178, 6785: 4179, 233: 4180, 2337: 4181, 3179: 4182, 4873: 4183, 7367: 4184, 50912: 4185, 57522: 4186, 58972: 4187, 59022: 4188, 62553: 4189, 64114: 4190, 65088: 4191, 65577: 4192, 65802: 4193, 69140: 4194, 70728: 4195, 77206: 4196, 77427: 4197, 79572: 4198, 80572: 4199, 80586: 4200, 81156: 4201, 81819: 4202, 86014: 4203, 86815: 4204, 87194: 4205, 88108: 4206, 90890: 4207, 91126: 4208, 91653: 4209, 91671: 4210, 91976: 4211, 96728: 4212, 99764: 4213, 106766: 4214, 116799: 4215, 132046: 4216, 134881: 4217, 938: 4218, 1833: 4219, 2325: 4220, 2551: 4221, 2837: 4222, 3163: 4223, 3325: 4224, 3719: 4225, 3746: 4226, 4476: 4227, 4663: 4228, 4676: 4229, 4740: 4230, 4912: 4231, 4941: 4232, 5460: 4233, 6012: 4234, 6030: 4235, 6060: 4236, 6169: 4237, 6579: 4238, 7034: 4239, 7036: 4240, 7050: 4241, 7380: 4242, 8643: 4243, 8796: 4244, 25937: 4245, 32300: 4246, 45175: 4247, 53466: 4248, 54780: 4249, 69988: 4250, 80584: 4251, 85401: 4252, 93805: 4253, 94015: 4254, 94150: 4255, 94833: 4256, 213: 4257, 665: 4258, 935: 4259, 1111: 4260, 1178: 4261, 1354: 4262, 2131: 4263, 2495: 4264, 2931: 4265, 3306: 4266, 3310: 4267, 3592: 4268, 3629: 4269, 3677: 4270, 3687: 4271, 3742: 4272, 3821: 4273, 4325: 4274, 4788: 4275, 5373: 4276, 5888: 4277, 5889: 4278, 5912: 4279, 6187: 4280, 6433: 4281, 6643: 4282, 6777: 4283, 6985: 4284, 7347: 4285, 7371: 4286, 8025: 4287, 8033: 4288, 8197: 4289, 8511: 4290, 8638: 4291, 8656: 4292, 9010: 4293, 26082: 4294, 26150: 4295, 26236: 4296, 26237: 4297, 26347: 4298, 26471: 4299, 26587: 4300, 26662: 4301, 26849: 4302, 26903: 4303, 27134: 4304, 27803: 4305, 27815: 4306, 27834: 4307, 30803: 4308, 32892: 4309, 33124: 4310, 36363: 4311, 36401: 4312, 38159: 4313, 42191: 4314, 48872: 4315, 56060: 4316, 57183: 4317, 57504: 4318, 58425: 4319, 58554: 4320, 60904: 4321, 63515: 4322, 64993: 4323, 66371: 4324, 67923: 4325, 69134: 4326, 69529: 4327, 69685: 4328, 72104: 4329, 73881: 4330, 74324: 4331, 74727: 4332, 75341: 4333, 79333: 4334, 80124: 4335, 84156: 4336, 84844: 4337, 85316: 4338, 85736: 4339, 86066: 4340, 86320: 4341, 86347: 4342, 88235: 4343, 88345: 4344, 91261: 4345, 93790: 4346, 95175: 4347, 95311: 4348, 95313: 4349, 95377: 4350, 95654: 4351, 96020: 4352, 96373: 4353, 98604: 4354, 99145: 4355, 100302: 4356, 100553: 4357, 101088: 4358, 101962: 4359, 102602: 4360, 102666: 4361, 103235: 4362, 104780: 4363, 105593: 4364, 107159: 4365, 107408: 4366, 107410: 4367, 107412: 4368, 108540: 4369, 108727: 4370, 108981: 4371, 109633: 4372, 110586: 4373, 111622: 4374, 116411: 4375, 117444: 4376, 118166: 4377, 118888: 4378, 118896: 4379, 118985: 4380, 120138: 4381, 120478: 4382, 120625: 4383, 126090: 4384, 126426: 4385, 126430: 4386, 127098: 4387, 129514: 4388, 130970: 4389, 130976: 4390, 130978: 4391, 131237: 4392, 133716: 4393, 134041: 4394, 134095: 4395, 134109: 4396, 134184: 4397, 134252: 4398, 134326: 4399, 134849: 4400, 136445: 4401, 136447: 4402, 138835: 4403, 140038: 4404, 140265: 4405, 141810: 4406, 141816: 4407, 141818: 4408, 141820: 4409, 141836: 4410, 141844: 4411, 142020: 4412, 143511: 4413, 145994: 4414, 146028: 4415, 147196: 4416, 147250: 4417, 147282: 4418, 147286: 4419, 147300: 4420, 147326: 4421, 147328: 4422, 147330: 4423, 151769: 4424, 152591: 4425, 158402: 4426, 159811: 4427, 163072: 4428, 163112: 4429, 163134: 4430, 163386: 4431, 163925: 4432, 165959: 4433, 166183: 4434, 170411: 4435, 170597: 4436, 170777: 4437, 171749: 4438, 172577: 4439, 172583: 4440, 172585: 4441, 172587: 4442, 172589: 4443, 172637: 4444, 172793: 4445, 172825: 4446, 172909: 4447, 173351: 4448, 173355: 4449, 173535: 4450, 173619: 4451, 173963: 4452, 174551: 4453, 175293: 4454, 175387: 4455, 175397: 4456, 175401: 4457, 175431: 4458, 175435: 4459, 178613: 4460, 179133: 4461, 99636: 4462, 156: 4463, 1684: 4464, 2585: 4465, 3795: 4466, 4024: 4467, 4159: 4468, 4889: 4469, 4976: 4470, 4994: 4471, 5011: 4472, 5034: 4473, 5051: 4474, 5135: 4475, 5303: 4476, 5309: 4477, 5316: 4478, 5391: 4479, 5450: 4480, 5466: 4481, 5881: 4482, 6049: 4483, 283: 4484, 346: 4485, 528: 4486, 7096: 4487, 26171: 4488, 40870: 4489, 1856: 4490, 2447: 4491, 3979: 4492, 4228: 4493, 4247: 4494, 4649: 4495, 4900: 4496, 5025: 4497, 5363: 4498, 5501: 4499, 5524: 4500, 5564: 4501, 5942: 4502, 6003: 4503, 6482: 4504, 7225: 4505, 7285: 4506, 7439: 4507, 8531: 4508, 32298: 4509, 34520: 4510, 34530: 4511, 40581: 4512, 42007: 4513, 44840: 4514, 44972: 4515, 47640: 4516, 48322: 4517, 49396: 4518, 54732: 4519, 55245: 4520, 55261: 4521, 55872: 4522, 56805: 4523, 58156: 4524, 59143: 4525, 61255: 4526, 62439: 4527, 63479: 4528, 65585: 4529, 69436: 4530, 70565: 4531, 70641: 4532, 71205: 4533, 71668: 4534, 71838: 4535, 73929: 4536, 74275: 4537, 74532: 4538, 78174: 4539, 78209: 4540, 79428: 4541, 80139: 4542, 82852: 4543, 85022: 4544, 85367: 4545, 87483: 4546, 87529: 4547, 87867: 4548, 91323: 4549, 92264: 4550, 93270: 4551, 93443: 4552, 93831: 4553, 94478: 4554, 94953: 4555, 95720: 4556, 96616: 4557, 97172: 4558, 98083: 4559, 99007: 4560, 100083: 4561, 100194: 4562, 101142: 4563, 102720: 4564, 104218: 4565, 104644: 4566, 104925: 4567, 109282: 4568, 110669: 4569, 110771: 4570, 110773: 4571, 111375: 4572, 112497: 4573, 116977: 4574, 118930: 4575, 119153: 4576, 121372: 4577, 121374: 4578, 121715: 4579, 123200: 4580, 127116: 4581, 127152: 4582, 127390: 4583, 128097: 4584, 128099: 4585, 128914: 4586, 128975: 4587, 129737: 4588, 130087: 4589, 134861: 4590, 135137: 4591, 135436: 4592, 136443: 4593, 136471: 4594, 136511: 4595, 136598: 4596, 142422: 4597, 144606: 4598, 148652: 4599, 148956: 4600, 155509: 4601, 155812: 4602, 156609: 4603, 157312: 4604, 157699: 4605, 158813: 4606, 159161: 4607, 159441: 4608, 159755: 4609, 160080: 4610, 160271: 4611, 160289: 4612, 161024: 4613, 161580: 4614, 162344: 4615, 162478: 4616, 162602: 4617, 165103: 4618, 165483: 4619, 165645: 4620, 165671: 4621, 165843: 4622, 165947: 4623, 166461: 4624, 167634: 4625, 167746: 4626, 168144: 4627, 168326: 4628, 168418: 4629, 168632: 4630, 168846: 4631, 170357: 4632, 170399: 4633, 170401: 4634, 170813: 4635, 170817: 4636, 170897: 4637, 170937: 4638, 170957: 4639, 171251: 4640, 171631: 4641, 171867: 4642, 171891: 4643, 172215: 4644, 172547: 4645, 173255: 4646, 174045: 4647, 174815: 4648, 175577: 4649, 176329: 4650, 178323: 4651, 179427: 4652, 179953: 4653, 180265: 4654, 181139: 4655, 181659: 4656, 182749: 4657, 183197: 4658, 183227: 4659, 183959: 4660, 184015: 4661, 184257: 4662, 71: 4663, 779: 4664, 1043: 4665, 1589: 4666, 1600: 4667, 1735: 4668, 1829: 4669, 1897: 4670, 2132: 4671, 2166: 4672, 2331: 4673, 2475: 4674, 2749: 4675, 2764: 4676, 2844: 4677, 2969: 4678, 3099: 4679, 3103: 4680, 3217: 4681, 3251: 4682, 3296: 4683, 3537: 4684, 3546: 4685, 3831: 4686, 4003: 4687, 4063: 4688, 4083: 4689, 4130: 4690, 127198: 4691, 141718: 4692, 167732: 4693, 487: 4694, 2772: 4695, 4792: 4696, 62383: 4697, 73: 4698, 656: 4699, 46337: 4700, 66511: 4701, 85020: 4702, 95105: 4703, 99112: 4704, 103984: 4705, 108689: 4706, 109846: 4707, 110718: 4708, 110730: 4709, 112868: 4710, 114184: 4711, 114795: 4712, 117533: 4713, 117887: 4714, 120635: 4715, 127184: 4716, 128488: 4717, 130578: 4718, 131023: 4719, 131714: 4720, 135532: 4721, 136562: 4722, 136666: 4723, 138210: 4724, 141004: 4725, 165551: 4726, 52319: 4727, 70599: 4728, 71530: 4729, 77866: 4730, 95088: 4731, 96737: 4732, 97306: 4733, 112515: 4734, 115122: 4735, 121231: 4736, 144976: 4737, 69306: 4738, 81782: 4739, 112171: 4740, 143458: 4741, 501: 4742, 1844: 4743, 3342: 4744, 4082: 4745, 4738: 4746, 4864: 4747, 5088: 4748, 6902: 4749, 7008: 4750, 7265: 4751, 8254: 4752, 26681: 4753, 27022: 4754, 27482: 4755, 33201: 4756, 40148: 4757, 43836: 4758, 45440: 4759, 50842: 4760, 55278: 4761, 58301: 4762, 63276: 4763, 65130: 4764, 65642: 4765, 67695: 4766, 69516: 4767, 71304: 4768, 71429: 4769, 71520: 4770, 73488: 4771, 75985: 4772, 78218: 4773, 79553: 4774, 84952: 4775, 86721: 4776, 89190: 4777, 90403: 4778, 91470: 4779, 91690: 4780, 91947: 4781, 92694: 4782, 93855: 4783, 94931: 4784, 95690: 4785, 95761: 4786, 98607: 4787, 99437: 4788, 100882: 4789, 101112: 4790, 107630: 4791, 110330: 4792, 110882: 4793, 112623: 4794, 117466: 4795, 122890: 4796, 127096: 4797, 130490: 4798, 131749: 4799, 131920: 4800, 133217: 4801, 133771: 4802, 135567: 4803, 139855: 4804, 141408: 4805, 142420: 4806, 142456: 4807, 142509: 4808, 147142: 4809, 149144: 4810, 149146: 4811, 149830: 4812, 149902: 4813, 151455: 4814, 151695: 4815, 152083: 4816, 152091: 4817, 152284: 4818, 152970: 4819, 155064: 4820, 156371: 4821, 156387: 4822, 158783: 4823, 159415: 4824, 159717: 4825, 160563: 4826, 161634: 4827, 161966: 4828, 162082: 4829, 162578: 4830, 164881: 4831, 167790: 4832, 168266: 4833, 1066: 4834, 5159: 4835, 6093: 4836, 37830: 4837, 5959: 4838, 390: 4839, 567: 4840, 1318: 4841, 1554: 4842, 2729: 4843, 3067: 4844, 4168: 4845, 5284: 4846, 5508: 4847, 5969: 4848, 5970: 4849, 5992: 4850, 6251: 4851, 6291: 4852, 6774: 4853, 7773: 4854, 8973: 4855, 26776: 4856, 27731: 4857, 44694: 4858, 48082: 4859, 393: 4860, 893: 4861, 1422: 4862, 1483: 4863, 2798: 4864, 3102: 4865, 3327: 4866, 3812: 4867, 4037: 4868, 4066: 4869, 4467: 4870, 4553: 4871, 4613: 4872, 4634: 4873, 4812: 4874, 132: 4875, 188: 4876, 1949: 4877, 2330: 4878, 2940: 4879, 3679: 4880, 5177: 4881, 5385: 4882, 6986: 4883, 6987: 4884, 7171: 4885, 7762: 4886, 26084: 4887, 2582: 4888, 2924: 4889, 59103: 4890, 8640: 4891, 373: 4892, 1344: 4893, 1401: 4894, 1465: 4895, 1661: 4896, 1727: 4897, 1950: 4898, 1957: 4899, 2070: 4900, 2077: 4901, 2344: 4902, 2561: 4903, 2590: 4904, 2682: 4905, 2775: 4906, 2819: 4907, 2889: 4908, 2996: 4909, 3011: 4910, 3055: 4911, 3093: 4912, 3117: 4913, 3185: 4914, 3372: 4915, 3557: 4916, 3597: 4917, 3684: 4918, 3737: 4919, 3873: 4920, 3906: 4921, 3983: 4922, 3985: 4923, 3998: 4924, 4031: 4925, 4035: 4926, 4042: 4927, 4056: 4928, 4167: 4929, 4187: 4930, 4225: 4931, 4234: 4932, 4243: 4933, 4259: 4934, 4265: 4935, 4337: 4936, 4339: 4937, 4368: 4938, 4534: 4939, 4535: 4940, 4703: 4941, 4719: 4942, 4727: 4943, 4736: 4944, 4795: 4945, 4799: 4946, 4822: 4947, 4836: 4948, 4857: 4949, 4866: 4950, 4921: 4951, 4991: 4952, 5016: 4953, 5102: 4954, 5107: 4955, 5187: 4956, 5256: 4957, 5282: 4958, 5338: 4959, 5357: 4960, 5358: 4961, 5435: 4962, 5506: 4963, 5563: 4964, 5611: 4965, 5699: 4966, 5873: 4967, 5879: 4968, 5899: 4969, 5947: 4970, 6185: 4971, 6213: 4972, 6246: 4973, 6279: 4974, 6299: 4975, 6386: 4976, 6448: 4977, 6669: 4978, 6808: 4979, 6950: 4980, 7076: 4981, 7161: 4982, 7324: 4983, 8121: 4984, 8199: 4985, 26172: 4986, 26865: 4987, 27821: 4988, 31700: 4989, 32017: 4990, 34334: 4991, 34534: 4992, 37727: 4993, 39307: 4994, 42009: 4995, 42730: 4996, 43917: 4997, 44399: 4998, 47044: 4999, 49524: 5000, 49910: 5001, 6332: 5002, 6619: 5003, 7255: 5004, 7316: 5005, 8827: 5006, 32289: 5007, 36525: 5008, 78316: 5009, 103606: 5010, 27416: 5011, 98243: 5012, 160718: 5013, 1334: 5014, 2038: 5015, 2091: 5016, 9: 5017, 75: 5018, 634: 5019, 813: 5020, 840: 5021, 885: 5022, 1432: 5023, 36535: 5024, 56715: 5025, 64034: 5026, 81456: 5027, 85885: 5028, 100843: 5029, 101973: 5030, 105355: 5031, 112454: 5032, 133780: 5033, 138396: 5034, 152270: 5035, 173145: 5036, 177615: 5037, 179709: 5038, 86644: 5039, 130634: 5040, 1516: 5041, 2879: 5042, 2880: 5043, 3286: 5044, 3287: 5045, 3618: 5046, 425: 5047, 764: 5048, 869: 5049, 1078: 5050, 1162: 5051, 1264: 5052, 1836: 5053, 1948: 5054, 2130: 5055, 2239: 5056, 2247: 5057, 2290: 5058, 2349: 5059, 2361: 5060, 2511: 5061, 2734: 5062, 2750: 5063, 2779: 5064, 2863: 5065, 2946: 5066, 2970: 5067, 3028: 5068, 3076: 5069, 3096: 5070, 3130: 5071, 3134: 5072, 3141: 5073, 3167: 5074, 3200: 5075, 3223: 5076, 3224: 5077, 3283: 5078, 3341: 5079, 3467: 5080, 3473: 5081, 3492: 5082, 3503: 5083, 3506: 5084, 4205: 5085, 4784: 5086, 5637: 5087, 5788: 5088, 5847: 5089, 6509: 5090, 6658: 5091, 6684: 5092, 7089: 5093, 7107: 5094, 8128: 5095, 8571: 5096, 8614: 5097, 26313: 5098, 31038: 5099, 2392: 5100, 27674: 5101, 55391: 5102, 66320: 5103, 242: 5104, 718: 5105, 990: 5106, 1107: 5107, 1163: 5108, 1627: 5109, 1713: 5110, 1969: 5111, 1979: 5112, 2051: 5113, 2126: 5114, 2162: 5115, 2210: 5116, 2252: 5117, 2314: 5118, 2364: 5119, 2367: 5120, 2531: 5121, 2745: 5122, 2748: 5123, 2769: 5124, 2789: 5125, 2818: 5126, 2977: 5127, 2986: 5128, 3357: 5129, 3572: 5130, 3616: 5131, 3649: 5132, 3858: 5133, 3864: 5134, 3877: 5135, 4055: 5136, 4450: 5137, 4735: 5138, 6250: 5139, 6319: 5140, 6322: 5141, 6538: 5142, 5643: 5143, 45732: 5144, 1821: 5145, 1837: 5146, 3404: 5147, 4440: 5148, 5415: 5149, 5485: 5150, 5527: 5151, 5530: 5152, 5993: 5153, 6480: 5154, 4406: 5155, 7333: 5156, 7934: 5157, 26078: 5158, 26131: 5159, 33564: 5160, 2017: 5161, 2084: 5162, 4142: 5163, 4193: 5164, 4373: 5165, 4867: 5166, 4936: 5167, 4951: 5168, 5222: 5169, 5472: 5170, 5941: 5171, 6005: 5172, 6252: 5173, 6324: 5174, 6339: 5175, 6568: 5176, 7045: 5177, 7060: 5178, 7080: 5179, 7614: 5180, 8008: 5181, 1051: 5182, 1454: 5183, 2526: 5184, 5410: 5185, 7259: 5186, 8362: 5187, 8911: 5188, 33880: 5189, 39427: 5190, 43904: 5191, 44613: 5192, 47382: 5193, 1929: 5194, 1931: 5195, 1936: 5196, 1938: 5197, 2013: 5198, 2176: 5199, 2847: 5200, 3364: 5201, 3564: 5202, 3801: 5203, 3909: 5204, 3964: 5205, 4920: 5206, 5264: 5207, 5387: 5208, 6212: 5209, 6412: 5210, 6429: 5211, 6483: 5212, 6624: 5213, 6856: 5214, 7054: 5215, 7065: 5216, 7078: 5217, 7121: 5218, 7164: 5219, 7215: 5220, 7222: 5221, 7243: 5222, 7302: 5223, 7366: 5224, 7369: 5225, 7728: 5226, 8600: 5227, 8609: 5228, 8695: 5229, 8718: 5230, 8860: 5231, 8948: 5232, 9008: 5233, 25746: 5234, 25750: 5235, 25771: 5236, 25797: 5237, 25827: 5238, 25856: 5239, 25906: 5240, 27772: 5241, 31297: 5242, 33499: 5243, 33669: 5244, 34336: 5245, 35957: 5246, 39449: 5247, 40826: 5248, 42011: 5249, 42015: 5250, 43560: 5251, 45081: 5252, 46974: 5253, 48412: 5254, 48593: 5255, 49389: 5256, 51925: 5257, 51939: 5258, 52694: 5259, 56176: 5260, 60161: 5261, 61406: 5262, 63853: 5263, 65261: 5264, 66297: 5265, 67788: 5266, 70159: 5267, 71970: 5268, 72731: 5269, 72733: 5270, 77846: 5271, 78574: 5272, 80126: 5273, 83132: 5274, 86487: 5275, 89804: 5276, 89939: 5277, 90647: 5278, 93008: 5279, 95558: 5280, 98154: 5281, 123545: 5282, 5665: 5283, 6380: 5284, 33903: 5285, 725: 5286, 169: 5287, 453: 5288, 97: 5289, 166: 5290, 600: 5291, 760: 5292, 1437: 5293, 1447: 5294, 1546: 5295, 1598: 5296, 1611: 5297, 1649: 5298, 1695: 5299, 1827: 5300, 1941: 5301, 2022: 5302, 2025: 5303, 2181: 5304, 2295: 5305, 2474: 5306, 2563: 5307, 2607: 5308, 2691: 5309, 2696: 5310, 2765: 5311, 2971: 5312, 2976: 5313, 3003: 5314, 3078: 5315, 3150: 5316, 3158: 5317, 3323: 5318, 3474: 5319, 3521: 5320, 3598: 5321, 3747: 5322, 3761: 5323, 3862: 5324, 3879: 5325, 3888: 5326, 3895: 5327, 3915: 5328, 3925: 5329, 3947: 5330, 3955: 5331, 3992: 5332, 3993: 5333, 4032: 5334, 4052: 5335, 4133: 5336, 4146: 5337, 4152: 5338, 4157: 5339, 4160: 5340, 4178: 5341, 4275: 5342, 4305: 5343, 4307: 5344, 4313: 5345, 4350: 5346, 4389: 5347, 4407: 5348, 4439: 5349, 4452: 5350, 4628: 5351, 4640: 5352, 4642: 5353, 4644: 5354, 4699: 5355, 4723: 5356, 4770: 5357, 4811: 5358, 4815: 5359, 4826: 5360, 4849: 5361, 4879: 5362, 4888: 5363, 4898: 5364, 4911: 5365, 4919: 5366, 4959: 5367, 4978: 5368, 5046: 5369, 5062: 5370, 5083: 5371, 5095: 5372, 5131: 5373, 5155: 5374, 5298: 5375, 5323: 5376, 5325: 5377, 5347: 5378, 5379: 5379, 5421: 5380, 5423: 5381, 5425: 5382, 5427: 5383, 5486: 5384, 5498: 5385, 5522: 5386, 5609: 5387, 5612: 5388, 5615: 5389, 5646: 5390, 5666: 5391, 5668: 5392, 5680: 5393, 5684: 5394, 5772: 5395, 5809: 5396, 5818: 5397, 5999: 5398, 6002: 5399, 6041: 5400, 6062: 5401, 6067: 5402, 6192: 5403, 6215: 5404, 6217: 5405, 6264: 5406, 6285: 5407, 6294: 5408, 6330: 5409, 6334: 5410, 6335: 5411, 6341: 5412, 6551: 5413, 6571: 5414, 6572: 5415, 6588: 5416, 6645: 5417, 6679: 5418, 6688: 5419, 6881: 5420, 6890: 5421, 6932: 5422, 6969: 5423, 6971: 5424, 6978: 5425, 7038: 5426, 7264: 5427, 7299: 5428, 7352: 5429, 7354: 5430, 7449: 5431, 7698: 5432, 8042: 5433, 1582: 5434, 2457: 5435, 2534: 5436, 3573: 5437, 3726: 5438, 68959: 5439, 70533: 5440, 74754: 5441, 84187: 5442, 103210: 5443, 104303: 5444, 106873: 5445, 109578: 5446, 109848: 5447, 117895: 5448, 122906: 5449, 127212: 5450, 148978: 5451, 157369: 5452, 158035: 5453, 161594: 5454, 162968: 5455, 162982: 5456, 164917: 5457, 165635: 5458, 165639: 5459, 166291: 5460, 168090: 5461, 168218: 5462, 170907: 5463, 172705: 5464, 173235: 5465, 174479: 5466, 175475: 5467, 175585: 5468, 177285: 5469, 177939: 5470, 178111: 5471, 178827: 5472, 180297: 5473, 180497: 5474, 180985: 5475, 180987: 5476, 181413: 5477, 183911: 5478, 184641: 5479, 189333: 5480, 191005: 5481, 193565: 5482, 193567: 5483, 193571: 5484, 193573: 5485, 193579: 5486, 193581: 5487, 193583: 5488, 193585: 5489, 193587: 5490, 1685: 5491, 1767: 5492, 2799: 5493, 5804: 5494, 952: 5495, 2035: 5496, 2208: 5497, 2346: 5498, 2527: 5499, 3068: 5500, 3516: 5501, 3711: 5502, 3927: 5503, 4813: 5504, 5039: 5505, 5214: 5506, 5493: 5507, 5497: 5508, 5499: 5509, 5540: 5510, 2557: 5511, 2810: 5512, 3091: 5513, 3627: 5514, 4785: 5515, 5244: 5516, 5570: 5517, 5909: 5518, 6368: 5519, 7044: 5520, 7844: 5521, 7976: 5522, 7981: 5523, 8491: 5524, 8582: 5525, 8607: 5526, 25788: 5527, 25825: 5528, 26122: 5529, 26840: 5530, 27592: 5531, 27850: 5532, 27865: 5533, 27879: 5534, 27912: 5535, 31364: 5536, 32387: 5537, 33138: 5538, 33421: 5539, 33896: 5540, 37240: 5541, 39869: 5542, 46572: 5543, 49263: 5544, 49932: 5545, 1951: 5546, 2436: 5547, 2967: 5548, 3469: 5549, 72: 5550, 99: 5551, 148: 5552, 155: 5553, 178: 5554, 229: 5555, 269: 5556, 496: 5557, 668: 5558, 26116: 5559, 1392: 5560, 1502: 5561, 1755: 5562, 1306: 5563, 2575: 5564, 2744: 5565, 3436: 5566, 3894: 5567, 3932: 5568, 4174: 5569, 4808: 5570, 4932: 5571, 5607: 5572, 698: 5573, 731: 5574, 1055: 5575, 2165: 5576, 2670: 5577, 2674: 5578, 2815: 5579, 3129: 5580, 4608: 5581, 5670: 5582, 8532: 5583, 8833: 5584, 45210: 5585, 56274: 5586, 57243: 5587, 4722: 5588, 5139: 5589, 5610: 5590, 27685: 5591, 34321: 5592, 45106: 5593, 50802: 5594, 62299: 5595, 49: 5596, 461: 5597, 574: 5598, 679: 5599, 1176: 5600, 1312: 5601, 2024: 5602, 2147: 5603, 2983: 5604, 3036: 5605, 3138: 5606, 3194: 5607, 3214: 5608, 3329: 5609, 3402: 5610, 3445: 5611, 3470: 5612, 3528: 5613, 3682: 5614, 3724: 5615, 3725: 5616, 3834: 5617, 5949: 5618, 8815: 5619, 27075: 5620, 27368: 5621, 54372: 5622, 58332: 5623, 59604: 5624, 67295: 5625, 79008: 5626, 81132: 5627, 83601: 5628, 71462: 5629, 179817: 5630, 140956: 5631, 185029: 5632, 4625: 5633, 7810: 5634, 7811: 5635, 7812: 5636, 34397: 5637, 40697: 5638, 51562: 5639, 56915: 5640, 62834: 5641, 62836: 5642, 65651: 5643, 77795: 5644, 100611: 5645, 106642: 5646, 117192: 5647, 117646: 5648, 119167: 5649, 123553: 5650, 128842: 5651, 130444: 5652, 140359: 5653, 146662: 5654, 147372: 5655, 147374: 5656, 147376: 5657, 147378: 5658, 147380: 5659, 147382: 5660, 147384: 5661, 150596: 5662, 159779: 5663, 166203: 5664, 179511: 5665, 180031: 5666, 184053: 5667, 189547: 5668, 87192: 5669, 87234: 5670, 92439: 5671, 106144: 5672, 107314: 5673, 113573: 5674, 161922: 5675, 168366: 5676, 170697: 5677, 174909: 5678, 175197: 5679, 182823: 5680, 183897: 5681, 188751: 5682, 43679: 5683, 57274: 5684, 86142: 5685, 89582: 5686, 83: 5687, 55451: 5688, 927: 5689, 3422: 5690, 3963: 5691, 275: 5692, 429: 5693, 438: 5694, 444: 5695, 504: 5696, 517: 5697, 564: 5698, 692: 5699, 809: 5700, 870: 5701, 1007: 5702, 1085: 5703, 1126: 5704, 1581: 5705, 1599: 5706, 1602: 5707, 1626: 5708, 1671: 5709, 1677: 5710, 1686: 5711, 1731: 5712, 1867: 5713, 1875: 5714, 1937: 5715, 2056: 5716, 2152: 5717, 2350: 5718, 2373: 5719, 2382: 5720, 2473: 5721, 2477: 5722, 2525: 5723, 2535: 5724, 2537: 5725, 2741: 5726, 2786: 5727, 2816: 5728, 3014: 5729, 3132: 5730, 3165: 5731, 3389: 5732, 3392: 5733, 3406: 5734, 3417: 5735, 3431: 5736, 3432: 5737, 3433: 5738, 3434: 5739, 3524: 5740, 3529: 5741, 6425: 5742, 1752: 5743, 2296: 5744, 3054: 5745, 4749: 5746, 5047: 5747, 7319: 5748, 8880: 5749, 31221: 5750, 36708: 5751, 37380: 5752, 41716: 5753, 46335: 5754, 46850: 5755, 54768: 5756, 55020: 5757, 55292: 5758, 56156: 5759, 61246: 5760, 61348: 5761, 1430: 5762, 4219: 5763, 60937: 5764, 62344: 5765, 62437: 5766, 63540: 5767, 64231: 5768, 2469: 5769, 3090: 5770, 3095: 5771, 4338: 5772, 4605: 5773, 5248: 5774, 5382: 5775, 6306: 5776, 6639: 5777, 6724: 5778, 7013: 5779, 7056: 5780, 7072: 5781, 7216: 5782, 7311: 5783, 8044: 5784, 8364: 5785, 9018: 5786, 25773: 5787, 25841: 5788, 26375: 5789, 27768: 5790, 27776: 5791, 27820: 5792, 27882: 5793, 27899: 5794, 30818: 5795, 30846: 5796, 31437: 5797, 31610: 5798, 31692: 5799, 31702: 5800, 32022: 5801, 32584: 5802, 32632: 5803, 32770: 5804, 2205: 5805, 5523: 5806, 5710: 5807, 6290: 5808, 8363: 5809, 26322: 5810, 26732: 5811, 59014: 5812, 62250: 5813, 66744: 5814, 81831: 5815, 91483: 5816, 91628: 5817, 95307: 5818, 95949: 5819, 96448: 5820, 97168: 5821, 97860: 5822, 101531: 5823, 103137: 5824, 2747: 5825, 55854: 5826, 3496: 5827, 1130: 5828, 2327: 5829, 2633: 5830, 3042: 5831, 63: 5832, 1236: 5833, 1655: 5834, 1887: 5835, 2432: 5836, 2514: 5837, 2515: 5838, 2984: 5839, 3688: 5840, 3843: 5841, 4229: 5842, 4233: 5843, 4544: 5844, 4782: 5845, 5456: 5846, 5584: 5847, 6298: 5848, 6523: 5849, 6625: 5850, 6695: 5851, 6938: 5852, 7103: 5853, 7448: 5854, 32666: 5855, 37720: 5856, 45028: 5857, 51088: 5858, 38304: 5859, 85342: 5860, 8626: 5861, 34330: 5862, 52715: 5863, 55241: 5864, 55553: 5865, 4789: 5866, 5458: 5867, 5478: 5868, 5572: 5869, 5573: 5870, 6013: 5871, 6040: 5872, 6057: 5873, 6186: 5874, 6374: 5875, 6615: 5876, 6862: 5877, 6951: 5878, 6959: 5879, 7150: 5880, 7257: 5881, 7258: 5882, 7261: 5883, 7262: 5884, 7376: 5885, 7440: 5886, 8369: 5887, 8530: 5888, 8799: 5889, 8830: 5890, 8835: 5891, 8836: 5892, 8864: 5893, 8912: 5894, 8916: 5895, 8918: 5896, 8939: 5897, 27434: 5898, 27790: 5899, 27816: 5900, 27837: 5901, 27839: 5902, 30883: 5903, 30894: 5904, 31114: 5905, 31223: 5906, 31427: 5907, 31431: 5908, 31445: 5909, 31867: 5910, 32009: 5911, 32011: 5912, 32019: 5913, 32589: 5914, 33148: 5915, 33158: 5916, 33164: 5917, 33639: 5918, 33815: 5919, 34129: 5920, 34271: 5921, 34532: 5922, 36509: 5923, 36533: 5924, 37477: 5925, 37853: 5926, 38798: 5927, 39231: 5928, 39435: 5929, 40851: 5930, 40946: 5931, 41769: 5932, 42728: 5933, 42732: 5934, 43556: 5935, 43871: 5936, 43919: 5937, 43932: 5938, 44397: 5939, 44731: 5940, 45208: 5941, 45442: 5942, 45662: 5943, 48161: 5944, 48596: 5945, 49220: 5946, 49276: 5947, 49284: 5948, 49793: 5949, 50005: 5950, 50158: 5951, 50445: 5952, 50798: 5953, 50923: 5954, 51082: 5955, 51412: 5956, 51698: 5957, 51933: 5958, 51937: 5959, 52283: 5960, 52712: 5961, 53127: 5962, 54256: 5963, 55995: 5964, 57326: 5965, 57526: 5966, 58105: 5967, 58627: 5968, 58876: 5969, 59985: 5970, 61705: 5971, 62081: 5972, 62511: 5973, 66509: 5974, 67186: 5975, 67197: 5976, 70301: 5977, 70334: 5978, 71252: 5979, 71254: 5980, 71823: 5981, 73515: 5982, 78893: 5983, 81512: 5984, 78103: 5985, 118198: 5986, 134214: 5987, 136912: 5988, 162600: 5989, 178061: 5990, 183011: 5991, 42: 5992, 577: 5993, 917: 5994, 1460: 5995, 1495: 5996, 1707: 5997, 1826: 5998, 2050: 5999, 2566: 6000, 3672: 6001, 1998: 6002, 4329: 6003, 4498: 6004, 4803: 6005, 4852: 6006, 4916: 6007, 4917: 6008, 4945: 6009, 4946: 6010, 4947: 6011, 4957: 6012, 81786: 6013, 118700: 6014, 547: 6015, 2919: 6016, 3566: 6017, 3106: 6018, 123: 6019, 757: 6020, 4956: 6021, 5279: 6022, 7486: 6023, 8327: 6024, 27320: 6025, 61026: 6026, 68486: 6027, 80615: 6028, 80969: 6029, 83613: 6030, 90888: 6031, 82169: 6032, 120799: 6033, 151763: 6034, 4470: 6035, 4531: 6036, 5784: 6037, 7016: 6038, 26686: 6039, 27478: 6040, 32213: 6041, 33085: 6042, 38294: 6043, 39400: 6044, 47254: 6045, 47810: 6046, 51037: 6047, 58315: 6048, 65810: 6049, 66171: 6050, 69606: 6051, 70361: 6052, 72605: 6053, 73431: 6054, 75813: 6055, 77667: 6056, 78039: 6057, 78088: 6058, 80862: 6059, 82053: 6060, 84637: 6061, 84942: 6062, 85056: 6063, 85131: 6064, 85510: 6065, 86295: 6066, 86835: 6067, 86960: 6068, 87298: 6069, 88699: 6070, 88954: 6071, 89047: 6072, 89840: 6073, 90057: 6074, 90430: 6075, 90439: 6076, 90531: 6077, 91622: 6078, 91978: 6079, 92008: 6080, 92507: 6081, 93363: 6082, 93512: 6083, 93563: 6084, 93766: 6085, 94266: 6086, 94780: 6087, 95207: 6088, 95309: 6089, 95583: 6090, 95873: 6091, 96411: 6092, 96417: 6093, 98239: 6094, 99750: 6095, 99910: 6096, 100163: 6097, 101025: 6098, 101076: 6099, 101362: 6100, 102033: 6101, 102684: 6102, 103539: 6103, 103624: 6104, 103655: 6105, 104243: 6106, 105351: 6107, 107953: 6108, 108928: 6109, 109042: 6110, 109673: 6111, 110297: 6112, 110350: 6113, 111364: 6114, 112070: 6115, 143365: 6116, 143367: 6117, 146210: 6118, 148888: 6119, 160954: 6120, 169984: 6121, 173941: 6122, 175569: 6123, 184253: 6124, 185435: 6125, 6983: 6126, 142115: 6127, 4217: 6128, 26366: 6129, 26524: 6130, 44633: 6131, 58309: 6132, 5319: 6133, 44929: 6134, 48883: 6135, 1739: 6136, 2907: 6137, 3929: 6138, 4480: 6139, 121171: 6140, 131656: 6141, 140725: 6142, 146024: 6143, 128: 6144, 2348: 6145, 2766: 6146, 2859: 6147, 4529: 6148, 4711: 6149, 5137: 6150, 5820: 6151, 6027: 6152, 6337: 6153, 6370: 6154, 6713: 6155, 7564: 6156, 7815: 6157, 8011: 6158, 8015: 6159, 294: 6160, 988: 6161, 1415: 6162, 7879: 6163, 8535: 6164, 7303: 6165, 388: 6166, 1807: 6167, 2240: 6168, 2377: 6169, 2445: 6170, 3733: 6171, 3807: 6172, 476: 6173, 2812: 6174, 1791: 6175, 1964: 6176, 2178: 6177, 2182: 6178, 2593: 6179, 2630: 6180, 2829: 6181, 619: 6182, 886: 6183, 1255: 6184, 1327: 6185, 1497: 6186, 1503: 6187, 1992: 6188, 1993: 6189, 2170: 6190, 2448: 6191, 2498: 6192, 2517: 6193, 2846: 6194, 2974: 6195, 3235: 6196, 3511: 6197, 3652: 6198, 3676: 6199, 3696: 6200, 3857: 6201, 3908: 6202, 3938: 6203, 4030: 6204, 4143: 6205, 4224: 6206, 4248: 6207, 4533: 6208, 4683: 6209, 4748: 6210, 4771: 6211, 5076: 6212, 5080: 6213, 5127: 6214, 5401: 6215, 5452: 6216, 5556: 6217, 5569: 6218, 5667: 6219, 5833: 6220, 5853: 6221, 6196: 6222, 6220: 6223, 6379: 6224, 6405: 6225, 6559: 6226, 6664: 6227, 6715: 6228, 6794: 6229, 6868: 6230, 6872: 6231, 7024: 6232, 7117: 6233, 7228: 6234, 7236: 6235, 7321: 6236, 7362: 6237, 7368: 6238, 7646: 6239, 7845: 6240, 7846: 6241, 7894: 6242, 8142: 6243, 8225: 6244, 8241: 6245, 8578: 6246, 8831: 6247, 8906: 6248, 8967: 6249, 26242: 6250, 26492: 6251, 26523: 6252, 26629: 6253, 26736: 6254, 26870: 6255, 27311: 6256, 27604: 6257, 27618: 6258, 27822: 6259, 30745: 6260, 31193: 6261, 31909: 6262, 33132: 6263, 33834: 6264, 34323: 6265, 37382: 6266, 37475: 6267, 38992: 6268, 40723: 6269, 42285: 6270, 43549: 6271, 44828: 6272, 45361: 6273, 50147: 6274, 50440: 6275, 50800: 6276, 51091: 6277, 51498: 6278, 53468: 6279, 54648: 6280, 54785: 6281, 56012: 6282, 57536: 6283, 57910: 6284, 58870: 6285, 59727: 6286, 60037: 6287, 60291: 6288, 60522: 6289, 60538: 6290, 60979: 6291, 65126: 6292, 66427: 6293, 66783: 6294, 69251: 6295, 69275: 6296, 70994: 6297, 71211: 6298, 71379: 6299, 71500: 6300, 74075: 6301, 74685: 6302, 74851: 6303, 77364: 6304, 78041: 6305, 79274: 6306, 80846: 6307, 298: 6308, 556: 6309, 1123: 6310, 1406: 6311, 1533: 6312, 1571: 6313, 1574: 6314, 1594: 6315, 1904: 6316, 2069: 6317, 2073: 6318, 2212: 6319, 2323: 6320, 2624: 6321, 2824: 6322, 2937: 6323, 2964: 6324, 3038: 6325, 3046: 6326, 3192: 6327, 3302: 6328, 3384: 6329, 3480: 6330, 3728: 6331, 3794: 6332, 3914: 6333, 4061: 6334, 4116: 6335, 4285: 6336, 4334: 6337, 4345: 6338, 4384: 6339, 4809: 6340, 5147: 6341, 5241: 6342, 5258: 6343, 5272: 6344, 5603: 6345, 5723: 6346, 5745: 6347, 5884: 6348, 5938: 6349, 6122: 6350, 6254: 6351, 1167: 6352, 107069: 6353, 60293: 6354, 70984: 6355, 71619: 6356, 73266: 6357, 86817: 6358, 91079: 6359, 4091: 6360, 113207: 6361, 6086: 6362, 5876: 6363, 963: 6364, 1008: 6365, 1128: 6366, 1389: 6367, 1660: 6368, 1983: 6369, 1984: 6370, 1995: 6371, 2043: 6372, 2055: 6373, 2057: 6374, 2095: 6375, 2098: 6376, 2120: 6377, 2163: 6378, 2241: 6379, 2259: 6380, 2286: 6381, 2347: 6382, 2365: 6383, 2400: 6384, 2460: 6385, 2462: 6386, 2852: 6387, 2866: 6388, 2902: 6389, 2903: 6390, 3015: 6391, 3161: 6392, 3313: 6393, 3331: 6394, 3345: 6395, 3368: 6396, 3525: 6397, 3689: 6398, 3767: 6399, 3771: 6400, 3806: 6401, 3833: 6402, 3846: 6403, 3926: 6404, 3928: 6405, 3930: 6406, 3957: 6407, 3971: 6408, 3974: 6409, 4000: 6410, 4009: 6411, 4010: 6412, 4043: 6413, 4110: 6414, 4412: 6415, 4443: 6416, 4459: 6417, 4473: 6418, 4492: 6419, 4506: 6420, 4522: 6421, 4709: 6422, 4953: 6423, 4966: 6424, 5428: 6425, 5462: 6426, 5543: 6427, 5544: 6428, 5638: 6429, 7619: 6430, 8959: 6431, 31923: 6432, 34528: 6433, 37736: 6434, 42418: 6435, 43460: 6436, 43869: 6437, 46967: 6438, 47261: 6439, 47950: 6440, 48416: 6441, 60760: 6442, 6125: 6443, 6453: 6444, 26704: 6445, 129: 6446, 341: 6447, 1699: 6448, 2066: 6449, 2439: 6450, 2494: 6451, 2549: 6452, 2660: 6453, 2932: 6454, 2988: 6455, 3007: 6456, 3559: 6457, 3634: 6458, 3713: 6459, 3738: 6460, 3849: 6461, 102007: 6462, 2828: 6463, 3086: 6464, 3871: 6465, 4830: 6466, 7720: 6467, 8383: 6468, 33677: 6469, 68597: 6470, 80839: 6471, 87522: 6472, 92192: 6473, 96121: 6474, 97470: 6475, 113345: 6476, 115231: 6477, 127323: 6478, 129937: 6479, 130576: 6480, 165549: 6481, 278: 6482, 470: 6483, 499: 6484, 998: 6485, 1440: 6486, 2149: 6487, 2736: 6488, 3043: 6489, 3412: 6490, 3544: 6491, 3667: 6492, 3710: 6493, 160848: 6494, 169034: 6495, 171765: 6496, 1439: 6497, 1526: 6498, 1746: 6499, 4733: 6500, 4757: 6501, 4845: 6502, 5128: 6503, 6554: 6504, 6811: 6505, 7460: 6506, 7926: 6507, 26887: 6508, 34523: 6509, 36537: 6510, 50610: 6511, 54745: 6512, 54934: 6513, 58655: 6514, 58806: 6515, 61729: 6516, 62113: 6517, 67799: 6518, 68600: 6519, 70663: 6520, 71248: 6521, 72405: 6522, 74452: 6523, 74916: 6524, 76060: 6525, 84615: 6526, 90376: 6527, 91128: 6528, 103048: 6529, 109895: 6530, 112370: 6531, 112911: 6532, 116138: 6533, 127108: 6534, 134528: 6535, 134783: 6536, 134808: 6537, 136449: 6538, 138798: 6539, 8261: 6540, 944: 6541, 6818: 6542, 26249: 6543, 49347: 6544, 60516: 6545, 64499: 6546, 64501: 6547, 72294: 6548, 74624: 6549, 74868: 6550, 79251: 6551, 80590: 6552, 85788: 6553, 89118: 6554, 91842: 6555, 94018: 6556, 105197: 6557, 105585: 6558, 106441: 6559, 106785: 6560, 109850: 6561, 112818: 6562, 112897: 6563, 114246: 6564, 118706: 6565, 131796: 6566, 132796: 6567, 140627: 6568, 145418: 6569, 148671: 6570, 158027: 6571, 160400: 6572, 163985: 6573, 177763: 6574, 185585: 6575, 92391: 6576, 104908: 6577, 105731: 6578, 115664: 6579, 122884: 6580, 140016: 6581, 149334: 6582, 156726: 6583, 158528: 6584, 159858: 6585, 175199: 6586, 183295: 6587, 409: 6588, 1323: 6589, 1325: 6590, 1328: 6591, 1490: 6592, 2154: 6593, 2190: 6594, 2332: 6595, 2506: 6596, 2516: 6597, 2559: 6598, 2639: 6599, 2787: 6600, 2962: 6601, 3051: 6602, 3145: 6603, 3280: 6604, 3423: 6605, 3478: 6606, 3830: 6607, 3943: 6608, 4127: 6609, 4181: 6610, 4371: 6611, 4403: 6612, 4520: 6613, 4584: 6614, 4602: 6615, 4619: 6616, 4662: 6617, 4673: 6618, 4697: 6619, 4750: 6620, 4835: 6621, 4862: 6622, 4885: 6623, 4893: 6624, 4915: 6625, 5099: 6626, 5170: 6627, 5255: 6628, 5361: 6629, 5443: 6630, 5454: 6631, 5538: 6632, 5539: 6633, 5590: 6634, 5664: 6635, 5696: 6636, 5735: 6637, 5736: 6638, 5883: 6639, 5927: 6640, 6153: 6641, 6265: 6642, 6316: 6643, 6558: 6644, 6705: 6645, 6827: 6646, 6850: 6647, 6999: 6648, 7026: 6649, 7030: 6650, 7282: 6651, 7636: 6652, 7708: 6653, 7781: 6654, 8169: 6655, 8402: 6656, 8506: 6657, 9005: 6658, 26133: 6659, 26792: 6660, 27555: 6661, 27838: 6662, 30848: 6663, 31422: 6664, 31424: 6665, 33171: 6666, 33681: 6667, 34143: 6668, 34326: 6669, 37857: 6670, 39234: 6671, 48142: 6672, 48518: 6673, 48678: 6674, 49314: 6675, 52375: 6676, 52867: 6677, 53956: 6678, 53974: 6679, 55272: 6680, 55729: 6681, 56003: 6682, 58287: 6683, 65601: 6684, 65738: 6685, 65740: 6686, 65882: 6687, 973: 6688, 1946: 6689, 3171: 6690, 3872: 6691, 4432: 6692, 5398: 6693, 6452: 6694, 6706: 6695, 7218: 6696, 7943: 6697, 25886: 6698, 3330: 6699, 4483: 6700, 6410: 6701, 7184: 6702, 7305: 6703, 40: 6704, 6561: 6705, 680: 6706, 3732: 6707, 4117: 6708, 4754: 6709, 5433: 6710, 5925: 6711, 2275: 6712, 3889: 6713, 4180: 6714, 4210: 6715, 618: 6716, 703: 6717, 2896: 6718, 74545: 6719, 81158: 6720, 82667: 6721, 104272: 6722, 110387: 6723, 121253: 6724, 133115: 6725, 773: 6726, 823: 6727, 1419: 6728, 3569: 6729, 3736: 6730, 3845: 6731, 4256: 6732, 4612: 6733, 4708: 6734, 4825: 6735, 5202: 6736, 5238: 6737, 5475: 6738, 5838: 6739, 6197: 6740, 6241: 6741, 6329: 6742, 7071: 6743, 7124: 6744, 7238: 6745, 7459: 6746, 7979: 6747, 8190: 6748, 8484: 6749, 8724: 6750, 8748: 6751, 26003: 6752, 26048: 6753, 26059: 6754, 26073: 6755, 26158: 6756, 26225: 6757, 26317: 6758, 26713: 6759, 26928: 6760, 27003: 6761, 27176: 6762, 27186: 6763, 27328: 6764, 31545: 6765, 31952: 6766, 32511: 6767, 32554: 6768, 32906: 6769, 32917: 6770, 40955: 6771, 42176: 6772, 44931: 6773, 47446: 6774, 48001: 6775, 48638: 6776, 49917: 6777, 51174: 6778, 53574: 6779, 53883: 6780, 54185: 6781, 54354: 6782, 57772: 6783, 58376: 6784, 60408: 6785, 60885: 6786, 61394: 6787, 62208: 6788, 64167: 6789, 65037: 6790, 65225: 6791, 65631: 6792, 67508: 6793, 68444: 6794, 69746: 6795, 69953: 6796, 71131: 6797, 71147: 6798, 71453: 6799, 71468: 6800, 71494: 6801, 71867: 6802, 72171: 6803, 72714: 6804, 72921: 6805, 74089: 6806, 74226: 6807, 74791: 6808, 76054: 6809, 76173: 6810, 76738: 6811, 77191: 6812, 77233: 6813, 78836: 6814, 79073: 6815, 80478: 6816, 80553: 6817, 81191: 6818, 83827: 6819, 83976: 6820, 84273: 6821, 84716: 6822, 85213: 6823, 86237: 6824, 86279: 6825, 86922: 6826, 87304: 6827, 87444: 6828, 87660: 6829, 89030: 6830, 89945: 6831, 90245: 6832, 90357: 6833, 90528: 6834, 90630: 6835, 90769: 6836, 91784: 6837, 91860: 6838, 92422: 6839, 92637: 6840, 94735: 6841, 96084: 6842, 97904: 6843, 100044: 6844, 100106: 6845, 100277: 6846, 101741: 6847, 102742: 6848, 102823: 6849, 105254: 6850, 106648: 6851, 109187: 6852, 109383: 6853, 109968: 6854, 111817: 6855, 113348: 6856, 114847: 6857, 116505: 6858, 117364: 6859, 117531: 6860, 117545: 6861, 117849: 6862, 118784: 6863, 118880: 6864, 120761: 6865, 121169: 6866, 124853: 6867, 127114: 6868, 127172: 6869, 127180: 6870, 127204: 6871, 127298: 6872, 128900: 6873, 128902: 6874, 128991: 6875, 133802: 6876, 134019: 6877, 134796: 6878, 136024: 6879, 138966: 6880, 140162: 6881, 140737: 6882, 140816: 6883, 143525: 6884, 143896: 6885, 144478: 6886, 145080: 6887, 147002: 6888, 148424: 6889, 150696: 6890, 152065: 6891, 155774: 6892, 158842: 6893, 159976: 6894, 160684: 6895, 168612: 6896, 170355: 6897, 171495: 6898, 173197: 6899, 173291: 6900, 173317: 6901, 179135: 6902, 184245: 6903, 188675: 6904, 188833: 6905, 189381: 6906, 26555: 6907, 2882: 6908, 110127: 6909, 111443: 6910, 3884: 6911, 3899: 6912, 3912: 6913, 30: 6914, 80: 6915, 183: 6916, 2425: 6917, 2848: 6918, 2894: 6919, 4086: 6920, 4263: 6921, 4294: 6922, 4471: 6923, 4500: 6924, 4523: 6925, 4714: 6926, 4717: 6927, 4927: 6928, 5033: 6929, 5075: 6930, 5980: 6931, 27866: 6932, 70451: 6933, 73344: 6934, 81257: 6935, 84240: 6936, 102194: 6937, 165101: 6938, 130482: 6939, 136850: 6940, 26528: 6941, 193609: 6942, 3420: 6943, 5226: 6944, 7925: 6945, 26564: 6946, 80917: 6947, 92938: 6948, 93610: 6949, 97757: 6950, 3567: 6951, 3580: 6952, 30850: 6953, 47404: 6954, 59118: 6955, 189043: 6956, 189111: 6957, 190207: 6958, 190209: 6959, 190213: 6960, 190215: 6961, 190219: 6962, 190221: 6963, 6869: 6964, 56869: 6965, 58842: 6966, 77177: 6967, 82378: 6968, 90345: 6969, 92243: 6970, 109687: 6971, 115969: 6972, 141749: 6973, 141890: 6974, 156783: 6975, 166946: 6976, 176751: 6977, 94405: 6978, 2188: 6979, 2370: 6980, 2676: 6981, 2975: 6982, 4195: 6983, 4419: 6984, 5404: 6985, 5707: 6986, 27751: 6987, 38164: 6988, 521: 6989, 1572: 6990, 2442: 6991, 4297: 6992, 4404: 6993, 4422: 6994, 5951: 6995, 6023: 6996, 6286: 6997, 6530: 6998, 7084: 6999, 7115: 7000, 7178: 7001, 7179: 7002, 7820: 7003, 7937: 7004, 7940: 7005, 8405: 7006, 32179: 7007, 6223: 7008, 6263: 7009, 40412: 7010, 52579: 7011, 54787: 7012, 55555: 7013, 57843: 7014, 60857: 7015, 60894: 7016, 88179: 7017, 88272: 7018, 88932: 7019, 89028: 7020, 89761: 7021, 90353: 7022, 90471: 7023, 92048: 7024, 5074: 7025, 7122: 7026, 34164: 7027, 44889: 7028, 48744: 7029, 58492: 7030, 59141: 7031, 1996: 7032, 4354: 7033, 4622: 7034, 6612: 7035, 8580: 7036, 8998: 7037, 27329: 7038, 53024: 7039, 59810: 7040, 73854: 7041, 74282: 7042, 93040: 7043, 96563: 7044, 2226: 7045, 26095: 7046, 65350: 7047, 70687: 7048, 85334: 7049, 87028: 7050, 89386: 7051, 26472: 7052, 1647: 7053, 161127: 7054, 176389: 7055, 176579: 7056, 96964: 7057, 101415: 7058, 106062: 7059, 107997: 7060, 109569: 7061, 113604: 7062, 114494: 7063, 132888: 7064, 145935: 7065, 148172: 7066, 155288: 7067, 155820: 7068, 1565: 7069, 2695: 7070, 3299: 7071, 3453: 7072, 4053: 7073, 4078: 7074, 4505: 7075, 4517: 7076, 2307: 7077, 2399: 7078, 3127: 7079, 3162: 7080, 3545: 7081, 3716: 7082, 3731: 7083, 3758: 7084, 3922: 7085, 33312: 7086, 55167: 7087, 112512: 7088, 335: 7089, 882: 7090, 1351: 7091, 1352: 7092, 1601: 7093, 3648: 7094, 4434: 7095, 4942: 7096, 5113: 7097, 5288: 7098, 5468: 7099, 5706: 7100, 5979: 7101, 6021: 7102, 6654: 7103, 6656: 7104, 6836: 7105, 6899: 7106, 7104: 7107, 7304: 7108, 7756: 7109, 7834: 7110, 8138: 7111, 8610: 7112, 25959: 7113, 27692: 7114, 32139: 7115, 42556: 7116, 56837: 7117, 71302: 7118, 71999: 7119, 80748: 7120, 84799: 7121, 87287: 7122, 92760: 7123, 94262: 7124, 152: 7125, 2656: 7126, 4444: 7127, 4814: 7128, 5134: 7129, 5476: 7130, 6889: 7131, 7310: 7132, 8526: 7133, 26585: 7134, 26999: 7135, 27584: 7136, 27683: 7137, 27802: 7138, 31698: 7139, 31804: 7140, 32456: 7141, 32743: 7142, 33644: 7143, 40614: 7144, 40617: 7145, 44020: 7146, 47124: 7147, 51927: 7148, 52950: 7149, 58404: 7150, 60818: 7151, 63222: 7152, 64249: 7153, 65133: 7154, 68194: 7155, 71129: 7156, 72601: 7157, 74750: 7158, 77798: 7159, 82744: 7160, 84414: 7161, 88515: 7162, 90603: 7163, 94160: 7164, 94985: 7165, 95004: 7166, 95147: 7167, 95149: 7168, 95182: 7169, 95473: 7170, 95475: 7171, 95497: 7172, 96007: 7173, 96815: 7174, 97643: 7175, 97785: 7176, 101739: 7177, 102058: 7178, 102084: 7179, 103233: 7180, 103449: 7181, 104141: 7182, 104419: 7183, 104457: 7184, 107723: 7185, 108795: 7186, 113278: 7187, 134524: 7188, 137863: 7189, 152173: 7190, 161354: 7191, 162598: 7192, 163056: 7193, 166558: 7194, 169982: 7195, 172497: 7196, 172875: 7197, 172881: 7198, 172887: 7199, 176935: 7200, 179119: 7201, 182639: 7202, 31435: 7203, 43376: 7204, 45074: 7205, 53326: 7206, 55259: 7207, 63808: 7208, 1003: 7209, 4580: 7210, 4632: 7211, 8387: 7212, 26764: 7213, 26765: 7214, 46865: 7215, 47952: 7216, 48598: 7217, 49647: 7218, 50003: 7219, 52279: 7220, 65685: 7221, 72696: 7222, 88356: 7223, 91660: 7224, 93139: 7225, 95796: 7226, 100737: 7227, 104074: 7228, 104076: 7229, 112460: 7230, 114713: 7231, 116887: 7232, 122902: 7233, 126482: 7234, 130686: 7235, 131934: 7236, 142372: 7237, 152079: 7238, 158254: 7239, 170289: 7240, 2546: 7241, 2669: 7242, 2856: 7243, 4276: 7244, 4323: 7245, 4355: 7246, 206: 7247, 363: 7248, 841: 7249, 1161: 7250, 1329: 7251, 1662: 7252, 1770: 7253, 1977: 7254, 2071: 7255, 2074: 7256, 2303: 7257, 2488: 7258, 2632: 7259, 3455: 7260, 3587: 7261, 3680: 7262, 3765: 7263, 3813: 7264, 3838: 7265, 3865: 7266, 3919: 7267, 4064: 7268, 4065: 7269, 4191: 7270, 4278: 7271, 4289: 7272, 4298: 7273, 4390: 7274, 4392: 7275, 4393: 7276, 4408: 7277, 4409: 7278, 4426: 7279, 4429: 7280, 4441: 7281, 4527: 7282, 4552: 7283, 4563: 7284, 4614: 7285, 4687: 7286, 4833: 7287, 4985: 7288, 4988: 7289, 5121: 7290, 5156: 7291, 5397: 7292, 5465: 7293, 5489: 7294, 5515: 7295, 5531: 7296, 5780: 7297, 5974: 7298, 5984: 7299, 6035: 7300, 6063: 7301, 6100: 7302, 6123: 7303, 6184: 7304, 6465: 7305, 6533: 7306, 6577: 7307, 6710: 7308, 6748: 7309, 6885: 7310, 6918: 7311, 6981: 7312, 7088: 7313, 7091: 7314, 7102: 7315, 7116: 7316, 7205: 7317, 7301: 7318, 7328: 7319, 7336: 7320, 7386: 7321, 7394: 7322, 7450: 7323, 7581: 7324, 7616: 7325, 7745: 7326, 7749: 7327, 7895: 7328, 7936: 7329, 7938: 7330, 7939: 7331, 7951: 7332, 7987: 7333, 7993: 7334, 8188: 7335, 8195: 7336, 8196: 7337, 8239: 7338, 8270: 7339, 8290: 7340, 8512: 7341, 8542: 7342, 8596: 7343, 8670: 7344, 25898: 7345, 25963: 7346, 26002: 7347, 26052: 7348, 26124: 7349, 26151: 7350, 26231: 7351, 26303: 7352, 26694: 7353, 31590: 7354, 31737: 7355, 32314: 7356, 32392: 7357, 33188: 7358, 40966: 7359, 41617: 7360, 44657: 7361, 44759: 7362, 44864: 7363, 46772: 7364, 47465: 7365, 52462: 7366, 52644: 7367, 6158: 7368, 63239: 7369, 104245: 7370, 6344: 7371, 7208: 7372, 27695: 7373, 44943: 7374, 59995: 7375, 695: 7376, 1150: 7377, 1900: 7378, 2708: 7379, 4237: 7380, 4562: 7381, 4965: 7382, 5470: 7383, 5477: 7384, 5537: 7385, 5575: 7386, 130842: 7387, 1701: 7388, 6408: 7389, 8738: 7390, 26147: 7391, 26631: 7392, 60333: 7393, 42734: 7394, 170939: 7395, 61465: 7396, 61697: 7397, 7134: 7398, 26810: 7399, 27664: 7400, 59814: 7401, 70708: 7402, 77266: 7403, 6776: 7404, 70305: 7405, 85412: 7406, 87785: 7407, 103596: 7408, 136540: 7409, 3590: 7410, 3760: 7411, 389: 7412, 549: 7413, 670: 7414, 824: 7415, 3823: 7416, 3855: 7417, 4077: 7418, 4175: 7419, 4268: 7420, 119: 7421, 386: 7422, 650: 7423, 1040: 7424, 1121: 7425, 1332: 7426, 1484: 7427, 1605: 7428, 1609: 7429, 1656: 7430, 1870: 7431, 1922: 7432, 2007: 7433, 2119: 7434, 2172: 7435, 2260: 7436, 2264: 7437, 2271: 7438, 2472: 7439, 2482: 7440, 2552: 7441, 2570: 7442, 2751: 7443, 2835: 7444, 2884: 7445, 2891: 7446, 2893: 7447, 2928: 7448, 2979: 7449, 3008: 7450, 3111: 7451, 3206: 7452, 3378: 7453, 3391: 7454, 3539: 7455, 3581: 7456, 3625: 7457, 3790: 7458, 3847: 7459, 3898: 7460, 3900: 7461, 3951: 7462, 3953: 7463, 4012: 7464, 4081: 7465, 4089: 7466, 4115: 7467, 4123: 7468, 4125: 7469, 4138: 7470, 4139: 7471, 4147: 7472, 4221: 7473, 4242: 7474, 4290: 7475, 4312: 7476, 4353: 7477, 4451: 7478, 4458: 7479, 4462: 7480, 4463: 7481, 4475: 7482, 4478: 7483, 4488: 7484, 4524: 7485, 4573: 7486, 4583: 7487, 4595: 7488, 4600: 7489, 4610: 7490, 4617: 7491, 4636: 7492, 4666: 7493, 4672: 7494, 4675: 7495, 4721: 7496, 4745: 7497, 4777: 7498, 4780: 7499, 4818: 7500, 4847: 7501, 4926: 7502, 4961: 7503, 4962: 7504, 5068: 7505, 5071: 7506, 5073: 7507, 5081: 7508, 5112: 7509, 5178: 7510, 5209: 7511, 5237: 7512, 5240: 7513, 5278: 7514, 5285: 7515, 5297: 7516, 5321: 7517, 5322: 7518, 5324: 7519, 5328: 7520, 5337: 7521, 5345: 7522, 5390: 7523, 5416: 7524, 5422: 7525, 5424: 7526, 5437: 7527, 5461: 7528, 5471: 7529, 5483: 7530, 5521: 7531, 5562: 7532, 5625: 7533, 5633: 7534, 5635: 7535, 5636: 7536, 5663: 7537, 5678: 7538, 5685: 7539, 5688: 7540, 5817: 7541, 5829: 7542, 5880: 7543, 5896: 7544, 5968: 7545, 5994: 7546, 6033: 7547, 6036: 7548, 6039: 7549, 6078: 7550, 6116: 7551, 6141: 7552, 6159: 7553, 6162: 7554, 6195: 7555, 6216: 7556, 6222: 7557, 6268: 7558, 6269: 7559, 6280: 7560, 6295: 7561, 6308: 7562, 6314: 7563, 6315: 7564, 6349: 7565, 6442: 7566, 6493: 7567, 6510: 7568, 6517: 7569, 6542: 7570, 6547: 7571, 6549: 7572, 6560: 7573, 6563: 7574, 6574: 7575, 6582: 7576, 6598: 7577, 6616: 7578, 6628: 7579, 6631: 7580, 6670: 7581, 6689: 7582, 6696: 7583, 6699: 7584, 6718: 7585, 6720: 7586, 6780: 7587, 6797: 7588, 6809: 7589, 6810: 7590, 6812: 7591, 6816: 7592, 6851: 7593, 6883: 7594, 6898: 7595, 6954: 7596, 7033: 7597, 7165: 7598, 7175: 7599, 7176: 7600, 7193: 7601, 7248: 7602, 7251: 7603, 7315: 7604, 7340: 7605, 7348: 7606, 7364: 7607, 7390: 7608, 8119: 7609, 8587: 7610, 8915: 7611, 8919: 7612, 8952: 7613, 8954: 7614, 25834: 7615, 30820: 7616, 31162: 7617, 32116: 7618, 33725: 7619, 33826: 7620, 33838: 7621, 34540: 7622, 41527: 7623, 42602: 7624, 43912: 7625, 45062: 7626, 45635: 7627, 46347: 7628, 46559: 7629, 48319: 7630, 48560: 7631, 49132: 7632, 49280: 7633, 49957: 7634, 50792: 7635, 51694: 7636, 52299: 7637, 52668: 7638, 52724: 7639, 52784: 7640, 53447: 7641, 54771: 7642, 55110: 7643, 55250: 7644, 56908: 7645, 58879: 7646, 59037: 7647, 60128: 7648, 60141: 7649, 61401: 7650, 70862: 7651, 76763: 7652, 95135: 7653, 112940: 7654, 115828: 7655, 127130: 7656, 154358: 7657, 166024: 7658, 166568: 7659, 167570: 7660, 169992: 7661, 173205: 7662, 173209: 7663, 176423: 7664, 180045: 7665, 90374: 7666, 1412: 7667, 2807: 7668, 4093: 7669, 27704: 7670, 50851: 7671, 69860: 7672, 79677: 7673, 85394: 7674, 86668: 7675, 89580: 7676, 90943: 7677, 97866: 7678, 6210: 7679, 8337: 7680, 8577: 7681, 26693: 7682, 59295: 7683, 2665: 7684, 3447: 7685, 3973: 7686, 4190: 7687, 4802: 7688, 4925: 7689, 4939: 7690, 5063: 7691, 136469: 7692, 91325: 7693, 6055: 7694, 6347: 7695, 6348: 7696, 6597: 7697, 5532: 7698, 7306: 7699, 8588: 7700, 27708: 7701, 33893: 7702, 45503: 7703, 66090: 7704, 68347: 7705, 71902: 7706, 80880: 7707, 89208: 7708, 92348: 7709, 568: 7710, 1675: 7711, 2540: 7712, 4453: 7713, 4743: 7714, 5409: 7715, 5580: 7716, 5675: 7717, 5787: 7718, 6992: 7719, 7017: 7720, 7192: 7721, 8782: 7722, 30898: 7723, 36276: 7724, 43708: 7725, 8690: 7726, 4402: 7727, 96430: 7728, 941: 7729, 1839: 7730, 2368: 7731, 2520: 7732, 2521: 7733, 2523: 7734, 2693: 7735, 2887: 7736, 3057: 7737, 3276: 7738, 3284: 7739, 3390: 7740, 3596: 7741, 3933: 7742, 4051: 7743, 4156: 7744, 4198: 7745, 4212: 7746, 4397: 7747, 4526: 7748, 4630: 7749, 4660: 7750, 4756: 7751, 4775: 7752, 4952: 7753, 4981: 7754, 5250: 7755, 5334: 7756, 5356: 7757, 5490: 7758, 5700: 7759, 5752: 7760, 5779: 7761, 5915: 7762, 6302: 7763, 6424: 7764, 6427: 7765, 6476: 7766, 6514: 7767, 6760: 7768, 6798: 7769, 6814: 7770, 7101: 7771, 7245: 7772, 7372: 7773, 8136: 7774, 8137: 7775, 8447: 7776, 8743: 7777, 26152: 7778, 26386: 7779, 26464: 7780, 26700: 7781, 31000: 7782, 32291: 7783, 34018: 7784, 37211: 7785, 43558: 7786, 48262: 7787, 49688: 7788, 50064: 7789, 53453: 7790, 53808: 7791, 55294: 7792, 58351: 7793, 61123: 7794, 61289: 7795, 63393: 7796, 65135: 7797, 66785: 7798, 67361: 7799, 69118: 7800, 69453: 7801, 69604: 7802, 70545: 7803, 71466: 7804, 71732: 7805, 72224: 7806, 72694: 7807, 73386: 7808, 75803: 7809, 75816: 7810, 77421: 7811, 78034: 7812, 78116: 7813, 79259: 7814, 79590: 7815, 79879: 7816, 79946: 7817, 80241: 7818, 80864: 7819, 81949: 7820, 82093: 7821, 82095: 7822, 82527: 7823, 83374: 7824, 84696: 7825, 84950: 7826, 85025: 7827, 85399: 7828, 86028: 7829, 86593: 7830, 87876: 7831, 88672: 7832, 89305: 7833, 89343: 7834, 89388: 7835, 89427: 7836, 90343: 7837, 90719: 7838, 90738: 7839, 91273: 7840, 91688: 7841, 91873: 7842, 91935: 7843, 92198: 7844, 92665: 7845, 93242: 7846, 93980: 7847, 93982: 7848, 94011: 7849, 94323: 7850, 94494: 7851, 94896: 7852, 94919: 7853, 95201: 7854, 95508: 7855, 95744: 7856, 96114: 7857, 96281: 7858, 96530: 7859, 96726: 7860, 97328: 7861, 97742: 7862, 97858: 7863, 97870: 7864, 97936: 7865, 98160: 7866, 98175: 7867, 98230: 7868, 98296: 7869, 98836: 7870, 98908: 7871, 99005: 7872, 99415: 7873, 99574: 7874, 99846: 7875, 99992: 7876, 100226: 7877, 100304: 7878, 100326: 7879, 100487: 7880, 101360: 7881, 101529: 7882, 101577: 7883, 101884: 7884, 101895: 7885, 102025: 7886, 102165: 7887, 102278: 7888, 102819: 7889, 102880: 7890, 103221: 7891, 103502: 7892, 103543: 7893, 103755: 7894, 103865: 7895, 104078: 7896, 104129: 7897, 104760: 7898, 104906: 7899, 105121: 7900, 105755: 7901, 106330: 7902, 106438: 7903, 106542: 7904, 106883: 7905, 107702: 7906, 107945: 7907, 107962: 7908, 108188: 7909, 108601: 7910, 108715: 7911, 109183: 7912, 109191: 7913, 109295: 7914, 109317: 7915, 109372: 7916, 109416: 7917, 110611: 7918, 110655: 7919, 110826: 7920, 111663: 7921, 111680: 7922, 111795: 7923, 112303: 7924, 112749: 7925, 113186: 7926, 113225: 7927, 113350: 7928, 113416: 7929, 113532: 7930, 114028: 7931, 114601: 7932, 114925: 7933, 115151: 7934, 115170: 7935, 115216: 7936, 116207: 7937, 116413: 7938, 116419: 7939, 116849: 7940, 116985: 7941, 117107: 7942, 117511: 7943, 118248: 7944, 118326: 7945, 118354: 7946, 118512: 7947, 118702: 7948, 118814: 7949, 118924: 7950, 118997: 7951, 119068: 7952, 119655: 7953, 120637: 7954, 120783: 7955, 122490: 7956, 122932: 7957, 124859: 7958, 125221: 7959, 126420: 7960, 127132: 7961, 127136: 7962, 127194: 7963, 127319: 7964, 128592: 7965, 129250: 7966, 129333: 7967, 129657: 7968, 129659: 7969, 130083: 7970, 131480: 7971, 132333: 7972, 132462: 7973, 132488: 7974, 132618: 7975, 133195: 7976, 133281: 7977, 133365: 7978, 133377: 7979, 133545: 7980, 133782: 7981, 133798: 7982, 134021: 7983, 134158: 7984, 134859: 7985, 136654: 7986, 136664: 7987, 136778: 7988, 136786: 7989, 136800: 7990, 136816: 7991, 136859: 7992, 137517: 7993, 138546: 7994, 139052: 7995, 139415: 7996, 139857: 7997, 140237: 7998, 140525: 7999, 140850: 8000, 141422: 8001, 142424: 8002, 143001: 8003, 143255: 8004, 143257: 8005, 143410: 8006, 143472: 8007, 144262: 8008, 144620: 8009, 144714: 8010, 144716: 8011, 145150: 8012, 146688: 8013, 146730: 8014, 148482: 8015, 148592: 8016, 148709: 8017, 149590: 8018, 149612: 8019, 150401: 8020, 150604: 8021, 151315: 8022, 151317: 8023, 151501: 8024, 151559: 8025, 151653: 8026, 151745: 8027, 151777: 8028, 152085: 8029, 152105: 8030, 152658: 8031, 154065: 8032, 155358: 8033, 155659: 8034, 155743: 8035, 155892: 8036, 156553: 8037, 156706: 8038, 157122: 8039, 157130: 8040, 157172: 8041, 157200: 8042, 157270: 8043, 157340: 8044, 157407: 8045, 157432: 8046, 158022: 8047, 158956: 8048, 159077: 8049, 159193: 8050, 159690: 8051, 160440: 8052, 160573: 8053, 160646: 8054, 160730: 8055, 161290: 8056, 161830: 8057, 161918: 8058, 162828: 8059, 164375: 8060, 164647: 8061, 164753: 8062, 165075: 8063, 165139: 8064, 165343: 8065, 165347: 8066, 168350: 8067, 168456: 8068, 169180: 8069, 173751: 8070, 3568: 8071, 2839: 8072, 3240: 8073, 3241: 8074, 3756: 8075, 3787: 8076, 1341: 8077, 706: 8078, 89039: 8079, 1757: 8080, 2677: 8081, 3859: 8082, 3989: 8083, 4236: 8084, 4863: 8085, 4977: 8086, 5205: 8087, 5212: 8088, 5224: 8089, 5239: 8090, 5986: 8091, 6064: 8092, 6466: 8093, 6528: 8094, 6611: 8095, 6775: 8096, 6935: 8097, 6945: 8098, 6966: 8099, 7181: 8100, 7620: 8101, 7767: 8102, 7786: 8103, 7920: 8104, 8620: 8105, 8848: 8106, 26359: 8107, 26838: 8108, 27563: 8109, 32582: 8110, 38198: 8111, 45382: 8112, 46855: 8113, 55156: 8114, 58191: 8115, 67665: 8116, 71640: 8117, 82857: 8118, 89090: 8119, 100556: 8120, 103107: 8121, 105835: 8122, 109161: 8123, 148982: 8124, 151311: 8125, 152711: 8126, 160644: 8127, 162414: 8128, 164655: 8129, 167064: 8130, 179813: 8131, 183199: 8132, 183317: 8133, 184721: 8134, 187717: 8135, 188189: 8136, 189713: 8137, 56169: 8138, 59738: 8139, 60832: 8140, 74530: 8141, 74580: 8142, 90384: 8143, 3723: 8144, 2493: 8145, 451: 8146, 1180: 8147, 3405: 8148, 3619: 8149, 3658: 8150, 3832: 8151, 96: 8152, 488: 8153, 638: 8154, 907: 8155, 929: 8156, 956: 8157, 959: 8158, 970: 8159, 976: 8160, 982: 8161, 993: 8162, 1068: 8163, 1398: 8164, 1413: 8165, 1423: 8166, 1496: 8167, 1507: 8168, 1629: 8169, 1650: 8170, 1893: 8171, 1902: 8172, 1913: 8173, 1926: 8174, 1928: 8175, 1932: 8176, 1933: 8177, 1940: 8178, 2177: 8179, 2179: 8180, 2180: 8181, 2185: 8182, 2187: 8183, 2201: 8184, 2211: 8185, 2611: 8186, 2612: 8187, 2652: 8188, 2697: 8189, 2743: 8190, 2757: 8191, 2801: 8192, 2927: 8193, 2929: 8194, 2930: 8195, 3109: 8196, 3112: 8197, 3125: 8198, 3135: 8199, 3211: 8200, 3281: 8201, 3475: 8202, 3609: 8203, 3641: 8204, 3714: 8205, 3715: 8206, 3739: 8207, 3789: 8208, 3816: 8209, 3870: 8210, 3965: 8211, 3966: 8212, 4046: 8213, 4080: 8214, 4113: 8215, 4129: 8216, 4164: 8217, 4171: 8218, 4184: 8219, 4189: 8220, 4204: 8221, 4218: 8222, 4292: 8223, 4296: 8224, 4433: 8225, 4484: 8226, 4495: 8227, 4521: 8228, 4578: 8229, 4589: 8230, 4635: 8231, 4704: 8232, 4769: 8233, 4796: 8234, 4798: 8235, 4801: 8236, 4804: 8237, 4860: 8238, 4871: 8239, 4970: 8240, 4998: 8241, 5007: 8242, 5012: 8243, 5077: 8244, 5114: 8245, 5116: 8246, 5168: 8247, 5213: 8248, 5231: 8249, 5311: 8250, 5353: 8251, 5375: 8252, 5384: 8253, 5440: 8254, 5455: 8255, 5512: 8256, 5525: 8257, 5581: 8258, 5601: 8259, 5602: 8260, 5604: 8261, 5629: 8262, 5649: 8263, 5694: 8264, 5755: 8265, 5771: 8266, 5799: 8267, 5801: 8268, 5802: 8269, 5826: 8270, 5836: 8271, 5863: 8272, 5875: 8273, 5963: 8274, 6020: 8275, 6031: 8276, 6042: 8277, 6090: 8278, 6101: 8279, 6163: 8280, 6178: 8281, 6181: 8282, 6201: 8283, 6225: 8284, 6228: 8285, 6232: 8286, 6245: 8287, 6273: 8288, 6289: 8289, 6336: 8290, 6357: 8291, 6376: 8292, 6382: 8293, 6390: 8294, 6400: 8295, 6407: 8296, 6422: 8297, 6434: 8298, 6454: 8299, 6477: 8300, 6515: 8301, 6527: 8302, 6545: 8303, 6581: 8304, 6584: 8305, 6592: 8306, 6603: 8307, 6609: 8308, 6614: 8309, 6660: 8310, 6667: 8311, 6732: 8312, 6768: 8313, 6770: 8314, 6772: 8315, 6788: 8316, 6837: 8317, 6909: 8318, 6911: 8319, 6912: 8320, 6948: 8321, 6962: 8322, 6965: 8323, 6970: 8324, 6982: 8325, 6984: 8326, 6990: 8327, 7012: 8328, 7019: 8329, 7049: 8330, 7051: 8331, 7052: 8332, 7053: 8333, 7055: 8334, 7057: 8335, 7058: 8336, 7059: 8337, 7061: 8338, 7062: 8339, 7070: 8340, 7073: 8341, 7074: 8342, 7075: 8343, 7079: 8344, 7082: 8345, 7083: 8346, 7085: 8347, 7086: 8348, 7092: 8349, 7093: 8350, 7141: 8351, 7167: 8352, 7177: 8353, 7190: 8354, 7211: 8355, 7212: 8356, 7217: 8357, 7219: 8358, 7223: 8359, 7326: 8360, 7357: 8361, 7382: 8362, 7414: 8363, 7479: 8364, 7560: 8365, 7572: 8366, 7579: 8367, 7584: 8368, 7618: 8369, 7702: 8370, 7705: 8371, 7713: 8372, 7714: 8373, 7716: 8374, 7727: 8375, 7772: 8376, 7789: 8377, 7822: 8378, 7826: 8379, 7831: 8380, 7832: 8381, 7833: 8382, 7835: 8383, 7839: 8384, 7840: 8385, 7882: 8386, 7883: 8387, 7888: 8388, 7896: 8389, 7900: 8390, 7944: 8391, 8019: 8392, 8057: 8393, 8094: 8394, 8125: 8395, 8153: 8396, 8167: 8397, 8191: 8398, 8232: 8399, 8275: 8400, 8293: 8401, 8302: 8402, 8331: 8403, 8336: 8404, 8338: 8405, 8375: 8406, 8382: 8407, 8385: 8408, 8410: 8409, 8424: 8410, 8446: 8411, 8450: 8412, 8451: 8413, 8458: 8414, 8459: 8415, 8461: 8416, 8462: 8417, 8463: 8418, 8465: 8419, 8481: 8420, 8482: 8421, 8487: 8422, 8492: 8423, 8502: 8424, 8518: 8425, 8521: 8426, 8534: 8427, 8575: 8428, 8591: 8429, 8611: 8430, 8617: 8431, 8650: 8432, 8684: 8433, 8711: 8434, 8712: 8435, 8714: 8436, 8730: 8437, 8753: 8438, 8754: 8439, 8771: 8440, 8773: 8441, 8774: 8442, 8778: 8443, 8809: 8444, 8813: 8445, 8875: 8446, 8920: 8447, 8921: 8448, 8938: 8449, 8943: 8450, 8955: 8451, 8979: 8452, 8987: 8453, 8989: 8454, 25752: 8455, 25753: 8456, 25757: 8457, 25769: 8458, 25795: 8459, 25826: 8460, 25850: 8461, 25865: 8462, 25870: 8463, 25927: 8464, 25940: 8465, 25952: 8466, 25962: 8467, 25996: 8468, 25999: 8469, 26791: 8470, 26965: 8471, 31030: 8472, 31083: 8473, 31260: 8474, 31694: 8475, 31903: 8476, 34359: 8477, 35015: 8478, 42740: 8479, 43333: 8480, 44511: 8481, 48741: 8482, 49666: 8483, 50160: 8484, 50514: 8485, 53921: 8486, 55071: 8487, 55687: 8488, 56563: 8489, 3720: 8490, 4454: 8491, 4557: 8492, 4725: 8493, 5069: 8494, 5348: 8495, 6148: 8496, 7335: 8497, 8126: 8498, 27537: 8499, 31660: 8500, 42422: 8501, 68945: 8502, 72308: 8503, 78746: 8504, 82242: 8505, 2362: 8506, 3428: 8507, 4111: 8508, 4410: 8509, 4831: 8510, 5197: 8511, 5365: 8512, 5389: 8513, 5448: 8514, 5651: 8515, 5773: 8516, 6436: 8517, 6853: 8518, 8131: 8519, 27830: 8520, 32294: 8521, 36477: 8522, 37844: 8523, 43914: 8524, 44197: 8525, 47646: 8526, 2068: 8527, 6320: 8528, 8268: 8529, 2483: 8530, 8632: 8531, 27370: 8532, 31617: 8533, 36397: 8534, 68522: 8535, 72554: 8536, 88448: 8537, 89586: 8538, 90863: 8539, 91890: 8540, 93723: 8541, 94810: 8542, 95939: 8543, 96283: 8544, 97665: 8545, 99087: 8546, 100068: 8547, 101765: 8548, 105325: 8549, 109941: 8550, 109971: 8551, 112316: 8552, 115065: 8553, 4759: 8554, 5786: 8555, 8593: 8556, 71268: 8557, 93320: 8558, 26900: 8559, 40597: 8560, 54796: 8561, 72874: 8562, 73501: 8563, 77881: 8564, 79299: 8565, 79536: 8566, 80454: 8567, 80551: 8568, 84553: 8569, 86000: 8570, 87413: 8571, 91488: 8572, 92730: 8573, 94130: 8574, 50954: 8575, 78160: 8576, 78544: 8577, 180231: 8578, 103: 8579, 467: 8580, 876: 8581, 1170: 8582, 73290: 8583, 140523: 8584, 131739: 8585, 56286: 8586, 449: 8587, 1824: 8588, 1910: 8589, 7455: 8590, 32914: 8591, 46231: 8592, 79798: 8593, 6596: 8594, 6927: 8595, 68269: 8596, 5613: 8597, 26958: 8598, 50796: 8599, 65193: 8600, 74677: 8601, 80834: 8602, 82088: 8603, 84847: 8604, 89678: 8605, 90809: 8606, 91266: 8607, 91337: 8608, 93134: 8609, 93988: 8610, 94799: 8611, 95193: 8612, 110781: 8613, 117133: 8614, 126142: 8615, 129229: 8616, 130073: 8617, 136838: 8618, 136840: 8619, 34148: 8620, 6145: 8621, 1335: 8622, 1978: 8623, 2878: 8624, 3294: 8625, 4202: 8626, 5041: 8627, 5189: 8628, 5704: 8629, 5797: 8630, 6746: 8631, 6821: 8632, 7477: 8633, 7730: 8634, 7891: 8635, 8894: 8636, 26198: 8637, 31150: 8638, 38583: 8639, 40478: 8640, 62586: 8641, 124484: 8642, 135216: 8643, 136958: 8644, 141994: 8645, 149330: 8646, 158830: 8647, 159510: 8648, 160571: 8649, 167538: 8650, 168358: 8651, 180263: 8652, 182727: 8653, 184931: 8654, 184987: 8655, 185033: 8656, 185473: 8657, 186587: 8658, 187031: 8659, 188797: 8660, 4646: 8661, 8772: 8662, 26761: 8663, 83270: 8664, 88267: 8665, 91414: 8666, 93740: 8667, 96471: 8668, 96518: 8669, 96520: 8670, 97194: 8671, 107780: 8672, 121099: 8673, 144352: 8674, 152037: 8675, 160422: 8676, 162590: 8677, 165489: 8678, 7266: 8679, 32469: 8680, 27006: 8681, 27369: 8682, 66544: 8683, 79006: 8684, 120130: 8685, 8264: 8686, 91869: 8687, 96150: 8688, 98122: 8689, 106889: 8690, 120807: 8691, 127164: 8692, 134248: 8693, 146682: 8694, 148667: 8695, 159849: 8696, 163653: 8697, 164540: 8698, 39516: 8699, 135198: 8700, 176413: 8701, 176415: 8702, 2742: 8703, 3673: 8704, 3674: 8705, 4445: 8706, 5560: 8707, 4284: 8708, 125914: 8709, 27251: 8710, 36289: 8711, 51024: 8712, 53138: 8713, 53140: 8714, 58297: 8715, 64695: 8716, 69805: 8717, 73804: 8718, 76743: 8719, 83480: 8720, 85179: 8721, 85261: 8722, 91353: 8723, 112580: 8724, 116529: 8725, 116668: 8726, 116724: 8727, 128542: 8728, 134775: 8729, 135885: 8730, 144734: 8731, 150993: 8732, 164367: 8733, 2573: 8734, 55946: 8735, 121129: 8736, 2107: 8737, 626: 8738, 1986: 8739, 1990: 8740, 3626: 8741, 3939: 8742, 3940: 8743, 3941: 8744, 3942: 8745, 3958: 8746, 1477: 8747, 168712: 8748, 142056: 8749, 167296: 8750, 1825: 8751, 5059: 8752, 5513: 8753, 7457: 8754, 43684: 8755, 61257: 8756, 2820: 8757, 633: 8758, 790: 8759, 1336: 8760, 1397: 8761, 1985: 8762, 2256: 8763, 2451: 8764, 2597: 8765, 2862: 8766, 3442: 8767, 3574: 8768, 3577: 8769, 3660: 8770, 3661: 8771, 3663: 8772, 3664: 8773, 3678: 8774, 3691: 8775, 5839: 8776, 5840: 8777, 6119: 8778, 26308: 8779, 31123: 8780, 37495: 8781, 38095: 8782, 48045: 8783, 54617: 8784, 59026: 8785, 68886: 8786, 73681: 8787, 81383: 8788, 96945: 8789, 105246: 8790, 109313: 8791, 111384: 8792, 130498: 8793, 141866: 8794, 142558: 8795, 148238: 8796, 148881: 8797, 154975: 8798, 6800: 8799, 105468: 8800, 168174: 8801, 4135: 8802, 26357: 8803, 27140: 8804, 27667: 8805, 73211: 8806, 99191: 8807, 100306: 8808, 43930: 8809, 44225: 8810, 47516: 8811, 61071: 8812, 62718: 8813, 70932: 8814, 72919: 8815, 74688: 8816, 77414: 8817, 78264: 8818, 80858: 8819, 82152: 8820, 90524: 8821, 94325: 8822, 95199: 8823, 96975: 8824, 100527: 8825, 115667: 8826, 128832: 8827, 139747: 8828, 50942: 8829, 5028: 8830, 8189: 8831, 8335: 8832, 8477: 8833, 25782: 8834, 26717: 8835, 26743: 8836, 40491: 8837, 51573: 8838, 57502: 8839, 70015: 8840, 71438: 8841, 81681: 8842, 82684: 8843, 92234: 8844, 92681: 8845, 99917: 8846, 101070: 8847, 102088: 8848, 102800: 8849, 104337: 8850, 104944: 8851, 109897: 8852, 110603: 8853, 113705: 8854, 114396: 8855, 114554: 8856, 114627: 8857, 117877: 8858, 122246: 8859, 122888: 8860, 132335: 8861, 134246: 8862, 135288: 8863, 136602: 8864, 141668: 8865, 142507: 8866, 150254: 8867, 151687: 8868, 152063: 8869, 152071: 8870, 153070: 8871, 156605: 8872, 166526: 8873, 166705: 8874, 170945: 8875, 176419: 8876, 179491: 8877, 179749: 8878, 179815: 8879, 1331: 8880, 1623: 8881, 1980: 8882, 2655: 8883, 2740: 8884, 2982: 8885, 3021: 8886, 3073: 8887, 430: 8888, 2538: 8889, 2623: 8890, 2629: 8891, 2415: 8892, 3143: 8893, 6751: 8894, 7395: 8895, 56389: 8896, 75446: 8897, 2965: 8898, 5767: 8899, 5828: 8900, 6342: 8901, 6583: 8902, 6692: 8903, 7349: 8904, 8092: 8905, 8236: 8906, 8427: 8907, 8494: 8908, 8800: 8909, 8844: 8910, 26819: 8911, 27373: 8912, 136556: 8913, 2738: 8914, 3403: 8915, 3414: 8916, 3449: 8917, 4710: 8918, 284: 8919, 1652: 8920, 2175: 8921, 2196: 8922, 2589: 8923, 3353: 8924, 4200: 8925, 4374: 8926, 4715: 8927, 4794: 8928, 4827: 8929, 5105: 8930, 5657: 8931, 6140: 8932, 6417: 8933, 6665: 8934, 6723: 8935, 6967: 8936, 6994: 8937, 7023: 8938, 7031: 8939, 7032: 8940, 7114: 8941, 7345: 8942, 7742: 8943, 7782: 8944, 8035: 8945, 8118: 8946, 8727: 8947, 2774: 8948, 3094: 8949, 4342: 8950, 6769: 8951, 7260: 8952, 7615: 8953, 27246: 8954, 32799: 8955, 33649: 8956, 43744: 8957, 55844: 8958, 59549: 8959, 59667: 8960, 68835: 8961, 69495: 8962, 70637: 8963, 92954: 8964, 111800: 8965, 111913: 8966, 113280: 8967, 120919: 8968, 128908: 8969, 129397: 8970, 132454: 8971, 133645: 8972, 141131: 8973, 151557: 8974, 163639: 8975, 168026: 8976, 171917: 8977, 176051: 8978, 178615: 8979, 181719: 8980, 182793: 8981, 183635: 8982, 184997: 8983, 615: 8984, 1112: 8985, 4424: 8986, 113829: 8987, 114265: 8988, 124851: 8989, 478: 8990, 806: 8991, 1114: 8992, 1426: 8993, 1794: 8994, 2281: 8995, 2292: 8996, 2339: 8997, 2586: 8998, 2698: 8999, 3379: 9000, 3571: 9001, 3669: 9002, 3700: 9003, 3709: 9004, 3962: 9005, 4197: 9006, 4240: 9007, 4394: 9008, 4490: 9009, 4504: 9010, 4511: 9011, 4568: 9012, 4574: 9013, 4593: 9014, 4594: 9015, 4597: 9016, 4603: 9017, 4670: 9018, 5053: 9019, 5054: 9020, 5096: 9021, 5111: 9022, 5136: 9023, 5198: 9024, 5221: 9025, 5268: 9026, 5442: 9027, 5591: 9028, 5596: 9029, 5597: 9030, 5689: 9031, 5768: 9032, 5961: 9033, 6204: 9034, 6267: 9035, 6310: 9036, 6506: 9037, 6557: 9038, 6587: 9039, 6691: 9040, 6722: 9041, 6734: 9042, 6804: 9043, 6860: 9044, 6882: 9045, 6998: 9046, 7005: 9047, 7041: 9048, 7047: 9049, 7108: 9050, 7125: 9051, 7191: 9052, 7307: 9053, 7443: 9054, 7657: 9055, 7704: 9056, 7707: 9057, 7986: 9058, 7988: 9059, 8043: 9060, 8045: 9061, 8380: 9062, 8425: 9063, 8500: 9064, 8720: 9065, 8755: 9066, 8905: 9067, 8934: 9068, 9004: 9069, 26142: 9070, 26159: 9071, 26176: 9072, 26195: 9073, 26283: 9074, 26285: 9075, 26344: 9076, 26365: 9077, 26413: 9078, 26453: 9079, 26467: 9080, 26510: 9081, 26539: 9082, 26542: 9083, 26547: 9084, 26562: 9085, 26567: 9086, 26590: 9087, 26593: 9088, 26612: 9089, 26622: 9090, 26630: 9091, 26676: 9092, 26696: 9093, 26701: 9094, 26726: 9095, 26741: 9096, 26745: 9097, 26782: 9098, 26797: 9099, 26828: 9100, 26854: 9101, 26861: 9102, 26913: 9103, 26940: 9104, 26947: 9105, 27002: 9106, 27008: 9107, 27032: 9108, 27074: 9109, 27105: 9110, 27124: 9111, 27155: 9112, 27306: 9113, 27420: 9114, 27441: 9115, 27549: 9116, 27595: 9117, 27722: 9118, 27762: 9119, 27769: 9120, 27784: 9121, 27829: 9122, 31367: 9123, 31553: 9124, 31664: 9125, 31921: 9126, 32058: 9127, 32440: 9128, 32442: 9129, 32515: 9130, 33126: 9131, 33294: 9132, 33435: 9133, 33629: 9134, 33801: 9135, 33966: 9136, 34292: 9137, 34800: 9138, 34811: 9139, 36850: 9140, 39801: 9141, 40578: 9142, 41627: 9143, 42559: 9144, 42638: 9145, 42943: 9146, 42946: 9147, 43419: 9148, 43677: 9149, 43908: 9150, 44238: 9151, 44241: 9152, 44243: 9153, 44849: 9154, 45183: 9155, 45648: 9156, 45969: 9157, 46367: 9158, 46574: 9159, 47721: 9160, 47793: 9161, 49110: 9162, 51545: 9163, 53022: 9164, 53143: 9165, 53161: 9166, 53450: 9167, 54274: 9168, 54908: 9169, 55036: 9170, 55061: 9171, 55205: 9172, 55207: 9173, 56022: 9174, 57499: 9175, 58306: 9176, 59016: 9177, 59336: 9178, 59947: 9179, 60365: 9180, 60803: 9181, 61073: 9182, 62662: 9183, 62970: 9184, 66915: 9185, 67193: 9186, 68552: 9187, 68650: 9188, 69131: 9189, 69227: 9190, 70703: 9191, 71327: 9192, 71484: 9193, 71550: 9194, 71810: 9195, 72479: 9196, 73569: 9197, 73808: 9198, 74095: 9199, 74696: 9200, 75416: 9201, 75947: 9202, 76030: 9203, 77201: 9204, 77709: 9205, 78959: 9206, 79895: 9207, 80083: 9208, 81791: 9209, 82534: 9210, 83086: 9211, 83796: 9212, 84523: 9213, 85438: 9214, 86286: 9215, 86355: 9216, 86864: 9217, 86898: 9218, 87197: 9219, 87960: 9220, 88593: 9221, 88697: 9222, 89085: 9223, 89862: 9224, 90243: 9225, 90428: 9226, 90945: 9227, 91571: 9228, 91981: 9229, 92309: 9230, 92674: 9231, 93208: 9232, 93502: 9233, 94122: 9234, 95145: 9235, 95163: 9236, 95165: 9237, 95499: 9238, 95519: 9239, 95717: 9240, 95771: 9241, 95780: 9242, 95839: 9243, 95965: 9244, 97230: 9245, 97950: 9246, 98499: 9247, 98503: 9248, 98623: 9249, 98697: 9250, 98799: 9251, 99638: 9252, 101074: 9253, 101423: 9254, 102590: 9255, 102735: 9256, 102749: 9257, 102852: 9258, 103027: 9259, 103245: 9260, 103366: 9261, 103609: 9262, 104017: 9263, 104837: 9264, 105020: 9265, 105720: 9266, 107999: 9267, 108090: 9268, 108192: 9269, 110541: 9270, 111785: 9271, 112326: 9272, 113849: 9273, 114126: 9274, 115819: 9275, 116044: 9276, 116169: 9277, 116941: 9278, 116963: 9279, 117630: 9280, 118290: 9281, 119218: 9282, 119828: 9283, 120827: 9284, 121035: 9285, 122260: 9286, 122433: 9287, 122627: 9288, 123310: 9289, 128197: 9290, 128736: 9291, 129779: 9292, 131578: 9293, 132084: 9294, 132362: 9295, 135787: 9296, 136012: 9297, 136297: 9298, 137218: 9299, 137345: 9300, 137859: 9301, 138702: 9302, 139130: 9303, 139859: 9304, 140852: 9305, 144522: 9306, 145724: 9307, 145745: 9308, 151479: 9309, 151781: 9310, 153236: 9311, 156675: 9312, 157865: 9313, 158388: 9314, 158874: 9315, 159061: 9316, 159403: 9317, 160978: 9318, 161008: 9319, 161032: 9320, 161044: 9321, 163809: 9322, 165529: 9323, 167706: 9324, 168608: 9325, 169670: 9326, 169904: 9327, 169958: 9328, 170297: 9329, 170551: 9330, 171695: 9331, 172229: 9332, 172233: 9333, 172253: 9334, 173873: 9335, 174727: 9336, 178129: 9337, 179053: 9338, 181315: 9339, 183301: 9340, 2800: 9341, 25905: 9342, 25923: 9343, 25947: 9344, 46664: 9345, 59131: 9346, 141846: 9347, 77: 9348, 108: 9349, 149: 9350, 184: 9351, 301: 9352, 320: 9353, 495: 9354, 506: 9355, 526: 9356, 602: 9357, 645: 9358, 649: 9359, 803: 9360, 1053: 9361, 1119: 9362, 1310: 9363, 1349: 9364, 1475: 9365, 1514: 9366, 1549: 9367, 1585: 9368, 1612: 9369, 1613: 9370, 1759: 9371, 2008: 9372, 2104: 9373, 2283: 9374, 2304: 9375, 2417: 9376, 2435: 9377, 2512: 9378, 2544: 9379, 2577: 9380, 2609: 9381, 2620: 9382, 2725: 9383, 2727: 9384, 2813: 9385, 2865: 9386, 2885: 9387, 2892: 9388, 2972: 9389, 3002: 9390, 3183: 9391, 3303: 9392, 3344: 9393, 3374: 9394, 3459: 9395, 3514: 9396, 3531: 9397, 3586: 9398, 3637: 9399, 3655: 9400, 3792: 9401, 4420: 9402, 4428: 9403, 4436: 9404, 4690: 9405, 4695: 9406, 4705: 9407, 4766: 9408, 4786: 9409, 4810: 9410, 117: 9411, 220: 9412, 285: 9413, 311: 9414, 636: 9415, 1654: 9416, 27036: 9417, 35347: 9418, 47384: 9419, 54686: 9420, 65359: 9421, 66240: 9422, 71160: 9423, 72165: 9424, 72982: 9425, 202: 9426, 263: 9427, 563: 9428, 573: 9429, 579: 9430, 583: 9431, 632: 9432, 961: 9433, 1117: 9434, 1156: 9435, 1493: 9436, 1857: 9437, 2156: 9438, 2207: 9439, 2388: 9440, 2481: 9441, 2503: 9442, 2897: 9443, 3010: 9444, 3289: 9445, 3295: 9446, 3640: 9447, 3808: 9448, 3920: 9449, 4357: 9450, 4395: 9451, 4615: 9452, 4653: 9453, 4671: 9454, 4689: 9455, 4828: 9456, 4840: 9457, 4883: 9458, 5269: 9459, 5372: 9460, 5503: 9461, 5550: 9462, 5614: 9463, 5720: 9464, 5733: 9465, 5741: 9466, 5742: 9467, 5849: 9468, 5856: 9469, 5922: 9470, 5929: 9471, 5975: 9472, 5990: 9473, 6070: 9474, 6107: 9475, 6111: 9476, 6182: 9477, 6202: 9478, 6237: 9479, 6415: 9480, 6449: 9481, 6516: 9482, 6553: 9483, 6573: 9484, 6578: 9485, 6644: 9486, 6671: 9487, 6782: 9488, 6789: 9489, 6803: 9490, 6961: 9491, 6973: 9492, 7037: 9493, 7109: 9494, 7131: 9495, 7292: 9496, 7344: 9497, 7487: 9498, 7916: 9499, 8391: 9500, 8454: 9501, 8456: 9502, 8601: 9503, 8685: 9504, 8713: 9505, 8933: 9506, 8964: 9507, 25805: 9508, 25833: 9509, 25946: 9510, 26038: 9511, 26394: 9512, 26527: 9513, 26599: 9514, 26777: 9515, 26796: 9516, 26875: 9517, 26985: 9518, 27178: 9519, 27255: 9520, 27627: 9521, 27644: 9522, 27744: 9523, 30890: 9524, 30994: 9525, 31309: 9526, 31973: 9527, 32234: 9528, 32600: 9529, 32620: 9530, 32649: 9531, 32728: 9532, 32862: 9533, 33237: 9534, 33310: 9535, 41014: 9536, 44189: 9537, 44301: 9538, 47202: 9539, 47538: 9540, 47774: 9541, 48032: 9542, 48214: 9543, 50354: 9544, 50356: 9545, 51314: 9546, 55805: 9547, 56333: 9548, 58783: 9549, 68480: 9550, 68872: 9551, 69224: 9552, 72603: 9553, 241: 9554, 2737: 9555, 5901: 9556, 7377: 9557, 8667: 9558, 32302: 9559, 51903: 9560, 137: 9561, 1054: 9562, 3945: 9563, 4497: 9564, 5275: 9565, 5953: 9566, 6009: 9567, 6095: 9568, 7202: 9569, 7562: 9570, 7984: 9571, 8840: 9572, 26169: 9573, 26391: 9574, 26399: 9575, 26401: 9576, 26498: 9577, 26603: 9578, 27426: 9579, 27480: 9580, 27491: 9581, 27746: 9582, 27778: 9583, 27905: 9584, 31086: 9585, 34450: 9586, 36931: 9587, 41712: 9588, 43289: 9589, 44597: 9590, 47937: 9591, 48150: 9592, 51666: 9593, 52831: 9594, 54910: 9595, 55067: 9596, 55492: 9597, 56620: 9598, 57421: 9599, 57637: 9600, 58826: 9601, 58964: 9602, 58975: 9603, 59915: 9604, 60303: 9605, 60471: 9606, 61262: 9607, 61319: 9608, 61692: 9609, 61818: 9610, 63179: 9611, 63768: 9612, 63826: 9613, 64010: 9614, 66310: 9615, 67168: 9616, 70206: 9617, 70208: 9618, 71341: 9619, 71910: 9620, 72142: 9621, 72424: 9622, 73676: 9623, 73741: 9624, 73876: 9625, 74370: 9626, 75389: 9627, 76091: 9628, 77893: 9629, 77931: 9630, 78626: 9631, 79501: 9632, 79868: 9633, 80094: 9634, 80162: 9635, 81520: 9636, 82366: 9637, 82641: 9638, 82765: 9639, 88327: 9640, 89072: 9641, 89281: 9642, 89837: 9643, 91233: 9644, 93193: 9645, 93598: 9646, 93819: 9647, 94867: 9648, 96832: 9649, 97188: 9650, 97285: 9651, 97701: 9652, 97988: 9653, 98061: 9654, 98633: 9655, 99030: 9656, 99721: 9657, 100159: 9658, 100397: 9659, 100579: 9660, 100906: 9661, 102066: 9662, 102070: 9663, 102338: 9664, 102760: 9665, 102802: 9666, 103085: 9667, 103219: 9668, 103483: 9669, 103685: 9670, 105801: 9671, 107436: 9672, 107447: 9673, 107462: 9674, 107771: 9675, 110281: 9676, 110286: 9677, 110591: 9678, 110746: 9679, 111551: 9680, 112727: 9681, 113159: 9682, 113313: 9683, 113565: 9684, 113780: 9685, 113862: 9686, 114044: 9687, 114670: 9688, 114707: 9689, 115727: 9690, 117867: 9691, 118082: 9692, 128838: 9693, 129313: 9694, 130050: 9695, 130052: 9696, 130840: 9697, 133832: 9698, 135534: 9699, 135803: 9700, 135815: 9701, 138610: 9702, 138632: 9703, 139511: 9704, 139655: 9705, 140267: 9706, 141400: 9707, 141799: 9708, 142366: 9709, 142598: 9710, 145951: 9711, 146309: 9712, 147657: 9713, 147662: 9714, 148166: 9715, 149011: 9716, 152372: 9717, 158721: 9718, 160341: 9719, 160527: 9720, 160836: 9721, 163937: 9722, 163981: 9723}\n",
      "Decoded movieId:  {0: 1, 1: 3, 2: 6, 3: 47, 4: 50, 5: 70, 6: 101, 7: 110, 8: 151, 9: 157, 10: 163, 11: 216, 12: 223, 13: 231, 14: 235, 15: 260, 16: 296, 17: 316, 18: 333, 19: 349, 20: 356, 21: 362, 22: 367, 23: 423, 24: 441, 25: 457, 26: 480, 27: 500, 28: 527, 29: 543, 30: 552, 31: 553, 32: 590, 33: 592, 34: 593, 35: 596, 36: 608, 37: 648, 38: 661, 39: 673, 40: 733, 41: 736, 42: 780, 43: 804, 44: 919, 45: 923, 46: 940, 47: 943, 48: 954, 49: 1009, 50: 1023, 51: 1024, 52: 1025, 53: 1029, 54: 1030, 55: 1031, 56: 1032, 57: 1042, 58: 1049, 59: 1060, 60: 1073, 61: 1080, 62: 1089, 63: 1090, 64: 1092, 65: 1097, 66: 1127, 67: 1136, 68: 1196, 69: 1197, 70: 1198, 71: 1206, 72: 1208, 73: 1210, 74: 1213, 75: 1214, 76: 1219, 77: 1220, 78: 1222, 79: 1224, 80: 1226, 81: 1240, 82: 1256, 83: 1258, 84: 1265, 85: 1270, 86: 1275, 87: 1278, 88: 1282, 89: 1291, 90: 1298, 91: 1348, 92: 1377, 93: 1396, 94: 1408, 95: 1445, 96: 1473, 97: 1500, 98: 1517, 99: 1552, 100: 1573, 101: 1580, 102: 1587, 103: 1617, 104: 1620, 105: 1625, 106: 1644, 107: 1676, 108: 1732, 109: 1777, 110: 1793, 111: 1804, 112: 1805, 113: 1920, 114: 1927, 115: 1954, 116: 1967, 117: 2000, 118: 2005, 119: 2012, 120: 2018, 121: 2028, 122: 2033, 123: 2046, 124: 2048, 125: 2054, 126: 2058, 127: 2078, 128: 2090, 129: 2093, 130: 2094, 131: 2096, 132: 2099, 133: 2105, 134: 2115, 135: 2116, 136: 2137, 137: 2139, 138: 2141, 139: 2143, 140: 2161, 141: 2174, 142: 2193, 143: 2253, 144: 2268, 145: 2273, 146: 2291, 147: 2329, 148: 2338, 149: 2353, 150: 2366, 151: 2387, 152: 2389, 153: 2395, 154: 2406, 155: 2414, 156: 2427, 157: 2450, 158: 2459, 159: 2470, 160: 2478, 161: 2492, 162: 2502, 163: 2528, 164: 2529, 165: 2542, 166: 2571, 167: 2580, 168: 2596, 169: 2616, 170: 2617, 171: 2628, 172: 2640, 173: 2641, 174: 2644, 175: 2648, 176: 2654, 177: 2657, 178: 2692, 179: 2700, 180: 2716, 181: 2761, 182: 2797, 183: 2826, 184: 2858, 185: 2872, 186: 2899, 187: 2916, 188: 2944, 189: 2947, 190: 2948, 191: 2949, 192: 2959, 193: 2985, 194: 2987, 195: 2991, 196: 2993, 197: 2997, 198: 3033, 199: 3034, 200: 3052, 201: 3053, 202: 3062, 203: 3147, 204: 3168, 205: 3176, 206: 3243, 207: 3247, 208: 3253, 209: 3273, 210: 3386, 211: 3439, 212: 3440, 213: 3441, 214: 3448, 215: 3450, 216: 3479, 217: 3489, 218: 3527, 219: 3578, 220: 3617, 221: 3639, 222: 3671, 223: 3702, 224: 3703, 225: 3729, 226: 3740, 227: 3744, 228: 3793, 229: 3809, 230: 4006, 231: 5060, 232: 318, 233: 1704, 234: 6874, 235: 8798, 236: 46970, 237: 48516, 238: 58559, 239: 60756, 240: 68157, 241: 71535, 242: 74458, 243: 77455, 244: 79132, 245: 80489, 246: 80906, 247: 86345, 248: 89774, 249: 91529, 250: 91658, 251: 99114, 252: 106782, 253: 109487, 254: 112552, 255: 114060, 256: 115713, 257: 122882, 258: 131724, 259: 31, 260: 647, 261: 688, 262: 720, 263: 849, 264: 914, 265: 1093, 266: 1124, 267: 1263, 268: 1272, 269: 1302, 270: 1371, 271: 2080, 272: 2288, 273: 2424, 274: 2851, 275: 3024, 276: 3210, 277: 3949, 278: 4518, 279: 5048, 280: 5181, 281: 5746, 282: 5764, 283: 5919, 284: 6238, 285: 6835, 286: 7899, 287: 7991, 288: 26409, 289: 70946, 290: 72378, 291: 21, 292: 32, 293: 45, 294: 52, 295: 58, 296: 106, 297: 125, 298: 126, 299: 162, 300: 171, 301: 176, 302: 190, 303: 215, 304: 222, 305: 232, 306: 247, 307: 265, 308: 319, 309: 342, 310: 345, 311: 348, 312: 351, 313: 357, 314: 368, 315: 417, 316: 450, 317: 475, 318: 492, 319: 509, 320: 538, 321: 539, 322: 588, 323: 595, 324: 599, 325: 708, 326: 759, 327: 800, 328: 892, 329: 898, 330: 899, 331: 902, 332: 904, 333: 908, 334: 910, 335: 912, 336: 920, 337: 930, 338: 937, 339: 1046, 340: 1057, 341: 1077, 342: 1079, 343: 1084, 344: 1086, 345: 1094, 346: 1103, 347: 1179, 348: 1183, 349: 1188, 350: 1199, 351: 1203, 352: 1211, 353: 1225, 354: 1250, 355: 1259, 356: 1266, 357: 1279, 358: 1283, 359: 1288, 360: 1304, 361: 1391, 362: 1449, 363: 1466, 364: 1597, 365: 1641, 366: 1719, 367: 1733, 368: 1734, 369: 1834, 370: 1860, 371: 1883, 372: 1885, 373: 1892, 374: 1895, 375: 1907, 376: 1914, 377: 1916, 378: 1923, 379: 1947, 380: 1966, 381: 1968, 382: 2019, 383: 2076, 384: 2109, 385: 2145, 386: 2150, 387: 2186, 388: 2203, 389: 2204, 390: 2282, 391: 2324, 392: 2336, 393: 2351, 394: 2359, 395: 2390, 396: 2467, 397: 2583, 398: 2599, 399: 2683, 400: 2712, 401: 2762, 402: 2763, 403: 2770, 404: 2791, 405: 2843, 406: 2874, 407: 2921, 408: 2926, 409: 2973, 410: 3044, 411: 3060, 412: 3079, 413: 3083, 414: 3160, 415: 3175, 416: 3204, 417: 3255, 418: 3317, 419: 3358, 420: 3365, 421: 3408, 422: 3481, 423: 3508, 424: 3538, 425: 3591, 426: 3788, 427: 3851, 428: 3897, 429: 3911, 430: 3967, 431: 3996, 432: 4002, 433: 4014, 434: 4020, 435: 4021, 436: 4027, 437: 4029, 438: 4033, 439: 4034, 440: 4074, 441: 4121, 442: 4144, 443: 4166, 444: 4226, 445: 4239, 446: 4246, 447: 4252, 448: 4260, 449: 4273, 450: 4308, 451: 4347, 452: 4381, 453: 4641, 454: 4741, 455: 4765, 456: 4881, 457: 4896, 458: 4902, 459: 4967, 460: 34, 461: 36, 462: 39, 463: 150, 464: 153, 465: 253, 466: 261, 467: 266, 468: 290, 469: 300, 470: 344, 471: 364, 472: 380, 473: 410, 474: 474, 475: 515, 476: 531, 477: 534, 478: 589, 479: 594, 480: 597, 481: 2, 482: 4, 483: 5, 484: 7, 485: 8, 486: 10, 487: 11, 488: 13, 489: 15, 490: 16, 491: 17, 492: 19, 493: 22, 494: 24, 495: 25, 496: 26, 497: 27, 498: 41, 499: 43, 500: 46, 501: 54, 502: 60, 503: 61, 504: 62, 505: 65, 506: 66, 507: 76, 508: 79, 509: 86, 510: 87, 511: 88, 512: 89, 513: 92, 514: 93, 515: 95, 516: 100, 517: 102, 518: 104, 519: 105, 520: 112, 521: 113, 522: 135, 523: 140, 524: 141, 525: 145, 526: 146, 527: 158, 528: 159, 529: 160, 530: 161, 531: 165, 532: 168, 533: 170, 534: 174, 535: 177, 536: 179, 537: 180, 538: 181, 539: 185, 540: 186, 541: 189, 542: 191, 543: 195, 544: 196, 545: 201, 546: 204, 547: 205, 548: 207, 549: 208, 550: 209, 551: 210, 552: 212, 553: 217, 554: 218, 555: 219, 556: 224, 557: 225, 558: 230, 559: 234, 560: 236, 561: 237, 562: 239, 563: 240, 564: 243, 565: 248, 566: 250, 567: 251, 568: 252, 569: 254, 570: 256, 571: 257, 572: 258, 573: 262, 574: 267, 575: 270, 576: 271, 577: 273, 578: 274, 579: 276, 580: 277, 581: 279, 582: 281, 583: 282, 584: 288, 585: 289, 586: 291, 587: 292, 588: 293, 589: 302, 590: 303, 591: 304, 592: 310, 593: 312, 594: 313, 595: 314, 596: 315, 597: 317, 598: 327, 599: 329, 600: 330, 601: 332, 602: 336, 603: 337, 604: 339, 605: 340, 606: 343, 607: 347, 608: 350, 609: 352, 610: 353, 611: 354, 612: 355, 613: 358, 614: 359, 615: 360, 616: 361, 617: 366, 618: 370, 619: 371, 620: 374, 621: 377, 622: 378, 623: 381, 624: 382, 625: 383, 626: 405, 627: 412, 628: 415, 629: 416, 630: 419, 631: 426, 632: 432, 633: 434, 634: 435, 635: 437, 636: 440, 637: 445, 638: 454, 639: 455, 640: 458, 641: 460, 642: 466, 643: 468, 644: 469, 645: 472, 646: 477, 647: 485, 648: 489, 649: 490, 650: 491, 651: 493, 652: 494, 653: 497, 654: 502, 655: 505, 656: 508, 657: 510, 658: 516, 659: 520, 660: 524, 661: 532, 662: 536, 663: 537, 664: 540, 665: 542, 666: 546, 667: 548, 668: 569, 669: 575, 670: 587, 671: 606, 672: 609, 673: 616, 674: 628, 675: 631, 676: 637, 677: 640, 678: 662, 679: 667, 680: 694, 681: 697, 682: 700, 683: 704, 684: 709, 685: 710, 686: 711, 687: 719, 688: 747, 689: 762, 690: 765, 691: 775, 692: 783, 693: 795, 694: 799, 695: 801, 696: 802, 697: 818, 698: 830, 699: 835, 700: 837, 701: 838, 702: 839, 703: 842, 704: 848, 705: 852, 706: 867, 707: 880, 708: 881, 709: 888, 710: 891, 711: 979, 712: 981, 713: 986, 714: 991, 715: 996, 716: 999, 717: 1004, 718: 1006, 719: 1061, 720: 1064, 721: 1082, 722: 750, 723: 924, 724: 1101, 725: 1246, 726: 1584, 727: 1610, 728: 1682, 729: 1784, 730: 1917, 731: 2671, 732: 2688, 733: 2701, 734: 2717, 735: 3114, 736: 3354, 737: 3623, 738: 3869, 739: 3916, 740: 3977, 741: 3994, 742: 4018, 743: 4223, 744: 4306, 745: 4310, 746: 4370, 747: 4643, 748: 4700, 749: 4844, 750: 4874, 751: 4886, 752: 4963, 753: 4993, 754: 4995, 755: 5218, 756: 5349, 757: 5378, 758: 5445, 759: 5459, 760: 5464, 761: 5502, 762: 5618, 763: 5816, 764: 5952, 765: 5989, 766: 5991, 767: 6333, 768: 6365, 769: 6534, 770: 6539, 771: 6863, 772: 6934, 773: 7143, 774: 7153, 775: 7155, 776: 7445, 777: 8207, 778: 8360, 779: 8368, 780: 8373, 781: 8528, 782: 8636, 783: 8665, 784: 8666, 785: 8783, 786: 8808, 787: 8865, 788: 8870, 789: 8907, 790: 8908, 791: 8949, 792: 8957, 793: 8958, 794: 8961, 795: 8965, 796: 8970, 797: 8972, 798: 8984, 799: 27741, 800: 30812, 801: 30816, 802: 31878, 803: 32029, 804: 32031, 805: 32296, 806: 32587, 807: 33162, 808: 33493, 809: 33794, 810: 33836, 811: 34048, 812: 34319, 813: 37741, 814: 38388, 815: 42002, 816: 45499, 817: 45517, 818: 45668, 819: 45730, 820: 46530, 821: 48783, 822: 48997, 823: 49272, 824: 49278, 825: 49286, 826: 49824, 827: 586, 828: 187, 829: 627, 830: 922, 831: 1037, 832: 1095, 833: 1674, 834: 1987, 835: 2011, 836: 2023, 837: 2300, 838: 2877, 839: 2901, 840: 3173, 841: 3328, 842: 3735, 843: 4131, 844: 4558, 845: 5447, 846: 5451, 847: 5481, 848: 5507, 849: 5841, 850: 5843, 851: 5872, 852: 5890, 853: 5891, 854: 5893, 855: 5902, 856: 5956, 857: 5962, 858: 5965, 859: 5988, 860: 6001, 861: 6044, 862: 1028, 863: 1088, 864: 1247, 865: 1307, 866: 3882, 867: 4447, 868: 5066, 869: 5377, 870: 5620, 871: 5943, 872: 5957, 873: 6155, 874: 6266, 875: 6377, 876: 6535, 877: 6942, 878: 7149, 879: 7151, 880: 7154, 881: 7169, 882: 7293, 883: 7375, 884: 7451, 885: 7458, 886: 8529, 887: 8533, 888: 8869, 889: 8969, 890: 30749, 891: 31433, 892: 31685, 893: 33145, 894: 33679, 895: 40629, 896: 40819, 897: 41285, 898: 47099, 899: 51662, 900: 51705, 901: 51834, 902: 54286, 903: 56367, 904: 56949, 905: 58047, 906: 59333, 907: 59421, 908: 60397, 909: 60950, 910: 61250, 911: 63113, 912: 63992, 913: 64969, 914: 66203, 915: 68954, 916: 69406, 917: 69844, 918: 70183, 919: 70293, 920: 71579, 921: 72011, 922: 72330, 923: 72407, 924: 72720, 925: 72737, 926: 72998, 927: 73017, 928: 74450, 929: 77841, 930: 78772, 931: 79091, 932: 80549, 933: 81784, 934: 81845, 935: 81847, 936: 82167, 937: 82499, 938: 84374, 939: 86548, 940: 87222, 941: 88163, 942: 88810, 943: 91104, 944: 92259, 945: 94070, 946: 95167, 947: 95449, 948: 95510, 949: 95543, 950: 96079, 951: 97024, 952: 97938, 953: 98203, 954: 103335, 955: 103339, 956: 104374, 957: 105211, 958: 106489, 959: 106696, 960: 107141, 961: 109374, 962: 109853, 963: 112006, 964: 113275, 965: 113394, 966: 119145, 967: 129428, 968: 136020, 969: 137595, 970: 140110, 971: 44, 972: 376, 973: 511, 974: 529, 975: 1100, 976: 1358, 977: 1370, 978: 1385, 979: 1438, 980: 1518, 981: 1586, 982: 1604, 983: 1608, 984: 1616, 985: 1687, 986: 1693, 987: 1721, 988: 1840, 989: 1882, 990: 1918, 991: 2002, 992: 2027, 993: 1357, 994: 1405, 995: 1876, 996: 2072, 997: 2100, 998: 2421, 999: 2485, 1000: 2572, 1001: 2581, 1002: 2694, 1003: 3668, 1004: 305, 1005: 1173, 1006: 1590, 1007: 1619, 1008: 1639, 1009: 2541, 1010: 3300, 1011: 3409, 1012: 3513, 1013: 3624, 1014: 3717, 1015: 3753, 1016: 3798, 1017: 3827, 1018: 3863, 1019: 3893, 1020: 3952, 1021: 4011, 1022: 4148, 1023: 193, 1024: 448, 1025: 784, 1026: 172, 1027: 858, 1028: 1200, 1029: 1347, 1030: 1527, 1031: 1653, 1032: 1909, 1033: 2001, 1034: 2081, 1035: 2085, 1036: 2278, 1037: 3156, 1038: 3499, 1039: 3510, 1040: 3535, 1041: 3555, 1042: 4022, 1043: 4720, 1044: 5971, 1045: 6502, 1046: 7254, 1047: 7438, 1048: 8644, 1049: 48304, 1050: 48774, 1051: 48780, 1052: 50872, 1053: 56174, 1054: 59315, 1055: 60069, 1056: 63859, 1057: 64614, 1058: 68237, 1059: 69757, 1060: 70286, 1061: 71057, 1062: 71264, 1063: 84152, 1064: 84954, 1065: 85414, 1066: 89745, 1067: 91500, 1068: 94864, 1069: 96610, 1070: 101864, 1071: 103249, 1072: 104841, 1073: 105504, 1074: 110102, 1075: 111759, 1076: 112556, 1077: 112852, 1078: 115149, 1079: 120466, 1080: 122886, 1081: 122904, 1082: 122922, 1083: 122924, 1084: 134130, 1085: 134853, 1086: 143385, 1087: 152077, 1088: 152081, 1089: 158872, 1090: 160980, 1091: 166528, 1092: 166635, 1093: 111, 1094: 541, 1095: 678, 1096: 745, 1097: 913, 1098: 1147, 1099: 1148, 1100: 1186, 1101: 1193, 1102: 1201, 1103: 1207, 1104: 1223, 1105: 1230, 1106: 1252, 1107: 1260, 1108: 1261, 1109: 1267, 1110: 1276, 1111: 1281, 1112: 1299, 1113: 1680, 1114: 2490, 1115: 2707, 1116: 2723, 1117: 3000, 1118: 3022, 1119: 3108, 1120: 3174, 1121: 3429, 1122: 3683, 1123: 3741, 1124: 4878, 1125: 4973, 1126: 5782, 1127: 6350, 1128: 7099, 1129: 7361, 1130: 27611, 1131: 27773, 1132: 48394, 1133: 78499, 1134: 1036, 1135: 1209, 1136: 1221, 1137: 1228, 1138: 1234, 1139: 1375, 1140: 2194, 1141: 3039, 1142: 3263, 1143: 3435, 1144: 3681, 1145: 4571, 1146: 6016, 1147: 6870, 1148: 7482, 1149: 31658, 1150: 64839, 1151: 68358, 1152: 80463, 1153: 81932, 1154: 82459, 1155: 431, 1156: 442, 1157: 555, 1158: 653, 1159: 778, 1160: 1020, 1161: 1059, 1162: 1212, 1163: 1227, 1164: 1245, 1165: 1356, 1166: 1374, 1167: 1544, 1168: 1729, 1169: 1924, 1170: 1961, 1171: 2184, 1172: 2409, 1173: 2410, 1174: 2411, 1175: 2412, 1176: 2420, 1177: 2422, 1178: 2706, 1179: 2918, 1180: 2951, 1181: 2953, 1182: 3081, 1183: 3257, 1184: 3275, 1185: 3462, 1186: 3751, 1187: 3785, 1188: 3896, 1189: 4007, 1190: 4262, 1191: 4327, 1192: 4383, 1193: 4728, 1194: 4816, 1195: 5008, 1196: 5120, 1197: 5266, 1198: 5418, 1199: 5574, 1200: 5608, 1201: 5669, 1202: 5679, 1203: 5903, 1204: 5944, 1205: 5995, 1206: 6287, 1207: 6300, 1208: 6373, 1209: 6378, 1210: 6440, 1211: 6548, 1212: 6709, 1213: 6787, 1214: 6807, 1215: 6888, 1216: 7018, 1217: 7147, 1218: 7317, 1219: 7318, 1220: 7323, 1221: 7373, 1222: 7753, 1223: 7843, 1224: 8117, 1225: 8361, 1226: 8641, 1227: 8784, 1228: 8917, 1229: 8950, 1230: 26444, 1231: 26614, 1232: 27689, 1233: 27716, 1234: 27831, 1235: 27878, 1236: 30793, 1237: 32460, 1238: 33004, 1239: 33615, 1240: 34150, 1241: 34405, 1242: 36519, 1243: 36529, 1244: 37386, 1245: 37729, 1246: 37733, 1247: 38038, 1248: 38061, 1249: 44022, 1250: 44191, 1251: 44199, 1252: 44555, 1253: 44665, 1254: 45722, 1255: 46578, 1256: 46965, 1257: 47200, 1258: 47491, 1259: 49651, 1260: 51357, 1261: 51540, 1262: 52604, 1263: 53125, 1264: 53129, 1265: 53318, 1266: 53464, 1267: 53972, 1268: 53996, 1269: 54272, 1270: 55118, 1271: 55247, 1272: 55276, 1273: 55290, 1274: 55765, 1275: 56757, 1276: 57528, 1277: 57640, 1278: 57669, 1279: 58295, 1280: 58299, 1281: 59615, 1282: 59784, 1283: 60040, 1284: 60074, 1285: 60684, 1286: 62434, 1287: 63131, 1288: 64197, 1289: 64957, 1290: 65596, 1291: 66934, 1292: 67255, 1293: 68073, 1294: 68159, 1295: 68319, 1296: 69122, 1297: 69640, 1298: 69951, 1299: 71108, 1300: 71156, 1301: 71899, 1302: 73268, 1303: 73321, 1304: 73323, 1305: 73499, 1306: 74510, 1307: 74789, 1308: 74948, 1309: 76077, 1310: 76175, 1311: 76251, 1312: 77561, 1313: 78469, 1314: 79293, 1315: 79592, 1316: 79695, 1317: 79702, 1318: 80219, 1319: 81788, 1320: 83349, 1321: 84392, 1322: 85354, 1323: 86190, 1324: 86332, 1325: 86628, 1326: 86880, 1327: 87232, 1328: 88094, 1329: 88129, 1330: 88140, 1331: 90600, 1332: 91485, 1333: 91542, 1334: 92094, 1335: 95441, 1336: 96432, 1337: 96488, 1338: 96655, 1339: 97752, 1340: 98124, 1341: 98585, 1342: 98809, 1343: 99728, 1344: 99813, 1345: 102125, 1346: 102445, 1347: 102903, 1348: 103253, 1349: 103772, 1350: 104241, 1351: 104879, 1352: 106072, 1353: 106487, 1354: 106839, 1355: 107846, 1356: 111362, 1357: 112183, 1358: 112334, 1359: 112421, 1360: 114066, 1361: 116797, 1362: 116823, 1363: 117176, 1364: 118900, 1365: 122892, 1366: 122900, 1367: 122918, 1368: 122920, 1369: 122926, 1370: 128620, 1371: 135569, 1372: 139385, 1373: 140289, 1374: 141688, 1375: 142488, 1376: 144210, 1377: 145283, 1378: 148626, 1379: 150548, 1380: 155168, 1381: 157108, 1382: 157110, 1383: 158238, 1384: 158972, 1385: 159093, 1386: 160438, 1387: 161582, 1388: 162350, 1389: 162606, 1390: 164179, 1391: 166015, 1392: 168252, 1393: 171023, 1394: 176101, 1395: 177593, 1396: 180095, 1397: 180777, 1398: 185135, 1399: 12, 1400: 48, 1401: 64, 1402: 107, 1403: 118, 1404: 173, 1405: 295, 1406: 325, 1407: 328, 1408: 338, 1409: 372, 1410: 379, 1411: 407, 1412: 414, 1413: 420, 1414: 422, 1415: 427, 1416: 486, 1417: 512, 1418: 513, 1419: 551, 1420: 558, 1421: 610, 1422: 611, 1423: 671, 1424: 674, 1425: 724, 1426: 742, 1427: 743, 1428: 761, 1429: 785, 1430: 788, 1431: 798, 1432: 810, 1433: 829, 1434: 832, 1435: 866, 1436: 879, 1437: 903, 1438: 906, 1439: 911, 1440: 915, 1441: 921, 1442: 931, 1443: 933, 1444: 965, 1445: 984, 1446: 1016, 1447: 1021, 1448: 1047, 1449: 1081, 1450: 1129, 1451: 1215, 1452: 1238, 1453: 1257, 1454: 1269, 1455: 1285, 1456: 1297, 1457: 1322, 1458: 1324, 1459: 1330, 1460: 1333, 1461: 1339, 1462: 1342, 1463: 1345, 1464: 1346, 1465: 1355, 1466: 1359, 1467: 1367, 1468: 1372, 1469: 1373, 1470: 1376, 1471: 1378, 1472: 1379, 1473: 1380, 1474: 1394, 1475: 1407, 1476: 1409, 1477: 1427, 1478: 1441, 1479: 1456, 1480: 1457, 1481: 1461, 1482: 1474, 1483: 1479, 1484: 1485, 1485: 1489, 1486: 1499, 1487: 1542, 1488: 1550, 1489: 1551, 1490: 1556, 1491: 1562, 1492: 1566, 1493: 1569, 1494: 1583, 1495: 1588, 1496: 1591, 1497: 1593, 1498: 1603, 1499: 1614, 1500: 1645, 1501: 1648, 1502: 1658, 1503: 1663, 1504: 1665, 1505: 1679, 1506: 1681, 1507: 1688, 1508: 1689, 1509: 1690, 1510: 1702, 1511: 1717, 1512: 1718, 1513: 1722, 1514: 1747, 1515: 1748, 1516: 1754, 1517: 1779, 1518: 1783, 1519: 1798, 1520: 1806, 1521: 1812, 1522: 1816, 1523: 1831, 1524: 1845, 1525: 1848, 1526: 1855, 1527: 1862, 1528: 1881, 1529: 1888, 1530: 1891, 1531: 1894, 1532: 1906, 1533: 1911, 1534: 1919, 1535: 1921, 1536: 1963, 1537: 1970, 1538: 1971, 1539: 1972, 1540: 1973, 1541: 1991, 1542: 1994, 1543: 2003, 1544: 2004, 1545: 2014, 1546: 2015, 1547: 2016, 1548: 2026, 1549: 2034, 1550: 2036, 1551: 2037, 1552: 2040, 1553: 2041, 1554: 2044, 1555: 2052, 1556: 2053, 1557: 2060, 1558: 2065, 1559: 2082, 1560: 2088, 1561: 2092, 1562: 2097, 1563: 2108, 1564: 2110, 1565: 2111, 1566: 2118, 1567: 2123, 1568: 2133, 1569: 2134, 1570: 2140, 1571: 2144, 1572: 2148, 1573: 2153, 1574: 2167, 1575: 2169, 1576: 2171, 1577: 2206, 1578: 2227, 1579: 2232, 1580: 2243, 1581: 2244, 1582: 2245, 1583: 2248, 1584: 2249, 1585: 2255, 1586: 2261, 1587: 2263, 1588: 2266, 1589: 2267, 1590: 2279, 1591: 2287, 1592: 2294, 1593: 2302, 1594: 2315, 1595: 2320, 1596: 2321, 1597: 2328, 1598: 2335, 1599: 2354, 1600: 2355, 1601: 2369, 1602: 2371, 1603: 2372, 1604: 2374, 1605: 2375, 1606: 2393, 1607: 2394, 1608: 2396, 1609: 2407, 1610: 2413, 1611: 2416, 1612: 2418, 1613: 2423, 1614: 2428, 1615: 2446, 1616: 2453, 1617: 2455, 1618: 2458, 1619: 2463, 1620: 2465, 1621: 2468, 1622: 2491, 1623: 2496, 1624: 2513, 1625: 2518, 1626: 2539, 1627: 2548, 1628: 2550, 1629: 2555, 1630: 2558, 1631: 2605, 1632: 2606, 1633: 2614, 1634: 2622, 1635: 2642, 1636: 2643, 1637: 2668, 1638: 2672, 1639: 2687, 1640: 2699, 1641: 2709, 1642: 2710, 1643: 2719, 1644: 2720, 1645: 2722, 1646: 2733, 1647: 2746, 1648: 2754, 1649: 2788, 1650: 2793, 1651: 2802, 1652: 2804, 1653: 2806, 1654: 2808, 1655: 2822, 1656: 2836, 1657: 2840, 1658: 2857, 1659: 2860, 1660: 2867, 1661: 2870, 1662: 2883, 1663: 2888, 1664: 2898, 1665: 2900, 1666: 2915, 1667: 2936, 1668: 2968, 1669: 2995, 1670: 3005, 1671: 3016, 1672: 3017, 1673: 3031, 1674: 3032, 1675: 3035, 1676: 3040, 1677: 3048, 1678: 3056, 1679: 3063, 1680: 3064, 1681: 3070, 1682: 3072, 1683: 3082, 1684: 3087, 1685: 3101, 1686: 3104, 1687: 3113, 1688: 3146, 1689: 3190, 1690: 3203, 1691: 3213, 1692: 3219, 1693: 3225, 1694: 3238, 1695: 3248, 1696: 3254, 1697: 3258, 1698: 3264, 1699: 3269, 1700: 3301, 1701: 3308, 1702: 3316, 1703: 3324, 1704: 3355, 1705: 3361, 1706: 3370, 1707: 3387, 1708: 3393, 1709: 3394, 1710: 3395, 1711: 3396, 1712: 3397, 1713: 3398, 1714: 3400, 1715: 3401, 1716: 3418, 1717: 3421, 1718: 3424, 1719: 3454, 1720: 3466, 1721: 3471, 1722: 3476, 1723: 3477, 1724: 3483, 1725: 3484, 1726: 3497, 1727: 3500, 1728: 3501, 1729: 3505, 1730: 3515, 1731: 3526, 1732: 3534, 1733: 3536, 1734: 3548, 1735: 3550, 1736: 3551, 1737: 3584, 1738: 3594, 1739: 3608, 1740: 3622, 1741: 3662, 1742: 3685, 1743: 3686, 1744: 3692, 1745: 3693, 1746: 3698, 1747: 3699, 1748: 3701, 1749: 3704, 1750: 3705, 1751: 3706, 1752: 3708, 1753: 3712, 1754: 3743, 1755: 3745, 1756: 3752, 1757: 3754, 1758: 3763, 1759: 3770, 1760: 3784, 1761: 3797, 1762: 3802, 1763: 3825, 1764: 3826, 1765: 3835, 1766: 3837, 1767: 3839, 1768: 1010, 1769: 1012, 1770: 1013, 1771: 1015, 1772: 1018, 1773: 1022, 1774: 1035, 1775: 1547, 1776: 2006, 1777: 2059, 1778: 2083, 1779: 2087, 1780: 2089, 1781: 2135, 1782: 2430, 1783: 2565, 1784: 2941, 1785: 3157, 1786: 3159, 1787: 3189, 1788: 3410, 1789: 3438, 1790: 3512, 1791: 3549, 1792: 3565, 1793: 3615, 1794: 3755, 1795: 3852, 1796: 3948, 1797: 3972, 1798: 3986, 1799: 3988, 1800: 3990, 1801: 3999, 1802: 4016, 1803: 4019, 1804: 4025, 1805: 4039, 1806: 4054, 1807: 4090, 1808: 4154, 1809: 4161, 1810: 4232, 1811: 4270, 1812: 4299, 1813: 4344, 1814: 4366, 1815: 4367, 1816: 4369, 1817: 4378, 1818: 4446, 1819: 4449, 1820: 4519, 1821: 4638, 1822: 4718, 1823: 4734, 1824: 4776, 1825: 4783, 1826: 4821, 1827: 4846, 1828: 4848, 1829: 4865, 1830: 4901, 1831: 4979, 1832: 4990, 1833: 5013, 1834: 5014, 1835: 5015, 1836: 5103, 1837: 5110, 1838: 5171, 1839: 5254, 1840: 5293, 1841: 5299, 1842: 5313, 1843: 5364, 1844: 5388, 1845: 5419, 1846: 5463, 1847: 5504, 1848: 5630, 1849: 5693, 1850: 5785, 1851: 6143, 1852: 6156, 1853: 6157, 1854: 6166, 1855: 6170, 1856: 6297, 1857: 6345, 1858: 6358, 1859: 38, 1860: 2376, 1861: 2378, 1862: 2402, 1863: 2403, 1864: 2724, 1865: 2989, 1866: 2990, 1867: 3633, 1868: 3635, 1869: 3638, 1870: 3697, 1871: 3868, 1872: 3984, 1873: 4005, 1874: 4040, 1875: 4085, 1876: 4489, 1877: 4545, 1878: 4621, 1879: 4701, 1880: 5219, 1881: 5796, 1882: 6503, 1883: 7569, 1884: 7570, 1885: 7573, 1886: 7701, 1887: 8574, 1888: 8946, 1889: 26340, 1890: 30825, 1891: 34162, 1892: 39715, 1893: 40815, 1894: 41566, 1895: 45186, 1896: 45447, 1897: 45672, 1898: 46972, 1899: 47566, 1900: 47997, 1901: 50189, 1902: 51084, 1903: 52730, 1904: 52973, 1905: 53121, 1906: 53322, 1907: 54276, 1908: 56775, 1909: 58025, 1910: 58998, 1911: 59369, 1912: 59429, 1913: 59900, 1914: 61160, 1915: 63082, 1916: 64032, 1917: 68791, 1918: 68793, 1919: 69526, 1920: 69644, 1921: 72641, 1922: 73106, 1923: 73319, 1924: 73858, 1925: 76093, 1926: 78637, 1927: 79134, 1928: 79185, 1929: 80166, 1930: 81229, 1931: 81564, 1932: 81591, 1933: 81834, 1934: 82202, 1935: 85259, 1936: 86068, 1937: 87520, 1938: 88125, 1939: 88405, 1940: 88744, 1941: 90249, 1942: 91535, 1943: 91630, 1944: 93510, 1945: 94503, 1946: 94677, 1947: 94777, 1948: 95067, 1949: 95170, 1950: 95738, 1951: 96004, 1952: 96588, 1953: 97913, 1954: 99532, 1955: 102481, 1956: 102716, 1957: 102993, 1958: 103141, 1959: 103228, 1960: 103372, 1961: 103384, 1962: 103801, 1963: 103810, 1964: 103819, 1965: 103883, 1966: 104211, 1967: 105213, 1968: 105653, 1969: 105844, 1970: 105954, 1971: 106491, 1972: 106540, 1973: 106916, 1974: 106918, 1975: 106920, 1976: 107013, 1977: 107449, 1978: 108156, 1979: 108190, 1980: 108932, 1981: 108945, 1982: 109576, 1983: 109723, 1984: 109864, 1985: 110130, 1986: 110553, 1987: 111113, 1988: 111617, 1989: 111743, 1990: 111781, 1991: 111844, 1992: 112138, 1993: 112175, 1994: 114180, 1995: 114818, 1996: 115502, 1997: 115617, 1998: 115877, 1999: 117368, 2000: 117529, 2001: 117572, 2002: 117590, 2003: 117851, 2004: 117922, 2005: 119141, 2006: 119155, 2007: 119964, 2008: 122896, 2009: 126548, 2010: 130450, 2011: 132157, 2012: 133419, 2013: 134368, 2014: 134393, 2015: 135133, 2016: 135536, 2017: 135861, 2018: 135887, 2019: 136016, 2020: 138036, 2021: 138186, 2022: 139642, 2023: 139717, 2024: 139915, 2025: 140301, 2026: 142536, 2027: 143245, 2028: 148675, 2029: 149380, 2030: 160565, 2031: 160872, 2032: 164909, 2033: 166492, 2034: 167036, 2035: 168248, 2036: 173307, 2037: 1952, 2038: 1953, 2039: 2160, 2040: 3006, 2041: 4017, 2042: 4036, 2043: 4903, 2044: 5617, 2045: 5673, 2046: 6711, 2047: 8464, 2048: 8622, 2049: 30707, 2050: 31410, 2051: 34437, 2052: 39183, 2053: 41997, 2054: 46976, 2055: 52281, 2056: 53519, 2057: 54503, 2058: 55820, 2059: 56171, 2060: 56782, 2061: 56788, 2062: 60766, 2063: 61323, 2064: 64575, 2065: 66097, 2066: 68536, 2067: 71464, 2068: 29, 2069: 175, 2070: 272, 2071: 334, 2072: 741, 2073: 1050, 2074: 1175, 2075: 1217, 2076: 1218, 2077: 1232, 2078: 1233, 2079: 1237, 2080: 1243, 2081: 1248, 2082: 1249, 2083: 1274, 2084: 1284, 2085: 1425, 2086: 1464, 2087: 1711, 2088: 1809, 2089: 1859, 2090: 1884, 2091: 1960, 2092: 2579, 2093: 2686, 2094: 2726, 2095: 2730, 2096: 2912, 2097: 3030, 2098: 3181, 2099: 3265, 2100: 3822, 2101: 4235, 2102: 5333, 2103: 6234, 2104: 6387, 2105: 6721, 2106: 6773, 2107: 6790, 2108: 6857, 2109: 6920, 2110: 6989, 2111: 7064, 2112: 7069, 2113: 7123, 2114: 7587, 2115: 7924, 2116: 7932, 2117: 8012, 2118: 8228, 2119: 8370, 2120: 2405, 2121: 3556, 2122: 4855, 2123: 5064, 2124: 5791, 2125: 31696, 2126: 35836, 2127: 47610, 2128: 57368, 2129: 61024, 2130: 61132, 2131: 86882, 2132: 102407, 2133: 132660, 2134: 122912, 2135: 122916, 2136: 176371, 2137: 187541, 2138: 187593, 2139: 238, 2140: 421, 2141: 808, 2142: 969, 2143: 1083, 2144: 1262, 2145: 1287, 2146: 1387, 2147: 1592, 2148: 2032, 2149: 2142, 2150: 2151, 2151: 2311, 2152: 2530, 2153: 2532, 2154: 2876, 2155: 2886, 2156: 3037, 2157: 3350, 2158: 3451, 2159: 3519, 2160: 3654, 2161: 3791, 2162: 3836, 2163: 23, 2164: 147, 2165: 211, 2166: 428, 2167: 456, 2168: 481, 2169: 507, 2170: 635, 2171: 714, 2172: 851, 2173: 1120, 2174: 1171, 2175: 1253, 2176: 1271, 2177: 1303, 2178: 1459, 2179: 1480, 2180: 1678, 2181: 1785, 2182: 2021, 2183: 2231, 2184: 2272, 2185: 2358, 2186: 2618, 2187: 2841, 2188: 2908, 2189: 2952, 2190: 3020, 2191: 3100, 2192: 3105, 2193: 3107, 2194: 3169, 2195: 3178, 2196: 3198, 2197: 3246, 2198: 3250, 2199: 3252, 2200: 3256, 2201: 3260, 2202: 3271, 2203: 3272, 2204: 3360, 2205: 3543, 2206: 3783, 2207: 3950, 2208: 3980, 2209: 4047, 2210: 4211, 2211: 4238, 2212: 4251, 2213: 4343, 2214: 4626, 2215: 4688, 2216: 4772, 2217: 4787, 2218: 5009, 2219: 5010, 2220: 5055, 2221: 5152, 2222: 5267, 2223: 5292, 2224: 5329, 2225: 5446, 2226: 5577, 2227: 5632, 2228: 5682, 2229: 5747, 2230: 5945, 2231: 5955, 2232: 6281, 2233: 6428, 2234: 6537, 2235: 6552, 2236: 6565, 2237: 6617, 2238: 6796, 2239: 6817, 2240: 6867, 2241: 6884, 2242: 6947, 2243: 6953, 2244: 6957, 2245: 6974, 2246: 6993, 2247: 6997, 2248: 7009, 2249: 7025, 2250: 7090, 2251: 7263, 2252: 7481, 2253: 7649, 2254: 7706, 2255: 7841, 2256: 7842, 2257: 7884, 2258: 8010, 2259: 8132, 2260: 8378, 2261: 8493, 2262: 8495, 2263: 8633, 2264: 8810, 2265: 8874, 2266: 8914, 2267: 8937, 2268: 8951, 2269: 8977, 2270: 8982, 2271: 8983, 2272: 26649, 2273: 26695, 2274: 26750, 2275: 26812, 2276: 26901, 2277: 27408, 2278: 27450, 2279: 27788, 2280: 27793, 2281: 31101, 2282: 31116, 2283: 31225, 2284: 31420, 2285: 33166, 2286: 33558, 2287: 33660, 2288: 34536, 2289: 36517, 2290: 36527, 2291: 37731, 2292: 37739, 2293: 38886, 2294: 39381, 2295: 39444, 2296: 40278, 2297: 40414, 2298: 40583, 2299: 41569, 2300: 41863, 2301: 42004, 2302: 43396, 2303: 43921, 2304: 43928, 2305: 43936, 2306: 44195, 2307: 44204, 2308: 44761, 2309: 45658, 2310: 46723, 2311: 47629, 2312: 47644, 2313: 47894, 2314: 48326, 2315: 48385, 2316: 48738, 2317: 48879, 2318: 49265, 2319: 49530, 2320: 49822, 2321: 49961, 2322: 50068, 2323: 50442, 2324: 51080, 2325: 51255, 2326: 51471, 2327: 51935, 2328: 52042, 2329: 52241, 2330: 52328, 2331: 52952, 2332: 53123, 2333: 53550, 2334: 53953, 2335: 54736, 2336: 54962, 2337: 54997, 2338: 55080, 2339: 55094, 2340: 55116, 2341: 55274, 2342: 55363, 2343: 55721, 2344: 55908, 2345: 56145, 2346: 56587, 2347: 56607, 2348: 56921, 2349: 58293, 2350: 58803, 2351: 59018, 2352: 59129, 2353: 59387, 2354: 60046, 2355: 60389, 2356: 60647, 2357: 60674, 2358: 60735, 2359: 60753, 2360: 60941, 2361: 60943, 2362: 61011, 2363: 61167, 2364: 61210, 2365: 61236, 2366: 61248, 2367: 61350, 2368: 61352, 2369: 61628, 2370: 61986, 2371: 62374, 2372: 62376, 2373: 62394, 2374: 62792, 2375: 62799, 2376: 62849, 2377: 63033, 2378: 63062, 2379: 63433, 2380: 64030, 2381: 64497, 2382: 64716, 2383: 64983, 2384: 64997, 2385: 65216, 2386: 65682, 2387: 65982, 2388: 67534, 2389: 68205, 2390: 69849, 2391: 70336, 2392: 71106, 2393: 71135, 2394: 953, 2395: 1204, 2396: 1242, 2397: 1772, 2398: 1792, 2399: 1939, 2400: 1945, 2401: 2301, 2402: 3363, 2403: 4980, 2404: 7156, 2405: 7379, 2406: 26554, 2407: 26729, 2408: 64620, 2409: 87306, 2410: 98961, 2411: 96821, 2412: 605, 2413: 612, 2414: 1099, 2415: 1231, 2416: 1353, 2417: 1361, 2418: 1363, 2419: 1393, 2420: 74, 2421: 78, 2422: 194, 2423: 203, 2424: 246, 2425: 471, 2426: 786, 2427: 1104, 2428: 1429, 2429: 1458, 2430: 28, 2431: 94, 2432: 249, 2433: 307, 2434: 308, 2435: 322, 2436: 385, 2437: 446, 2438: 452, 2439: 562, 2440: 580, 2441: 613, 2442: 715, 2443: 805, 2444: 994, 2445: 1027, 2446: 1056, 2447: 1177, 2448: 1280, 2449: 1365, 2450: 1399, 2451: 1446, 2452: 1476, 2453: 1487, 2454: 1537, 2455: 1545, 2456: 1621, 2457: 1633, 2458: 1643, 2459: 1672, 2460: 1673, 2461: 1799, 2462: 1801, 2463: 1841, 2464: 2112, 2465: 2310, 2466: 2333, 2467: 2357, 2468: 2391, 2469: 2443, 2470: 2501, 2471: 2690, 2472: 2875, 2473: 2943, 2474: 3997, 2475: 5146, 2476: 5449, 2477: 6242, 2478: 6567, 2479: 6618, 2480: 26606, 2481: 27193, 2482: 27728, 2483: 27801, 2484: 31184, 2485: 44974, 2486: 544, 2487: 2269, 2488: 2735, 2489: 2794, 2490: 3066, 2491: 3270, 2492: 3347, 2493: 3362, 2494: 3766, 2495: 3861, 2496: 4220, 2497: 5093, 2498: 5312, 2499: 6662, 2500: 585, 2501: 2342, 2502: 3019, 2503: 82, 2504: 121, 2505: 199, 2506: 228, 2507: 306, 2508: 514, 2509: 685, 2510: 3285, 2511: 3968, 2512: 4890, 2513: 6708, 2514: 6763, 2515: 7173, 2516: 7444, 2517: 8981, 2518: 54001, 2519: 55280, 2520: 56941, 2521: 59725, 2522: 61240, 2523: 65230, 2524: 71033, 2525: 85774, 2526: 86781, 2527: 87869, 2528: 89759, 2529: 93840, 2530: 96829, 2531: 97921, 2532: 100714, 2533: 101525, 2534: 103980, 2535: 111659, 2536: 111921, 2537: 112290, 2538: 115569, 2539: 116897, 2540: 125916, 2541: 128360, 2542: 136864, 2543: 122, 2544: 144, 2545: 227, 2546: 408, 2547: 413, 2548: 418, 2549: 424, 2550: 433, 2551: 436, 2552: 459, 2553: 550, 2554: 639, 2555: 782, 2556: 1191, 2557: 1343, 2558: 1431, 2559: 1453, 2560: 1468, 2561: 1488, 2562: 1513, 2563: 1667, 2564: 1726, 2565: 1810, 2566: 1835, 2567: 1975, 2568: 1976, 2569: 2146, 2570: 2155, 2571: 2236, 2572: 2297, 2573: 2306, 2574: 2352, 2575: 2404, 2576: 2433, 2577: 2497, 2578: 2500, 2579: 2505, 2580: 2568, 2581: 2574, 2582: 2598, 2583: 2702, 2584: 2713, 2585: 2771, 2586: 2795, 2587: 2796, 2588: 2805, 2589: 2827, 2590: 2861, 2591: 2871, 2592: 2890, 2593: 2906, 2594: 3098, 2595: 3120, 2596: 3142, 2597: 3177, 2598: 3186, 2599: 3208, 2600: 3259, 2601: 3261, 2602: 3298, 2603: 3326, 2604: 3502, 2605: 3552, 2606: 3646, 2607: 3694, 2608: 3695, 2609: 3764, 2610: 3824, 2611: 3841, 2612: 3946, 2613: 3987, 2614: 4008, 2615: 4041, 2616: 4062, 2617: 4067, 2618: 4084, 2619: 4102, 2620: 4132, 2621: 4153, 2622: 4155, 2623: 4207, 2624: 4280, 2625: 4293, 2626: 4317, 2627: 4321, 2628: 4322, 2629: 4333, 2630: 4349, 2631: 4351, 2632: 4359, 2633: 4361, 2634: 4396, 2635: 4442, 2636: 4466, 2637: 4477, 2638: 4482, 2639: 4487, 2640: 4509, 2641: 4516, 2642: 4541, 2643: 4564, 2644: 4565, 2645: 4577, 2646: 4623, 2647: 4629, 2648: 4654, 2649: 4679, 2650: 4686, 2651: 57, 2652: 259, 2653: 484, 2654: 519, 2655: 828, 2656: 1105, 2657: 18, 2658: 663, 2659: 737, 2660: 833, 2661: 836, 2662: 889, 2663: 69, 2664: 934, 2665: 1005, 2666: 1033, 2667: 1390, 2668: 1442, 2669: 1615, 2670: 1642, 2671: 1753, 2672: 1769, 2673: 1863, 2674: 1866, 2675: 1934, 2676: 2042, 2677: 2064, 2678: 2106, 2679: 2124, 2680: 2195, 2681: 2431, 2682: 2504, 2683: 2718, 2684: 2731, 2685: 3004, 2686: 3196, 2687: 3249, 2688: 3268, 2689: 3274, 2690: 3385, 2691: 4104, 2692: 4502, 2693: 4929, 2694: 4958, 2695: 4974, 2696: 5151, 2697: 5220, 2698: 5283, 2699: 5307, 2700: 5308, 2701: 5500, 2702: 5528, 2703: 5568, 2704: 5582, 2705: 5585, 2706: 5589, 2707: 7294, 2708: 33495, 2709: 53993, 2710: 391, 2711: 2121, 2712: 2942, 2713: 3844, 2714: 3969, 2715: 4474, 2716: 4975, 2717: 5108, 2718: 6765, 2719: 7160, 2720: 8966, 2721: 45950, 2722: 47423, 2723: 51931, 2724: 53894, 2725: 63876, 2726: 68932, 2727: 69712, 2728: 72395, 2729: 79242, 2730: 82767, 2731: 96567, 2732: 96811, 2733: 97923, 2734: 100383, 2735: 106100, 2736: 108729, 2737: 112804, 2738: 117881, 2739: 132424, 2740: 137337, 2741: 140174, 2742: 140247, 2743: 140715, 2744: 145839, 2745: 146656, 2746: 159817, 2747: 163645, 2748: 166643, 2749: 171011, 2750: 1320, 2751: 5882, 2752: 8371, 2753: 909, 2754: 1251, 2755: 1273, 2756: 1289, 2757: 2164, 2758: 2553, 2759: 2732, 2760: 2925, 2761: 3221, 2762: 3415, 2763: 3730, 2764: 4282, 2765: 4399, 2766: 4658, 2767: 4914, 2768: 4928, 2769: 5004, 2770: 5021, 2771: 5810, 2772: 5932, 2773: 6239, 2774: 6663, 2775: 6666, 2776: 6975, 2777: 7063, 2778: 7206, 2779: 7247, 2780: 7327, 2781: 7396, 2782: 7700, 2783: 7748, 2784: 8143, 2785: 8157, 2786: 8235, 2787: 8253, 2788: 8379, 2789: 8879, 2790: 8928, 2791: 8974, 2792: 26258, 2793: 26326, 2794: 26422, 2795: 27156, 2796: 27513, 2797: 32657, 2798: 32659, 2799: 32875, 2800: 32898, 2801: 33781, 2802: 37545, 2803: 44719, 2804: 45880, 2805: 46062, 2806: 46862, 2807: 52885, 2808: 62336, 2809: 62644, 2810: 63312, 2811: 64278, 2812: 66335, 2813: 79224, 2814: 81018, 2815: 81562, 2816: 82848, 2817: 85796, 2818: 88911, 2819: 90522, 2820: 90746, 2821: 91094, 2822: 92046, 2823: 92427, 2824: 92475, 2825: 93114, 2826: 93326, 2827: 96606, 2828: 97225, 2829: 97304, 2830: 100498, 2831: 101072, 2832: 103171, 2833: 104283, 2834: 104913, 2835: 105250, 2836: 107338, 2837: 107565, 2838: 111732, 2839: 113374, 2840: 114335, 2841: 115203, 2842: 122898, 2843: 127146, 2844: 128695, 2845: 134170, 2846: 134515, 2847: 135143, 2848: 135456, 2849: 136018, 2850: 136305, 2851: 136564, 2852: 137857, 2853: 138208, 2854: 139644, 2855: 140928, 2856: 142074, 2857: 142448, 2858: 142602, 2859: 142961, 2860: 142997, 2861: 143859, 2862: 143969, 2863: 149406, 2864: 151759, 2865: 156607, 2866: 160569, 2867: 164280, 2868: 165969, 2869: 167370, 2870: 168254, 2871: 168492, 2872: 170705, 2873: 170875, 2874: 171701, 2875: 171759, 2876: 172013, 2877: 172461, 2878: 174055, 2879: 174141, 2880: 174403, 2881: 174737, 2882: 175485, 2883: 175661, 2884: 175693, 2885: 175705, 2886: 175707, 2887: 175743, 2888: 175781, 2889: 179073, 2890: 188301, 2891: 190183, 2892: 387, 2893: 479, 2894: 482, 2895: 522, 2896: 781, 2897: 1011, 2898: 1014, 2899: 1235, 2900: 1244, 2901: 1301, 2902: 1350, 2903: 1873, 2904: 1997, 2905: 1999, 2906: 2159, 2907: 2183, 2908: 2265, 2909: 2322, 2910: 2356, 2911: 2363, 2912: 2379, 2913: 2380, 2914: 2408, 2915: 2454, 2916: 2524, 2917: 2533, 2918: 2554, 2919: 2587, 2920: 2613, 2921: 2615, 2922: 2634, 2923: 2661, 2924: 2664, 2925: 2752, 2926: 2978, 2927: 3115, 2928: 3148, 2929: 3388, 2930: 3430, 2931: 3614, 2932: 3799, 2933: 3814, 2934: 3917, 2935: 3918, 2936: 3959, 2937: 4215, 2938: 4241, 2939: 4255, 2940: 4267, 2941: 4291, 2942: 4340, 2943: 4437, 2944: 4464, 2945: 4496, 2946: 4508, 2947: 4591, 2948: 4713, 2949: 4876, 2950: 4971, 2951: 4992, 2952: 5040, 2953: 5339, 2954: 5505, 2955: 5672, 2956: 5712, 2957: 6323, 2958: 6371, 2959: 6659, 2960: 6786, 2961: 6793, 2962: 6873, 2963: 6880, 2964: 7000, 2965: 7004, 2966: 7007, 2967: 7040, 2968: 7163, 2969: 7757, 2970: 7983, 2971: 8623, 2972: 26680, 2973: 34338, 2974: 39414, 2975: 42723, 2976: 45666, 2977: 48877, 2978: 52722, 2979: 57532, 2980: 59306, 2981: 60487, 2982: 33646, 2983: 50794, 2984: 51077, 2985: 52245, 2986: 54995, 2987: 54999, 2988: 56801, 2989: 65514, 2990: 69481, 2991: 86892, 2992: 93721, 2993: 93838, 2994: 110501, 2995: 748, 2996: 916, 2997: 1125, 2998: 1982, 2999: 1293, 3000: 198, 3001: 473, 3002: 518, 3003: 707, 3004: 728, 3005: 861, 3006: 897, 3007: 942, 3008: 951, 3009: 955, 3010: 1184, 3011: 1254, 3012: 1268, 3013: 1277, 3014: 1388, 3015: 1416, 3016: 1498, 3017: 1564, 3018: 1646, 3019: 1670, 3020: 1858, 3021: 1912, 3022: 2009, 3023: 2067, 3024: 2102, 3025: 2202, 3026: 2289, 3027: 2429, 3028: 2476, 3029: 2681, 3030: 2759, 3031: 2917, 3032: 2922, 3033: 2935, 3034: 2961, 3035: 3045, 3036: 3334, 3037: 3426, 3038: 3446, 3039: 3494, 3040: 3507, 3041: 3593, 3042: 3628, 3043: 3632, 3044: 3643, 3045: 3769, 3046: 3773, 3047: 3774, 3048: 3811, 3049: 3901, 3050: 3937, 3051: 280, 3052: 928, 3053: 1151, 3054: 1428, 3055: 1631, 3056: 1696, 3057: 1797, 3058: 1944, 3059: 2020, 3060: 2075, 3061: 3075, 3062: 3230, 3063: 3461, 3064: 3498, 3065: 3504, 3066: 6460, 3067: 2739, 3068: 6058, 3069: 6541, 3070: 6564, 3071: 27660, 3072: 27706, 3073: 27808, 3074: 48043, 3075: 49130, 3076: 49649, 3077: 50804, 3078: 51086, 3079: 59501, 3080: 60072, 3081: 60126, 3082: 63072, 3083: 67734, 3084: 68554, 3085: 68848, 3086: 74228, 3087: 78105, 3088: 79357, 3089: 80693, 3090: 82461, 3091: 83369, 3092: 86911, 3093: 87430, 3094: 89492, 3095: 89864, 3096: 90866, 3097: 96861, 3098: 99149, 3099: 102123, 3100: 103042, 3101: 103341, 3102: 104863, 3103: 106002, 3104: 107348, 3105: 107406, 3106: 111360, 3107: 113741, 3108: 114662, 3109: 114678, 3110: 114935, 3111: 115210, 3112: 115680, 3113: 118696, 3114: 128512, 3115: 135518, 3116: 142222, 3117: 143355, 3118: 158966, 3119: 161131, 3120: 166534, 3121: 168250, 3122: 170827, 3123: 171763, 3124: 172591, 3125: 173925, 3126: 174053, 3127: 175303, 3128: 176601, 3129: 179401, 3130: 179819, 3131: 182715, 3132: 183611, 3133: 184471, 3134: 185031, 3135: 187595, 3136: 1202, 3137: 1965, 3138: 3088, 3139: 4105, 3140: 6104, 3141: 7022, 3142: 7132, 3143: 7387, 3144: 7980, 3145: 8376, 3146: 8873, 3147: 27846, 3148: 27904, 3149: 30810, 3150: 33779, 3151: 45728, 3152: 53000, 3153: 54259, 3154: 64285, 3155: 67997, 3156: 77800, 3157: 86290, 3158: 86504, 3159: 89753, 3160: 89904, 3161: 92494, 3162: 92535, 3163: 95858, 3164: 98491, 3165: 102217, 3166: 104069, 3167: 365, 3168: 968, 3169: 1096, 3170: 1762, 3171: 1889, 3172: 2313, 3173: 2905, 3174: 3041, 3175: 4023, 3176: 4128, 3177: 4380, 3178: 4448, 3179: 4773, 3180: 4964, 3181: 5026, 3182: 5225, 3183: 5291, 3184: 5417, 3185: 5690, 3186: 5878, 3187: 5954, 3188: 6188, 3189: 6214, 3190: 6218, 3191: 6296, 3192: 6331, 3193: 6385, 3194: 6936, 3195: 6944, 3196: 7139, 3197: 7162, 3198: 7235, 3199: 7360, 3200: 7411, 3201: 7743, 3202: 7930, 3203: 7982, 3204: 8014, 3205: 8093, 3206: 8645, 3207: 8795, 3208: 8832, 3209: 26504, 3210: 27020, 3211: 27266, 3212: 27523, 3213: 27869, 3214: 33683, 3215: 34072, 3216: 42632, 3217: 255, 3218: 523, 3219: 535, 3220: 1216, 3221: 1326, 3222: 1382, 3223: 1541, 3224: 1956, 3225: 2257, 3226: 2312, 3227: 2316, 3228: 2401, 3229: 2956, 3230: 2966, 3231: 3029, 3232: 3074, 3233: 3201, 3234: 3262, 3235: 3444, 3236: 4079, 3237: 4149, 3238: 4158, 3239: 4203, 3240: 4231, 3241: 4465, 3242: 4499, 3243: 4537, 3244: 4572, 3245: 4581, 3246: 4585, 3247: 4611, 3248: 4616, 3249: 5023, 3250: 5265, 3251: 5548, 3252: 5644, 3253: 6022, 3254: 6025, 3255: 6124, 3256: 6313, 3257: 6636, 3258: 6754, 3259: 6832, 3260: 6979, 3261: 6996, 3262: 7015, 3263: 7027, 3264: 7028, 3265: 7046, 3266: 7048, 3267: 7127, 3268: 7325, 3269: 7493, 3270: 7624, 3271: 7647, 3272: 7766, 3273: 8024, 3274: 8158, 3275: 5628, 3276: 8604, 3277: 8605, 3278: 875, 3279: 932, 3280: 1017, 3281: 1019, 3282: 1292, 3283: 1381, 3284: 1515, 3285: 1635, 3286: 1703, 3287: 2125, 3288: 2334, 3289: 2340, 3290: 2385, 3291: 2471, 3292: 2560, 3293: 2567, 3294: 2662, 3295: 2728, 3296: 2803, 3297: 2881, 3298: 2950, 3299: 3077, 3300: 3452, 3301: 3553, 3302: 3554, 3303: 3653, 3304: 3675, 3305: 3707, 3306: 3786, 3307: 3978, 3308: 3981, 3309: 4015, 3310: 4068, 3311: 4069, 3312: 4124, 3313: 4141, 3314: 4326, 3315: 4356, 3316: 4372, 3317: 4387, 3318: 4388, 3319: 4639, 3320: 4677, 3321: 4681, 3322: 4823, 3323: 4877, 3324: 4969, 3325: 5049, 3326: 5400, 3327: 5444, 3328: 5541, 3329: 5553, 3330: 6193, 3331: 6383, 3332: 6595, 3333: 6707, 3334: 6753, 3335: 6755, 3336: 6879, 3337: 6893, 3338: 6939, 3339: 7010, 3340: 7137, 3341: 7256, 3342: 7320, 3343: 7346, 3344: 7454, 3345: 7541, 3346: 7566, 3347: 8366, 3348: 8677, 3349: 8781, 3350: 8807, 3351: 8861, 3352: 8866, 3353: 8910, 3354: 8947, 3355: 8968, 3356: 8985, 3357: 26712, 3358: 26778, 3359: 26871, 3360: 27473, 3361: 27539, 3362: 27705, 3363: 30822, 3364: 31049, 3365: 32598, 3366: 33154, 3367: 33437, 3368: 33672, 3369: 34153, 3370: 34542, 3371: 40732, 3372: 40959, 3373: 41571, 3374: 41573, 3375: 41724, 3376: 42018, 3377: 42718, 3378: 42738, 3379: 44004, 3380: 44709, 3381: 44788, 3382: 45431, 3383: 45501, 3384: 45720, 3385: 45726, 3386: 45928, 3387: 46322, 3388: 46948, 3389: 47970, 3390: 47978, 3391: 47999, 3392: 48342, 3393: 48696, 3394: 49274, 3395: 49772, 3396: 50658, 3397: 50685, 3398: 50740, 3399: 50806, 3400: 51709, 3401: 51884, 3402: 52287, 3403: 52435, 3404: 52458, 3405: 52767, 3406: 52975, 3407: 53435, 3408: 54004, 3409: 54116, 3410: 54121, 3411: 54281, 3412: 54734, 3413: 54881, 3414: 55052, 3415: 55112, 3416: 55190, 3417: 55232, 3418: 55253, 3419: 55267, 3420: 55282, 3421: 55620, 3422: 55830, 3423: 56152, 3424: 56251, 3425: 56336, 3426: 56339, 3427: 56379, 3428: 57951, 3429: 58078, 3430: 58107, 3431: 58162, 3432: 58347, 3433: 58839, 3434: 59126, 3435: 59220, 3436: 59258, 3437: 59440, 3438: 59731, 3439: 60363, 3440: 60514, 3441: 62155, 3442: 62293, 3443: 62956, 3444: 62999, 3445: 64622, 3446: 65188, 3447: 66198, 3448: 66665, 3449: 67087, 3450: 67267, 3451: 67408, 3452: 67618, 3453: 68659, 3454: 68952, 3455: 69069, 3456: 69394, 3457: 69524, 3458: 69784, 3459: 69904, 3460: 70492, 3461: 70521, 3462: 70990, 3463: 71282, 3464: 72167, 3465: 72489, 3466: 72591, 3467: 73023, 3468: 74154, 3469: 74508, 3470: 74668, 3471: 74946, 3472: 76751, 3473: 78467, 3474: 78703, 3475: 79057, 3476: 80860, 3477: 81910, 3478: 83134, 3479: 83803, 3480: 84772, 3481: 85780, 3482: 86293, 3483: 86377, 3484: 86833, 3485: 89087, 3486: 89470, 3487: 90576, 3488: 92420, 3489: 93287, 3490: 94959, 3491: 95218, 3492: 95624, 3493: 95875, 3494: 96110, 3495: 114762, 3496: 4744, 3497: 4880, 3498: 1172, 3499: 1300, 3500: 1955, 3501: 1959, 3502: 1962, 3503: 3152, 3504: 3359, 3505: 3468, 3506: 91077, 3507: 2136, 3508: 44193, 3509: 45221, 3510: 47122, 3511: 47518, 3512: 48414, 3513: 50601, 3514: 53460, 3515: 55768, 3516: 68135, 3517: 69278, 3518: 71518, 3519: 72226, 3520: 74647, 3521: 75805, 3522: 76293, 3523: 87485, 3524: 92509, 3525: 93272, 3526: 99106, 3527: 101612, 3528: 105037, 3529: 109483, 3530: 111320, 3531: 112450, 3532: 112788, 3533: 113378, 3534: 114074, 3535: 123947, 3536: 127202, 3537: 128520, 3538: 131013, 3539: 138204, 3540: 149354, 3541: 151739, 3542: 926, 3543: 949, 3544: 1041, 3545: 1185, 3546: 2010, 3547: 2360, 3548: 2594, 3549: 3089, 3550: 3307, 3551: 4103, 3552: 4427, 3553: 4546, 3554: 5300, 3555: 5304, 3556: 5341, 3557: 5434, 3558: 5812, 3559: 5867, 3560: 6235, 3561: 6244, 3562: 6270, 3563: 6301, 3564: 6305, 3565: 6591, 3566: 6791, 3567: 6852, 3568: 6858, 3569: 7087, 3570: 7158, 3571: 7234, 3572: 7419, 3573: 7889, 3574: 8154, 3575: 8183, 3576: 8340, 3577: 8341, 3578: 8804, 3579: 8838, 3580: 26350, 3581: 26578, 3582: 27721, 3583: 31522, 3584: 39292, 3585: 44937, 3586: 48698, 3587: 50274, 3588: 52967, 3589: 55069, 3590: 55444, 3591: 55814, 3592: 57147, 3593: 58103, 3594: 58154, 3595: 6303, 3596: 7001, 3597: 2318, 3598: 7669, 3599: 39446, 3600: 55577, 3601: 63436, 3602: 72129, 3603: 81535, 3604: 20, 3605: 2792, 3606: 164, 3607: 1189, 3608: 1192, 3609: 2659, 3610: 3197, 3611: 3266, 3612: 3425, 3613: 3576, 3614: 4887, 3615: 6059, 3616: 6952, 3617: 60030, 3618: 69654, 3619: 75395, 3620: 78266, 3621: 78349, 3622: 80363, 3623: 80831, 3624: 81417, 3625: 82041, 3626: 84189, 3627: 84601, 3628: 85397, 3629: 90405, 3630: 90469, 3631: 91974, 3632: 93297, 3633: 96691, 3634: 96917, 3635: 98361, 3636: 100810, 3637: 103075, 3638: 103688, 3639: 2381, 3640: 2383, 3641: 2384, 3642: 4386, 3643: 4989, 3644: 5065, 3645: 5094, 3646: 5106, 3647: 5296, 3648: 5414, 3649: 5803, 3650: 5874, 3651: 5900, 3652: 6006, 3653: 6014, 3654: 6249, 3655: 6338, 3656: 6484, 3657: 6536, 3658: 6550, 3659: 6566, 3660: 6586, 3661: 6593, 3662: 6686, 3663: 6687, 3664: 6702, 3665: 6750, 3666: 6752, 3667: 6764, 3668: 6886, 3669: 6887, 3670: 6946, 3671: 6949, 3672: 6958, 3673: 7142, 3674: 3155, 3675: 27397, 3676: 55442, 3677: 58303, 3678: 14, 3679: 55, 3680: 154, 3681: 214, 3682: 287, 3683: 299, 3684: 321, 3685: 324, 3686: 326, 3687: 331, 3688: 369, 3689: 406, 3690: 691, 3691: 722, 3692: 726, 3693: 900, 3694: 948, 3695: 971, 3696: 987, 3697: 1091, 3698: 1131, 3699: 1132, 3700: 1135, 3701: 1187, 3702: 1190, 3703: 1194, 3704: 1286, 3705: 1290, 3706: 1295, 3707: 1296, 3708: 1305, 3709: 1395, 3710: 1414, 3711: 53, 3712: 1140, 3713: 1519, 3714: 1596, 3715: 1624, 3716: 1683, 3717: 1694, 3718: 1730, 3719: 72356, 3720: 74553, 3721: 3910, 3722: 6464, 3723: 7312, 3724: 26974, 3725: 74795, 3726: 83177, 3727: 901, 3728: 905, 3729: 918, 3730: 936, 3731: 945, 3732: 946, 3733: 947, 3734: 950, 3735: 3061, 3736: 3097, 3737: 3315, 3738: 3599, 3739: 3604, 3740: 3606, 3741: 3991, 3742: 4300, 3743: 4899, 3744: 5092, 3745: 5480, 3746: 5529, 3747: 5621, 3748: 6271, 3749: 6402, 3750: 6604, 3751: 6650, 3752: 6783, 3753: 7067, 3754: 7209, 3755: 7297, 3756: 7381, 3757: 8238, 3758: 8372, 3759: 8814, 3760: 8978, 3761: 25887, 3762: 26183, 3763: 26184, 3764: 26265, 3765: 26429, 3766: 26645, 3767: 27619, 3768: 27826, 3769: 31851, 3770: 31925, 3771: 32060, 3772: 32243, 3773: 32596, 3774: 33090, 3775: 33830, 3776: 34312, 3777: 34332, 3778: 35807, 3779: 37384, 3780: 37444, 3781: 40339, 3782: 40962, 3783: 41828, 3784: 42013, 3785: 42725, 3786: 42761, 3787: 44773, 3788: 44777, 3789: 44851, 3790: 46105, 3791: 47725, 3792: 47736, 3793: 48520, 3794: 48649, 3795: 48982, 3796: 49013, 3797: 49735, 3798: 50613, 3799: 50999, 3800: 51167, 3801: 51575, 3802: 53280, 3803: 53355, 3804: 53578, 3805: 55269, 3806: 58291, 3807: 60289, 3808: 60737, 3809: 62008, 3810: 64116, 3811: 65588, 3812: 66798, 3813: 66943, 3814: 67888, 3815: 69211, 3816: 69304, 3817: 69469, 3818: 69720, 3819: 70697, 3820: 72178, 3821: 72624, 3822: 72692, 3823: 72701, 3824: 73015, 3825: 73042, 3826: 73160, 3827: 73822, 3828: 74342, 3829: 74683, 3830: 74698, 3831: 76143, 3832: 76301, 3833: 77688, 3834: 78142, 3835: 78620, 3836: 79684, 3837: 79897, 3838: 80727, 3839: 81087, 3840: 81537, 3841: 82854, 3842: 83910, 3843: 83969, 3844: 84246, 3845: 84512, 3846: 84944, 3847: 85295, 3848: 85881, 3849: 86059, 3850: 86298, 3851: 87834, 3852: 88069, 3853: 88746, 3854: 88785, 3855: 88812, 3856: 89898, 3857: 90717, 3858: 91355, 3859: 91386, 3860: 91666, 3861: 92643, 3862: 93006, 3863: 93022, 3864: 94661, 3865: 95633, 3866: 95843, 3867: 96608, 3868: 96935, 3869: 97836, 3870: 98279, 3871: 99117, 3872: 99122, 3873: 99130, 3874: 99853, 3875: 100390, 3876: 100507, 3877: 101283, 3878: 102378, 3879: 102686, 3880: 102747, 3881: 102984, 3882: 103602, 3883: 104339, 3884: 104875, 3885: 105540, 3886: 105746, 3887: 106594, 3888: 106927, 3889: 107951, 3890: 108078, 3891: 108949, 3892: 109241, 3893: 109596, 3894: 111146, 3895: 113252, 3896: 113453, 3897: 115111, 3898: 116718, 3899: 116738, 3900: 116817, 3901: 117109, 3902: 118270, 3903: 118530, 3904: 118572, 3905: 118834, 3906: 118862, 3907: 118894, 3908: 119714, 3909: 120813, 3910: 121007, 3911: 121097, 3912: 121338, 3913: 121342, 3914: 121469, 3915: 121781, 3916: 122092, 3917: 124273, 3918: 124404, 3919: 125970, 3920: 125974, 3921: 126088, 3922: 126577, 3923: 126921, 3924: 127052, 3925: 127134, 3926: 128087, 3927: 128089, 3928: 128366, 3929: 128594, 3930: 128852, 3931: 128944, 3932: 128968, 3933: 129011, 3934: 129354, 3935: 130452, 3936: 130518, 3937: 130520, 3938: 131098, 3939: 131104, 3940: 131130, 3941: 131439, 3942: 131610, 3943: 131826, 3944: 132153, 3945: 132422, 3946: 132496, 3947: 132584, 3948: 132800, 3949: 133712, 3950: 133867, 3951: 133879, 3952: 134004, 3953: 134334, 3954: 134847, 3955: 135777, 3956: 135937, 3957: 136341, 3958: 136353, 3959: 136355, 3960: 136359, 3961: 136503, 3962: 136834, 3963: 139157, 3964: 139640, 3965: 139994, 3966: 140133, 3967: 140481, 3968: 140541, 3969: 140561, 3970: 140711, 3971: 141513, 3972: 141544, 3973: 141646, 3974: 141830, 3975: 141928, 3976: 142196, 3977: 142444, 3978: 142550, 3979: 142831, 3980: 143031, 3981: 143559, 3982: 144222, 3983: 145491, 3984: 146244, 3985: 146684, 3986: 146986, 3987: 147410, 3988: 147936, 3989: 148632, 3990: 148775, 3991: 149350, 3992: 149352, 3993: 149508, 3994: 149566, 3995: 150554, 3996: 153386, 3997: 153408, 3998: 155589, 3999: 156025, 4000: 156781, 4001: 157296, 4002: 157775, 4003: 158398, 4004: 158882, 4005: 159069, 4006: 160567, 4007: 163527, 4008: 164200, 4009: 164226, 4010: 164707, 4011: 167018, 4012: 167380, 4013: 167772, 4014: 167854, 4015: 169912, 4016: 170837, 4017: 170993, 4018: 171751, 4019: 171811, 4020: 172321, 4021: 173253, 4022: 174681, 4023: 176621, 4024: 176805, 4025: 177185, 4026: 177765, 4027: 179211, 4028: 181065, 4029: 182293, 4030: 182297, 4031: 182299, 4032: 182731, 4033: 184349, 4034: 184791, 4035: 68, 4036: 81, 4037: 85, 4038: 116, 4039: 581, 4040: 617, 4041: 735, 4042: 766, 4043: 791, 4044: 896, 4045: 1034, 4046: 1116, 4047: 1137, 4048: 1144, 4049: 1366, 4050: 1411, 4051: 1417, 4052: 384, 4053: 464, 4054: 533, 4055: 1241, 4056: 1321, 4057: 1337, 4058: 1340, 4059: 1760, 4060: 1771, 4061: 1974, 4062: 1981, 4063: 2117, 4064: 2122, 4065: 2138, 4066: 2298, 4067: 2419, 4068: 2456, 4069: 2522, 4070: 2625, 4071: 2651, 4072: 2782, 4073: 2784, 4074: 2790, 4075: 2817, 4076: 2868, 4077: 2992, 4078: 3013, 4079: 3018, 4080: 3153, 4081: 3182, 4082: 3267, 4083: 3563, 4084: 3727, 4085: 3768, 4086: 3810, 4087: 3840, 4088: 4092, 4089: 4109, 4090: 4214, 4091: 4254, 4092: 4304, 4093: 4316, 4094: 4438, 4095: 4587, 4096: 4599, 4097: 4624, 4098: 4645, 4099: 4661, 4100: 4678, 4101: 4774, 4102: 4800, 4103: 4850, 4104: 4909, 4105: 4987, 4106: 5165, 4107: 5294, 4108: 5346, 4109: 5438, 4110: 5479, 4111: 5588, 4112: 5640, 4113: 5650, 4114: 5749, 4115: 6203, 4116: 6219, 4117: 6283, 4118: 6327, 4119: 6375, 4120: 6395, 4121: 6461, 4122: 6620, 4123: 6629, 4124: 6638, 4125: 6678, 4126: 6731, 4127: 6744, 4128: 6820, 4129: 6963, 4130: 7118, 4131: 7308, 4132: 7492, 4133: 7561, 4134: 7650, 4135: 7802, 4136: 8016, 4137: 8147, 4138: 8266, 4139: 8426, 4140: 8501, 4141: 8507, 4142: 8581, 4143: 27317, 4144: 27873, 4145: 2114, 4146: 2398, 4147: 54190, 4148: 1606, 4149: 2103, 4150: 1529, 4151: 1659, 4152: 2280, 4153: 2600, 4154: 3071, 4155: 3690, 4156: 4126, 4157: 4732, 4158: 4954, 4159: 5027, 4160: 5072, 4161: 5246, 4162: 5247, 4163: 5619, 4164: 5792, 4165: 6051, 4166: 6288, 4167: 6367, 4168: 1942, 4169: 3819, 4170: 5109, 4171: 5420, 4172: 71745, 4173: 79139, 4174: 1958, 4175: 2262, 4176: 3244, 4177: 5380, 4178: 6183, 4179: 6785, 4180: 233, 4181: 2337, 4182: 3179, 4183: 4873, 4184: 7367, 4185: 50912, 4186: 57522, 4187: 58972, 4188: 59022, 4189: 62553, 4190: 64114, 4191: 65088, 4192: 65577, 4193: 65802, 4194: 69140, 4195: 70728, 4196: 77206, 4197: 77427, 4198: 79572, 4199: 80572, 4200: 80586, 4201: 81156, 4202: 81819, 4203: 86014, 4204: 86815, 4205: 87194, 4206: 88108, 4207: 90890, 4208: 91126, 4209: 91653, 4210: 91671, 4211: 91976, 4212: 96728, 4213: 99764, 4214: 106766, 4215: 116799, 4216: 132046, 4217: 134881, 4218: 938, 4219: 1833, 4220: 2325, 4221: 2551, 4222: 2837, 4223: 3163, 4224: 3325, 4225: 3719, 4226: 3746, 4227: 4476, 4228: 4663, 4229: 4676, 4230: 4740, 4231: 4912, 4232: 4941, 4233: 5460, 4234: 6012, 4235: 6030, 4236: 6060, 4237: 6169, 4238: 6579, 4239: 7034, 4240: 7036, 4241: 7050, 4242: 7380, 4243: 8643, 4244: 8796, 4245: 25937, 4246: 32300, 4247: 45175, 4248: 53466, 4249: 54780, 4250: 69988, 4251: 80584, 4252: 85401, 4253: 93805, 4254: 94015, 4255: 94150, 4256: 94833, 4257: 213, 4258: 665, 4259: 935, 4260: 1111, 4261: 1178, 4262: 1354, 4263: 2131, 4264: 2495, 4265: 2931, 4266: 3306, 4267: 3310, 4268: 3592, 4269: 3629, 4270: 3677, 4271: 3687, 4272: 3742, 4273: 3821, 4274: 4325, 4275: 4788, 4276: 5373, 4277: 5888, 4278: 5889, 4279: 5912, 4280: 6187, 4281: 6433, 4282: 6643, 4283: 6777, 4284: 6985, 4285: 7347, 4286: 7371, 4287: 8025, 4288: 8033, 4289: 8197, 4290: 8511, 4291: 8638, 4292: 8656, 4293: 9010, 4294: 26082, 4295: 26150, 4296: 26236, 4297: 26237, 4298: 26347, 4299: 26471, 4300: 26587, 4301: 26662, 4302: 26849, 4303: 26903, 4304: 27134, 4305: 27803, 4306: 27815, 4307: 27834, 4308: 30803, 4309: 32892, 4310: 33124, 4311: 36363, 4312: 36401, 4313: 38159, 4314: 42191, 4315: 48872, 4316: 56060, 4317: 57183, 4318: 57504, 4319: 58425, 4320: 58554, 4321: 60904, 4322: 63515, 4323: 64993, 4324: 66371, 4325: 67923, 4326: 69134, 4327: 69529, 4328: 69685, 4329: 72104, 4330: 73881, 4331: 74324, 4332: 74727, 4333: 75341, 4334: 79333, 4335: 80124, 4336: 84156, 4337: 84844, 4338: 85316, 4339: 85736, 4340: 86066, 4341: 86320, 4342: 86347, 4343: 88235, 4344: 88345, 4345: 91261, 4346: 93790, 4347: 95175, 4348: 95311, 4349: 95313, 4350: 95377, 4351: 95654, 4352: 96020, 4353: 96373, 4354: 98604, 4355: 99145, 4356: 100302, 4357: 100553, 4358: 101088, 4359: 101962, 4360: 102602, 4361: 102666, 4362: 103235, 4363: 104780, 4364: 105593, 4365: 107159, 4366: 107408, 4367: 107410, 4368: 107412, 4369: 108540, 4370: 108727, 4371: 108981, 4372: 109633, 4373: 110586, 4374: 111622, 4375: 116411, 4376: 117444, 4377: 118166, 4378: 118888, 4379: 118896, 4380: 118985, 4381: 120138, 4382: 120478, 4383: 120625, 4384: 126090, 4385: 126426, 4386: 126430, 4387: 127098, 4388: 129514, 4389: 130970, 4390: 130976, 4391: 130978, 4392: 131237, 4393: 133716, 4394: 134041, 4395: 134095, 4396: 134109, 4397: 134184, 4398: 134252, 4399: 134326, 4400: 134849, 4401: 136445, 4402: 136447, 4403: 138835, 4404: 140038, 4405: 140265, 4406: 141810, 4407: 141816, 4408: 141818, 4409: 141820, 4410: 141836, 4411: 141844, 4412: 142020, 4413: 143511, 4414: 145994, 4415: 146028, 4416: 147196, 4417: 147250, 4418: 147282, 4419: 147286, 4420: 147300, 4421: 147326, 4422: 147328, 4423: 147330, 4424: 151769, 4425: 152591, 4426: 158402, 4427: 159811, 4428: 163072, 4429: 163112, 4430: 163134, 4431: 163386, 4432: 163925, 4433: 165959, 4434: 166183, 4435: 170411, 4436: 170597, 4437: 170777, 4438: 171749, 4439: 172577, 4440: 172583, 4441: 172585, 4442: 172587, 4443: 172589, 4444: 172637, 4445: 172793, 4446: 172825, 4447: 172909, 4448: 173351, 4449: 173355, 4450: 173535, 4451: 173619, 4452: 173963, 4453: 174551, 4454: 175293, 4455: 175387, 4456: 175397, 4457: 175401, 4458: 175431, 4459: 175435, 4460: 178613, 4461: 179133, 4462: 99636, 4463: 156, 4464: 1684, 4465: 2585, 4466: 3795, 4467: 4024, 4468: 4159, 4469: 4889, 4470: 4976, 4471: 4994, 4472: 5011, 4473: 5034, 4474: 5051, 4475: 5135, 4476: 5303, 4477: 5309, 4478: 5316, 4479: 5391, 4480: 5450, 4481: 5466, 4482: 5881, 4483: 6049, 4484: 283, 4485: 346, 4486: 528, 4487: 7096, 4488: 26171, 4489: 40870, 4490: 1856, 4491: 2447, 4492: 3979, 4493: 4228, 4494: 4247, 4495: 4649, 4496: 4900, 4497: 5025, 4498: 5363, 4499: 5501, 4500: 5524, 4501: 5564, 4502: 5942, 4503: 6003, 4504: 6482, 4505: 7225, 4506: 7285, 4507: 7439, 4508: 8531, 4509: 32298, 4510: 34520, 4511: 34530, 4512: 40581, 4513: 42007, 4514: 44840, 4515: 44972, 4516: 47640, 4517: 48322, 4518: 49396, 4519: 54732, 4520: 55245, 4521: 55261, 4522: 55872, 4523: 56805, 4524: 58156, 4525: 59143, 4526: 61255, 4527: 62439, 4528: 63479, 4529: 65585, 4530: 69436, 4531: 70565, 4532: 70641, 4533: 71205, 4534: 71668, 4535: 71838, 4536: 73929, 4537: 74275, 4538: 74532, 4539: 78174, 4540: 78209, 4541: 79428, 4542: 80139, 4543: 82852, 4544: 85022, 4545: 85367, 4546: 87483, 4547: 87529, 4548: 87867, 4549: 91323, 4550: 92264, 4551: 93270, 4552: 93443, 4553: 93831, 4554: 94478, 4555: 94953, 4556: 95720, 4557: 96616, 4558: 97172, 4559: 98083, 4560: 99007, 4561: 100083, 4562: 100194, 4563: 101142, 4564: 102720, 4565: 104218, 4566: 104644, 4567: 104925, 4568: 109282, 4569: 110669, 4570: 110771, 4571: 110773, 4572: 111375, 4573: 112497, 4574: 116977, 4575: 118930, 4576: 119153, 4577: 121372, 4578: 121374, 4579: 121715, 4580: 123200, 4581: 127116, 4582: 127152, 4583: 127390, 4584: 128097, 4585: 128099, 4586: 128914, 4587: 128975, 4588: 129737, 4589: 130087, 4590: 134861, 4591: 135137, 4592: 135436, 4593: 136443, 4594: 136471, 4595: 136511, 4596: 136598, 4597: 142422, 4598: 144606, 4599: 148652, 4600: 148956, 4601: 155509, 4602: 155812, 4603: 156609, 4604: 157312, 4605: 157699, 4606: 158813, 4607: 159161, 4608: 159441, 4609: 159755, 4610: 160080, 4611: 160271, 4612: 160289, 4613: 161024, 4614: 161580, 4615: 162344, 4616: 162478, 4617: 162602, 4618: 165103, 4619: 165483, 4620: 165645, 4621: 165671, 4622: 165843, 4623: 165947, 4624: 166461, 4625: 167634, 4626: 167746, 4627: 168144, 4628: 168326, 4629: 168418, 4630: 168632, 4631: 168846, 4632: 170357, 4633: 170399, 4634: 170401, 4635: 170813, 4636: 170817, 4637: 170897, 4638: 170937, 4639: 170957, 4640: 171251, 4641: 171631, 4642: 171867, 4643: 171891, 4644: 172215, 4645: 172547, 4646: 173255, 4647: 174045, 4648: 174815, 4649: 175577, 4650: 176329, 4651: 178323, 4652: 179427, 4653: 179953, 4654: 180265, 4655: 181139, 4656: 181659, 4657: 182749, 4658: 183197, 4659: 183227, 4660: 183959, 4661: 184015, 4662: 184257, 4663: 71, 4664: 779, 4665: 1043, 4666: 1589, 4667: 1600, 4668: 1735, 4669: 1829, 4670: 1897, 4671: 2132, 4672: 2166, 4673: 2331, 4674: 2475, 4675: 2749, 4676: 2764, 4677: 2844, 4678: 2969, 4679: 3099, 4680: 3103, 4681: 3217, 4682: 3251, 4683: 3296, 4684: 3537, 4685: 3546, 4686: 3831, 4687: 4003, 4688: 4063, 4689: 4083, 4690: 4130, 4691: 127198, 4692: 141718, 4693: 167732, 4694: 487, 4695: 2772, 4696: 4792, 4697: 62383, 4698: 73, 4699: 656, 4700: 46337, 4701: 66511, 4702: 85020, 4703: 95105, 4704: 99112, 4705: 103984, 4706: 108689, 4707: 109846, 4708: 110718, 4709: 110730, 4710: 112868, 4711: 114184, 4712: 114795, 4713: 117533, 4714: 117887, 4715: 120635, 4716: 127184, 4717: 128488, 4718: 130578, 4719: 131023, 4720: 131714, 4721: 135532, 4722: 136562, 4723: 136666, 4724: 138210, 4725: 141004, 4726: 165551, 4727: 52319, 4728: 70599, 4729: 71530, 4730: 77866, 4731: 95088, 4732: 96737, 4733: 97306, 4734: 112515, 4735: 115122, 4736: 121231, 4737: 144976, 4738: 69306, 4739: 81782, 4740: 112171, 4741: 143458, 4742: 501, 4743: 1844, 4744: 3342, 4745: 4082, 4746: 4738, 4747: 4864, 4748: 5088, 4749: 6902, 4750: 7008, 4751: 7265, 4752: 8254, 4753: 26681, 4754: 27022, 4755: 27482, 4756: 33201, 4757: 40148, 4758: 43836, 4759: 45440, 4760: 50842, 4761: 55278, 4762: 58301, 4763: 63276, 4764: 65130, 4765: 65642, 4766: 67695, 4767: 69516, 4768: 71304, 4769: 71429, 4770: 71520, 4771: 73488, 4772: 75985, 4773: 78218, 4774: 79553, 4775: 84952, 4776: 86721, 4777: 89190, 4778: 90403, 4779: 91470, 4780: 91690, 4781: 91947, 4782: 92694, 4783: 93855, 4784: 94931, 4785: 95690, 4786: 95761, 4787: 98607, 4788: 99437, 4789: 100882, 4790: 101112, 4791: 107630, 4792: 110330, 4793: 110882, 4794: 112623, 4795: 117466, 4796: 122890, 4797: 127096, 4798: 130490, 4799: 131749, 4800: 131920, 4801: 133217, 4802: 133771, 4803: 135567, 4804: 139855, 4805: 141408, 4806: 142420, 4807: 142456, 4808: 142509, 4809: 147142, 4810: 149144, 4811: 149146, 4812: 149830, 4813: 149902, 4814: 151455, 4815: 151695, 4816: 152083, 4817: 152091, 4818: 152284, 4819: 152970, 4820: 155064, 4821: 156371, 4822: 156387, 4823: 158783, 4824: 159415, 4825: 159717, 4826: 160563, 4827: 161634, 4828: 161966, 4829: 162082, 4830: 162578, 4831: 164881, 4832: 167790, 4833: 168266, 4834: 1066, 4835: 5159, 4836: 6093, 4837: 37830, 4838: 5959, 4839: 390, 4840: 567, 4841: 1318, 4842: 1554, 4843: 2729, 4844: 3067, 4845: 4168, 4846: 5284, 4847: 5508, 4848: 5969, 4849: 5970, 4850: 5992, 4851: 6251, 4852: 6291, 4853: 6774, 4854: 7773, 4855: 8973, 4856: 26776, 4857: 27731, 4858: 44694, 4859: 48082, 4860: 393, 4861: 893, 4862: 1422, 4863: 1483, 4864: 2798, 4865: 3102, 4866: 3327, 4867: 3812, 4868: 4037, 4869: 4066, 4870: 4467, 4871: 4553, 4872: 4613, 4873: 4634, 4874: 4812, 4875: 132, 4876: 188, 4877: 1949, 4878: 2330, 4879: 2940, 4880: 3679, 4881: 5177, 4882: 5385, 4883: 6986, 4884: 6987, 4885: 7171, 4886: 7762, 4887: 26084, 4888: 2582, 4889: 2924, 4890: 59103, 4891: 8640, 4892: 373, 4893: 1344, 4894: 1401, 4895: 1465, 4896: 1661, 4897: 1727, 4898: 1950, 4899: 1957, 4900: 2070, 4901: 2077, 4902: 2344, 4903: 2561, 4904: 2590, 4905: 2682, 4906: 2775, 4907: 2819, 4908: 2889, 4909: 2996, 4910: 3011, 4911: 3055, 4912: 3093, 4913: 3117, 4914: 3185, 4915: 3372, 4916: 3557, 4917: 3597, 4918: 3684, 4919: 3737, 4920: 3873, 4921: 3906, 4922: 3983, 4923: 3985, 4924: 3998, 4925: 4031, 4926: 4035, 4927: 4042, 4928: 4056, 4929: 4167, 4930: 4187, 4931: 4225, 4932: 4234, 4933: 4243, 4934: 4259, 4935: 4265, 4936: 4337, 4937: 4339, 4938: 4368, 4939: 4534, 4940: 4535, 4941: 4703, 4942: 4719, 4943: 4727, 4944: 4736, 4945: 4795, 4946: 4799, 4947: 4822, 4948: 4836, 4949: 4857, 4950: 4866, 4951: 4921, 4952: 4991, 4953: 5016, 4954: 5102, 4955: 5107, 4956: 5187, 4957: 5256, 4958: 5282, 4959: 5338, 4960: 5357, 4961: 5358, 4962: 5435, 4963: 5506, 4964: 5563, 4965: 5611, 4966: 5699, 4967: 5873, 4968: 5879, 4969: 5899, 4970: 5947, 4971: 6185, 4972: 6213, 4973: 6246, 4974: 6279, 4975: 6299, 4976: 6386, 4977: 6448, 4978: 6669, 4979: 6808, 4980: 6950, 4981: 7076, 4982: 7161, 4983: 7324, 4984: 8121, 4985: 8199, 4986: 26172, 4987: 26865, 4988: 27821, 4989: 31700, 4990: 32017, 4991: 34334, 4992: 34534, 4993: 37727, 4994: 39307, 4995: 42009, 4996: 42730, 4997: 43917, 4998: 44399, 4999: 47044, 5000: 49524, 5001: 49910, 5002: 6332, 5003: 6619, 5004: 7255, 5005: 7316, 5006: 8827, 5007: 32289, 5008: 36525, 5009: 78316, 5010: 103606, 5011: 27416, 5012: 98243, 5013: 160718, 5014: 1334, 5015: 2038, 5016: 2091, 5017: 9, 5018: 75, 5019: 634, 5020: 813, 5021: 840, 5022: 885, 5023: 1432, 5024: 36535, 5025: 56715, 5026: 64034, 5027: 81456, 5028: 85885, 5029: 100843, 5030: 101973, 5031: 105355, 5032: 112454, 5033: 133780, 5034: 138396, 5035: 152270, 5036: 173145, 5037: 177615, 5038: 179709, 5039: 86644, 5040: 130634, 5041: 1516, 5042: 2879, 5043: 2880, 5044: 3286, 5045: 3287, 5046: 3618, 5047: 425, 5048: 764, 5049: 869, 5050: 1078, 5051: 1162, 5052: 1264, 5053: 1836, 5054: 1948, 5055: 2130, 5056: 2239, 5057: 2247, 5058: 2290, 5059: 2349, 5060: 2361, 5061: 2511, 5062: 2734, 5063: 2750, 5064: 2779, 5065: 2863, 5066: 2946, 5067: 2970, 5068: 3028, 5069: 3076, 5070: 3096, 5071: 3130, 5072: 3134, 5073: 3141, 5074: 3167, 5075: 3200, 5076: 3223, 5077: 3224, 5078: 3283, 5079: 3341, 5080: 3467, 5081: 3473, 5082: 3492, 5083: 3503, 5084: 3506, 5085: 4205, 5086: 4784, 5087: 5637, 5088: 5788, 5089: 5847, 5090: 6509, 5091: 6658, 5092: 6684, 5093: 7089, 5094: 7107, 5095: 8128, 5096: 8571, 5097: 8614, 5098: 26313, 5099: 31038, 5100: 2392, 5101: 27674, 5102: 55391, 5103: 66320, 5104: 242, 5105: 718, 5106: 990, 5107: 1107, 5108: 1163, 5109: 1627, 5110: 1713, 5111: 1969, 5112: 1979, 5113: 2051, 5114: 2126, 5115: 2162, 5116: 2210, 5117: 2252, 5118: 2314, 5119: 2364, 5120: 2367, 5121: 2531, 5122: 2745, 5123: 2748, 5124: 2769, 5125: 2789, 5126: 2818, 5127: 2977, 5128: 2986, 5129: 3357, 5130: 3572, 5131: 3616, 5132: 3649, 5133: 3858, 5134: 3864, 5135: 3877, 5136: 4055, 5137: 4450, 5138: 4735, 5139: 6250, 5140: 6319, 5141: 6322, 5142: 6538, 5143: 5643, 5144: 45732, 5145: 1821, 5146: 1837, 5147: 3404, 5148: 4440, 5149: 5415, 5150: 5485, 5151: 5527, 5152: 5530, 5153: 5993, 5154: 6480, 5155: 4406, 5156: 7333, 5157: 7934, 5158: 26078, 5159: 26131, 5160: 33564, 5161: 2017, 5162: 2084, 5163: 4142, 5164: 4193, 5165: 4373, 5166: 4867, 5167: 4936, 5168: 4951, 5169: 5222, 5170: 5472, 5171: 5941, 5172: 6005, 5173: 6252, 5174: 6324, 5175: 6339, 5176: 6568, 5177: 7045, 5178: 7060, 5179: 7080, 5180: 7614, 5181: 8008, 5182: 1051, 5183: 1454, 5184: 2526, 5185: 5410, 5186: 7259, 5187: 8362, 5188: 8911, 5189: 33880, 5190: 39427, 5191: 43904, 5192: 44613, 5193: 47382, 5194: 1929, 5195: 1931, 5196: 1936, 5197: 1938, 5198: 2013, 5199: 2176, 5200: 2847, 5201: 3364, 5202: 3564, 5203: 3801, 5204: 3909, 5205: 3964, 5206: 4920, 5207: 5264, 5208: 5387, 5209: 6212, 5210: 6412, 5211: 6429, 5212: 6483, 5213: 6624, 5214: 6856, 5215: 7054, 5216: 7065, 5217: 7078, 5218: 7121, 5219: 7164, 5220: 7215, 5221: 7222, 5222: 7243, 5223: 7302, 5224: 7366, 5225: 7369, 5226: 7728, 5227: 8600, 5228: 8609, 5229: 8695, 5230: 8718, 5231: 8860, 5232: 8948, 5233: 9008, 5234: 25746, 5235: 25750, 5236: 25771, 5237: 25797, 5238: 25827, 5239: 25856, 5240: 25906, 5241: 27772, 5242: 31297, 5243: 33499, 5244: 33669, 5245: 34336, 5246: 35957, 5247: 39449, 5248: 40826, 5249: 42011, 5250: 42015, 5251: 43560, 5252: 45081, 5253: 46974, 5254: 48412, 5255: 48593, 5256: 49389, 5257: 51925, 5258: 51939, 5259: 52694, 5260: 56176, 5261: 60161, 5262: 61406, 5263: 63853, 5264: 65261, 5265: 66297, 5266: 67788, 5267: 70159, 5268: 71970, 5269: 72731, 5270: 72733, 5271: 77846, 5272: 78574, 5273: 80126, 5274: 83132, 5275: 86487, 5276: 89804, 5277: 89939, 5278: 90647, 5279: 93008, 5280: 95558, 5281: 98154, 5282: 123545, 5283: 5665, 5284: 6380, 5285: 33903, 5286: 725, 5287: 169, 5288: 453, 5289: 97, 5290: 166, 5291: 600, 5292: 760, 5293: 1437, 5294: 1447, 5295: 1546, 5296: 1598, 5297: 1611, 5298: 1649, 5299: 1695, 5300: 1827, 5301: 1941, 5302: 2022, 5303: 2025, 5304: 2181, 5305: 2295, 5306: 2474, 5307: 2563, 5308: 2607, 5309: 2691, 5310: 2696, 5311: 2765, 5312: 2971, 5313: 2976, 5314: 3003, 5315: 3078, 5316: 3150, 5317: 3158, 5318: 3323, 5319: 3474, 5320: 3521, 5321: 3598, 5322: 3747, 5323: 3761, 5324: 3862, 5325: 3879, 5326: 3888, 5327: 3895, 5328: 3915, 5329: 3925, 5330: 3947, 5331: 3955, 5332: 3992, 5333: 3993, 5334: 4032, 5335: 4052, 5336: 4133, 5337: 4146, 5338: 4152, 5339: 4157, 5340: 4160, 5341: 4178, 5342: 4275, 5343: 4305, 5344: 4307, 5345: 4313, 5346: 4350, 5347: 4389, 5348: 4407, 5349: 4439, 5350: 4452, 5351: 4628, 5352: 4640, 5353: 4642, 5354: 4644, 5355: 4699, 5356: 4723, 5357: 4770, 5358: 4811, 5359: 4815, 5360: 4826, 5361: 4849, 5362: 4879, 5363: 4888, 5364: 4898, 5365: 4911, 5366: 4919, 5367: 4959, 5368: 4978, 5369: 5046, 5370: 5062, 5371: 5083, 5372: 5095, 5373: 5131, 5374: 5155, 5375: 5298, 5376: 5323, 5377: 5325, 5378: 5347, 5379: 5379, 5380: 5421, 5381: 5423, 5382: 5425, 5383: 5427, 5384: 5486, 5385: 5498, 5386: 5522, 5387: 5609, 5388: 5612, 5389: 5615, 5390: 5646, 5391: 5666, 5392: 5668, 5393: 5680, 5394: 5684, 5395: 5772, 5396: 5809, 5397: 5818, 5398: 5999, 5399: 6002, 5400: 6041, 5401: 6062, 5402: 6067, 5403: 6192, 5404: 6215, 5405: 6217, 5406: 6264, 5407: 6285, 5408: 6294, 5409: 6330, 5410: 6334, 5411: 6335, 5412: 6341, 5413: 6551, 5414: 6571, 5415: 6572, 5416: 6588, 5417: 6645, 5418: 6679, 5419: 6688, 5420: 6881, 5421: 6890, 5422: 6932, 5423: 6969, 5424: 6971, 5425: 6978, 5426: 7038, 5427: 7264, 5428: 7299, 5429: 7352, 5430: 7354, 5431: 7449, 5432: 7698, 5433: 8042, 5434: 1582, 5435: 2457, 5436: 2534, 5437: 3573, 5438: 3726, 5439: 68959, 5440: 70533, 5441: 74754, 5442: 84187, 5443: 103210, 5444: 104303, 5445: 106873, 5446: 109578, 5447: 109848, 5448: 117895, 5449: 122906, 5450: 127212, 5451: 148978, 5452: 157369, 5453: 158035, 5454: 161594, 5455: 162968, 5456: 162982, 5457: 164917, 5458: 165635, 5459: 165639, 5460: 166291, 5461: 168090, 5462: 168218, 5463: 170907, 5464: 172705, 5465: 173235, 5466: 174479, 5467: 175475, 5468: 175585, 5469: 177285, 5470: 177939, 5471: 178111, 5472: 178827, 5473: 180297, 5474: 180497, 5475: 180985, 5476: 180987, 5477: 181413, 5478: 183911, 5479: 184641, 5480: 189333, 5481: 191005, 5482: 193565, 5483: 193567, 5484: 193571, 5485: 193573, 5486: 193579, 5487: 193581, 5488: 193583, 5489: 193585, 5490: 193587, 5491: 1685, 5492: 1767, 5493: 2799, 5494: 5804, 5495: 952, 5496: 2035, 5497: 2208, 5498: 2346, 5499: 2527, 5500: 3068, 5501: 3516, 5502: 3711, 5503: 3927, 5504: 4813, 5505: 5039, 5506: 5214, 5507: 5493, 5508: 5497, 5509: 5499, 5510: 5540, 5511: 2557, 5512: 2810, 5513: 3091, 5514: 3627, 5515: 4785, 5516: 5244, 5517: 5570, 5518: 5909, 5519: 6368, 5520: 7044, 5521: 7844, 5522: 7976, 5523: 7981, 5524: 8491, 5525: 8582, 5526: 8607, 5527: 25788, 5528: 25825, 5529: 26122, 5530: 26840, 5531: 27592, 5532: 27850, 5533: 27865, 5534: 27879, 5535: 27912, 5536: 31364, 5537: 32387, 5538: 33138, 5539: 33421, 5540: 33896, 5541: 37240, 5542: 39869, 5543: 46572, 5544: 49263, 5545: 49932, 5546: 1951, 5547: 2436, 5548: 2967, 5549: 3469, 5550: 72, 5551: 99, 5552: 148, 5553: 155, 5554: 178, 5555: 229, 5556: 269, 5557: 496, 5558: 668, 5559: 26116, 5560: 1392, 5561: 1502, 5562: 1755, 5563: 1306, 5564: 2575, 5565: 2744, 5566: 3436, 5567: 3894, 5568: 3932, 5569: 4174, 5570: 4808, 5571: 4932, 5572: 5607, 5573: 698, 5574: 731, 5575: 1055, 5576: 2165, 5577: 2670, 5578: 2674, 5579: 2815, 5580: 3129, 5581: 4608, 5582: 5670, 5583: 8532, 5584: 8833, 5585: 45210, 5586: 56274, 5587: 57243, 5588: 4722, 5589: 5139, 5590: 5610, 5591: 27685, 5592: 34321, 5593: 45106, 5594: 50802, 5595: 62299, 5596: 49, 5597: 461, 5598: 574, 5599: 679, 5600: 1176, 5601: 1312, 5602: 2024, 5603: 2147, 5604: 2983, 5605: 3036, 5606: 3138, 5607: 3194, 5608: 3214, 5609: 3329, 5610: 3402, 5611: 3445, 5612: 3470, 5613: 3528, 5614: 3682, 5615: 3724, 5616: 3725, 5617: 3834, 5618: 5949, 5619: 8815, 5620: 27075, 5621: 27368, 5622: 54372, 5623: 58332, 5624: 59604, 5625: 67295, 5626: 79008, 5627: 81132, 5628: 83601, 5629: 71462, 5630: 179817, 5631: 140956, 5632: 185029, 5633: 4625, 5634: 7810, 5635: 7811, 5636: 7812, 5637: 34397, 5638: 40697, 5639: 51562, 5640: 56915, 5641: 62834, 5642: 62836, 5643: 65651, 5644: 77795, 5645: 100611, 5646: 106642, 5647: 117192, 5648: 117646, 5649: 119167, 5650: 123553, 5651: 128842, 5652: 130444, 5653: 140359, 5654: 146662, 5655: 147372, 5656: 147374, 5657: 147376, 5658: 147378, 5659: 147380, 5660: 147382, 5661: 147384, 5662: 150596, 5663: 159779, 5664: 166203, 5665: 179511, 5666: 180031, 5667: 184053, 5668: 189547, 5669: 87192, 5670: 87234, 5671: 92439, 5672: 106144, 5673: 107314, 5674: 113573, 5675: 161922, 5676: 168366, 5677: 170697, 5678: 174909, 5679: 175197, 5680: 182823, 5681: 183897, 5682: 188751, 5683: 43679, 5684: 57274, 5685: 86142, 5686: 89582, 5687: 83, 5688: 55451, 5689: 927, 5690: 3422, 5691: 3963, 5692: 275, 5693: 429, 5694: 438, 5695: 444, 5696: 504, 5697: 517, 5698: 564, 5699: 692, 5700: 809, 5701: 870, 5702: 1007, 5703: 1085, 5704: 1126, 5705: 1581, 5706: 1599, 5707: 1602, 5708: 1626, 5709: 1671, 5710: 1677, 5711: 1686, 5712: 1731, 5713: 1867, 5714: 1875, 5715: 1937, 5716: 2056, 5717: 2152, 5718: 2350, 5719: 2373, 5720: 2382, 5721: 2473, 5722: 2477, 5723: 2525, 5724: 2535, 5725: 2537, 5726: 2741, 5727: 2786, 5728: 2816, 5729: 3014, 5730: 3132, 5731: 3165, 5732: 3389, 5733: 3392, 5734: 3406, 5735: 3417, 5736: 3431, 5737: 3432, 5738: 3433, 5739: 3434, 5740: 3524, 5741: 3529, 5742: 6425, 5743: 1752, 5744: 2296, 5745: 3054, 5746: 4749, 5747: 5047, 5748: 7319, 5749: 8880, 5750: 31221, 5751: 36708, 5752: 37380, 5753: 41716, 5754: 46335, 5755: 46850, 5756: 54768, 5757: 55020, 5758: 55292, 5759: 56156, 5760: 61246, 5761: 61348, 5762: 1430, 5763: 4219, 5764: 60937, 5765: 62344, 5766: 62437, 5767: 63540, 5768: 64231, 5769: 2469, 5770: 3090, 5771: 3095, 5772: 4338, 5773: 4605, 5774: 5248, 5775: 5382, 5776: 6306, 5777: 6639, 5778: 6724, 5779: 7013, 5780: 7056, 5781: 7072, 5782: 7216, 5783: 7311, 5784: 8044, 5785: 8364, 5786: 9018, 5787: 25773, 5788: 25841, 5789: 26375, 5790: 27768, 5791: 27776, 5792: 27820, 5793: 27882, 5794: 27899, 5795: 30818, 5796: 30846, 5797: 31437, 5798: 31610, 5799: 31692, 5800: 31702, 5801: 32022, 5802: 32584, 5803: 32632, 5804: 32770, 5805: 2205, 5806: 5523, 5807: 5710, 5808: 6290, 5809: 8363, 5810: 26322, 5811: 26732, 5812: 59014, 5813: 62250, 5814: 66744, 5815: 81831, 5816: 91483, 5817: 91628, 5818: 95307, 5819: 95949, 5820: 96448, 5821: 97168, 5822: 97860, 5823: 101531, 5824: 103137, 5825: 2747, 5826: 55854, 5827: 3496, 5828: 1130, 5829: 2327, 5830: 2633, 5831: 3042, 5832: 63, 5833: 1236, 5834: 1655, 5835: 1887, 5836: 2432, 5837: 2514, 5838: 2515, 5839: 2984, 5840: 3688, 5841: 3843, 5842: 4229, 5843: 4233, 5844: 4544, 5845: 4782, 5846: 5456, 5847: 5584, 5848: 6298, 5849: 6523, 5850: 6625, 5851: 6695, 5852: 6938, 5853: 7103, 5854: 7448, 5855: 32666, 5856: 37720, 5857: 45028, 5858: 51088, 5859: 38304, 5860: 85342, 5861: 8626, 5862: 34330, 5863: 52715, 5864: 55241, 5865: 55553, 5866: 4789, 5867: 5458, 5868: 5478, 5869: 5572, 5870: 5573, 5871: 6013, 5872: 6040, 5873: 6057, 5874: 6186, 5875: 6374, 5876: 6615, 5877: 6862, 5878: 6951, 5879: 6959, 5880: 7150, 5881: 7257, 5882: 7258, 5883: 7261, 5884: 7262, 5885: 7376, 5886: 7440, 5887: 8369, 5888: 8530, 5889: 8799, 5890: 8830, 5891: 8835, 5892: 8836, 5893: 8864, 5894: 8912, 5895: 8916, 5896: 8918, 5897: 8939, 5898: 27434, 5899: 27790, 5900: 27816, 5901: 27837, 5902: 27839, 5903: 30883, 5904: 30894, 5905: 31114, 5906: 31223, 5907: 31427, 5908: 31431, 5909: 31445, 5910: 31867, 5911: 32009, 5912: 32011, 5913: 32019, 5914: 32589, 5915: 33148, 5916: 33158, 5917: 33164, 5918: 33639, 5919: 33815, 5920: 34129, 5921: 34271, 5922: 34532, 5923: 36509, 5924: 36533, 5925: 37477, 5926: 37853, 5927: 38798, 5928: 39231, 5929: 39435, 5930: 40851, 5931: 40946, 5932: 41769, 5933: 42728, 5934: 42732, 5935: 43556, 5936: 43871, 5937: 43919, 5938: 43932, 5939: 44397, 5940: 44731, 5941: 45208, 5942: 45442, 5943: 45662, 5944: 48161, 5945: 48596, 5946: 49220, 5947: 49276, 5948: 49284, 5949: 49793, 5950: 50005, 5951: 50158, 5952: 50445, 5953: 50798, 5954: 50923, 5955: 51082, 5956: 51412, 5957: 51698, 5958: 51933, 5959: 51937, 5960: 52283, 5961: 52712, 5962: 53127, 5963: 54256, 5964: 55995, 5965: 57326, 5966: 57526, 5967: 58105, 5968: 58627, 5969: 58876, 5970: 59985, 5971: 61705, 5972: 62081, 5973: 62511, 5974: 66509, 5975: 67186, 5976: 67197, 5977: 70301, 5978: 70334, 5979: 71252, 5980: 71254, 5981: 71823, 5982: 73515, 5983: 78893, 5984: 81512, 5985: 78103, 5986: 118198, 5987: 134214, 5988: 136912, 5989: 162600, 5990: 178061, 5991: 183011, 5992: 42, 5993: 577, 5994: 917, 5995: 1460, 5996: 1495, 5997: 1707, 5998: 1826, 5999: 2050, 6000: 2566, 6001: 3672, 6002: 1998, 6003: 4329, 6004: 4498, 6005: 4803, 6006: 4852, 6007: 4916, 6008: 4917, 6009: 4945, 6010: 4946, 6011: 4947, 6012: 4957, 6013: 81786, 6014: 118700, 6015: 547, 6016: 2919, 6017: 3566, 6018: 3106, 6019: 123, 6020: 757, 6021: 4956, 6022: 5279, 6023: 7486, 6024: 8327, 6025: 27320, 6026: 61026, 6027: 68486, 6028: 80615, 6029: 80969, 6030: 83613, 6031: 90888, 6032: 82169, 6033: 120799, 6034: 151763, 6035: 4470, 6036: 4531, 6037: 5784, 6038: 7016, 6039: 26686, 6040: 27478, 6041: 32213, 6042: 33085, 6043: 38294, 6044: 39400, 6045: 47254, 6046: 47810, 6047: 51037, 6048: 58315, 6049: 65810, 6050: 66171, 6051: 69606, 6052: 70361, 6053: 72605, 6054: 73431, 6055: 75813, 6056: 77667, 6057: 78039, 6058: 78088, 6059: 80862, 6060: 82053, 6061: 84637, 6062: 84942, 6063: 85056, 6064: 85131, 6065: 85510, 6066: 86295, 6067: 86835, 6068: 86960, 6069: 87298, 6070: 88699, 6071: 88954, 6072: 89047, 6073: 89840, 6074: 90057, 6075: 90430, 6076: 90439, 6077: 90531, 6078: 91622, 6079: 91978, 6080: 92008, 6081: 92507, 6082: 93363, 6083: 93512, 6084: 93563, 6085: 93766, 6086: 94266, 6087: 94780, 6088: 95207, 6089: 95309, 6090: 95583, 6091: 95873, 6092: 96411, 6093: 96417, 6094: 98239, 6095: 99750, 6096: 99910, 6097: 100163, 6098: 101025, 6099: 101076, 6100: 101362, 6101: 102033, 6102: 102684, 6103: 103539, 6104: 103624, 6105: 103655, 6106: 104243, 6107: 105351, 6108: 107953, 6109: 108928, 6110: 109042, 6111: 109673, 6112: 110297, 6113: 110350, 6114: 111364, 6115: 112070, 6116: 143365, 6117: 143367, 6118: 146210, 6119: 148888, 6120: 160954, 6121: 169984, 6122: 173941, 6123: 175569, 6124: 184253, 6125: 185435, 6126: 6983, 6127: 142115, 6128: 4217, 6129: 26366, 6130: 26524, 6131: 44633, 6132: 58309, 6133: 5319, 6134: 44929, 6135: 48883, 6136: 1739, 6137: 2907, 6138: 3929, 6139: 4480, 6140: 121171, 6141: 131656, 6142: 140725, 6143: 146024, 6144: 128, 6145: 2348, 6146: 2766, 6147: 2859, 6148: 4529, 6149: 4711, 6150: 5137, 6151: 5820, 6152: 6027, 6153: 6337, 6154: 6370, 6155: 6713, 6156: 7564, 6157: 7815, 6158: 8011, 6159: 8015, 6160: 294, 6161: 988, 6162: 1415, 6163: 7879, 6164: 8535, 6165: 7303, 6166: 388, 6167: 1807, 6168: 2240, 6169: 2377, 6170: 2445, 6171: 3733, 6172: 3807, 6173: 476, 6174: 2812, 6175: 1791, 6176: 1964, 6177: 2178, 6178: 2182, 6179: 2593, 6180: 2630, 6181: 2829, 6182: 619, 6183: 886, 6184: 1255, 6185: 1327, 6186: 1497, 6187: 1503, 6188: 1992, 6189: 1993, 6190: 2170, 6191: 2448, 6192: 2498, 6193: 2517, 6194: 2846, 6195: 2974, 6196: 3235, 6197: 3511, 6198: 3652, 6199: 3676, 6200: 3696, 6201: 3857, 6202: 3908, 6203: 3938, 6204: 4030, 6205: 4143, 6206: 4224, 6207: 4248, 6208: 4533, 6209: 4683, 6210: 4748, 6211: 4771, 6212: 5076, 6213: 5080, 6214: 5127, 6215: 5401, 6216: 5452, 6217: 5556, 6218: 5569, 6219: 5667, 6220: 5833, 6221: 5853, 6222: 6196, 6223: 6220, 6224: 6379, 6225: 6405, 6226: 6559, 6227: 6664, 6228: 6715, 6229: 6794, 6230: 6868, 6231: 6872, 6232: 7024, 6233: 7117, 6234: 7228, 6235: 7236, 6236: 7321, 6237: 7362, 6238: 7368, 6239: 7646, 6240: 7845, 6241: 7846, 6242: 7894, 6243: 8142, 6244: 8225, 6245: 8241, 6246: 8578, 6247: 8831, 6248: 8906, 6249: 8967, 6250: 26242, 6251: 26492, 6252: 26523, 6253: 26629, 6254: 26736, 6255: 26870, 6256: 27311, 6257: 27604, 6258: 27618, 6259: 27822, 6260: 30745, 6261: 31193, 6262: 31909, 6263: 33132, 6264: 33834, 6265: 34323, 6266: 37382, 6267: 37475, 6268: 38992, 6269: 40723, 6270: 42285, 6271: 43549, 6272: 44828, 6273: 45361, 6274: 50147, 6275: 50440, 6276: 50800, 6277: 51091, 6278: 51498, 6279: 53468, 6280: 54648, 6281: 54785, 6282: 56012, 6283: 57536, 6284: 57910, 6285: 58870, 6286: 59727, 6287: 60037, 6288: 60291, 6289: 60522, 6290: 60538, 6291: 60979, 6292: 65126, 6293: 66427, 6294: 66783, 6295: 69251, 6296: 69275, 6297: 70994, 6298: 71211, 6299: 71379, 6300: 71500, 6301: 74075, 6302: 74685, 6303: 74851, 6304: 77364, 6305: 78041, 6306: 79274, 6307: 80846, 6308: 298, 6309: 556, 6310: 1123, 6311: 1406, 6312: 1533, 6313: 1571, 6314: 1574, 6315: 1594, 6316: 1904, 6317: 2069, 6318: 2073, 6319: 2212, 6320: 2323, 6321: 2624, 6322: 2824, 6323: 2937, 6324: 2964, 6325: 3038, 6326: 3046, 6327: 3192, 6328: 3302, 6329: 3384, 6330: 3480, 6331: 3728, 6332: 3794, 6333: 3914, 6334: 4061, 6335: 4116, 6336: 4285, 6337: 4334, 6338: 4345, 6339: 4384, 6340: 4809, 6341: 5147, 6342: 5241, 6343: 5258, 6344: 5272, 6345: 5603, 6346: 5723, 6347: 5745, 6348: 5884, 6349: 5938, 6350: 6122, 6351: 6254, 6352: 1167, 6353: 107069, 6354: 60293, 6355: 70984, 6356: 71619, 6357: 73266, 6358: 86817, 6359: 91079, 6360: 4091, 6361: 113207, 6362: 6086, 6363: 5876, 6364: 963, 6365: 1008, 6366: 1128, 6367: 1389, 6368: 1660, 6369: 1983, 6370: 1984, 6371: 1995, 6372: 2043, 6373: 2055, 6374: 2057, 6375: 2095, 6376: 2098, 6377: 2120, 6378: 2163, 6379: 2241, 6380: 2259, 6381: 2286, 6382: 2347, 6383: 2365, 6384: 2400, 6385: 2460, 6386: 2462, 6387: 2852, 6388: 2866, 6389: 2902, 6390: 2903, 6391: 3015, 6392: 3161, 6393: 3313, 6394: 3331, 6395: 3345, 6396: 3368, 6397: 3525, 6398: 3689, 6399: 3767, 6400: 3771, 6401: 3806, 6402: 3833, 6403: 3846, 6404: 3926, 6405: 3928, 6406: 3930, 6407: 3957, 6408: 3971, 6409: 3974, 6410: 4000, 6411: 4009, 6412: 4010, 6413: 4043, 6414: 4110, 6415: 4412, 6416: 4443, 6417: 4459, 6418: 4473, 6419: 4492, 6420: 4506, 6421: 4522, 6422: 4709, 6423: 4953, 6424: 4966, 6425: 5428, 6426: 5462, 6427: 5543, 6428: 5544, 6429: 5638, 6430: 7619, 6431: 8959, 6432: 31923, 6433: 34528, 6434: 37736, 6435: 42418, 6436: 43460, 6437: 43869, 6438: 46967, 6439: 47261, 6440: 47950, 6441: 48416, 6442: 60760, 6443: 6125, 6444: 6453, 6445: 26704, 6446: 129, 6447: 341, 6448: 1699, 6449: 2066, 6450: 2439, 6451: 2494, 6452: 2549, 6453: 2660, 6454: 2932, 6455: 2988, 6456: 3007, 6457: 3559, 6458: 3634, 6459: 3713, 6460: 3738, 6461: 3849, 6462: 102007, 6463: 2828, 6464: 3086, 6465: 3871, 6466: 4830, 6467: 7720, 6468: 8383, 6469: 33677, 6470: 68597, 6471: 80839, 6472: 87522, 6473: 92192, 6474: 96121, 6475: 97470, 6476: 113345, 6477: 115231, 6478: 127323, 6479: 129937, 6480: 130576, 6481: 165549, 6482: 278, 6483: 470, 6484: 499, 6485: 998, 6486: 1440, 6487: 2149, 6488: 2736, 6489: 3043, 6490: 3412, 6491: 3544, 6492: 3667, 6493: 3710, 6494: 160848, 6495: 169034, 6496: 171765, 6497: 1439, 6498: 1526, 6499: 1746, 6500: 4733, 6501: 4757, 6502: 4845, 6503: 5128, 6504: 6554, 6505: 6811, 6506: 7460, 6507: 7926, 6508: 26887, 6509: 34523, 6510: 36537, 6511: 50610, 6512: 54745, 6513: 54934, 6514: 58655, 6515: 58806, 6516: 61729, 6517: 62113, 6518: 67799, 6519: 68600, 6520: 70663, 6521: 71248, 6522: 72405, 6523: 74452, 6524: 74916, 6525: 76060, 6526: 84615, 6527: 90376, 6528: 91128, 6529: 103048, 6530: 109895, 6531: 112370, 6532: 112911, 6533: 116138, 6534: 127108, 6535: 134528, 6536: 134783, 6537: 134808, 6538: 136449, 6539: 138798, 6540: 8261, 6541: 944, 6542: 6818, 6543: 26249, 6544: 49347, 6545: 60516, 6546: 64499, 6547: 64501, 6548: 72294, 6549: 74624, 6550: 74868, 6551: 79251, 6552: 80590, 6553: 85788, 6554: 89118, 6555: 91842, 6556: 94018, 6557: 105197, 6558: 105585, 6559: 106441, 6560: 106785, 6561: 109850, 6562: 112818, 6563: 112897, 6564: 114246, 6565: 118706, 6566: 131796, 6567: 132796, 6568: 140627, 6569: 145418, 6570: 148671, 6571: 158027, 6572: 160400, 6573: 163985, 6574: 177763, 6575: 185585, 6576: 92391, 6577: 104908, 6578: 105731, 6579: 115664, 6580: 122884, 6581: 140016, 6582: 149334, 6583: 156726, 6584: 158528, 6585: 159858, 6586: 175199, 6587: 183295, 6588: 409, 6589: 1323, 6590: 1325, 6591: 1328, 6592: 1490, 6593: 2154, 6594: 2190, 6595: 2332, 6596: 2506, 6597: 2516, 6598: 2559, 6599: 2639, 6600: 2787, 6601: 2962, 6602: 3051, 6603: 3145, 6604: 3280, 6605: 3423, 6606: 3478, 6607: 3830, 6608: 3943, 6609: 4127, 6610: 4181, 6611: 4371, 6612: 4403, 6613: 4520, 6614: 4584, 6615: 4602, 6616: 4619, 6617: 4662, 6618: 4673, 6619: 4697, 6620: 4750, 6621: 4835, 6622: 4862, 6623: 4885, 6624: 4893, 6625: 4915, 6626: 5099, 6627: 5170, 6628: 5255, 6629: 5361, 6630: 5443, 6631: 5454, 6632: 5538, 6633: 5539, 6634: 5590, 6635: 5664, 6636: 5696, 6637: 5735, 6638: 5736, 6639: 5883, 6640: 5927, 6641: 6153, 6642: 6265, 6643: 6316, 6644: 6558, 6645: 6705, 6646: 6827, 6647: 6850, 6648: 6999, 6649: 7026, 6650: 7030, 6651: 7282, 6652: 7636, 6653: 7708, 6654: 7781, 6655: 8169, 6656: 8402, 6657: 8506, 6658: 9005, 6659: 26133, 6660: 26792, 6661: 27555, 6662: 27838, 6663: 30848, 6664: 31422, 6665: 31424, 6666: 33171, 6667: 33681, 6668: 34143, 6669: 34326, 6670: 37857, 6671: 39234, 6672: 48142, 6673: 48518, 6674: 48678, 6675: 49314, 6676: 52375, 6677: 52867, 6678: 53956, 6679: 53974, 6680: 55272, 6681: 55729, 6682: 56003, 6683: 58287, 6684: 65601, 6685: 65738, 6686: 65740, 6687: 65882, 6688: 973, 6689: 1946, 6690: 3171, 6691: 3872, 6692: 4432, 6693: 5398, 6694: 6452, 6695: 6706, 6696: 7218, 6697: 7943, 6698: 25886, 6699: 3330, 6700: 4483, 6701: 6410, 6702: 7184, 6703: 7305, 6704: 40, 6705: 6561, 6706: 680, 6707: 3732, 6708: 4117, 6709: 4754, 6710: 5433, 6711: 5925, 6712: 2275, 6713: 3889, 6714: 4180, 6715: 4210, 6716: 618, 6717: 703, 6718: 2896, 6719: 74545, 6720: 81158, 6721: 82667, 6722: 104272, 6723: 110387, 6724: 121253, 6725: 133115, 6726: 773, 6727: 823, 6728: 1419, 6729: 3569, 6730: 3736, 6731: 3845, 6732: 4256, 6733: 4612, 6734: 4708, 6735: 4825, 6736: 5202, 6737: 5238, 6738: 5475, 6739: 5838, 6740: 6197, 6741: 6241, 6742: 6329, 6743: 7071, 6744: 7124, 6745: 7238, 6746: 7459, 6747: 7979, 6748: 8190, 6749: 8484, 6750: 8724, 6751: 8748, 6752: 26003, 6753: 26048, 6754: 26059, 6755: 26073, 6756: 26158, 6757: 26225, 6758: 26317, 6759: 26713, 6760: 26928, 6761: 27003, 6762: 27176, 6763: 27186, 6764: 27328, 6765: 31545, 6766: 31952, 6767: 32511, 6768: 32554, 6769: 32906, 6770: 32917, 6771: 40955, 6772: 42176, 6773: 44931, 6774: 47446, 6775: 48001, 6776: 48638, 6777: 49917, 6778: 51174, 6779: 53574, 6780: 53883, 6781: 54185, 6782: 54354, 6783: 57772, 6784: 58376, 6785: 60408, 6786: 60885, 6787: 61394, 6788: 62208, 6789: 64167, 6790: 65037, 6791: 65225, 6792: 65631, 6793: 67508, 6794: 68444, 6795: 69746, 6796: 69953, 6797: 71131, 6798: 71147, 6799: 71453, 6800: 71468, 6801: 71494, 6802: 71867, 6803: 72171, 6804: 72714, 6805: 72921, 6806: 74089, 6807: 74226, 6808: 74791, 6809: 76054, 6810: 76173, 6811: 76738, 6812: 77191, 6813: 77233, 6814: 78836, 6815: 79073, 6816: 80478, 6817: 80553, 6818: 81191, 6819: 83827, 6820: 83976, 6821: 84273, 6822: 84716, 6823: 85213, 6824: 86237, 6825: 86279, 6826: 86922, 6827: 87304, 6828: 87444, 6829: 87660, 6830: 89030, 6831: 89945, 6832: 90245, 6833: 90357, 6834: 90528, 6835: 90630, 6836: 90769, 6837: 91784, 6838: 91860, 6839: 92422, 6840: 92637, 6841: 94735, 6842: 96084, 6843: 97904, 6844: 100044, 6845: 100106, 6846: 100277, 6847: 101741, 6848: 102742, 6849: 102823, 6850: 105254, 6851: 106648, 6852: 109187, 6853: 109383, 6854: 109968, 6855: 111817, 6856: 113348, 6857: 114847, 6858: 116505, 6859: 117364, 6860: 117531, 6861: 117545, 6862: 117849, 6863: 118784, 6864: 118880, 6865: 120761, 6866: 121169, 6867: 124853, 6868: 127114, 6869: 127172, 6870: 127180, 6871: 127204, 6872: 127298, 6873: 128900, 6874: 128902, 6875: 128991, 6876: 133802, 6877: 134019, 6878: 134796, 6879: 136024, 6880: 138966, 6881: 140162, 6882: 140737, 6883: 140816, 6884: 143525, 6885: 143896, 6886: 144478, 6887: 145080, 6888: 147002, 6889: 148424, 6890: 150696, 6891: 152065, 6892: 155774, 6893: 158842, 6894: 159976, 6895: 160684, 6896: 168612, 6897: 170355, 6898: 171495, 6899: 173197, 6900: 173291, 6901: 173317, 6902: 179135, 6903: 184245, 6904: 188675, 6905: 188833, 6906: 189381, 6907: 26555, 6908: 2882, 6909: 110127, 6910: 111443, 6911: 3884, 6912: 3899, 6913: 3912, 6914: 30, 6915: 80, 6916: 183, 6917: 2425, 6918: 2848, 6919: 2894, 6920: 4086, 6921: 4263, 6922: 4294, 6923: 4471, 6924: 4500, 6925: 4523, 6926: 4714, 6927: 4717, 6928: 4927, 6929: 5033, 6930: 5075, 6931: 5980, 6932: 27866, 6933: 70451, 6934: 73344, 6935: 81257, 6936: 84240, 6937: 102194, 6938: 165101, 6939: 130482, 6940: 136850, 6941: 26528, 6942: 193609, 6943: 3420, 6944: 5226, 6945: 7925, 6946: 26564, 6947: 80917, 6948: 92938, 6949: 93610, 6950: 97757, 6951: 3567, 6952: 3580, 6953: 30850, 6954: 47404, 6955: 59118, 6956: 189043, 6957: 189111, 6958: 190207, 6959: 190209, 6960: 190213, 6961: 190215, 6962: 190219, 6963: 190221, 6964: 6869, 6965: 56869, 6966: 58842, 6967: 77177, 6968: 82378, 6969: 90345, 6970: 92243, 6971: 109687, 6972: 115969, 6973: 141749, 6974: 141890, 6975: 156783, 6976: 166946, 6977: 176751, 6978: 94405, 6979: 2188, 6980: 2370, 6981: 2676, 6982: 2975, 6983: 4195, 6984: 4419, 6985: 5404, 6986: 5707, 6987: 27751, 6988: 38164, 6989: 521, 6990: 1572, 6991: 2442, 6992: 4297, 6993: 4404, 6994: 4422, 6995: 5951, 6996: 6023, 6997: 6286, 6998: 6530, 6999: 7084, 7000: 7115, 7001: 7178, 7002: 7179, 7003: 7820, 7004: 7937, 7005: 7940, 7006: 8405, 7007: 32179, 7008: 6223, 7009: 6263, 7010: 40412, 7011: 52579, 7012: 54787, 7013: 55555, 7014: 57843, 7015: 60857, 7016: 60894, 7017: 88179, 7018: 88272, 7019: 88932, 7020: 89028, 7021: 89761, 7022: 90353, 7023: 90471, 7024: 92048, 7025: 5074, 7026: 7122, 7027: 34164, 7028: 44889, 7029: 48744, 7030: 58492, 7031: 59141, 7032: 1996, 7033: 4354, 7034: 4622, 7035: 6612, 7036: 8580, 7037: 8998, 7038: 27329, 7039: 53024, 7040: 59810, 7041: 73854, 7042: 74282, 7043: 93040, 7044: 96563, 7045: 2226, 7046: 26095, 7047: 65350, 7048: 70687, 7049: 85334, 7050: 87028, 7051: 89386, 7052: 26472, 7053: 1647, 7054: 161127, 7055: 176389, 7056: 176579, 7057: 96964, 7058: 101415, 7059: 106062, 7060: 107997, 7061: 109569, 7062: 113604, 7063: 114494, 7064: 132888, 7065: 145935, 7066: 148172, 7067: 155288, 7068: 155820, 7069: 1565, 7070: 2695, 7071: 3299, 7072: 3453, 7073: 4053, 7074: 4078, 7075: 4505, 7076: 4517, 7077: 2307, 7078: 2399, 7079: 3127, 7080: 3162, 7081: 3545, 7082: 3716, 7083: 3731, 7084: 3758, 7085: 3922, 7086: 33312, 7087: 55167, 7088: 112512, 7089: 335, 7090: 882, 7091: 1351, 7092: 1352, 7093: 1601, 7094: 3648, 7095: 4434, 7096: 4942, 7097: 5113, 7098: 5288, 7099: 5468, 7100: 5706, 7101: 5979, 7102: 6021, 7103: 6654, 7104: 6656, 7105: 6836, 7106: 6899, 7107: 7104, 7108: 7304, 7109: 7756, 7110: 7834, 7111: 8138, 7112: 8610, 7113: 25959, 7114: 27692, 7115: 32139, 7116: 42556, 7117: 56837, 7118: 71302, 7119: 71999, 7120: 80748, 7121: 84799, 7122: 87287, 7123: 92760, 7124: 94262, 7125: 152, 7126: 2656, 7127: 4444, 7128: 4814, 7129: 5134, 7130: 5476, 7131: 6889, 7132: 7310, 7133: 8526, 7134: 26585, 7135: 26999, 7136: 27584, 7137: 27683, 7138: 27802, 7139: 31698, 7140: 31804, 7141: 32456, 7142: 32743, 7143: 33644, 7144: 40614, 7145: 40617, 7146: 44020, 7147: 47124, 7148: 51927, 7149: 52950, 7150: 58404, 7151: 60818, 7152: 63222, 7153: 64249, 7154: 65133, 7155: 68194, 7156: 71129, 7157: 72601, 7158: 74750, 7159: 77798, 7160: 82744, 7161: 84414, 7162: 88515, 7163: 90603, 7164: 94160, 7165: 94985, 7166: 95004, 7167: 95147, 7168: 95149, 7169: 95182, 7170: 95473, 7171: 95475, 7172: 95497, 7173: 96007, 7174: 96815, 7175: 97643, 7176: 97785, 7177: 101739, 7178: 102058, 7179: 102084, 7180: 103233, 7181: 103449, 7182: 104141, 7183: 104419, 7184: 104457, 7185: 107723, 7186: 108795, 7187: 113278, 7188: 134524, 7189: 137863, 7190: 152173, 7191: 161354, 7192: 162598, 7193: 163056, 7194: 166558, 7195: 169982, 7196: 172497, 7197: 172875, 7198: 172881, 7199: 172887, 7200: 176935, 7201: 179119, 7202: 182639, 7203: 31435, 7204: 43376, 7205: 45074, 7206: 53326, 7207: 55259, 7208: 63808, 7209: 1003, 7210: 4580, 7211: 4632, 7212: 8387, 7213: 26764, 7214: 26765, 7215: 46865, 7216: 47952, 7217: 48598, 7218: 49647, 7219: 50003, 7220: 52279, 7221: 65685, 7222: 72696, 7223: 88356, 7224: 91660, 7225: 93139, 7226: 95796, 7227: 100737, 7228: 104074, 7229: 104076, 7230: 112460, 7231: 114713, 7232: 116887, 7233: 122902, 7234: 126482, 7235: 130686, 7236: 131934, 7237: 142372, 7238: 152079, 7239: 158254, 7240: 170289, 7241: 2546, 7242: 2669, 7243: 2856, 7244: 4276, 7245: 4323, 7246: 4355, 7247: 206, 7248: 363, 7249: 841, 7250: 1161, 7251: 1329, 7252: 1662, 7253: 1770, 7254: 1977, 7255: 2071, 7256: 2074, 7257: 2303, 7258: 2488, 7259: 2632, 7260: 3455, 7261: 3587, 7262: 3680, 7263: 3765, 7264: 3813, 7265: 3838, 7266: 3865, 7267: 3919, 7268: 4064, 7269: 4065, 7270: 4191, 7271: 4278, 7272: 4289, 7273: 4298, 7274: 4390, 7275: 4392, 7276: 4393, 7277: 4408, 7278: 4409, 7279: 4426, 7280: 4429, 7281: 4441, 7282: 4527, 7283: 4552, 7284: 4563, 7285: 4614, 7286: 4687, 7287: 4833, 7288: 4985, 7289: 4988, 7290: 5121, 7291: 5156, 7292: 5397, 7293: 5465, 7294: 5489, 7295: 5515, 7296: 5531, 7297: 5780, 7298: 5974, 7299: 5984, 7300: 6035, 7301: 6063, 7302: 6100, 7303: 6123, 7304: 6184, 7305: 6465, 7306: 6533, 7307: 6577, 7308: 6710, 7309: 6748, 7310: 6885, 7311: 6918, 7312: 6981, 7313: 7088, 7314: 7091, 7315: 7102, 7316: 7116, 7317: 7205, 7318: 7301, 7319: 7328, 7320: 7336, 7321: 7386, 7322: 7394, 7323: 7450, 7324: 7581, 7325: 7616, 7326: 7745, 7327: 7749, 7328: 7895, 7329: 7936, 7330: 7938, 7331: 7939, 7332: 7951, 7333: 7987, 7334: 7993, 7335: 8188, 7336: 8195, 7337: 8196, 7338: 8239, 7339: 8270, 7340: 8290, 7341: 8512, 7342: 8542, 7343: 8596, 7344: 8670, 7345: 25898, 7346: 25963, 7347: 26002, 7348: 26052, 7349: 26124, 7350: 26151, 7351: 26231, 7352: 26303, 7353: 26694, 7354: 31590, 7355: 31737, 7356: 32314, 7357: 32392, 7358: 33188, 7359: 40966, 7360: 41617, 7361: 44657, 7362: 44759, 7363: 44864, 7364: 46772, 7365: 47465, 7366: 52462, 7367: 52644, 7368: 6158, 7369: 63239, 7370: 104245, 7371: 6344, 7372: 7208, 7373: 27695, 7374: 44943, 7375: 59995, 7376: 695, 7377: 1150, 7378: 1900, 7379: 2708, 7380: 4237, 7381: 4562, 7382: 4965, 7383: 5470, 7384: 5477, 7385: 5537, 7386: 5575, 7387: 130842, 7388: 1701, 7389: 6408, 7390: 8738, 7391: 26147, 7392: 26631, 7393: 60333, 7394: 42734, 7395: 170939, 7396: 61465, 7397: 61697, 7398: 7134, 7399: 26810, 7400: 27664, 7401: 59814, 7402: 70708, 7403: 77266, 7404: 6776, 7405: 70305, 7406: 85412, 7407: 87785, 7408: 103596, 7409: 136540, 7410: 3590, 7411: 3760, 7412: 389, 7413: 549, 7414: 670, 7415: 824, 7416: 3823, 7417: 3855, 7418: 4077, 7419: 4175, 7420: 4268, 7421: 119, 7422: 386, 7423: 650, 7424: 1040, 7425: 1121, 7426: 1332, 7427: 1484, 7428: 1605, 7429: 1609, 7430: 1656, 7431: 1870, 7432: 1922, 7433: 2007, 7434: 2119, 7435: 2172, 7436: 2260, 7437: 2264, 7438: 2271, 7439: 2472, 7440: 2482, 7441: 2552, 7442: 2570, 7443: 2751, 7444: 2835, 7445: 2884, 7446: 2891, 7447: 2893, 7448: 2928, 7449: 2979, 7450: 3008, 7451: 3111, 7452: 3206, 7453: 3378, 7454: 3391, 7455: 3539, 7456: 3581, 7457: 3625, 7458: 3790, 7459: 3847, 7460: 3898, 7461: 3900, 7462: 3951, 7463: 3953, 7464: 4012, 7465: 4081, 7466: 4089, 7467: 4115, 7468: 4123, 7469: 4125, 7470: 4138, 7471: 4139, 7472: 4147, 7473: 4221, 7474: 4242, 7475: 4290, 7476: 4312, 7477: 4353, 7478: 4451, 7479: 4458, 7480: 4462, 7481: 4463, 7482: 4475, 7483: 4478, 7484: 4488, 7485: 4524, 7486: 4573, 7487: 4583, 7488: 4595, 7489: 4600, 7490: 4610, 7491: 4617, 7492: 4636, 7493: 4666, 7494: 4672, 7495: 4675, 7496: 4721, 7497: 4745, 7498: 4777, 7499: 4780, 7500: 4818, 7501: 4847, 7502: 4926, 7503: 4961, 7504: 4962, 7505: 5068, 7506: 5071, 7507: 5073, 7508: 5081, 7509: 5112, 7510: 5178, 7511: 5209, 7512: 5237, 7513: 5240, 7514: 5278, 7515: 5285, 7516: 5297, 7517: 5321, 7518: 5322, 7519: 5324, 7520: 5328, 7521: 5337, 7522: 5345, 7523: 5390, 7524: 5416, 7525: 5422, 7526: 5424, 7527: 5437, 7528: 5461, 7529: 5471, 7530: 5483, 7531: 5521, 7532: 5562, 7533: 5625, 7534: 5633, 7535: 5635, 7536: 5636, 7537: 5663, 7538: 5678, 7539: 5685, 7540: 5688, 7541: 5817, 7542: 5829, 7543: 5880, 7544: 5896, 7545: 5968, 7546: 5994, 7547: 6033, 7548: 6036, 7549: 6039, 7550: 6078, 7551: 6116, 7552: 6141, 7553: 6159, 7554: 6162, 7555: 6195, 7556: 6216, 7557: 6222, 7558: 6268, 7559: 6269, 7560: 6280, 7561: 6295, 7562: 6308, 7563: 6314, 7564: 6315, 7565: 6349, 7566: 6442, 7567: 6493, 7568: 6510, 7569: 6517, 7570: 6542, 7571: 6547, 7572: 6549, 7573: 6560, 7574: 6563, 7575: 6574, 7576: 6582, 7577: 6598, 7578: 6616, 7579: 6628, 7580: 6631, 7581: 6670, 7582: 6689, 7583: 6696, 7584: 6699, 7585: 6718, 7586: 6720, 7587: 6780, 7588: 6797, 7589: 6809, 7590: 6810, 7591: 6812, 7592: 6816, 7593: 6851, 7594: 6883, 7595: 6898, 7596: 6954, 7597: 7033, 7598: 7165, 7599: 7175, 7600: 7176, 7601: 7193, 7602: 7248, 7603: 7251, 7604: 7315, 7605: 7340, 7606: 7348, 7607: 7364, 7608: 7390, 7609: 8119, 7610: 8587, 7611: 8915, 7612: 8919, 7613: 8952, 7614: 8954, 7615: 25834, 7616: 30820, 7617: 31162, 7618: 32116, 7619: 33725, 7620: 33826, 7621: 33838, 7622: 34540, 7623: 41527, 7624: 42602, 7625: 43912, 7626: 45062, 7627: 45635, 7628: 46347, 7629: 46559, 7630: 48319, 7631: 48560, 7632: 49132, 7633: 49280, 7634: 49957, 7635: 50792, 7636: 51694, 7637: 52299, 7638: 52668, 7639: 52724, 7640: 52784, 7641: 53447, 7642: 54771, 7643: 55110, 7644: 55250, 7645: 56908, 7646: 58879, 7647: 59037, 7648: 60128, 7649: 60141, 7650: 61401, 7651: 70862, 7652: 76763, 7653: 95135, 7654: 112940, 7655: 115828, 7656: 127130, 7657: 154358, 7658: 166024, 7659: 166568, 7660: 167570, 7661: 169992, 7662: 173205, 7663: 173209, 7664: 176423, 7665: 180045, 7666: 90374, 7667: 1412, 7668: 2807, 7669: 4093, 7670: 27704, 7671: 50851, 7672: 69860, 7673: 79677, 7674: 85394, 7675: 86668, 7676: 89580, 7677: 90943, 7678: 97866, 7679: 6210, 7680: 8337, 7681: 8577, 7682: 26693, 7683: 59295, 7684: 2665, 7685: 3447, 7686: 3973, 7687: 4190, 7688: 4802, 7689: 4925, 7690: 4939, 7691: 5063, 7692: 136469, 7693: 91325, 7694: 6055, 7695: 6347, 7696: 6348, 7697: 6597, 7698: 5532, 7699: 7306, 7700: 8588, 7701: 27708, 7702: 33893, 7703: 45503, 7704: 66090, 7705: 68347, 7706: 71902, 7707: 80880, 7708: 89208, 7709: 92348, 7710: 568, 7711: 1675, 7712: 2540, 7713: 4453, 7714: 4743, 7715: 5409, 7716: 5580, 7717: 5675, 7718: 5787, 7719: 6992, 7720: 7017, 7721: 7192, 7722: 8782, 7723: 30898, 7724: 36276, 7725: 43708, 7726: 8690, 7727: 4402, 7728: 96430, 7729: 941, 7730: 1839, 7731: 2368, 7732: 2520, 7733: 2521, 7734: 2523, 7735: 2693, 7736: 2887, 7737: 3057, 7738: 3276, 7739: 3284, 7740: 3390, 7741: 3596, 7742: 3933, 7743: 4051, 7744: 4156, 7745: 4198, 7746: 4212, 7747: 4397, 7748: 4526, 7749: 4630, 7750: 4660, 7751: 4756, 7752: 4775, 7753: 4952, 7754: 4981, 7755: 5250, 7756: 5334, 7757: 5356, 7758: 5490, 7759: 5700, 7760: 5752, 7761: 5779, 7762: 5915, 7763: 6302, 7764: 6424, 7765: 6427, 7766: 6476, 7767: 6514, 7768: 6760, 7769: 6798, 7770: 6814, 7771: 7101, 7772: 7245, 7773: 7372, 7774: 8136, 7775: 8137, 7776: 8447, 7777: 8743, 7778: 26152, 7779: 26386, 7780: 26464, 7781: 26700, 7782: 31000, 7783: 32291, 7784: 34018, 7785: 37211, 7786: 43558, 7787: 48262, 7788: 49688, 7789: 50064, 7790: 53453, 7791: 53808, 7792: 55294, 7793: 58351, 7794: 61123, 7795: 61289, 7796: 63393, 7797: 65135, 7798: 66785, 7799: 67361, 7800: 69118, 7801: 69453, 7802: 69604, 7803: 70545, 7804: 71466, 7805: 71732, 7806: 72224, 7807: 72694, 7808: 73386, 7809: 75803, 7810: 75816, 7811: 77421, 7812: 78034, 7813: 78116, 7814: 79259, 7815: 79590, 7816: 79879, 7817: 79946, 7818: 80241, 7819: 80864, 7820: 81949, 7821: 82093, 7822: 82095, 7823: 82527, 7824: 83374, 7825: 84696, 7826: 84950, 7827: 85025, 7828: 85399, 7829: 86028, 7830: 86593, 7831: 87876, 7832: 88672, 7833: 89305, 7834: 89343, 7835: 89388, 7836: 89427, 7837: 90343, 7838: 90719, 7839: 90738, 7840: 91273, 7841: 91688, 7842: 91873, 7843: 91935, 7844: 92198, 7845: 92665, 7846: 93242, 7847: 93980, 7848: 93982, 7849: 94011, 7850: 94323, 7851: 94494, 7852: 94896, 7853: 94919, 7854: 95201, 7855: 95508, 7856: 95744, 7857: 96114, 7858: 96281, 7859: 96530, 7860: 96726, 7861: 97328, 7862: 97742, 7863: 97858, 7864: 97870, 7865: 97936, 7866: 98160, 7867: 98175, 7868: 98230, 7869: 98296, 7870: 98836, 7871: 98908, 7872: 99005, 7873: 99415, 7874: 99574, 7875: 99846, 7876: 99992, 7877: 100226, 7878: 100304, 7879: 100326, 7880: 100487, 7881: 101360, 7882: 101529, 7883: 101577, 7884: 101884, 7885: 101895, 7886: 102025, 7887: 102165, 7888: 102278, 7889: 102819, 7890: 102880, 7891: 103221, 7892: 103502, 7893: 103543, 7894: 103755, 7895: 103865, 7896: 104078, 7897: 104129, 7898: 104760, 7899: 104906, 7900: 105121, 7901: 105755, 7902: 106330, 7903: 106438, 7904: 106542, 7905: 106883, 7906: 107702, 7907: 107945, 7908: 107962, 7909: 108188, 7910: 108601, 7911: 108715, 7912: 109183, 7913: 109191, 7914: 109295, 7915: 109317, 7916: 109372, 7917: 109416, 7918: 110611, 7919: 110655, 7920: 110826, 7921: 111663, 7922: 111680, 7923: 111795, 7924: 112303, 7925: 112749, 7926: 113186, 7927: 113225, 7928: 113350, 7929: 113416, 7930: 113532, 7931: 114028, 7932: 114601, 7933: 114925, 7934: 115151, 7935: 115170, 7936: 115216, 7937: 116207, 7938: 116413, 7939: 116419, 7940: 116849, 7941: 116985, 7942: 117107, 7943: 117511, 7944: 118248, 7945: 118326, 7946: 118354, 7947: 118512, 7948: 118702, 7949: 118814, 7950: 118924, 7951: 118997, 7952: 119068, 7953: 119655, 7954: 120637, 7955: 120783, 7956: 122490, 7957: 122932, 7958: 124859, 7959: 125221, 7960: 126420, 7961: 127132, 7962: 127136, 7963: 127194, 7964: 127319, 7965: 128592, 7966: 129250, 7967: 129333, 7968: 129657, 7969: 129659, 7970: 130083, 7971: 131480, 7972: 132333, 7973: 132462, 7974: 132488, 7975: 132618, 7976: 133195, 7977: 133281, 7978: 133365, 7979: 133377, 7980: 133545, 7981: 133782, 7982: 133798, 7983: 134021, 7984: 134158, 7985: 134859, 7986: 136654, 7987: 136664, 7988: 136778, 7989: 136786, 7990: 136800, 7991: 136816, 7992: 136859, 7993: 137517, 7994: 138546, 7995: 139052, 7996: 139415, 7997: 139857, 7998: 140237, 7999: 140525, 8000: 140850, 8001: 141422, 8002: 142424, 8003: 143001, 8004: 143255, 8005: 143257, 8006: 143410, 8007: 143472, 8008: 144262, 8009: 144620, 8010: 144714, 8011: 144716, 8012: 145150, 8013: 146688, 8014: 146730, 8015: 148482, 8016: 148592, 8017: 148709, 8018: 149590, 8019: 149612, 8020: 150401, 8021: 150604, 8022: 151315, 8023: 151317, 8024: 151501, 8025: 151559, 8026: 151653, 8027: 151745, 8028: 151777, 8029: 152085, 8030: 152105, 8031: 152658, 8032: 154065, 8033: 155358, 8034: 155659, 8035: 155743, 8036: 155892, 8037: 156553, 8038: 156706, 8039: 157122, 8040: 157130, 8041: 157172, 8042: 157200, 8043: 157270, 8044: 157340, 8045: 157407, 8046: 157432, 8047: 158022, 8048: 158956, 8049: 159077, 8050: 159193, 8051: 159690, 8052: 160440, 8053: 160573, 8054: 160646, 8055: 160730, 8056: 161290, 8057: 161830, 8058: 161918, 8059: 162828, 8060: 164375, 8061: 164647, 8062: 164753, 8063: 165075, 8064: 165139, 8065: 165343, 8066: 165347, 8067: 168350, 8068: 168456, 8069: 169180, 8070: 173751, 8071: 3568, 8072: 2839, 8073: 3240, 8074: 3241, 8075: 3756, 8076: 3787, 8077: 1341, 8078: 706, 8079: 89039, 8080: 1757, 8081: 2677, 8082: 3859, 8083: 3989, 8084: 4236, 8085: 4863, 8086: 4977, 8087: 5205, 8088: 5212, 8089: 5224, 8090: 5239, 8091: 5986, 8092: 6064, 8093: 6466, 8094: 6528, 8095: 6611, 8096: 6775, 8097: 6935, 8098: 6945, 8099: 6966, 8100: 7181, 8101: 7620, 8102: 7767, 8103: 7786, 8104: 7920, 8105: 8620, 8106: 8848, 8107: 26359, 8108: 26838, 8109: 27563, 8110: 32582, 8111: 38198, 8112: 45382, 8113: 46855, 8114: 55156, 8115: 58191, 8116: 67665, 8117: 71640, 8118: 82857, 8119: 89090, 8120: 100556, 8121: 103107, 8122: 105835, 8123: 109161, 8124: 148982, 8125: 151311, 8126: 152711, 8127: 160644, 8128: 162414, 8129: 164655, 8130: 167064, 8131: 179813, 8132: 183199, 8133: 183317, 8134: 184721, 8135: 187717, 8136: 188189, 8137: 189713, 8138: 56169, 8139: 59738, 8140: 60832, 8141: 74530, 8142: 74580, 8143: 90384, 8144: 3723, 8145: 2493, 8146: 451, 8147: 1180, 8148: 3405, 8149: 3619, 8150: 3658, 8151: 3832, 8152: 96, 8153: 488, 8154: 638, 8155: 907, 8156: 929, 8157: 956, 8158: 959, 8159: 970, 8160: 976, 8161: 982, 8162: 993, 8163: 1068, 8164: 1398, 8165: 1413, 8166: 1423, 8167: 1496, 8168: 1507, 8169: 1629, 8170: 1650, 8171: 1893, 8172: 1902, 8173: 1913, 8174: 1926, 8175: 1928, 8176: 1932, 8177: 1933, 8178: 1940, 8179: 2177, 8180: 2179, 8181: 2180, 8182: 2185, 8183: 2187, 8184: 2201, 8185: 2211, 8186: 2611, 8187: 2612, 8188: 2652, 8189: 2697, 8190: 2743, 8191: 2757, 8192: 2801, 8193: 2927, 8194: 2929, 8195: 2930, 8196: 3109, 8197: 3112, 8198: 3125, 8199: 3135, 8200: 3211, 8201: 3281, 8202: 3475, 8203: 3609, 8204: 3641, 8205: 3714, 8206: 3715, 8207: 3739, 8208: 3789, 8209: 3816, 8210: 3870, 8211: 3965, 8212: 3966, 8213: 4046, 8214: 4080, 8215: 4113, 8216: 4129, 8217: 4164, 8218: 4171, 8219: 4184, 8220: 4189, 8221: 4204, 8222: 4218, 8223: 4292, 8224: 4296, 8225: 4433, 8226: 4484, 8227: 4495, 8228: 4521, 8229: 4578, 8230: 4589, 8231: 4635, 8232: 4704, 8233: 4769, 8234: 4796, 8235: 4798, 8236: 4801, 8237: 4804, 8238: 4860, 8239: 4871, 8240: 4970, 8241: 4998, 8242: 5007, 8243: 5012, 8244: 5077, 8245: 5114, 8246: 5116, 8247: 5168, 8248: 5213, 8249: 5231, 8250: 5311, 8251: 5353, 8252: 5375, 8253: 5384, 8254: 5440, 8255: 5455, 8256: 5512, 8257: 5525, 8258: 5581, 8259: 5601, 8260: 5602, 8261: 5604, 8262: 5629, 8263: 5649, 8264: 5694, 8265: 5755, 8266: 5771, 8267: 5799, 8268: 5801, 8269: 5802, 8270: 5826, 8271: 5836, 8272: 5863, 8273: 5875, 8274: 5963, 8275: 6020, 8276: 6031, 8277: 6042, 8278: 6090, 8279: 6101, 8280: 6163, 8281: 6178, 8282: 6181, 8283: 6201, 8284: 6225, 8285: 6228, 8286: 6232, 8287: 6245, 8288: 6273, 8289: 6289, 8290: 6336, 8291: 6357, 8292: 6376, 8293: 6382, 8294: 6390, 8295: 6400, 8296: 6407, 8297: 6422, 8298: 6434, 8299: 6454, 8300: 6477, 8301: 6515, 8302: 6527, 8303: 6545, 8304: 6581, 8305: 6584, 8306: 6592, 8307: 6603, 8308: 6609, 8309: 6614, 8310: 6660, 8311: 6667, 8312: 6732, 8313: 6768, 8314: 6770, 8315: 6772, 8316: 6788, 8317: 6837, 8318: 6909, 8319: 6911, 8320: 6912, 8321: 6948, 8322: 6962, 8323: 6965, 8324: 6970, 8325: 6982, 8326: 6984, 8327: 6990, 8328: 7012, 8329: 7019, 8330: 7049, 8331: 7051, 8332: 7052, 8333: 7053, 8334: 7055, 8335: 7057, 8336: 7058, 8337: 7059, 8338: 7061, 8339: 7062, 8340: 7070, 8341: 7073, 8342: 7074, 8343: 7075, 8344: 7079, 8345: 7082, 8346: 7083, 8347: 7085, 8348: 7086, 8349: 7092, 8350: 7093, 8351: 7141, 8352: 7167, 8353: 7177, 8354: 7190, 8355: 7211, 8356: 7212, 8357: 7217, 8358: 7219, 8359: 7223, 8360: 7326, 8361: 7357, 8362: 7382, 8363: 7414, 8364: 7479, 8365: 7560, 8366: 7572, 8367: 7579, 8368: 7584, 8369: 7618, 8370: 7702, 8371: 7705, 8372: 7713, 8373: 7714, 8374: 7716, 8375: 7727, 8376: 7772, 8377: 7789, 8378: 7822, 8379: 7826, 8380: 7831, 8381: 7832, 8382: 7833, 8383: 7835, 8384: 7839, 8385: 7840, 8386: 7882, 8387: 7883, 8388: 7888, 8389: 7896, 8390: 7900, 8391: 7944, 8392: 8019, 8393: 8057, 8394: 8094, 8395: 8125, 8396: 8153, 8397: 8167, 8398: 8191, 8399: 8232, 8400: 8275, 8401: 8293, 8402: 8302, 8403: 8331, 8404: 8336, 8405: 8338, 8406: 8375, 8407: 8382, 8408: 8385, 8409: 8410, 8410: 8424, 8411: 8446, 8412: 8450, 8413: 8451, 8414: 8458, 8415: 8459, 8416: 8461, 8417: 8462, 8418: 8463, 8419: 8465, 8420: 8481, 8421: 8482, 8422: 8487, 8423: 8492, 8424: 8502, 8425: 8518, 8426: 8521, 8427: 8534, 8428: 8575, 8429: 8591, 8430: 8611, 8431: 8617, 8432: 8650, 8433: 8684, 8434: 8711, 8435: 8712, 8436: 8714, 8437: 8730, 8438: 8753, 8439: 8754, 8440: 8771, 8441: 8773, 8442: 8774, 8443: 8778, 8444: 8809, 8445: 8813, 8446: 8875, 8447: 8920, 8448: 8921, 8449: 8938, 8450: 8943, 8451: 8955, 8452: 8979, 8453: 8987, 8454: 8989, 8455: 25752, 8456: 25753, 8457: 25757, 8458: 25769, 8459: 25795, 8460: 25826, 8461: 25850, 8462: 25865, 8463: 25870, 8464: 25927, 8465: 25940, 8466: 25952, 8467: 25962, 8468: 25996, 8469: 25999, 8470: 26791, 8471: 26965, 8472: 31030, 8473: 31083, 8474: 31260, 8475: 31694, 8476: 31903, 8477: 34359, 8478: 35015, 8479: 42740, 8480: 43333, 8481: 44511, 8482: 48741, 8483: 49666, 8484: 50160, 8485: 50514, 8486: 53921, 8487: 55071, 8488: 55687, 8489: 56563, 8490: 3720, 8491: 4454, 8492: 4557, 8493: 4725, 8494: 5069, 8495: 5348, 8496: 6148, 8497: 7335, 8498: 8126, 8499: 27537, 8500: 31660, 8501: 42422, 8502: 68945, 8503: 72308, 8504: 78746, 8505: 82242, 8506: 2362, 8507: 3428, 8508: 4111, 8509: 4410, 8510: 4831, 8511: 5197, 8512: 5365, 8513: 5389, 8514: 5448, 8515: 5651, 8516: 5773, 8517: 6436, 8518: 6853, 8519: 8131, 8520: 27830, 8521: 32294, 8522: 36477, 8523: 37844, 8524: 43914, 8525: 44197, 8526: 47646, 8527: 2068, 8528: 6320, 8529: 8268, 8530: 2483, 8531: 8632, 8532: 27370, 8533: 31617, 8534: 36397, 8535: 68522, 8536: 72554, 8537: 88448, 8538: 89586, 8539: 90863, 8540: 91890, 8541: 93723, 8542: 94810, 8543: 95939, 8544: 96283, 8545: 97665, 8546: 99087, 8547: 100068, 8548: 101765, 8549: 105325, 8550: 109941, 8551: 109971, 8552: 112316, 8553: 115065, 8554: 4759, 8555: 5786, 8556: 8593, 8557: 71268, 8558: 93320, 8559: 26900, 8560: 40597, 8561: 54796, 8562: 72874, 8563: 73501, 8564: 77881, 8565: 79299, 8566: 79536, 8567: 80454, 8568: 80551, 8569: 84553, 8570: 86000, 8571: 87413, 8572: 91488, 8573: 92730, 8574: 94130, 8575: 50954, 8576: 78160, 8577: 78544, 8578: 180231, 8579: 103, 8580: 467, 8581: 876, 8582: 1170, 8583: 73290, 8584: 140523, 8585: 131739, 8586: 56286, 8587: 449, 8588: 1824, 8589: 1910, 8590: 7455, 8591: 32914, 8592: 46231, 8593: 79798, 8594: 6596, 8595: 6927, 8596: 68269, 8597: 5613, 8598: 26958, 8599: 50796, 8600: 65193, 8601: 74677, 8602: 80834, 8603: 82088, 8604: 84847, 8605: 89678, 8606: 90809, 8607: 91266, 8608: 91337, 8609: 93134, 8610: 93988, 8611: 94799, 8612: 95193, 8613: 110781, 8614: 117133, 8615: 126142, 8616: 129229, 8617: 130073, 8618: 136838, 8619: 136840, 8620: 34148, 8621: 6145, 8622: 1335, 8623: 1978, 8624: 2878, 8625: 3294, 8626: 4202, 8627: 5041, 8628: 5189, 8629: 5704, 8630: 5797, 8631: 6746, 8632: 6821, 8633: 7477, 8634: 7730, 8635: 7891, 8636: 8894, 8637: 26198, 8638: 31150, 8639: 38583, 8640: 40478, 8641: 62586, 8642: 124484, 8643: 135216, 8644: 136958, 8645: 141994, 8646: 149330, 8647: 158830, 8648: 159510, 8649: 160571, 8650: 167538, 8651: 168358, 8652: 180263, 8653: 182727, 8654: 184931, 8655: 184987, 8656: 185033, 8657: 185473, 8658: 186587, 8659: 187031, 8660: 188797, 8661: 4646, 8662: 8772, 8663: 26761, 8664: 83270, 8665: 88267, 8666: 91414, 8667: 93740, 8668: 96471, 8669: 96518, 8670: 96520, 8671: 97194, 8672: 107780, 8673: 121099, 8674: 144352, 8675: 152037, 8676: 160422, 8677: 162590, 8678: 165489, 8679: 7266, 8680: 32469, 8681: 27006, 8682: 27369, 8683: 66544, 8684: 79006, 8685: 120130, 8686: 8264, 8687: 91869, 8688: 96150, 8689: 98122, 8690: 106889, 8691: 120807, 8692: 127164, 8693: 134248, 8694: 146682, 8695: 148667, 8696: 159849, 8697: 163653, 8698: 164540, 8699: 39516, 8700: 135198, 8701: 176413, 8702: 176415, 8703: 2742, 8704: 3673, 8705: 3674, 8706: 4445, 8707: 5560, 8708: 4284, 8709: 125914, 8710: 27251, 8711: 36289, 8712: 51024, 8713: 53138, 8714: 53140, 8715: 58297, 8716: 64695, 8717: 69805, 8718: 73804, 8719: 76743, 8720: 83480, 8721: 85179, 8722: 85261, 8723: 91353, 8724: 112580, 8725: 116529, 8726: 116668, 8727: 116724, 8728: 128542, 8729: 134775, 8730: 135885, 8731: 144734, 8732: 150993, 8733: 164367, 8734: 2573, 8735: 55946, 8736: 121129, 8737: 2107, 8738: 626, 8739: 1986, 8740: 1990, 8741: 3626, 8742: 3939, 8743: 3940, 8744: 3941, 8745: 3942, 8746: 3958, 8747: 1477, 8748: 168712, 8749: 142056, 8750: 167296, 8751: 1825, 8752: 5059, 8753: 5513, 8754: 7457, 8755: 43684, 8756: 61257, 8757: 2820, 8758: 633, 8759: 790, 8760: 1336, 8761: 1397, 8762: 1985, 8763: 2256, 8764: 2451, 8765: 2597, 8766: 2862, 8767: 3442, 8768: 3574, 8769: 3577, 8770: 3660, 8771: 3661, 8772: 3663, 8773: 3664, 8774: 3678, 8775: 3691, 8776: 5839, 8777: 5840, 8778: 6119, 8779: 26308, 8780: 31123, 8781: 37495, 8782: 38095, 8783: 48045, 8784: 54617, 8785: 59026, 8786: 68886, 8787: 73681, 8788: 81383, 8789: 96945, 8790: 105246, 8791: 109313, 8792: 111384, 8793: 130498, 8794: 141866, 8795: 142558, 8796: 148238, 8797: 148881, 8798: 154975, 8799: 6800, 8800: 105468, 8801: 168174, 8802: 4135, 8803: 26357, 8804: 27140, 8805: 27667, 8806: 73211, 8807: 99191, 8808: 100306, 8809: 43930, 8810: 44225, 8811: 47516, 8812: 61071, 8813: 62718, 8814: 70932, 8815: 72919, 8816: 74688, 8817: 77414, 8818: 78264, 8819: 80858, 8820: 82152, 8821: 90524, 8822: 94325, 8823: 95199, 8824: 96975, 8825: 100527, 8826: 115667, 8827: 128832, 8828: 139747, 8829: 50942, 8830: 5028, 8831: 8189, 8832: 8335, 8833: 8477, 8834: 25782, 8835: 26717, 8836: 26743, 8837: 40491, 8838: 51573, 8839: 57502, 8840: 70015, 8841: 71438, 8842: 81681, 8843: 82684, 8844: 92234, 8845: 92681, 8846: 99917, 8847: 101070, 8848: 102088, 8849: 102800, 8850: 104337, 8851: 104944, 8852: 109897, 8853: 110603, 8854: 113705, 8855: 114396, 8856: 114554, 8857: 114627, 8858: 117877, 8859: 122246, 8860: 122888, 8861: 132335, 8862: 134246, 8863: 135288, 8864: 136602, 8865: 141668, 8866: 142507, 8867: 150254, 8868: 151687, 8869: 152063, 8870: 152071, 8871: 153070, 8872: 156605, 8873: 166526, 8874: 166705, 8875: 170945, 8876: 176419, 8877: 179491, 8878: 179749, 8879: 179815, 8880: 1331, 8881: 1623, 8882: 1980, 8883: 2655, 8884: 2740, 8885: 2982, 8886: 3021, 8887: 3073, 8888: 430, 8889: 2538, 8890: 2623, 8891: 2629, 8892: 2415, 8893: 3143, 8894: 6751, 8895: 7395, 8896: 56389, 8897: 75446, 8898: 2965, 8899: 5767, 8900: 5828, 8901: 6342, 8902: 6583, 8903: 6692, 8904: 7349, 8905: 8092, 8906: 8236, 8907: 8427, 8908: 8494, 8909: 8800, 8910: 8844, 8911: 26819, 8912: 27373, 8913: 136556, 8914: 2738, 8915: 3403, 8916: 3414, 8917: 3449, 8918: 4710, 8919: 284, 8920: 1652, 8921: 2175, 8922: 2196, 8923: 2589, 8924: 3353, 8925: 4200, 8926: 4374, 8927: 4715, 8928: 4794, 8929: 4827, 8930: 5105, 8931: 5657, 8932: 6140, 8933: 6417, 8934: 6665, 8935: 6723, 8936: 6967, 8937: 6994, 8938: 7023, 8939: 7031, 8940: 7032, 8941: 7114, 8942: 7345, 8943: 7742, 8944: 7782, 8945: 8035, 8946: 8118, 8947: 8727, 8948: 2774, 8949: 3094, 8950: 4342, 8951: 6769, 8952: 7260, 8953: 7615, 8954: 27246, 8955: 32799, 8956: 33649, 8957: 43744, 8958: 55844, 8959: 59549, 8960: 59667, 8961: 68835, 8962: 69495, 8963: 70637, 8964: 92954, 8965: 111800, 8966: 111913, 8967: 113280, 8968: 120919, 8969: 128908, 8970: 129397, 8971: 132454, 8972: 133645, 8973: 141131, 8974: 151557, 8975: 163639, 8976: 168026, 8977: 171917, 8978: 176051, 8979: 178615, 8980: 181719, 8981: 182793, 8982: 183635, 8983: 184997, 8984: 615, 8985: 1112, 8986: 4424, 8987: 113829, 8988: 114265, 8989: 124851, 8990: 478, 8991: 806, 8992: 1114, 8993: 1426, 8994: 1794, 8995: 2281, 8996: 2292, 8997: 2339, 8998: 2586, 8999: 2698, 9000: 3379, 9001: 3571, 9002: 3669, 9003: 3700, 9004: 3709, 9005: 3962, 9006: 4197, 9007: 4240, 9008: 4394, 9009: 4490, 9010: 4504, 9011: 4511, 9012: 4568, 9013: 4574, 9014: 4593, 9015: 4594, 9016: 4597, 9017: 4603, 9018: 4670, 9019: 5053, 9020: 5054, 9021: 5096, 9022: 5111, 9023: 5136, 9024: 5198, 9025: 5221, 9026: 5268, 9027: 5442, 9028: 5591, 9029: 5596, 9030: 5597, 9031: 5689, 9032: 5768, 9033: 5961, 9034: 6204, 9035: 6267, 9036: 6310, 9037: 6506, 9038: 6557, 9039: 6587, 9040: 6691, 9041: 6722, 9042: 6734, 9043: 6804, 9044: 6860, 9045: 6882, 9046: 6998, 9047: 7005, 9048: 7041, 9049: 7047, 9050: 7108, 9051: 7125, 9052: 7191, 9053: 7307, 9054: 7443, 9055: 7657, 9056: 7704, 9057: 7707, 9058: 7986, 9059: 7988, 9060: 8043, 9061: 8045, 9062: 8380, 9063: 8425, 9064: 8500, 9065: 8720, 9066: 8755, 9067: 8905, 9068: 8934, 9069: 9004, 9070: 26142, 9071: 26159, 9072: 26176, 9073: 26195, 9074: 26283, 9075: 26285, 9076: 26344, 9077: 26365, 9078: 26413, 9079: 26453, 9080: 26467, 9081: 26510, 9082: 26539, 9083: 26542, 9084: 26547, 9085: 26562, 9086: 26567, 9087: 26590, 9088: 26593, 9089: 26612, 9090: 26622, 9091: 26630, 9092: 26676, 9093: 26696, 9094: 26701, 9095: 26726, 9096: 26741, 9097: 26745, 9098: 26782, 9099: 26797, 9100: 26828, 9101: 26854, 9102: 26861, 9103: 26913, 9104: 26940, 9105: 26947, 9106: 27002, 9107: 27008, 9108: 27032, 9109: 27074, 9110: 27105, 9111: 27124, 9112: 27155, 9113: 27306, 9114: 27420, 9115: 27441, 9116: 27549, 9117: 27595, 9118: 27722, 9119: 27762, 9120: 27769, 9121: 27784, 9122: 27829, 9123: 31367, 9124: 31553, 9125: 31664, 9126: 31921, 9127: 32058, 9128: 32440, 9129: 32442, 9130: 32515, 9131: 33126, 9132: 33294, 9133: 33435, 9134: 33629, 9135: 33801, 9136: 33966, 9137: 34292, 9138: 34800, 9139: 34811, 9140: 36850, 9141: 39801, 9142: 40578, 9143: 41627, 9144: 42559, 9145: 42638, 9146: 42943, 9147: 42946, 9148: 43419, 9149: 43677, 9150: 43908, 9151: 44238, 9152: 44241, 9153: 44243, 9154: 44849, 9155: 45183, 9156: 45648, 9157: 45969, 9158: 46367, 9159: 46574, 9160: 47721, 9161: 47793, 9162: 49110, 9163: 51545, 9164: 53022, 9165: 53143, 9166: 53161, 9167: 53450, 9168: 54274, 9169: 54908, 9170: 55036, 9171: 55061, 9172: 55205, 9173: 55207, 9174: 56022, 9175: 57499, 9176: 58306, 9177: 59016, 9178: 59336, 9179: 59947, 9180: 60365, 9181: 60803, 9182: 61073, 9183: 62662, 9184: 62970, 9185: 66915, 9186: 67193, 9187: 68552, 9188: 68650, 9189: 69131, 9190: 69227, 9191: 70703, 9192: 71327, 9193: 71484, 9194: 71550, 9195: 71810, 9196: 72479, 9197: 73569, 9198: 73808, 9199: 74095, 9200: 74696, 9201: 75416, 9202: 75947, 9203: 76030, 9204: 77201, 9205: 77709, 9206: 78959, 9207: 79895, 9208: 80083, 9209: 81791, 9210: 82534, 9211: 83086, 9212: 83796, 9213: 84523, 9214: 85438, 9215: 86286, 9216: 86355, 9217: 86864, 9218: 86898, 9219: 87197, 9220: 87960, 9221: 88593, 9222: 88697, 9223: 89085, 9224: 89862, 9225: 90243, 9226: 90428, 9227: 90945, 9228: 91571, 9229: 91981, 9230: 92309, 9231: 92674, 9232: 93208, 9233: 93502, 9234: 94122, 9235: 95145, 9236: 95163, 9237: 95165, 9238: 95499, 9239: 95519, 9240: 95717, 9241: 95771, 9242: 95780, 9243: 95839, 9244: 95965, 9245: 97230, 9246: 97950, 9247: 98499, 9248: 98503, 9249: 98623, 9250: 98697, 9251: 98799, 9252: 99638, 9253: 101074, 9254: 101423, 9255: 102590, 9256: 102735, 9257: 102749, 9258: 102852, 9259: 103027, 9260: 103245, 9261: 103366, 9262: 103609, 9263: 104017, 9264: 104837, 9265: 105020, 9266: 105720, 9267: 107999, 9268: 108090, 9269: 108192, 9270: 110541, 9271: 111785, 9272: 112326, 9273: 113849, 9274: 114126, 9275: 115819, 9276: 116044, 9277: 116169, 9278: 116941, 9279: 116963, 9280: 117630, 9281: 118290, 9282: 119218, 9283: 119828, 9284: 120827, 9285: 121035, 9286: 122260, 9287: 122433, 9288: 122627, 9289: 123310, 9290: 128197, 9291: 128736, 9292: 129779, 9293: 131578, 9294: 132084, 9295: 132362, 9296: 135787, 9297: 136012, 9298: 136297, 9299: 137218, 9300: 137345, 9301: 137859, 9302: 138702, 9303: 139130, 9304: 139859, 9305: 140852, 9306: 144522, 9307: 145724, 9308: 145745, 9309: 151479, 9310: 151781, 9311: 153236, 9312: 156675, 9313: 157865, 9314: 158388, 9315: 158874, 9316: 159061, 9317: 159403, 9318: 160978, 9319: 161008, 9320: 161032, 9321: 161044, 9322: 163809, 9323: 165529, 9324: 167706, 9325: 168608, 9326: 169670, 9327: 169904, 9328: 169958, 9329: 170297, 9330: 170551, 9331: 171695, 9332: 172229, 9333: 172233, 9334: 172253, 9335: 173873, 9336: 174727, 9337: 178129, 9338: 179053, 9339: 181315, 9340: 183301, 9341: 2800, 9342: 25905, 9343: 25923, 9344: 25947, 9345: 46664, 9346: 59131, 9347: 141846, 9348: 77, 9349: 108, 9350: 149, 9351: 184, 9352: 301, 9353: 320, 9354: 495, 9355: 506, 9356: 526, 9357: 602, 9358: 645, 9359: 649, 9360: 803, 9361: 1053, 9362: 1119, 9363: 1310, 9364: 1349, 9365: 1475, 9366: 1514, 9367: 1549, 9368: 1585, 9369: 1612, 9370: 1613, 9371: 1759, 9372: 2008, 9373: 2104, 9374: 2283, 9375: 2304, 9376: 2417, 9377: 2435, 9378: 2512, 9379: 2544, 9380: 2577, 9381: 2609, 9382: 2620, 9383: 2725, 9384: 2727, 9385: 2813, 9386: 2865, 9387: 2885, 9388: 2892, 9389: 2972, 9390: 3002, 9391: 3183, 9392: 3303, 9393: 3344, 9394: 3374, 9395: 3459, 9396: 3514, 9397: 3531, 9398: 3586, 9399: 3637, 9400: 3655, 9401: 3792, 9402: 4420, 9403: 4428, 9404: 4436, 9405: 4690, 9406: 4695, 9407: 4705, 9408: 4766, 9409: 4786, 9410: 4810, 9411: 117, 9412: 220, 9413: 285, 9414: 311, 9415: 636, 9416: 1654, 9417: 27036, 9418: 35347, 9419: 47384, 9420: 54686, 9421: 65359, 9422: 66240, 9423: 71160, 9424: 72165, 9425: 72982, 9426: 202, 9427: 263, 9428: 563, 9429: 573, 9430: 579, 9431: 583, 9432: 632, 9433: 961, 9434: 1117, 9435: 1156, 9436: 1493, 9437: 1857, 9438: 2156, 9439: 2207, 9440: 2388, 9441: 2481, 9442: 2503, 9443: 2897, 9444: 3010, 9445: 3289, 9446: 3295, 9447: 3640, 9448: 3808, 9449: 3920, 9450: 4357, 9451: 4395, 9452: 4615, 9453: 4653, 9454: 4671, 9455: 4689, 9456: 4828, 9457: 4840, 9458: 4883, 9459: 5269, 9460: 5372, 9461: 5503, 9462: 5550, 9463: 5614, 9464: 5720, 9465: 5733, 9466: 5741, 9467: 5742, 9468: 5849, 9469: 5856, 9470: 5922, 9471: 5929, 9472: 5975, 9473: 5990, 9474: 6070, 9475: 6107, 9476: 6111, 9477: 6182, 9478: 6202, 9479: 6237, 9480: 6415, 9481: 6449, 9482: 6516, 9483: 6553, 9484: 6573, 9485: 6578, 9486: 6644, 9487: 6671, 9488: 6782, 9489: 6789, 9490: 6803, 9491: 6961, 9492: 6973, 9493: 7037, 9494: 7109, 9495: 7131, 9496: 7292, 9497: 7344, 9498: 7487, 9499: 7916, 9500: 8391, 9501: 8454, 9502: 8456, 9503: 8601, 9504: 8685, 9505: 8713, 9506: 8933, 9507: 8964, 9508: 25805, 9509: 25833, 9510: 25946, 9511: 26038, 9512: 26394, 9513: 26527, 9514: 26599, 9515: 26777, 9516: 26796, 9517: 26875, 9518: 26985, 9519: 27178, 9520: 27255, 9521: 27627, 9522: 27644, 9523: 27744, 9524: 30890, 9525: 30994, 9526: 31309, 9527: 31973, 9528: 32234, 9529: 32600, 9530: 32620, 9531: 32649, 9532: 32728, 9533: 32862, 9534: 33237, 9535: 33310, 9536: 41014, 9537: 44189, 9538: 44301, 9539: 47202, 9540: 47538, 9541: 47774, 9542: 48032, 9543: 48214, 9544: 50354, 9545: 50356, 9546: 51314, 9547: 55805, 9548: 56333, 9549: 58783, 9550: 68480, 9551: 68872, 9552: 69224, 9553: 72603, 9554: 241, 9555: 2737, 9556: 5901, 9557: 7377, 9558: 8667, 9559: 32302, 9560: 51903, 9561: 137, 9562: 1054, 9563: 3945, 9564: 4497, 9565: 5275, 9566: 5953, 9567: 6009, 9568: 6095, 9569: 7202, 9570: 7562, 9571: 7984, 9572: 8840, 9573: 26169, 9574: 26391, 9575: 26399, 9576: 26401, 9577: 26498, 9578: 26603, 9579: 27426, 9580: 27480, 9581: 27491, 9582: 27746, 9583: 27778, 9584: 27905, 9585: 31086, 9586: 34450, 9587: 36931, 9588: 41712, 9589: 43289, 9590: 44597, 9591: 47937, 9592: 48150, 9593: 51666, 9594: 52831, 9595: 54910, 9596: 55067, 9597: 55492, 9598: 56620, 9599: 57421, 9600: 57637, 9601: 58826, 9602: 58964, 9603: 58975, 9604: 59915, 9605: 60303, 9606: 60471, 9607: 61262, 9608: 61319, 9609: 61692, 9610: 61818, 9611: 63179, 9612: 63768, 9613: 63826, 9614: 64010, 9615: 66310, 9616: 67168, 9617: 70206, 9618: 70208, 9619: 71341, 9620: 71910, 9621: 72142, 9622: 72424, 9623: 73676, 9624: 73741, 9625: 73876, 9626: 74370, 9627: 75389, 9628: 76091, 9629: 77893, 9630: 77931, 9631: 78626, 9632: 79501, 9633: 79868, 9634: 80094, 9635: 80162, 9636: 81520, 9637: 82366, 9638: 82641, 9639: 82765, 9640: 88327, 9641: 89072, 9642: 89281, 9643: 89837, 9644: 91233, 9645: 93193, 9646: 93598, 9647: 93819, 9648: 94867, 9649: 96832, 9650: 97188, 9651: 97285, 9652: 97701, 9653: 97988, 9654: 98061, 9655: 98633, 9656: 99030, 9657: 99721, 9658: 100159, 9659: 100397, 9660: 100579, 9661: 100906, 9662: 102066, 9663: 102070, 9664: 102338, 9665: 102760, 9666: 102802, 9667: 103085, 9668: 103219, 9669: 103483, 9670: 103685, 9671: 105801, 9672: 107436, 9673: 107447, 9674: 107462, 9675: 107771, 9676: 110281, 9677: 110286, 9678: 110591, 9679: 110746, 9680: 111551, 9681: 112727, 9682: 113159, 9683: 113313, 9684: 113565, 9685: 113780, 9686: 113862, 9687: 114044, 9688: 114670, 9689: 114707, 9690: 115727, 9691: 117867, 9692: 118082, 9693: 128838, 9694: 129313, 9695: 130050, 9696: 130052, 9697: 130840, 9698: 133832, 9699: 135534, 9700: 135803, 9701: 135815, 9702: 138610, 9703: 138632, 9704: 139511, 9705: 139655, 9706: 140267, 9707: 141400, 9708: 141799, 9709: 142366, 9710: 142598, 9711: 145951, 9712: 146309, 9713: 147657, 9714: 147662, 9715: 148166, 9716: 149011, 9717: 152372, 9718: 158721, 9719: 160341, 9720: 160527, 9721: 160836, 9722: 163937, 9723: 163981}\n"
     ]
    }
   ],
   "source": [
    "movie_ids = rating['movieId'].unique().tolist()\n",
    "print(\"List movieId: \", movie_ids)\n",
    "\n",
    "movie_to_movie_encoded = {x: i for i, x in enumerate(movie_ids)}\n",
    "print(\"Encoded movieId: \", movie_to_movie_encoded)\n",
    "\n",
    "movie_encoded_to_movie = {i: x for i, x in enumerate(movie_ids)}\n",
    "print(\"Decoded movieId: \", movie_encoded_to_movie)"
   ]
  },
  {
   "cell_type": "code",
   "execution_count": 19,
   "id": "8b7c0dd7-6542-4db4-9e19-c3631ee9525f",
   "metadata": {},
   "outputs": [],
   "source": [
    "# Map encoded userId dan movieId ke dalam kolol baru\n",
    "rating['user'] = rating['userId'].map(user_to_user_encoded)\n",
    "rating['movie'] = rating['movieId'].map(movie_to_movie_encoded)"
   ]
  },
  {
   "cell_type": "code",
   "execution_count": 20,
   "id": "eb825224-5a1b-4dc1-b172-1b093a7c77d3",
   "metadata": {},
   "outputs": [
    {
     "name": "stdout",
     "output_type": "stream",
     "text": [
      "Lowest rating:  0.5\n",
      "Highest rating:  5.0\n"
     ]
    }
   ],
   "source": [
    "# cek minimal dan maksimal rating\n",
    "min_rating = min(rating['rating'])\n",
    "max_rating = max(rating['rating'])\n",
    "\n",
    "print(\"Lowest rating: \", min_rating)\n",
    "print(\"Highest rating: \", max_rating)\n",
    "\n",
    "# change to float\n",
    "rating['rating'] = rating['rating'].values.astype(np.float32)"
   ]
  },
  {
   "cell_type": "markdown",
   "id": "ce123aee-6af9-4565-8e63-c570d75747b1",
   "metadata": {},
   "source": [
    "### Split data ke dalam train and validation"
   ]
  },
  {
   "cell_type": "markdown",
   "id": "1bad2d5f-facb-40e7-badc-be3d41308196",
   "metadata": {},
   "source": [
    "sebelum dipisah, acak data terlebih dahulu"
   ]
  },
  {
   "cell_type": "code",
   "execution_count": 21,
   "id": "3c73033b-2700-4f65-9f6f-858c0f0cbe7e",
   "metadata": {},
   "outputs": [
    {
     "data": {
      "text/html": [
       "<div>\n",
       "<style scoped>\n",
       "    .dataframe tbody tr th:only-of-type {\n",
       "        vertical-align: middle;\n",
       "    }\n",
       "\n",
       "    .dataframe tbody tr th {\n",
       "        vertical-align: top;\n",
       "    }\n",
       "\n",
       "    .dataframe thead th {\n",
       "        text-align: right;\n",
       "    }\n",
       "</style>\n",
       "<table border=\"1\" class=\"dataframe\">\n",
       "  <thead>\n",
       "    <tr style=\"text-align: right;\">\n",
       "      <th></th>\n",
       "      <th>userId</th>\n",
       "      <th>movieId</th>\n",
       "      <th>rating</th>\n",
       "      <th>timestamp</th>\n",
       "      <th>user</th>\n",
       "      <th>movie</th>\n",
       "    </tr>\n",
       "  </thead>\n",
       "  <tbody>\n",
       "    <tr>\n",
       "      <th>87895</th>\n",
       "      <td>567</td>\n",
       "      <td>48394</td>\n",
       "      <td>3.0</td>\n",
       "      <td>1525286819</td>\n",
       "      <td>566</td>\n",
       "      <td>1132</td>\n",
       "    </tr>\n",
       "    <tr>\n",
       "      <th>21186</th>\n",
       "      <td>140</td>\n",
       "      <td>1005</td>\n",
       "      <td>3.0</td>\n",
       "      <td>1032259036</td>\n",
       "      <td>139</td>\n",
       "      <td>2665</td>\n",
       "    </tr>\n",
       "    <tr>\n",
       "      <th>92625</th>\n",
       "      <td>599</td>\n",
       "      <td>3</td>\n",
       "      <td>1.5</td>\n",
       "      <td>1498505071</td>\n",
       "      <td>598</td>\n",
       "      <td>1</td>\n",
       "    </tr>\n",
       "    <tr>\n",
       "      <th>64159</th>\n",
       "      <td>414</td>\n",
       "      <td>6560</td>\n",
       "      <td>2.0</td>\n",
       "      <td>1064942008</td>\n",
       "      <td>413</td>\n",
       "      <td>7573</td>\n",
       "    </tr>\n",
       "    <tr>\n",
       "      <th>40919</th>\n",
       "      <td>275</td>\n",
       "      <td>4816</td>\n",
       "      <td>5.0</td>\n",
       "      <td>1049077649</td>\n",
       "      <td>274</td>\n",
       "      <td>1194</td>\n",
       "    </tr>\n",
       "    <tr>\n",
       "      <th>...</th>\n",
       "      <td>...</td>\n",
       "      <td>...</td>\n",
       "      <td>...</td>\n",
       "      <td>...</td>\n",
       "      <td>...</td>\n",
       "      <td>...</td>\n",
       "    </tr>\n",
       "    <tr>\n",
       "      <th>47508</th>\n",
       "      <td>307</td>\n",
       "      <td>8907</td>\n",
       "      <td>2.5</td>\n",
       "      <td>1186173498</td>\n",
       "      <td>306</td>\n",
       "      <td>789</td>\n",
       "    </tr>\n",
       "    <tr>\n",
       "      <th>25015</th>\n",
       "      <td>177</td>\n",
       "      <td>1022</td>\n",
       "      <td>5.0</td>\n",
       "      <td>1435720405</td>\n",
       "      <td>176</td>\n",
       "      <td>1773</td>\n",
       "    </tr>\n",
       "    <tr>\n",
       "      <th>9818</th>\n",
       "      <td>64</td>\n",
       "      <td>5291</td>\n",
       "      <td>4.5</td>\n",
       "      <td>1161531091</td>\n",
       "      <td>63</td>\n",
       "      <td>3183</td>\n",
       "    </tr>\n",
       "    <tr>\n",
       "      <th>69577</th>\n",
       "      <td>448</td>\n",
       "      <td>7150</td>\n",
       "      <td>3.5</td>\n",
       "      <td>1125857591</td>\n",
       "      <td>447</td>\n",
       "      <td>5880</td>\n",
       "    </tr>\n",
       "    <tr>\n",
       "      <th>64566</th>\n",
       "      <td>414</td>\n",
       "      <td>48774</td>\n",
       "      <td>4.0</td>\n",
       "      <td>1168281392</td>\n",
       "      <td>413</td>\n",
       "      <td>1050</td>\n",
       "    </tr>\n",
       "  </tbody>\n",
       "</table>\n",
       "<p>100836 rows × 6 columns</p>\n",
       "</div>"
      ],
      "text/plain": [
       "       userId  movieId  rating   timestamp  user  movie\n",
       "87895     567    48394     3.0  1525286819   566   1132\n",
       "21186     140     1005     3.0  1032259036   139   2665\n",
       "92625     599        3     1.5  1498505071   598      1\n",
       "64159     414     6560     2.0  1064942008   413   7573\n",
       "40919     275     4816     5.0  1049077649   274   1194\n",
       "...       ...      ...     ...         ...   ...    ...\n",
       "47508     307     8907     2.5  1186173498   306    789\n",
       "25015     177     1022     5.0  1435720405   176   1773\n",
       "9818       64     5291     4.5  1161531091    63   3183\n",
       "69577     448     7150     3.5  1125857591   447   5880\n",
       "64566     414    48774     4.0  1168281392   413   1050\n",
       "\n",
       "[100836 rows x 6 columns]"
      ]
     },
     "execution_count": 21,
     "metadata": {},
     "output_type": "execute_result"
    }
   ],
   "source": [
    "rating = rating.sample(frac=1, random_state=69)\n",
    "rating"
   ]
  },
  {
   "cell_type": "code",
   "execution_count": 22,
   "id": "c5223be5-7421-4a13-92d2-9c8054b8f925",
   "metadata": {},
   "outputs": [
    {
     "name": "stdout",
     "output_type": "stream",
     "text": [
      "Training data:  [[ 566 1132]\n",
      " [ 139 2665]\n",
      " [ 598    1]\n",
      " ...\n",
      " [  63 3183]\n",
      " [ 447 5880]\n",
      " [ 413 1050]]\n",
      "Validation data:  [0.55555556 0.55555556 0.22222222 ... 0.88888889 0.66666667 0.77777778]\n"
     ]
    }
   ],
   "source": [
    "x = rating[['user', 'movie']].values\n",
    "\n",
    "# Normalization using min max scaler\n",
    "y = rating['rating'].apply(lambda x: (x - min_rating) / (max_rating - min_rating)).values\n",
    "\n",
    "train_indices = int(0.8 * rating.shape[0])\n",
    "x_train, x_val, y_train, y_val = (\n",
    "    x[:train_indices],\n",
    "    x[train_indices:],\n",
    "    y[:train_indices],\n",
    "    y[train_indices:]\n",
    ")\n",
    "\n",
    "print(\"Training data: \", x)\n",
    "print(\"Validation data: \", y)"
   ]
  },
  {
   "cell_type": "markdown",
   "id": "1fe8fdba-2962-44c6-964b-f78eee2e5fa4",
   "metadata": {},
   "source": [
    "# Model Development with Content-Based Filtering"
   ]
  },
  {
   "cell_type": "code",
   "execution_count": 23,
   "id": "1834eb46-fd5d-46d0-874d-d89cdcb81be4",
   "metadata": {},
   "outputs": [
    {
     "data": {
      "text/html": [
       "<div>\n",
       "<style scoped>\n",
       "    .dataframe tbody tr th:only-of-type {\n",
       "        vertical-align: middle;\n",
       "    }\n",
       "\n",
       "    .dataframe tbody tr th {\n",
       "        vertical-align: top;\n",
       "    }\n",
       "\n",
       "    .dataframe thead th {\n",
       "        text-align: right;\n",
       "    }\n",
       "</style>\n",
       "<table border=\"1\" class=\"dataframe\">\n",
       "  <thead>\n",
       "    <tr style=\"text-align: right;\">\n",
       "      <th></th>\n",
       "      <th>movieId</th>\n",
       "      <th>title</th>\n",
       "      <th>genres</th>\n",
       "      <th>genre_str</th>\n",
       "    </tr>\n",
       "  </thead>\n",
       "  <tbody>\n",
       "    <tr>\n",
       "      <th>8926</th>\n",
       "      <td>136012</td>\n",
       "      <td>Bloodsport III (1996)</td>\n",
       "      <td>[Action, Thriller]</td>\n",
       "      <td>Action Thriller</td>\n",
       "    </tr>\n",
       "    <tr>\n",
       "      <th>4079</th>\n",
       "      <td>5820</td>\n",
       "      <td>Standing in the Shadows of Motown (2002)</td>\n",
       "      <td>[Documentary, Musical]</td>\n",
       "      <td>Documentary Musical</td>\n",
       "    </tr>\n",
       "    <tr>\n",
       "      <th>7934</th>\n",
       "      <td>95654</td>\n",
       "      <td>Geri's Game (1997)</td>\n",
       "      <td>[Animation, Children]</td>\n",
       "      <td>Animation Children</td>\n",
       "    </tr>\n",
       "    <tr>\n",
       "      <th>432</th>\n",
       "      <td>495</td>\n",
       "      <td>In the Realm of the Senses (Ai no corrida) (1976)</td>\n",
       "      <td>[Drama]</td>\n",
       "      <td>Drama</td>\n",
       "    </tr>\n",
       "    <tr>\n",
       "      <th>7346</th>\n",
       "      <td>78174</td>\n",
       "      <td>Sex and the City 2 (2010)</td>\n",
       "      <td>[Comedy, Drama, Romance]</td>\n",
       "      <td>Comedy Drama Romance</td>\n",
       "    </tr>\n",
       "  </tbody>\n",
       "</table>\n",
       "</div>"
      ],
      "text/plain": [
       "      movieId                                              title  \\\n",
       "8926   136012                              Bloodsport III (1996)   \n",
       "4079     5820           Standing in the Shadows of Motown (2002)   \n",
       "7934    95654                                 Geri's Game (1997)   \n",
       "432       495  In the Realm of the Senses (Ai no corrida) (1976)   \n",
       "7346    78174                          Sex and the City 2 (2010)   \n",
       "\n",
       "                        genres             genre_str  \n",
       "8926        [Action, Thriller]       Action Thriller  \n",
       "4079    [Documentary, Musical]   Documentary Musical  \n",
       "7934     [Animation, Children]    Animation Children  \n",
       "432                    [Drama]                 Drama  \n",
       "7346  [Comedy, Drama, Romance]  Comedy Drama Romance  "
      ]
     },
     "execution_count": 23,
     "metadata": {},
     "output_type": "execute_result"
    }
   ],
   "source": [
    "data = movie_final\n",
    "data.sample(5)"
   ]
  },
  {
   "cell_type": "markdown",
   "id": "802e6d79-e799-48bd-bc79-1157f330a574",
   "metadata": {},
   "source": [
    "## TF-IDF Vectorizer"
   ]
  },
  {
   "cell_type": "code",
   "execution_count": 24,
   "id": "81ffe67a-8c0b-4cb1-9516-6f2aa0852ba7",
   "metadata": {},
   "outputs": [
    {
     "data": {
      "text/plain": [
       "array(['action', 'adventure', 'animation', 'children', 'comedy', 'crime',\n",
       "       'documentary', 'drama', 'fantasy', 'fi', 'film', 'horror', 'imax',\n",
       "       'musical', 'mystery', 'noir', 'romance', 'sci', 'thriller', 'war',\n",
       "       'western'], dtype=object)"
      ]
     },
     "execution_count": 24,
     "metadata": {},
     "output_type": "execute_result"
    }
   ],
   "source": [
    "tfv = TfidfVectorizer()\n",
    "\n",
    "tfv.fit(data['genre_str'])\n",
    "\n",
    "tfv.get_feature_names_out()"
   ]
  },
  {
   "cell_type": "code",
   "execution_count": 25,
   "id": "36629afb-9d48-4b83-9d40-e7aca40ee6e7",
   "metadata": {},
   "outputs": [
    {
     "data": {
      "text/plain": [
       "(9708, 21)"
      ]
     },
     "execution_count": 25,
     "metadata": {},
     "output_type": "execute_result"
    }
   ],
   "source": [
    "tfidf_matrix = tfv.fit_transform(data['genre_str'])\n",
    "\n",
    "tfidf_matrix.shape"
   ]
  },
  {
   "cell_type": "markdown",
   "id": "d924c51f-5845-4765-947c-eb069cde88d1",
   "metadata": {},
   "source": [
    "## Cek Dataframe"
   ]
  },
  {
   "cell_type": "code",
   "execution_count": 26,
   "id": "dce1d4b8-1ea7-4135-b423-9865539f97ad",
   "metadata": {},
   "outputs": [
    {
     "data": {
      "text/html": [
       "<div>\n",
       "<style scoped>\n",
       "    .dataframe tbody tr th:only-of-type {\n",
       "        vertical-align: middle;\n",
       "    }\n",
       "\n",
       "    .dataframe tbody tr th {\n",
       "        vertical-align: top;\n",
       "    }\n",
       "\n",
       "    .dataframe thead th {\n",
       "        text-align: right;\n",
       "    }\n",
       "</style>\n",
       "<table border=\"1\" class=\"dataframe\">\n",
       "  <thead>\n",
       "    <tr style=\"text-align: right;\">\n",
       "      <th></th>\n",
       "      <th>adventure</th>\n",
       "      <th>animation</th>\n",
       "      <th>drama</th>\n",
       "      <th>film</th>\n",
       "      <th>musical</th>\n",
       "      <th>fi</th>\n",
       "      <th>fantasy</th>\n",
       "      <th>imax</th>\n",
       "      <th>horror</th>\n",
       "      <th>sci</th>\n",
       "    </tr>\n",
       "    <tr>\n",
       "      <th>title</th>\n",
       "      <th></th>\n",
       "      <th></th>\n",
       "      <th></th>\n",
       "      <th></th>\n",
       "      <th></th>\n",
       "      <th></th>\n",
       "      <th></th>\n",
       "      <th></th>\n",
       "      <th></th>\n",
       "      <th></th>\n",
       "    </tr>\n",
       "  </thead>\n",
       "  <tbody>\n",
       "    <tr>\n",
       "      <th>Hudsucker Proxy, The (1994)</th>\n",
       "      <td>0.0</td>\n",
       "      <td>0.0</td>\n",
       "      <td>0.000000</td>\n",
       "      <td>0.0</td>\n",
       "      <td>0.0</td>\n",
       "      <td>0.0</td>\n",
       "      <td>0.0</td>\n",
       "      <td>0.0</td>\n",
       "      <td>0.0</td>\n",
       "      <td>0.0</td>\n",
       "    </tr>\n",
       "    <tr>\n",
       "      <th>Semi-Pro (2008)</th>\n",
       "      <td>0.0</td>\n",
       "      <td>0.0</td>\n",
       "      <td>0.000000</td>\n",
       "      <td>0.0</td>\n",
       "      <td>0.0</td>\n",
       "      <td>0.0</td>\n",
       "      <td>0.0</td>\n",
       "      <td>0.0</td>\n",
       "      <td>0.0</td>\n",
       "      <td>0.0</td>\n",
       "    </tr>\n",
       "    <tr>\n",
       "      <th>Hope and Glory (1987)</th>\n",
       "      <td>0.0</td>\n",
       "      <td>0.0</td>\n",
       "      <td>1.000000</td>\n",
       "      <td>0.0</td>\n",
       "      <td>0.0</td>\n",
       "      <td>0.0</td>\n",
       "      <td>0.0</td>\n",
       "      <td>0.0</td>\n",
       "      <td>0.0</td>\n",
       "      <td>0.0</td>\n",
       "    </tr>\n",
       "    <tr>\n",
       "      <th>Sword of Doom, The (Dai-bosatsu tôge) (1966)</th>\n",
       "      <td>0.0</td>\n",
       "      <td>0.0</td>\n",
       "      <td>0.559122</td>\n",
       "      <td>0.0</td>\n",
       "      <td>0.0</td>\n",
       "      <td>0.0</td>\n",
       "      <td>0.0</td>\n",
       "      <td>0.0</td>\n",
       "      <td>0.0</td>\n",
       "      <td>0.0</td>\n",
       "    </tr>\n",
       "    <tr>\n",
       "      <th>Cooler, The (2003)</th>\n",
       "      <td>0.0</td>\n",
       "      <td>0.0</td>\n",
       "      <td>0.466216</td>\n",
       "      <td>0.0</td>\n",
       "      <td>0.0</td>\n",
       "      <td>0.0</td>\n",
       "      <td>0.0</td>\n",
       "      <td>0.0</td>\n",
       "      <td>0.0</td>\n",
       "      <td>0.0</td>\n",
       "    </tr>\n",
       "  </tbody>\n",
       "</table>\n",
       "</div>"
      ],
      "text/plain": [
       "                                              adventure  animation     drama  \\\n",
       "title                                                                          \n",
       "Hudsucker Proxy, The (1994)                         0.0        0.0  0.000000   \n",
       "Semi-Pro (2008)                                     0.0        0.0  0.000000   \n",
       "Hope and Glory (1987)                               0.0        0.0  1.000000   \n",
       "Sword of Doom, The (Dai-bosatsu tôge) (1966)        0.0        0.0  0.559122   \n",
       "Cooler, The (2003)                                  0.0        0.0  0.466216   \n",
       "\n",
       "                                              film  musical   fi  fantasy  \\\n",
       "title                                                                       \n",
       "Hudsucker Proxy, The (1994)                    0.0      0.0  0.0      0.0   \n",
       "Semi-Pro (2008)                                0.0      0.0  0.0      0.0   \n",
       "Hope and Glory (1987)                          0.0      0.0  0.0      0.0   \n",
       "Sword of Doom, The (Dai-bosatsu tôge) (1966)   0.0      0.0  0.0      0.0   \n",
       "Cooler, The (2003)                             0.0      0.0  0.0      0.0   \n",
       "\n",
       "                                              imax  horror  sci  \n",
       "title                                                            \n",
       "Hudsucker Proxy, The (1994)                    0.0     0.0  0.0  \n",
       "Semi-Pro (2008)                                0.0     0.0  0.0  \n",
       "Hope and Glory (1987)                          0.0     0.0  0.0  \n",
       "Sword of Doom, The (Dai-bosatsu tôge) (1966)   0.0     0.0  0.0  \n",
       "Cooler, The (2003)                             0.0     0.0  0.0  "
      ]
     },
     "execution_count": 26,
     "metadata": {},
     "output_type": "execute_result"
    }
   ],
   "source": [
    "# Buat dataframe untuk melihat tfidf_matrix\n",
    "# Kolom diisi dengan genre\n",
    "# Baris diisi dengan nama movie\n",
    "\n",
    "pd.DataFrame(\n",
    "    tfidf_matrix.todense(),\n",
    "    columns=tfv.get_feature_names_out(),\n",
    "    index=data['title']\n",
    ").sample(10, axis=1).sample(5, axis=0)"
   ]
  },
  {
   "cell_type": "markdown",
   "id": "d5a3e752-2092-4b78-9e3a-52b3121d33e7",
   "metadata": {},
   "source": [
    "## Cosine Similarity"
   ]
  },
  {
   "cell_type": "code",
   "execution_count": 27,
   "id": "029213a0-0de7-4189-a683-f56b70711465",
   "metadata": {},
   "outputs": [
    {
     "data": {
      "text/plain": [
       "array([[1.        , 0.8136036 , 0.15259961, ..., 0.        , 0.42114166,\n",
       "        0.26738778],\n",
       "       [0.8136036 , 1.        , 0.        , ..., 0.        , 0.        ,\n",
       "        0.        ],\n",
       "       [0.15259961, 0.        , 1.        , ..., 0.        , 0.        ,\n",
       "        0.57070525],\n",
       "       ...,\n",
       "       [0.        , 0.        , 0.        , ..., 1.        , 0.        ,\n",
       "        0.        ],\n",
       "       [0.42114166, 0.        , 0.        , ..., 0.        , 1.        ,\n",
       "        0.        ],\n",
       "       [0.26738778, 0.        , 0.57070525, ..., 0.        , 0.        ,\n",
       "        1.        ]])"
      ]
     },
     "execution_count": 27,
     "metadata": {},
     "output_type": "execute_result"
    }
   ],
   "source": [
    "cosine_sim = cosine_similarity(tfidf_matrix)\n",
    "cosine_sim"
   ]
  },
  {
   "cell_type": "markdown",
   "id": "b4ba23eb-cde4-418e-a0f5-0326fc16564d",
   "metadata": {},
   "source": [
    "## Cosine Similarity DataFrame"
   ]
  },
  {
   "cell_type": "code",
   "execution_count": 28,
   "id": "44f91f7b-ba1e-4159-a72c-64cbc6f1cd91",
   "metadata": {},
   "outputs": [
    {
     "name": "stdout",
     "output_type": "stream",
     "text": [
      "Shape:  (9708, 9708)\n"
     ]
    },
    {
     "data": {
      "text/html": [
       "<div>\n",
       "<style scoped>\n",
       "    .dataframe tbody tr th:only-of-type {\n",
       "        vertical-align: middle;\n",
       "    }\n",
       "\n",
       "    .dataframe tbody tr th {\n",
       "        vertical-align: top;\n",
       "    }\n",
       "\n",
       "    .dataframe thead th {\n",
       "        text-align: right;\n",
       "    }\n",
       "</style>\n",
       "<table border=\"1\" class=\"dataframe\">\n",
       "  <thead>\n",
       "    <tr style=\"text-align: right;\">\n",
       "      <th>title</th>\n",
       "      <th>Bang, Bang, You're Dead (2002)</th>\n",
       "      <th>Educating Rita (1983)</th>\n",
       "      <th>He's Just Not That Into You (2009)</th>\n",
       "      <th>Air Up There, The (1994)</th>\n",
       "      <th>Deadly Outlaw: Rekka (a.k.a. Violent Fire) (Jitsuroku Andô Noboru kyôdô-den: Rekka) (2002)</th>\n",
       "      <th>Extreme Days (2001)</th>\n",
       "      <th>17 Again (2009)</th>\n",
       "      <th>I Am David (2003)</th>\n",
       "      <th>Men, Women &amp; Children (2014)</th>\n",
       "      <th>What Men Still Talk About (2011)</th>\n",
       "    </tr>\n",
       "    <tr>\n",
       "      <th>title</th>\n",
       "      <th></th>\n",
       "      <th></th>\n",
       "      <th></th>\n",
       "      <th></th>\n",
       "      <th></th>\n",
       "      <th></th>\n",
       "      <th></th>\n",
       "      <th></th>\n",
       "      <th></th>\n",
       "      <th></th>\n",
       "    </tr>\n",
       "  </thead>\n",
       "  <tbody>\n",
       "    <tr>\n",
       "      <th>Eddie Izzard: Dress to Kill (1999)</th>\n",
       "      <td>0.000000</td>\n",
       "      <td>0.734682</td>\n",
       "      <td>0.504886</td>\n",
       "      <td>1.000000</td>\n",
       "      <td>0.000000</td>\n",
       "      <td>0.402996</td>\n",
       "      <td>0.734682</td>\n",
       "      <td>0.000000</td>\n",
       "      <td>0.734682</td>\n",
       "      <td>1.000000</td>\n",
       "    </tr>\n",
       "    <tr>\n",
       "      <th>Toy Story (1995)</th>\n",
       "      <td>0.000000</td>\n",
       "      <td>0.196445</td>\n",
       "      <td>0.135000</td>\n",
       "      <td>0.267388</td>\n",
       "      <td>0.000000</td>\n",
       "      <td>0.369588</td>\n",
       "      <td>0.196445</td>\n",
       "      <td>0.000000</td>\n",
       "      <td>0.196445</td>\n",
       "      <td>0.267388</td>\n",
       "    </tr>\n",
       "    <tr>\n",
       "      <th>Color Purple, The (1985)</th>\n",
       "      <td>1.000000</td>\n",
       "      <td>0.678412</td>\n",
       "      <td>0.466216</td>\n",
       "      <td>0.000000</td>\n",
       "      <td>0.405263</td>\n",
       "      <td>0.372130</td>\n",
       "      <td>0.678412</td>\n",
       "      <td>1.000000</td>\n",
       "      <td>0.678412</td>\n",
       "      <td>0.000000</td>\n",
       "    </tr>\n",
       "    <tr>\n",
       "      <th>Love Liza (2002)</th>\n",
       "      <td>1.000000</td>\n",
       "      <td>0.678412</td>\n",
       "      <td>0.466216</td>\n",
       "      <td>0.000000</td>\n",
       "      <td>0.405263</td>\n",
       "      <td>0.372130</td>\n",
       "      <td>0.678412</td>\n",
       "      <td>1.000000</td>\n",
       "      <td>0.678412</td>\n",
       "      <td>0.000000</td>\n",
       "    </tr>\n",
       "    <tr>\n",
       "      <th>Seve (2014)</th>\n",
       "      <td>0.402691</td>\n",
       "      <td>0.273190</td>\n",
       "      <td>0.187741</td>\n",
       "      <td>0.000000</td>\n",
       "      <td>0.163196</td>\n",
       "      <td>0.149853</td>\n",
       "      <td>0.273190</td>\n",
       "      <td>0.402691</td>\n",
       "      <td>0.273190</td>\n",
       "      <td>0.000000</td>\n",
       "    </tr>\n",
       "    <tr>\n",
       "      <th>Skeleton Key, The (2005)</th>\n",
       "      <td>0.301343</td>\n",
       "      <td>0.204434</td>\n",
       "      <td>0.140491</td>\n",
       "      <td>0.000000</td>\n",
       "      <td>0.383562</td>\n",
       "      <td>0.112139</td>\n",
       "      <td>0.204434</td>\n",
       "      <td>0.301343</td>\n",
       "      <td>0.204434</td>\n",
       "      <td>0.000000</td>\n",
       "    </tr>\n",
       "    <tr>\n",
       "      <th>Rabbit-Proof Fence (2002)</th>\n",
       "      <td>0.509670</td>\n",
       "      <td>0.345766</td>\n",
       "      <td>0.237617</td>\n",
       "      <td>0.000000</td>\n",
       "      <td>0.206550</td>\n",
       "      <td>0.730139</td>\n",
       "      <td>0.345766</td>\n",
       "      <td>0.509670</td>\n",
       "      <td>0.345766</td>\n",
       "      <td>0.000000</td>\n",
       "    </tr>\n",
       "    <tr>\n",
       "      <th>Baby-Sitters Club, The (1995)</th>\n",
       "      <td>0.000000</td>\n",
       "      <td>0.000000</td>\n",
       "      <td>0.000000</td>\n",
       "      <td>0.000000</td>\n",
       "      <td>0.000000</td>\n",
       "      <td>0.000000</td>\n",
       "      <td>0.000000</td>\n",
       "      <td>0.000000</td>\n",
       "      <td>0.000000</td>\n",
       "      <td>0.000000</td>\n",
       "    </tr>\n",
       "    <tr>\n",
       "      <th>If I Were a Rich Man (2002)</th>\n",
       "      <td>0.000000</td>\n",
       "      <td>0.734682</td>\n",
       "      <td>0.504886</td>\n",
       "      <td>1.000000</td>\n",
       "      <td>0.000000</td>\n",
       "      <td>0.402996</td>\n",
       "      <td>0.734682</td>\n",
       "      <td>0.000000</td>\n",
       "      <td>0.734682</td>\n",
       "      <td>1.000000</td>\n",
       "    </tr>\n",
       "    <tr>\n",
       "      <th>Education, An (2009)</th>\n",
       "      <td>0.540111</td>\n",
       "      <td>0.366418</td>\n",
       "      <td>0.863186</td>\n",
       "      <td>0.000000</td>\n",
       "      <td>0.218887</td>\n",
       "      <td>0.200992</td>\n",
       "      <td>0.366418</td>\n",
       "      <td>0.540111</td>\n",
       "      <td>0.366418</td>\n",
       "      <td>0.000000</td>\n",
       "    </tr>\n",
       "  </tbody>\n",
       "</table>\n",
       "</div>"
      ],
      "text/plain": [
       "title                               Bang, Bang, You're Dead (2002)  \\\n",
       "title                                                                \n",
       "Eddie Izzard: Dress to Kill (1999)                        0.000000   \n",
       "Toy Story (1995)                                          0.000000   \n",
       "Color Purple, The (1985)                                  1.000000   \n",
       "Love Liza (2002)                                          1.000000   \n",
       "Seve (2014)                                               0.402691   \n",
       "Skeleton Key, The (2005)                                  0.301343   \n",
       "Rabbit-Proof Fence (2002)                                 0.509670   \n",
       "Baby-Sitters Club, The (1995)                             0.000000   \n",
       "If I Were a Rich Man (2002)                               0.000000   \n",
       "Education, An (2009)                                      0.540111   \n",
       "\n",
       "title                               Educating Rita (1983)  \\\n",
       "title                                                       \n",
       "Eddie Izzard: Dress to Kill (1999)               0.734682   \n",
       "Toy Story (1995)                                 0.196445   \n",
       "Color Purple, The (1985)                         0.678412   \n",
       "Love Liza (2002)                                 0.678412   \n",
       "Seve (2014)                                      0.273190   \n",
       "Skeleton Key, The (2005)                         0.204434   \n",
       "Rabbit-Proof Fence (2002)                        0.345766   \n",
       "Baby-Sitters Club, The (1995)                    0.000000   \n",
       "If I Were a Rich Man (2002)                      0.734682   \n",
       "Education, An (2009)                             0.366418   \n",
       "\n",
       "title                               He's Just Not That Into You (2009)  \\\n",
       "title                                                                    \n",
       "Eddie Izzard: Dress to Kill (1999)                            0.504886   \n",
       "Toy Story (1995)                                              0.135000   \n",
       "Color Purple, The (1985)                                      0.466216   \n",
       "Love Liza (2002)                                              0.466216   \n",
       "Seve (2014)                                                   0.187741   \n",
       "Skeleton Key, The (2005)                                      0.140491   \n",
       "Rabbit-Proof Fence (2002)                                     0.237617   \n",
       "Baby-Sitters Club, The (1995)                                 0.000000   \n",
       "If I Were a Rich Man (2002)                                   0.504886   \n",
       "Education, An (2009)                                          0.863186   \n",
       "\n",
       "title                               Air Up There, The (1994)  \\\n",
       "title                                                          \n",
       "Eddie Izzard: Dress to Kill (1999)                  1.000000   \n",
       "Toy Story (1995)                                    0.267388   \n",
       "Color Purple, The (1985)                            0.000000   \n",
       "Love Liza (2002)                                    0.000000   \n",
       "Seve (2014)                                         0.000000   \n",
       "Skeleton Key, The (2005)                            0.000000   \n",
       "Rabbit-Proof Fence (2002)                           0.000000   \n",
       "Baby-Sitters Club, The (1995)                       0.000000   \n",
       "If I Were a Rich Man (2002)                         1.000000   \n",
       "Education, An (2009)                                0.000000   \n",
       "\n",
       "title                               Deadly Outlaw: Rekka (a.k.a. Violent Fire) (Jitsuroku Andô Noboru kyôdô-den: Rekka) (2002)  \\\n",
       "title                                                                                                                            \n",
       "Eddie Izzard: Dress to Kill (1999)                                           0.000000                                            \n",
       "Toy Story (1995)                                                             0.000000                                            \n",
       "Color Purple, The (1985)                                                     0.405263                                            \n",
       "Love Liza (2002)                                                             0.405263                                            \n",
       "Seve (2014)                                                                  0.163196                                            \n",
       "Skeleton Key, The (2005)                                                     0.383562                                            \n",
       "Rabbit-Proof Fence (2002)                                                    0.206550                                            \n",
       "Baby-Sitters Club, The (1995)                                                0.000000                                            \n",
       "If I Were a Rich Man (2002)                                                  0.000000                                            \n",
       "Education, An (2009)                                                         0.218887                                            \n",
       "\n",
       "title                               Extreme Days (2001)  17 Again (2009)  \\\n",
       "title                                                                      \n",
       "Eddie Izzard: Dress to Kill (1999)             0.402996         0.734682   \n",
       "Toy Story (1995)                               0.369588         0.196445   \n",
       "Color Purple, The (1985)                       0.372130         0.678412   \n",
       "Love Liza (2002)                               0.372130         0.678412   \n",
       "Seve (2014)                                    0.149853         0.273190   \n",
       "Skeleton Key, The (2005)                       0.112139         0.204434   \n",
       "Rabbit-Proof Fence (2002)                      0.730139         0.345766   \n",
       "Baby-Sitters Club, The (1995)                  0.000000         0.000000   \n",
       "If I Were a Rich Man (2002)                    0.402996         0.734682   \n",
       "Education, An (2009)                           0.200992         0.366418   \n",
       "\n",
       "title                               I Am David (2003)  \\\n",
       "title                                                   \n",
       "Eddie Izzard: Dress to Kill (1999)           0.000000   \n",
       "Toy Story (1995)                             0.000000   \n",
       "Color Purple, The (1985)                     1.000000   \n",
       "Love Liza (2002)                             1.000000   \n",
       "Seve (2014)                                  0.402691   \n",
       "Skeleton Key, The (2005)                     0.301343   \n",
       "Rabbit-Proof Fence (2002)                    0.509670   \n",
       "Baby-Sitters Club, The (1995)                0.000000   \n",
       "If I Were a Rich Man (2002)                  0.000000   \n",
       "Education, An (2009)                         0.540111   \n",
       "\n",
       "title                               Men, Women & Children (2014)  \\\n",
       "title                                                              \n",
       "Eddie Izzard: Dress to Kill (1999)                      0.734682   \n",
       "Toy Story (1995)                                        0.196445   \n",
       "Color Purple, The (1985)                                0.678412   \n",
       "Love Liza (2002)                                        0.678412   \n",
       "Seve (2014)                                             0.273190   \n",
       "Skeleton Key, The (2005)                                0.204434   \n",
       "Rabbit-Proof Fence (2002)                               0.345766   \n",
       "Baby-Sitters Club, The (1995)                           0.000000   \n",
       "If I Were a Rich Man (2002)                             0.734682   \n",
       "Education, An (2009)                                    0.366418   \n",
       "\n",
       "title                               What Men Still Talk About (2011)  \n",
       "title                                                                 \n",
       "Eddie Izzard: Dress to Kill (1999)                          1.000000  \n",
       "Toy Story (1995)                                            0.267388  \n",
       "Color Purple, The (1985)                                    0.000000  \n",
       "Love Liza (2002)                                            0.000000  \n",
       "Seve (2014)                                                 0.000000  \n",
       "Skeleton Key, The (2005)                                    0.000000  \n",
       "Rabbit-Proof Fence (2002)                                   0.000000  \n",
       "Baby-Sitters Club, The (1995)                               0.000000  \n",
       "If I Were a Rich Man (2002)                                 1.000000  \n",
       "Education, An (2009)                                        0.000000  "
      ]
     },
     "execution_count": 28,
     "metadata": {},
     "output_type": "execute_result"
    }
   ],
   "source": [
    "cosine_sim_df = pd.DataFrame(cosine_sim, index=data['title'], columns=data['title'])\n",
    "print(\"Shape: \", cosine_sim_df.shape)\n",
    "\n",
    "cosine_sim_df.sample(10, axis=1).sample(10, axis=0)"
   ]
  },
  {
   "cell_type": "markdown",
   "id": "94287abc-3653-4abd-b56a-00e5bfb2d371",
   "metadata": {},
   "source": [
    "## Getting top-N Recommendations"
   ]
  },
  {
   "cell_type": "code",
   "execution_count": 29,
   "id": "aeea7803-0dc2-446c-a3cc-f88afb990325",
   "metadata": {},
   "outputs": [],
   "source": [
    "def movie_recommendations(movie_title, similarity_data=cosine_sim_df, items=data[['title', 'genres']], k=5):\n",
    "  \"\"\"\n",
    "  Rekomendasi movie berdasarkan kemiripan di dataframe\n",
    "\n",
    "  Parameter:\n",
    "  movie_title: tipe data string (str)\n",
    "  similarity_data: tipe data pd.DataFrame (object), kesamaan dataframe dengan movie sebagai index dan kolom\n",
    "  items: tipe data pd.DataFrame (object), mengandung kedua nama dan fitur lainnya untuk mendefinisikan kemiripan\n",
    "  k: tipe data integer (int), jumlah rekomendasi yang ingin didapatkan\n",
    "  \"\"\"\n",
    "\n",
    "  index = similarity_data.loc[:, movie_title].to_numpy().argpartition(\n",
    "      range(-1, -k, -1)\n",
    "  )\n",
    "\n",
    "  closest = similarity_data.columns[index[-1:-(k+2):-1]]\n",
    "\n",
    "  closest = closest.drop(movie_title, errors='ignore')\n",
    "\n",
    "  pd.set_option('display.max_columns', None)\n",
    "  return pd.DataFrame(closest).merge(items).head(k)"
   ]
  },
  {
   "cell_type": "code",
   "execution_count": 30,
   "id": "8180016d-7b07-4ecf-93bf-d5ee6f71033a",
   "metadata": {},
   "outputs": [
    {
     "name": "stdin",
     "output_type": "stream",
     "text": [
      "Input movie name:  avengers\n"
     ]
    },
    {
     "data": {
      "text/html": [
       "<div>\n",
       "<style scoped>\n",
       "    .dataframe tbody tr th:only-of-type {\n",
       "        vertical-align: middle;\n",
       "    }\n",
       "\n",
       "    .dataframe tbody tr th {\n",
       "        vertical-align: top;\n",
       "    }\n",
       "\n",
       "    .dataframe thead th {\n",
       "        text-align: right;\n",
       "    }\n",
       "</style>\n",
       "<table border=\"1\" class=\"dataframe\">\n",
       "  <thead>\n",
       "    <tr style=\"text-align: right;\">\n",
       "      <th></th>\n",
       "      <th>movieId</th>\n",
       "      <th>title</th>\n",
       "      <th>genres</th>\n",
       "      <th>genre_str</th>\n",
       "    </tr>\n",
       "  </thead>\n",
       "  <tbody>\n",
       "    <tr>\n",
       "      <th>1611</th>\n",
       "      <td>2153</td>\n",
       "      <td>Avengers, The (1998)</td>\n",
       "      <td>[Action, Adventure]</td>\n",
       "      <td>Action Adventure</td>\n",
       "    </tr>\n",
       "    <tr>\n",
       "      <th>6148</th>\n",
       "      <td>44020</td>\n",
       "      <td>Ultimate Avengers (2006)</td>\n",
       "      <td>[Action, Animation, Children, Sci-Fi]</td>\n",
       "      <td>Action Animation Children Sci-Fi</td>\n",
       "    </tr>\n",
       "    <tr>\n",
       "      <th>7693</th>\n",
       "      <td>89745</td>\n",
       "      <td>Avengers, The (2012)</td>\n",
       "      <td>[Action, Adventure, Sci-Fi, IMAX]</td>\n",
       "      <td>Action Adventure Sci-Fi IMAX</td>\n",
       "    </tr>\n",
       "    <tr>\n",
       "      <th>8551</th>\n",
       "      <td>115727</td>\n",
       "      <td>Crippled Avengers (Can que) (Return of the 5 D...</td>\n",
       "      <td>[Action, Adventure]</td>\n",
       "      <td>Action Adventure</td>\n",
       "    </tr>\n",
       "    <tr>\n",
       "      <th>8686</th>\n",
       "      <td>122892</td>\n",
       "      <td>Avengers: Age of Ultron (2015)</td>\n",
       "      <td>[Action, Adventure, Sci-Fi]</td>\n",
       "      <td>Action Adventure Sci-Fi</td>\n",
       "    </tr>\n",
       "    <tr>\n",
       "      <th>8693</th>\n",
       "      <td>122912</td>\n",
       "      <td>Avengers: Infinity War - Part I (2018)</td>\n",
       "      <td>[Action, Adventure, Sci-Fi]</td>\n",
       "      <td>Action Adventure Sci-Fi</td>\n",
       "    </tr>\n",
       "    <tr>\n",
       "      <th>9153</th>\n",
       "      <td>147657</td>\n",
       "      <td>Masked Avengers (1981)</td>\n",
       "      <td>[Action]</td>\n",
       "      <td>Action</td>\n",
       "    </tr>\n",
       "    <tr>\n",
       "      <th>9488</th>\n",
       "      <td>170297</td>\n",
       "      <td>Ultimate Avengers 2 (2006)</td>\n",
       "      <td>[Action, Animation, Sci-Fi]</td>\n",
       "      <td>Action Animation Sci-Fi</td>\n",
       "    </tr>\n",
       "  </tbody>\n",
       "</table>\n",
       "</div>"
      ],
      "text/plain": [
       "      movieId                                              title  \\\n",
       "1611     2153                               Avengers, The (1998)   \n",
       "6148    44020                           Ultimate Avengers (2006)   \n",
       "7693    89745                               Avengers, The (2012)   \n",
       "8551   115727  Crippled Avengers (Can que) (Return of the 5 D...   \n",
       "8686   122892                     Avengers: Age of Ultron (2015)   \n",
       "8693   122912             Avengers: Infinity War - Part I (2018)   \n",
       "9153   147657                             Masked Avengers (1981)   \n",
       "9488   170297                         Ultimate Avengers 2 (2006)   \n",
       "\n",
       "                                     genres                         genre_str  \n",
       "1611                    [Action, Adventure]                  Action Adventure  \n",
       "6148  [Action, Animation, Children, Sci-Fi]  Action Animation Children Sci-Fi  \n",
       "7693      [Action, Adventure, Sci-Fi, IMAX]      Action Adventure Sci-Fi IMAX  \n",
       "8551                    [Action, Adventure]                  Action Adventure  \n",
       "8686            [Action, Adventure, Sci-Fi]           Action Adventure Sci-Fi  \n",
       "8693            [Action, Adventure, Sci-Fi]           Action Adventure Sci-Fi  \n",
       "9153                               [Action]                            Action  \n",
       "9488            [Action, Animation, Sci-Fi]           Action Animation Sci-Fi  "
      ]
     },
     "execution_count": 30,
     "metadata": {},
     "output_type": "execute_result"
    }
   ],
   "source": [
    "movie_input = input(\"Input movie name: \")\n",
    "data[data['title'].str.contains(movie_input, case=False)]"
   ]
  },
  {
   "cell_type": "code",
   "execution_count": 31,
   "id": "45093cf9-b7dd-4529-b703-8de7d15d4020",
   "metadata": {},
   "outputs": [
    {
     "data": {
      "text/html": [
       "<div>\n",
       "<style scoped>\n",
       "    .dataframe tbody tr th:only-of-type {\n",
       "        vertical-align: middle;\n",
       "    }\n",
       "\n",
       "    .dataframe tbody tr th {\n",
       "        vertical-align: top;\n",
       "    }\n",
       "\n",
       "    .dataframe thead th {\n",
       "        text-align: right;\n",
       "    }\n",
       "</style>\n",
       "<table border=\"1\" class=\"dataframe\">\n",
       "  <thead>\n",
       "    <tr style=\"text-align: right;\">\n",
       "      <th></th>\n",
       "      <th>title</th>\n",
       "      <th>genres</th>\n",
       "    </tr>\n",
       "  </thead>\n",
       "  <tbody>\n",
       "    <tr>\n",
       "      <th>0</th>\n",
       "      <td>Rocketeer, The (1991)</td>\n",
       "      <td>[Action, Adventure, Sci-Fi]</td>\n",
       "    </tr>\n",
       "    <tr>\n",
       "      <th>1</th>\n",
       "      <td>Ant-Man (2015)</td>\n",
       "      <td>[Action, Adventure, Sci-Fi]</td>\n",
       "    </tr>\n",
       "    <tr>\n",
       "      <th>2</th>\n",
       "      <td>Time Machine, The (2002)</td>\n",
       "      <td>[Action, Adventure, Sci-Fi]</td>\n",
       "    </tr>\n",
       "    <tr>\n",
       "      <th>3</th>\n",
       "      <td>Iron Man (2008)</td>\n",
       "      <td>[Action, Adventure, Sci-Fi]</td>\n",
       "    </tr>\n",
       "    <tr>\n",
       "      <th>4</th>\n",
       "      <td>Sky Captain and the World of Tomorrow (2004)</td>\n",
       "      <td>[Action, Adventure, Sci-Fi]</td>\n",
       "    </tr>\n",
       "    <tr>\n",
       "      <th>5</th>\n",
       "      <td>Star Wars: Episode VI - Return of the Jedi (1983)</td>\n",
       "      <td>[Action, Adventure, Sci-Fi]</td>\n",
       "    </tr>\n",
       "    <tr>\n",
       "      <th>6</th>\n",
       "      <td>Justice League (2017)</td>\n",
       "      <td>[Action, Adventure, Sci-Fi]</td>\n",
       "    </tr>\n",
       "    <tr>\n",
       "      <th>7</th>\n",
       "      <td>Farscape: The Peacekeeper Wars (2004)</td>\n",
       "      <td>[Action, Adventure, Sci-Fi]</td>\n",
       "    </tr>\n",
       "    <tr>\n",
       "      <th>8</th>\n",
       "      <td>Power/Rangers (2015)</td>\n",
       "      <td>[Action, Adventure, Sci-Fi]</td>\n",
       "    </tr>\n",
       "    <tr>\n",
       "      <th>9</th>\n",
       "      <td>Black Panther (2017)</td>\n",
       "      <td>[Action, Adventure, Sci-Fi]</td>\n",
       "    </tr>\n",
       "  </tbody>\n",
       "</table>\n",
       "</div>"
      ],
      "text/plain": [
       "                                               title  \\\n",
       "0                              Rocketeer, The (1991)   \n",
       "1                                     Ant-Man (2015)   \n",
       "2                           Time Machine, The (2002)   \n",
       "3                                    Iron Man (2008)   \n",
       "4       Sky Captain and the World of Tomorrow (2004)   \n",
       "5  Star Wars: Episode VI - Return of the Jedi (1983)   \n",
       "6                              Justice League (2017)   \n",
       "7              Farscape: The Peacekeeper Wars (2004)   \n",
       "8                               Power/Rangers (2015)   \n",
       "9                               Black Panther (2017)   \n",
       "\n",
       "                        genres  \n",
       "0  [Action, Adventure, Sci-Fi]  \n",
       "1  [Action, Adventure, Sci-Fi]  \n",
       "2  [Action, Adventure, Sci-Fi]  \n",
       "3  [Action, Adventure, Sci-Fi]  \n",
       "4  [Action, Adventure, Sci-Fi]  \n",
       "5  [Action, Adventure, Sci-Fi]  \n",
       "6  [Action, Adventure, Sci-Fi]  \n",
       "7  [Action, Adventure, Sci-Fi]  \n",
       "8  [Action, Adventure, Sci-Fi]  \n",
       "9  [Action, Adventure, Sci-Fi]  "
      ]
     },
     "execution_count": 31,
     "metadata": {},
     "output_type": "execute_result"
    }
   ],
   "source": [
    "# Get top-N Recommendations based from movie input list\n",
    "movie_recommendations('Avengers: Infinity War - Part I (2018)', k=10)"
   ]
  },
  {
   "cell_type": "markdown",
   "id": "7bb47ed9-f1ca-411a-84b9-d76df329058a",
   "metadata": {},
   "source": [
    "# Model Development with Collaborative Filtering"
   ]
  },
  {
   "cell_type": "markdown",
   "id": "5de00930-c537-468c-bd4d-934d96e1c756",
   "metadata": {},
   "source": [
    "## Create a RecommenderNet Class"
   ]
  },
  {
   "cell_type": "code",
   "execution_count": 62,
   "id": "5403cbfc-2696-43ec-b6a4-acc8493ce9a9",
   "metadata": {},
   "outputs": [],
   "source": [
    "class RecommenderNet(tf.keras.Model):\n",
    "\n",
    "  # Function initialization\n",
    "  def __init__(self, num_users, num_movie, embedding_size, **kwargs):\n",
    "    super(RecommenderNet, self).__init__(**kwargs)\n",
    "    self.num_users = num_users\n",
    "    self.num_movie = num_movie\n",
    "    self.embedding_size = embedding_size\n",
    "    self.user_embedding = layers.Embedding(\n",
    "        num_users,\n",
    "        embedding_size,\n",
    "        embeddings_initializer = 'he_normal',\n",
    "        embeddings_regularizer = keras.regularizers.l2(1e-6)\n",
    "    )\n",
    "    self.user_bias = layers.Embedding(num_users, 1)\n",
    "    self.movie_embedding = layers.Embedding(\n",
    "        num_movie,\n",
    "        embedding_size,\n",
    "        embeddings_initializer = 'he_normal',\n",
    "        embeddings_regularizer = keras.regularizers.l2(1e-6)\n",
    "    )\n",
    "    self.movie_bias = layers.Embedding(num_movie, 1)\n",
    "\n",
    "  def call(self, inputs):\n",
    "    user_vector = self.user_embedding(inputs[:, 0])\n",
    "    user_bias = self.user_bias(inputs[:, 0])\n",
    "    movie_vector = self.movie_embedding(inputs[:, 1])\n",
    "    movie_bias = self.movie_bias(inputs[:, 1])\n",
    "\n",
    "    dot_user_movie = tf.tensordot(user_vector, movie_vector, 2)\n",
    "\n",
    "    x = dot_user_movie + user_bias + movie_bias\n",
    "\n",
    "    return tf.nn.sigmoid(x)"
   ]
  },
  {
   "cell_type": "markdown",
   "id": "85cf4102-5860-4ecf-9103-2e3146519a1c",
   "metadata": {},
   "source": [
    "## Model Compile"
   ]
  },
  {
   "cell_type": "code",
   "execution_count": 67,
   "id": "dbb3232d-68e5-4415-ab9c-435862ba0647",
   "metadata": {},
   "outputs": [],
   "source": [
    "model = RecommenderNet(num_users, num_movie, embedding_size=150)\n",
    "\n",
    "model.compile(\n",
    "    loss=tf.keras.losses.MeanSquaredError(),\n",
    "    optimizer=keras.optimizers.Adam(learning_rate=0.001),\n",
    "    metrics=[tf.keras.metrics.RootMeanSquaredError(name='rmse'), tf.keras.metrics.MeanAbsoluteError(name='mae')]\n",
    ")\n"
   ]
  },
  {
   "cell_type": "code",
   "execution_count": 68,
   "id": "ee4e31f6-2ddb-4db6-8bad-d12ac98c21f4",
   "metadata": {},
   "outputs": [],
   "source": [
    "# Callbacks\n",
    "early_stop = EarlyStopping(\n",
    "    monitor='val_loss',\n",
    "    patience=5,\n",
    "    restore_best_weights=True\n",
    ")\n",
    "\n",
    "model_checkpoint = ModelCheckpoint(\n",
    "    filepath='best_model.keras',\n",
    "    monitor='val_loss',\n",
    "    save_best_only=True\n",
    ")\n",
    "\n",
    "\n",
    "lr_scheduler = ReduceLROnPlateau(\n",
    "    monitor='val_loss',\n",
    "    factor=0.5,\n",
    "    patience=3,\n",
    "    verbose=1,\n",
    "    min_lr=1e-6\n",
    ")\n"
   ]
  },
  {
   "cell_type": "code",
   "execution_count": 69,
   "id": "dbdf7fff-f1d6-4673-a40b-21e8790aaa1d",
   "metadata": {},
   "outputs": [
    {
     "name": "stdout",
     "output_type": "stream",
     "text": [
      "Epoch 1/100\n",
      "\u001b[1m1681/1681\u001b[0m \u001b[32m━━━━━━━━━━━━━━━━━━━━\u001b[0m\u001b[37m\u001b[0m \u001b[1m36s\u001b[0m 21ms/step - loss: 0.0634 - mae: 0.2046 - rmse: 0.2501 - val_loss: 0.0477 - val_mae: 0.1697 - val_rmse: 0.2158 - learning_rate: 0.0010\n",
      "Epoch 2/100\n",
      "\u001b[1m1681/1681\u001b[0m \u001b[32m━━━━━━━━━━━━━━━━━━━━\u001b[0m\u001b[37m\u001b[0m \u001b[1m35s\u001b[0m 21ms/step - loss: 0.0535 - mae: 0.1774 - rmse: 0.2280 - val_loss: 0.0542 - val_mae: 0.1850 - val_rmse: 0.2283 - learning_rate: 0.0010\n",
      "Epoch 3/100\n",
      "\u001b[1m1681/1681\u001b[0m \u001b[32m━━━━━━━━━━━━━━━━━━━━\u001b[0m\u001b[37m\u001b[0m \u001b[1m36s\u001b[0m 22ms/step - loss: 0.0579 - mae: 0.1849 - rmse: 0.2355 - val_loss: 0.0518 - val_mae: 0.1739 - val_rmse: 0.2204 - learning_rate: 0.0010\n",
      "Epoch 4/100\n",
      "\u001b[1m1679/1681\u001b[0m \u001b[32m━━━━━━━━━━━━━━━━━━━\u001b[0m\u001b[37m━\u001b[0m \u001b[1m0s\u001b[0m 21ms/step - loss: 0.0669 - mae: 0.1975 - rmse: 0.2519\n",
      "Epoch 4: ReduceLROnPlateau reducing learning rate to 0.0005000000237487257.\n",
      "\u001b[1m1681/1681\u001b[0m \u001b[32m━━━━━━━━━━━━━━━━━━━━\u001b[0m\u001b[37m\u001b[0m \u001b[1m37s\u001b[0m 22ms/step - loss: 0.0669 - mae: 0.1975 - rmse: 0.2519 - val_loss: 0.0528 - val_mae: 0.1728 - val_rmse: 0.2208 - learning_rate: 0.0010\n",
      "Epoch 5/100\n",
      "\u001b[1m1681/1681\u001b[0m \u001b[32m━━━━━━━━━━━━━━━━━━━━\u001b[0m\u001b[37m\u001b[0m \u001b[1m35s\u001b[0m 21ms/step - loss: 0.0700 - mae: 0.2017 - rmse: 0.2568 - val_loss: 0.0505 - val_mae: 0.1673 - val_rmse: 0.2156 - learning_rate: 5.0000e-04\n",
      "Epoch 6/100\n",
      "\u001b[1m1681/1681\u001b[0m \u001b[32m━━━━━━━━━━━━━━━━━━━━\u001b[0m\u001b[37m\u001b[0m \u001b[1m36s\u001b[0m 21ms/step - loss: 0.0649 - mae: 0.1929 - rmse: 0.2469 - val_loss: 0.0502 - val_mae: 0.1678 - val_rmse: 0.2152 - learning_rate: 5.0000e-04\n"
     ]
    }
   ],
   "source": [
    "models = model.fit(\n",
    "    x = x_train,\n",
    "    y = y_train,\n",
    "    batch_size = 48,\n",
    "    epochs=100,\n",
    "    validation_data=(x_val, y_val),\n",
    "    callbacks=[early_stop, model_checkpoint, lr_scheduler]\n",
    ")\n"
   ]
  },
  {
   "cell_type": "markdown",
   "id": "2c20cc19-e1fe-4c78-8ac6-631d06baa0a4",
   "metadata": {},
   "source": [
    "## Visualisasi Metriks"
   ]
  },
  {
   "cell_type": "code",
   "execution_count": 87,
   "id": "d7a29932-2dd4-44c2-ad8f-de4f7cc5250c",
   "metadata": {
    "scrolled": true
   },
   "outputs": [
    {
     "data": {
      "image/png": "[encoded data removed]",
      "text/plain": [
       "<Figure size 640x480 with 1 Axes>"
      ]
     },
     "metadata": {},
     "output_type": "display_data"
    }
   ],
   "source": [
    "plt.plot(models.history['mae'])\n",
    "plt.plot(models.history['val_mae'])\n",
    "plt.title('Model Mean Absolute Error')\n",
    "plt.ylabel('MAE')\n",
    "plt.xlabel('Epoch')\n",
    "plt.legend(['Train', 'Val'], loc='upper right')\n",
    "plt.grid(True)\n",
    "plt.show()\n"
   ]
  },
  {
   "cell_type": "markdown",
   "id": "872f370f-f287-4932-a129-8404ca466f9e",
   "metadata": {},
   "source": [
    "## Getting top-N Recommendations"
   ]
  },
  {
   "cell_type": "code",
   "execution_count": 71,
   "id": "814abaf3-9ac2-4318-86ed-a56c2de9c759",
   "metadata": {},
   "outputs": [],
   "source": [
    "movie_df = movie_final\n",
    "\n",
    "# get sample user\n",
    "user_id = rating.userId.sample(1).iloc[0]\n",
    "movie_watched_by_user = rating[rating.userId == user_id]\n",
    "\n",
    "movie_not_watched = movie_df[~movie_df['movieId'].isin(movie_watched_by_user.movieId.values)]['movieId']\n",
    "movie_not_watched = list(\n",
    "    set(movie_not_watched)\n",
    "    .intersection(set(movie_to_movie_encoded.keys()))\n",
    ")\n",
    "\n",
    "movie_not_watched = [[movie_to_movie_encoded.get(x)] for x in movie_not_watched]\n",
    "user_encoder = user_to_user_encoded.get(user_id)\n",
    "user_movie_array = np.hstack(\n",
    "    ([[user_encoder]] * len(movie_not_watched), movie_not_watched)\n",
    ")"
   ]
  },
  {
   "cell_type": "code",
   "execution_count": 72,
   "id": "5fd17029-cc2a-4136-aa2b-98a352624b07",
   "metadata": {},
   "outputs": [
    {
     "name": "stdout",
     "output_type": "stream",
     "text": [
      "\u001b[1m284/284\u001b[0m \u001b[32m━━━━━━━━━━━━━━━━━━━━\u001b[0m\u001b[37m\u001b[0m \u001b[1m1s\u001b[0m 2ms/step\n",
      "Showing recommendations for user: 140\n",
      "========================================\n",
      "Movie with high ratings from user\n",
      "----------------------------------------\n",
      "Fly Away Home (1996) : Adventure, Children\n",
      "Sound of Music, The (1965) : Musical, Romance\n",
      "Great Escape, The (1963) : Action, Adventure, Drama, War\n",
      "Grosse Pointe Blank (1997) : Comedy, Crime, Romance\n",
      "Master and Commander: The Far Side of the World (2003) : Adventure, Drama, War\n",
      "----------------------------------------\n",
      "Top 10 movie recommendations\n",
      "----------------------------------------\n",
      "Who Framed Roger Rabbit? (1988) : Adventure, Animation, Children, Comedy, Crime, Fantasy, Mystery\n",
      "For Your Eyes Only (1981) : Action, Adventure, Thriller\n",
      "Live and Let Die (1973) : Action, Adventure, Thriller\n",
      "Thunderball (1965) : Action, Adventure, Thriller\n",
      "Being John Malkovich (1999) : Comedy, Drama, Fantasy\n",
      "Princess Mononoke (Mononoke-hime) (1997) : Action, Adventure, Animation, Drama, Fantasy\n",
      "Insider, The (1999) : Drama, Thriller\n",
      "Falling Down (1993) : Action, Drama\n",
      "General, The (1926) : Comedy, War\n",
      "Lost in Translation (2003) : Comedy, Drama, Romance\n"
     ]
    }
   ],
   "source": [
    "ratings = model.predict(user_movie_array).flatten()\n",
    "\n",
    "top_ratings_indices = ratings.argsort()[-10:][::1]\n",
    "recommended_movie_ids = [\n",
    "    movie_encoded_to_movie.get(movie_not_watched[x][0]) for x in top_ratings_indices\n",
    "]\n",
    "\n",
    "print(f\"Showing recommendations for user: {user_id}\")\n",
    "print(\"=\" * 40)\n",
    "\n",
    "print(\"Movie with high ratings from user\")\n",
    "print(\"-\" * 40)\n",
    "\n",
    "top_movie_user = (\n",
    "    movie_watched_by_user.sort_values(\n",
    "        by = 'rating',\n",
    "        ascending=False\n",
    "    )\n",
    "    .head(5)\n",
    "    .movieId.values\n",
    ")\n",
    "\n",
    "movie_df_rows = movie_df[movie_df['movieId'].isin(top_movie_user)]\n",
    "for row in movie_df_rows.itertuples():\n",
    "  print(f\"{row.title} : {', '.join(row.genres)}\")\n",
    "\n",
    "print('-' * 40)\n",
    "print(\"Top 10 movie recommendations\")\n",
    "print('-' * 40)\n",
    "\n",
    "recommended_movie = movie_df[movie_df['movieId'].isin(recommended_movie_ids)]\n",
    "for row in recommended_movie.itertuples():\n",
    "  print(f\"{row.title} : {', '.join(row.genres)}\")"
   ]
  }
 ],
 "metadata": {
  "kernelspec": {
   "display_name": "Python (myenv)",
   "language": "python",
   "name": "myenv"
  },
  "language_info": {
   "codemirror_mode": {
    "name": "ipython",
    "version": 3
   },
   "file_extension": ".py",
   "mimetype": "text/x-python",
   "name": "python",
   "nbconvert_exporter": "python",
   "pygments_lexer": "ipython3",
   "version": "3.9.21"
  }
 },
 "nbformat": 4,
 "nbformat_minor": 5
}
